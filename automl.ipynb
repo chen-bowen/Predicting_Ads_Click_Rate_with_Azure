{
 "cells": [
  {
   "cell_type": "markdown",
   "metadata": {},
   "source": [
    "# Automated ML"
   ]
  },
  {
   "cell_type": "markdown",
   "metadata": {},
   "source": [
    "Steps for creating the  AutoML experiment\n",
    "\n",
    "1. Create Cluster\n",
    "2. Download data\n",
    "3. Click history generation\n",
    "4. Register data\n",
    "5. Configure autoML experiment\n",
    "6. Submit autoML for execution\n",
    "7. Register the best performing model"
   ]
  },
  {
   "cell_type": "markdown",
   "metadata": {},
   "source": [
    "Import Dependencies"
   ]
  },
  {
   "cell_type": "code",
   "execution_count": 1,
   "metadata": {
    "collapsed": false,
    "gather": {
     "logged": 1598423888013
    },
    "jupyter": {
     "outputs_hidden": false,
     "source_hidden": false
    },
    "nteract": {
     "transient": {
      "deleting": false
     }
    }
   },
   "outputs": [],
   "source": [
    "import os\n",
    "import pandas as pd\n",
    "from azureml.data.dataset_factory import TabularDatasetFactory\n",
    "from azureml.core.experiment import Experiment\n",
    "from azureml.core.workspace import Workspace\n",
    "from azureml.core.dataset import Dataset\n",
    "from tqdm import tqdm\n",
    "from utils import get_click_histories\n",
    "\n",
    "from azureml.core.compute import ComputeTarget, AmlCompute\n",
    "from azureml.core.compute_target import ComputeTargetException\n",
    "from azureml.automl.core.featurization import FeaturizationConfig\n",
    "from azureml.train.automl import AutoMLConfig\n",
    "\n",
    "from azureml.widgets import RunDetails\n",
    "import logging"
   ]
  },
  {
   "cell_type": "markdown",
   "metadata": {},
   "source": [
    "## Initialize workspace\n",
    "Initialize a Workspace object from the existing workspace you created in the Prerequisites step. Workspace.from_config() creates a workspace object from the details stored in config.json."
   ]
  },
  {
   "cell_type": "code",
   "execution_count": 2,
   "metadata": {
    "collapsed": false,
    "gather": {
     "logged": 1598423890461
    },
    "jupyter": {
     "outputs_hidden": false,
     "source_hidden": false
    },
    "nteract": {
     "transient": {
      "deleting": false
     }
    }
   },
   "outputs": [
    {
     "name": "stdout",
     "output_type": "stream",
     "text": [
      "Workspace name: quick-starts-ws-134681\n",
      "Azure region: southcentralus\n",
      "Subscription id: cdbe0b43-92a0-4715-838a-f2648cc7ad21\n",
      "Resource group: aml-quickstarts-134681\n"
     ]
    }
   ],
   "source": [
    "# set up workspace\n",
    "ws = Workspace.from_config()\n",
    "print('Workspace name: ' + ws.name, \n",
    "      'Azure region: ' + ws.location, \n",
    "      'Subscription id: ' + ws.subscription_id, \n",
    "      'Resource group: ' + ws.resource_group, sep='\\n')\n",
    "\n",
    "# create experiment\n",
    "experiment_name = 'click-through-rate-prediction'\n",
    "experiment = Experiment(ws, experiment_name)"
   ]
  },
  {
   "cell_type": "markdown",
   "metadata": {},
   "source": [
    "## Create or Attach existing AmlCompute\n",
    "\n",
    "use Azure ML managed compute (AmlCompute) for our remote training compute resource.\n",
    "\n",
    "If the AmlCompute with that name is already in your workspace, this code will skip the creation process."
   ]
  },
  {
   "cell_type": "code",
   "execution_count": 3,
   "metadata": {},
   "outputs": [
    {
     "name": "stdout",
     "output_type": "stream",
     "text": [
      "Found existing compute target.\n",
      "Succeeded\n",
      "AmlCompute wait for completion finished\n",
      "\n",
      "Minimum number of nodes requested have been provisioned\n",
      "{'currentNodeCount': 2, 'targetNodeCount': 2, 'nodeStateCounts': {'preparingNodeCount': 0, 'runningNodeCount': 0, 'idleNodeCount': 2, 'unusableNodeCount': 0, 'leavingNodeCount': 0, 'preemptedNodeCount': 0}, 'allocationState': 'Steady', 'allocationStateTransitionTime': '2021-01-14T16:30:33.805000+00:00', 'errors': None, 'creationTime': '2021-01-14T16:28:40.245489+00:00', 'modifiedTime': '2021-01-14T16:28:56.521735+00:00', 'provisioningState': 'Succeeded', 'provisioningStateTransitionTime': None, 'scaleSettings': {'minNodeCount': 2, 'maxNodeCount': 5, 'nodeIdleTimeBeforeScaleDown': 'PT120S'}, 'vmPriority': 'Dedicated', 'vmSize': 'STANDARD_DS3_V2'}\n"
     ]
    }
   ],
   "source": [
    "cluster_name = \"compute-cluster\"\n",
    "\n",
    "try:\n",
    "    compute_target = ComputeTarget(workspace=ws, name=cluster_name)\n",
    "    print('Found existing compute target.')\n",
    "    \n",
    "except ComputeTargetException:\n",
    "    print('Creating a new compute target...')\n",
    "    compute_config = AmlCompute.provisioning_configuration(\n",
    "        vm_size='Standard_DS3_v2',                                                    \n",
    "        min_nodes=2,                                                   \n",
    "        max_nodes=5\n",
    "    )\n",
    "\n",
    "    # create the cluster\n",
    "    compute_target = ComputeTarget.create(ws, cluster_name, compute_config)\n",
    "\n",
    "compute_target.wait_for_completion(show_output=True)\n",
    "\n",
    "# use get_status() to get a detailed status for the current cluster. \n",
    "print(compute_target.get_status().serialize())"
   ]
  },
  {
   "cell_type": "markdown",
   "metadata": {},
   "source": [
    "## Dataset\n",
    "\n",
    "### Overview\n",
    "\n",
    "The dataset is from Kaggle, originally used as the competition dataset of the 2020 DIGIX CTR Predicition competition. The full dataset is 6GB, contains 36 columns (some masked) describing advertising behavior for seven consecutive days. Specifically, the dataset includes\n",
    "\n",
    "* **label** - Whether the customer clicked on an advertisement\n",
    "* **uid** - Unique user ID after data anonymization\n",
    "* **task_id** - Unique ID of an ad task\n",
    "* **adv_id** - Unique ID of an ad material\n",
    "* **creat_type_cd** - Unique ID of an ad creative type\n",
    "* **adv_prim_id** - Advertiser ID of an ad task\n",
    "* dev_id - Developer ID of an ad task\n",
    "* **inter_typ_cd** - Display form of an ad material\n",
    "* **slot_id** - Ad slot ID\n",
    "* **spread_app_id** - App ID of an ad task\n",
    "* **tags** - App tag of an ad task\n",
    "* **app_first_class** - App level-1 category of an ad task\n",
    "* **app_second_class** - App level-2 category of an ad task\n",
    "* **age** - User age\n",
    "* **city** - Resident city of a user\n",
    "* **city_rank** - Level of the resident city of a user\n",
    "* **device_name** - Phone model used by a user\n",
    "* **device_size** - Size of the phone used by a user\n",
    "* **career** - User occupation\n",
    "* **gender** - User gender\n",
    "* **net_type** - Network status when a behavior occurs\n",
    "* **residence** - Resident province of a user\n",
    "* **his_app_size** - App storage size\n",
    "* **his_on_shelf_time** - Release time\n",
    "* **app_score** - App rating score\n",
    "* **emui_dev** - EMUI version\n",
    "* **list_time** - Model release time\n",
    "* **device_price** - Device price\n",
    "* **up_life_duration** - HUAWEI ID lifecycle\n",
    "* **up_membership_grade** - Service membership level\n",
    "* **membership_life_duration** - Membership lifecycle\n",
    "* **consume_purchase** - Paid user tag\n",
    "* **communication_onlinerate** - Active time by mobile phone\n",
    "* **communication_avgonline_30d** - Daily active time by mobile phone\n",
    "* **indu_name** - Ad industry information\n",
    "* **pt_d** - Date when a behavior occurs\n",
    "\n",
    "The task will be for each advertisement, predict whether the customer is going to click on it in the near future."
   ]
  },
  {
   "cell_type": "code",
   "execution_count": 4,
   "metadata": {},
   "outputs": [
    {
     "name": "stdout",
     "output_type": "stream",
     "text": [
      "Did not find existing dataset with key CTR-Training and CTR-Test, creating\n"
     ]
    },
    {
     "name": "stderr",
     "output_type": "stream",
     "text": [
      "42it [03:10,  4.54s/it]\n"
     ]
    },
    {
     "name": "stdout",
     "output_type": "stream",
     "text": [
      "Uploading an estimated of 1 files\n",
      "Uploading ./data/ctr_data.csv\n",
      "Uploaded ./data/ctr_data.csv, 1 files out of an estimated total of 1\n",
      "Uploaded 1 files\n"
     ]
    }
   ],
   "source": [
    "found = False\n",
    "train_key = \"CTR-Training\"\n",
    "test_key = \"CTR-Test\"\n",
    "description_text = \"Building structure data that could help predict damage grade\"\n",
    "\n",
    "if train_key in ws.datasets.keys() and test_key in ws.datasets.keys():\n",
    "    print(\"Found existing dataset, using\")\n",
    "    found = True\n",
    "    train_dataset = ws.datasets[train_key]\n",
    "    test_dataset = ws.datasets[test_key]\n",
    "\n",
    "if not found:\n",
    "    # Create AML Dataset and register it into Workspace\n",
    "    print(f\"Did not find existing dataset with key {train_key} and {test_key}, creating\")\n",
    "\n",
    "    # run the shell script to download the data\n",
    "    os.system(\"sh fetch_dataset.sh\")\n",
    "\n",
    "     # read data in with chunks\n",
    "    num_of_chunk = 0\n",
    "    chunkSize = 10 ** 6\n",
    "    ctr_data = pd.DataFrame()\n",
    "    n = 7\n",
    "\n",
    "    # select 1% to form the new training data\n",
    "    for chunk in tqdm(\n",
    "        pd.read_csv(\"data/train_data.csv\", iterator=True, sep=\"|\", chunksize=chunkSize)\n",
    "    ):\n",
    "        num_of_chunk += 1\n",
    "        chunk_label_0 = chunk[chunk[\"label\"] == 0]\n",
    "        chunk_label_1 = chunk[chunk[\"label\"] == 1]\n",
    "        ctr_data = pd.concat([ctr_data, chunk_label_0.iloc[n * 1000 : (n + 1) * 1000, :]], axis=0)\n",
    "        ctr_data = pd.concat([ctr_data, chunk_label_1.iloc[n * 1000 : (n + 1) * 1000, :]], axis=0)\n",
    "        \n",
    "    \n",
    "    # create historical click through rate features\n",
    "    time_features = [\n",
    "        \"uid\",\n",
    "        \"task_id\",\n",
    "        \"adv_id\",\n",
    "        \"adv_prim_id\",\n",
    "        \"spread_app_id\",\n",
    "    ]\n",
    "\n",
    "    for feature in time_features:\n",
    "        for time_window in range(1, 7):\n",
    "            ctr_data = get_click_histories(ctr_data, feature, time_window)\n",
    "\n",
    "    # merge two csv files\n",
    "    ctr_data.drop_duplicates().to_csv(\"data/ctr_data.csv\", index=False)\n",
    "\n",
    "    # remove old files\n",
    "    os.system(\"rm data/train_data.csv\")\n",
    "\n",
    "    # upload the data to default datastore\n",
    "    ds = ws.get_default_datastore()\n",
    "    ds.upload(\n",
    "        src_dir=\"./data\",\n",
    "        target_path=\"click_through_rate\",\n",
    "        overwrite=True,\n",
    "        show_progress=True,\n",
    "    )\n",
    "\n",
    "    dataset = Dataset.Tabular.from_delimited_files(\n",
    "        path=ds.path(\"click_through_rate/ctr_data.csv\")\n",
    "    )\n",
    "\n",
    "    train_dataset, test_dataset = dataset.random_split(percentage=0.8, seed=7)\n",
    "\n",
    "    # Register Dataset in Workspace\n",
    "    train_dataset = train_dataset.register(workspace=ws, name=train_key, description=description_text)\n",
    "    test_dataset = test_dataset.register(workspace=ws, name=test_key, description=description_text)"
   ]
  },
  {
   "cell_type": "code",
   "execution_count": 5,
   "metadata": {},
   "outputs": [],
   "source": [
    "label_column_name = 'damage_grade'"
   ]
  },
  {
   "cell_type": "markdown",
   "metadata": {},
   "source": [
    "## AutoML Configuration\n",
    "\n",
    "Explanation of autoML settings\n",
    "\n",
    "* `iteration_timeout_minutes` and `experiment_timeout_minutes` both controls the length of time taking to find the best model. As models found in general are very similar in performances, setting these 2 parameters to a reasonable amount will help us getting uncessary costs\n",
    "* `primary_metric` set to \"AUC_weighted\" allows the model to adjust for imbalance in the dataset (though there is very little) and reflect the true performance for the model\n",
    "* `featurization` set to \"auto\" for autoML to decide what features to generate\n",
    "* `verbosity` set to \"logging.INFO\" for autoML to save all the execution related logs to the workspace for debugging purposes\n",
    "* `n_cross_validations` set to 5 for autoML to test performances across 5 different folds to make the performance measure more robust"
   ]
  },
  {
   "cell_type": "markdown",
   "metadata": {},
   "source": [
    "autoML config"
   ]
  },
  {
   "cell_type": "code",
   "execution_count": 6,
   "metadata": {
    "collapsed": false,
    "gather": {
     "logged": 1598429217746
    },
    "jupyter": {
     "outputs_hidden": false,
     "source_hidden": false
    },
    "nteract": {
     "transient": {
      "deleting": false
     }
    }
   },
   "outputs": [],
   "source": [
    "# TODO: Put your automl settings here\n",
    "automl_settings = {\n",
    "    \"iteration_timeout_minutes\": 5,\n",
    "    \"experiment_timeout_minutes\": 60,\n",
    "    \"enable_early_stopping\": True,\n",
    "    \"primary_metric\": 'AUC_weighted',\n",
    "    \"featurization\": \"auto\",\n",
    "    \"verbosity\": logging.INFO,\n",
    "    \"n_cross_validations\": 5\n",
    "}"
   ]
  },
  {
   "cell_type": "code",
   "execution_count": 7,
   "metadata": {},
   "outputs": [],
   "source": [
    "# TODO: Put your automl config here\n",
    "automl_config = AutoMLConfig(\n",
    "    task= \"classification\",\n",
    "    training_data=train_dataset,\n",
    "    label_column_name=\"label\",\n",
    "    compute_target=compute_target,\n",
    "     **automl_settings)"
   ]
  },
  {
   "cell_type": "code",
   "execution_count": 8,
   "metadata": {
    "collapsed": false,
    "gather": {
     "logged": 1598431107951
    },
    "jupyter": {
     "outputs_hidden": false,
     "source_hidden": false
    },
    "nteract": {
     "transient": {
      "deleting": false
     }
    }
   },
   "outputs": [
    {
     "name": "stdout",
     "output_type": "stream",
     "text": [
      "Running on remote.\n"
     ]
    }
   ],
   "source": [
    "# TODO: Submit your experiment\n",
    "remote_run = experiment.submit(automl_config)"
   ]
  },
  {
   "cell_type": "markdown",
   "metadata": {},
   "source": [
    "## Run Details\n",
    "\n",
    "Better performing models tends to be tree based models, indicatiing the underlying prediction problem is a non-linear one. The best model is stack ensemble of 3 different tree based models - using stack ensemble allows these 3 different submodels to improve on each other's mistakes, which produced a better performance"
   ]
  },
  {
   "cell_type": "markdown",
   "metadata": {},
   "source": [
    "use the `RunDetails` widget to show the different experiments."
   ]
  },
  {
   "cell_type": "code",
   "execution_count": 9,
   "metadata": {
    "collapsed": false,
    "gather": {
     "logged": 1598431121770
    },
    "jupyter": {
     "outputs_hidden": false,
     "source_hidden": false
    },
    "nteract": {
     "transient": {
      "deleting": false
     }
    }
   },
   "outputs": [
    {
     "data": {
      "application/vnd.jupyter.widget-view+json": {
       "model_id": "9507cb17e5fe419abf6c5d9670c9eaf5",
       "version_major": 2,
       "version_minor": 0
      },
      "text/plain": [
       "_AutoMLWidget(widget_settings={'childWidgetDisplay': 'popup', 'send_telemetry': False, 'log_level': 'INFO', 's…"
      ]
     },
     "metadata": {},
     "output_type": "display_data"
    },
    {
     "data": {
      "application/aml.mini.widget.v1": "{\"status\": \"Completed\", \"workbench_run_details_uri\": \"https://ml.azure.com/experiments/click-through-rate-prediction/runs/AutoML_561039e3-793b-4189-957c-a065b584b04f?wsid=/subscriptions/cdbe0b43-92a0-4715-838a-f2648cc7ad21/resourcegroups/aml-quickstarts-134681/workspaces/quick-starts-ws-134681\", \"run_id\": \"AutoML_561039e3-793b-4189-957c-a065b584b04f\", \"run_properties\": {\"run_id\": \"AutoML_561039e3-793b-4189-957c-a065b584b04f\", \"created_utc\": \"2021-01-14T16:41:59.299937Z\", \"properties\": {\"num_iterations\": \"1000\", \"training_type\": \"TrainFull\", \"acquisition_function\": \"EI\", \"primary_metric\": \"AUC_weighted\", \"train_split\": \"0\", \"acquisition_parameter\": \"0\", \"num_cross_validation\": \"5\", \"target\": \"compute-cluster\", \"AMLSettingsJsonString\": \"{\\\"path\\\":null,\\\"name\\\":\\\"click-through-rate-prediction\\\",\\\"subscription_id\\\":\\\"cdbe0b43-92a0-4715-838a-f2648cc7ad21\\\",\\\"resource_group\\\":\\\"aml-quickstarts-134681\\\",\\\"workspace_name\\\":\\\"quick-starts-ws-134681\\\",\\\"region\\\":\\\"southcentralus\\\",\\\"compute_target\\\":\\\"compute-cluster\\\",\\\"spark_service\\\":null,\\\"azure_service\\\":\\\"remote\\\",\\\"many_models\\\":false,\\\"pipeline_fetch_max_batch_size\\\":1,\\\"iterations\\\":1000,\\\"primary_metric\\\":\\\"AUC_weighted\\\",\\\"task_type\\\":\\\"classification\\\",\\\"data_script\\\":null,\\\"validation_size\\\":0.0,\\\"n_cross_validations\\\":5,\\\"y_min\\\":null,\\\"y_max\\\":null,\\\"num_classes\\\":null,\\\"featurization\\\":\\\"auto\\\",\\\"_ignore_package_version_incompatibilities\\\":false,\\\"is_timeseries\\\":false,\\\"max_cores_per_iteration\\\":1,\\\"max_concurrent_iterations\\\":1,\\\"iteration_timeout_minutes\\\":5,\\\"mem_in_mb\\\":null,\\\"enforce_time_on_windows\\\":false,\\\"experiment_timeout_minutes\\\":60,\\\"experiment_exit_score\\\":null,\\\"whitelist_models\\\":null,\\\"blacklist_algos\\\":[\\\"TensorFlowLinearClassifier\\\",\\\"TensorFlowDNN\\\"],\\\"supported_models\\\":[\\\"XGBoostClassifier\\\",\\\"LinearSVM\\\",\\\"DecisionTree\\\",\\\"LogisticRegression\\\",\\\"SVM\\\",\\\"KNN\\\",\\\"RandomForest\\\",\\\"MultinomialNaiveBayes\\\",\\\"SGD\\\",\\\"BernoulliNaiveBayes\\\",\\\"AveragedPerceptronClassifier\\\",\\\"LightGBM\\\",\\\"ExtremeRandomTrees\\\",\\\"TensorFlowDNN\\\",\\\"GradientBoosting\\\",\\\"TensorFlowLinearClassifier\\\"],\\\"auto_blacklist\\\":true,\\\"blacklist_samples_reached\\\":false,\\\"exclude_nan_labels\\\":true,\\\"verbosity\\\":20,\\\"_debug_log\\\":\\\"azureml_automl.log\\\",\\\"show_warnings\\\":false,\\\"model_explainability\\\":true,\\\"service_url\\\":null,\\\"sdk_url\\\":null,\\\"sdk_packages\\\":null,\\\"enable_onnx_compatible_models\\\":false,\\\"enable_split_onnx_featurizer_estimator_models\\\":false,\\\"vm_type\\\":\\\"STANDARD_DS3_V2\\\",\\\"telemetry_verbosity\\\":20,\\\"send_telemetry\\\":true,\\\"enable_dnn\\\":false,\\\"scenario\\\":\\\"SDK-1.13.0\\\",\\\"environment_label\\\":null,\\\"force_text_dnn\\\":false,\\\"enable_feature_sweeping\\\":true,\\\"enable_early_stopping\\\":true,\\\"early_stopping_n_iters\\\":10,\\\"metrics\\\":null,\\\"enable_ensembling\\\":true,\\\"enable_stack_ensembling\\\":true,\\\"ensemble_iterations\\\":15,\\\"enable_tf\\\":false,\\\"enable_subsampling\\\":null,\\\"subsample_seed\\\":null,\\\"enable_nimbusml\\\":false,\\\"enable_streaming\\\":false,\\\"force_streaming\\\":false,\\\"track_child_runs\\\":true,\\\"allowed_private_models\\\":[],\\\"label_column_name\\\":\\\"label\\\",\\\"weight_column_name\\\":null,\\\"cv_split_column_names\\\":null,\\\"enable_local_managed\\\":false,\\\"_local_managed_run_id\\\":null,\\\"cost_mode\\\":1,\\\"lag_length\\\":0,\\\"metric_operation\\\":\\\"maximize\\\",\\\"preprocess\\\":true}\", \"DataPrepJsonString\": \"{\\\\\\\"training_data\\\\\\\": \\\\\\\"{\\\\\\\\\\\\\\\"blocks\\\\\\\\\\\\\\\": [{\\\\\\\\\\\\\\\"id\\\\\\\\\\\\\\\": \\\\\\\\\\\\\\\"307a590f-1781-4832-aea0-e8c01f0e530d\\\\\\\\\\\\\\\", \\\\\\\\\\\\\\\"type\\\\\\\\\\\\\\\": \\\\\\\\\\\\\\\"Microsoft.DPrep.GetDatastoreFilesBlock\\\\\\\\\\\\\\\", \\\\\\\\\\\\\\\"arguments\\\\\\\\\\\\\\\": {\\\\\\\\\\\\\\\"datastores\\\\\\\\\\\\\\\": [{\\\\\\\\\\\\\\\"datastoreName\\\\\\\\\\\\\\\": \\\\\\\\\\\\\\\"workspaceblobstore\\\\\\\\\\\\\\\", \\\\\\\\\\\\\\\"path\\\\\\\\\\\\\\\": \\\\\\\\\\\\\\\"click_through_rate/ctr_data.csv\\\\\\\\\\\\\\\", \\\\\\\\\\\\\\\"resourceGroup\\\\\\\\\\\\\\\": \\\\\\\\\\\\\\\"aml-quickstarts-134681\\\\\\\\\\\\\\\", \\\\\\\\\\\\\\\"subscription\\\\\\\\\\\\\\\": \\\\\\\\\\\\\\\"cdbe0b43-92a0-4715-838a-f2648cc7ad21\\\\\\\\\\\\\\\", \\\\\\\\\\\\\\\"workspaceName\\\\\\\\\\\\\\\": \\\\\\\\\\\\\\\"quick-starts-ws-134681\\\\\\\\\\\\\\\"}]}, \\\\\\\\\\\\\\\"localData\\\\\\\\\\\\\\\": {}, \\\\\\\\\\\\\\\"isEnabled\\\\\\\\\\\\\\\": true, \\\\\\\\\\\\\\\"name\\\\\\\\\\\\\\\": null, \\\\\\\\\\\\\\\"annotation\\\\\\\\\\\\\\\": null}, {\\\\\\\\\\\\\\\"id\\\\\\\\\\\\\\\": \\\\\\\\\\\\\\\"9983b2a7-3565-4468-b59a-f487b6a6b115\\\\\\\\\\\\\\\", \\\\\\\\\\\\\\\"type\\\\\\\\\\\\\\\": \\\\\\\\\\\\\\\"Microsoft.DPrep.ParseDelimitedBlock\\\\\\\\\\\\\\\", \\\\\\\\\\\\\\\"arguments\\\\\\\\\\\\\\\": {\\\\\\\\\\\\\\\"columnHeadersMode\\\\\\\\\\\\\\\": 3, \\\\\\\\\\\\\\\"fileEncoding\\\\\\\\\\\\\\\": 0, \\\\\\\\\\\\\\\"handleQuotedLineBreaks\\\\\\\\\\\\\\\": false, \\\\\\\\\\\\\\\"preview\\\\\\\\\\\\\\\": false, \\\\\\\\\\\\\\\"separator\\\\\\\\\\\\\\\": \\\\\\\\\\\\\\\",\\\\\\\\\\\\\\\", \\\\\\\\\\\\\\\"skipRows\\\\\\\\\\\\\\\": 0, \\\\\\\\\\\\\\\"skipRowsMode\\\\\\\\\\\\\\\": 0}, \\\\\\\\\\\\\\\"localData\\\\\\\\\\\\\\\": {}, \\\\\\\\\\\\\\\"isEnabled\\\\\\\\\\\\\\\": true, \\\\\\\\\\\\\\\"name\\\\\\\\\\\\\\\": null, \\\\\\\\\\\\\\\"annotation\\\\\\\\\\\\\\\": null}, {\\\\\\\\\\\\\\\"id\\\\\\\\\\\\\\\": \\\\\\\\\\\\\\\"d51bc92b-9768-4294-a4ec-26257b63ed73\\\\\\\\\\\\\\\", \\\\\\\\\\\\\\\"type\\\\\\\\\\\\\\\": \\\\\\\\\\\\\\\"Microsoft.DPrep.DropColumnsBlock\\\\\\\\\\\\\\\", \\\\\\\\\\\\\\\"arguments\\\\\\\\\\\\\\\": {\\\\\\\\\\\\\\\"columns\\\\\\\\\\\\\\\": {\\\\\\\\\\\\\\\"type\\\\\\\\\\\\\\\": 0, \\\\\\\\\\\\\\\"details\\\\\\\\\\\\\\\": {\\\\\\\\\\\\\\\"selectedColumns\\\\\\\\\\\\\\\": [\\\\\\\\\\\\\\\"Path\\\\\\\\\\\\\\\"]}}}, \\\\\\\\\\\\\\\"localData\\\\\\\\\\\\\\\": {}, \\\\\\\\\\\\\\\"isEnabled\\\\\\\\\\\\\\\": true, \\\\\\\\\\\\\\\"name\\\\\\\\\\\\\\\": null, \\\\\\\\\\\\\\\"annotation\\\\\\\\\\\\\\\": null}, {\\\\\\\\\\\\\\\"id\\\\\\\\\\\\\\\": \\\\\\\\\\\\\\\"22232650-5c85-48c0-b829-0bde3a2a1faa\\\\\\\\\\\\\\\", \\\\\\\\\\\\\\\"type\\\\\\\\\\\\\\\": \\\\\\\\\\\\\\\"Microsoft.DPrep.SetColumnTypesBlock\\\\\\\\\\\\\\\", \\\\\\\\\\\\\\\"arguments\\\\\\\\\\\\\\\": {\\\\\\\\\\\\\\\"columnConversion\\\\\\\\\\\\\\\": [{\\\\\\\\\\\\\\\"column\\\\\\\\\\\\\\\": {\\\\\\\\\\\\\\\"type\\\\\\\\\\\\\\\": 2, \\\\\\\\\\\\\\\"details\\\\\\\\\\\\\\\": {\\\\\\\\\\\\\\\"selectedColumn\\\\\\\\\\\\\\\": \\\\\\\\\\\\\\\"label\\\\\\\\\\\\\\\"}}, \\\\\\\\\\\\\\\"typeProperty\\\\\\\\\\\\\\\": 2}, {\\\\\\\\\\\\\\\"column\\\\\\\\\\\\\\\": {\\\\\\\\\\\\\\\"type\\\\\\\\\\\\\\\": 2, \\\\\\\\\\\\\\\"details\\\\\\\\\\\\\\\": {\\\\\\\\\\\\\\\"selectedColumn\\\\\\\\\\\\\\\": \\\\\\\\\\\\\\\"uid\\\\\\\\\\\\\\\"}}, \\\\\\\\\\\\\\\"typeProperty\\\\\\\\\\\\\\\": 2}, {\\\\\\\\\\\\\\\"column\\\\\\\\\\\\\\\": {\\\\\\\\\\\\\\\"type\\\\\\\\\\\\\\\": 2, \\\\\\\\\\\\\\\"details\\\\\\\\\\\\\\\": {\\\\\\\\\\\\\\\"selectedColumn\\\\\\\\\\\\\\\": \\\\\\\\\\\\\\\"task_id\\\\\\\\\\\\\\\"}}, \\\\\\\\\\\\\\\"typeProperty\\\\\\\\\\\\\\\": 2}, {\\\\\\\\\\\\\\\"column\\\\\\\\\\\\\\\": {\\\\\\\\\\\\\\\"type\\\\\\\\\\\\\\\": 2, \\\\\\\\\\\\\\\"details\\\\\\\\\\\\\\\": {\\\\\\\\\\\\\\\"selectedColumn\\\\\\\\\\\\\\\": \\\\\\\\\\\\\\\"adv_id\\\\\\\\\\\\\\\"}}, \\\\\\\\\\\\\\\"typeProperty\\\\\\\\\\\\\\\": 2}, {\\\\\\\\\\\\\\\"column\\\\\\\\\\\\\\\": {\\\\\\\\\\\\\\\"type\\\\\\\\\\\\\\\": 2, \\\\\\\\\\\\\\\"details\\\\\\\\\\\\\\\": {\\\\\\\\\\\\\\\"selectedColumn\\\\\\\\\\\\\\\": \\\\\\\\\\\\\\\"creat_type_cd\\\\\\\\\\\\\\\"}}, \\\\\\\\\\\\\\\"typeProperty\\\\\\\\\\\\\\\": 2}, {\\\\\\\\\\\\\\\"column\\\\\\\\\\\\\\\": {\\\\\\\\\\\\\\\"type\\\\\\\\\\\\\\\": 2, \\\\\\\\\\\\\\\"details\\\\\\\\\\\\\\\": {\\\\\\\\\\\\\\\"selectedColumn\\\\\\\\\\\\\\\": \\\\\\\\\\\\\\\"adv_prim_id\\\\\\\\\\\\\\\"}}, \\\\\\\\\\\\\\\"typeProperty\\\\\\\\\\\\\\\": 2}, {\\\\\\\\\\\\\\\"column\\\\\\\\\\\\\\\": {\\\\\\\\\\\\\\\"type\\\\\\\\\\\\\\\": 2, \\\\\\\\\\\\\\\"details\\\\\\\\\\\\\\\": {\\\\\\\\\\\\\\\"selectedColumn\\\\\\\\\\\\\\\": \\\\\\\\\\\\\\\"dev_id\\\\\\\\\\\\\\\"}}, \\\\\\\\\\\\\\\"typeProperty\\\\\\\\\\\\\\\": 2}, {\\\\\\\\\\\\\\\"column\\\\\\\\\\\\\\\": {\\\\\\\\\\\\\\\"type\\\\\\\\\\\\\\\": 2, \\\\\\\\\\\\\\\"details\\\\\\\\\\\\\\\": {\\\\\\\\\\\\\\\"selectedColumn\\\\\\\\\\\\\\\": \\\\\\\\\\\\\\\"inter_type_cd\\\\\\\\\\\\\\\"}}, \\\\\\\\\\\\\\\"typeProperty\\\\\\\\\\\\\\\": 2}, {\\\\\\\\\\\\\\\"column\\\\\\\\\\\\\\\": {\\\\\\\\\\\\\\\"type\\\\\\\\\\\\\\\": 2, \\\\\\\\\\\\\\\"details\\\\\\\\\\\\\\\": {\\\\\\\\\\\\\\\"selectedColumn\\\\\\\\\\\\\\\": \\\\\\\\\\\\\\\"slot_id\\\\\\\\\\\\\\\"}}, \\\\\\\\\\\\\\\"typeProperty\\\\\\\\\\\\\\\": 2}, {\\\\\\\\\\\\\\\"column\\\\\\\\\\\\\\\": {\\\\\\\\\\\\\\\"type\\\\\\\\\\\\\\\": 2, \\\\\\\\\\\\\\\"details\\\\\\\\\\\\\\\": {\\\\\\\\\\\\\\\"selectedColumn\\\\\\\\\\\\\\\": \\\\\\\\\\\\\\\"spread_app_id\\\\\\\\\\\\\\\"}}, \\\\\\\\\\\\\\\"typeProperty\\\\\\\\\\\\\\\": 2}, {\\\\\\\\\\\\\\\"column\\\\\\\\\\\\\\\": {\\\\\\\\\\\\\\\"type\\\\\\\\\\\\\\\": 2, \\\\\\\\\\\\\\\"details\\\\\\\\\\\\\\\": {\\\\\\\\\\\\\\\"selectedColumn\\\\\\\\\\\\\\\": \\\\\\\\\\\\\\\"tags\\\\\\\\\\\\\\\"}}, \\\\\\\\\\\\\\\"typeProperty\\\\\\\\\\\\\\\": 2}, {\\\\\\\\\\\\\\\"column\\\\\\\\\\\\\\\": {\\\\\\\\\\\\\\\"type\\\\\\\\\\\\\\\": 2, \\\\\\\\\\\\\\\"details\\\\\\\\\\\\\\\": {\\\\\\\\\\\\\\\"selectedColumn\\\\\\\\\\\\\\\": \\\\\\\\\\\\\\\"app_first_class\\\\\\\\\\\\\\\"}}, \\\\\\\\\\\\\\\"typeProperty\\\\\\\\\\\\\\\": 2}, {\\\\\\\\\\\\\\\"column\\\\\\\\\\\\\\\": {\\\\\\\\\\\\\\\"type\\\\\\\\\\\\\\\": 2, \\\\\\\\\\\\\\\"details\\\\\\\\\\\\\\\": {\\\\\\\\\\\\\\\"selectedColumn\\\\\\\\\\\\\\\": \\\\\\\\\\\\\\\"app_second_class\\\\\\\\\\\\\\\"}}, \\\\\\\\\\\\\\\"typeProperty\\\\\\\\\\\\\\\": 2}, {\\\\\\\\\\\\\\\"column\\\\\\\\\\\\\\\": {\\\\\\\\\\\\\\\"type\\\\\\\\\\\\\\\": 2, \\\\\\\\\\\\\\\"details\\\\\\\\\\\\\\\": {\\\\\\\\\\\\\\\"selectedColumn\\\\\\\\\\\\\\\": \\\\\\\\\\\\\\\"age\\\\\\\\\\\\\\\"}}, \\\\\\\\\\\\\\\"typeProperty\\\\\\\\\\\\\\\": 2}, {\\\\\\\\\\\\\\\"column\\\\\\\\\\\\\\\": {\\\\\\\\\\\\\\\"type\\\\\\\\\\\\\\\": 2, \\\\\\\\\\\\\\\"details\\\\\\\\\\\\\\\": {\\\\\\\\\\\\\\\"selectedColumn\\\\\\\\\\\\\\\": \\\\\\\\\\\\\\\"city\\\\\\\\\\\\\\\"}}, \\\\\\\\\\\\\\\"typeProperty\\\\\\\\\\\\\\\": 2}, {\\\\\\\\\\\\\\\"column\\\\\\\\\\\\\\\": {\\\\\\\\\\\\\\\"type\\\\\\\\\\\\\\\": 2, \\\\\\\\\\\\\\\"details\\\\\\\\\\\\\\\": {\\\\\\\\\\\\\\\"selectedColumn\\\\\\\\\\\\\\\": \\\\\\\\\\\\\\\"city_rank\\\\\\\\\\\\\\\"}}, \\\\\\\\\\\\\\\"typeProperty\\\\\\\\\\\\\\\": 2}, {\\\\\\\\\\\\\\\"column\\\\\\\\\\\\\\\": {\\\\\\\\\\\\\\\"type\\\\\\\\\\\\\\\": 2, \\\\\\\\\\\\\\\"details\\\\\\\\\\\\\\\": {\\\\\\\\\\\\\\\"selectedColumn\\\\\\\\\\\\\\\": \\\\\\\\\\\\\\\"device_name\\\\\\\\\\\\\\\"}}, \\\\\\\\\\\\\\\"typeProperty\\\\\\\\\\\\\\\": 2}, {\\\\\\\\\\\\\\\"column\\\\\\\\\\\\\\\": {\\\\\\\\\\\\\\\"type\\\\\\\\\\\\\\\": 2, \\\\\\\\\\\\\\\"details\\\\\\\\\\\\\\\": {\\\\\\\\\\\\\\\"selectedColumn\\\\\\\\\\\\\\\": \\\\\\\\\\\\\\\"device_size\\\\\\\\\\\\\\\"}}, \\\\\\\\\\\\\\\"typeProperty\\\\\\\\\\\\\\\": 2}, {\\\\\\\\\\\\\\\"column\\\\\\\\\\\\\\\": {\\\\\\\\\\\\\\\"type\\\\\\\\\\\\\\\": 2, \\\\\\\\\\\\\\\"details\\\\\\\\\\\\\\\": {\\\\\\\\\\\\\\\"selectedColumn\\\\\\\\\\\\\\\": \\\\\\\\\\\\\\\"career\\\\\\\\\\\\\\\"}}, \\\\\\\\\\\\\\\"typeProperty\\\\\\\\\\\\\\\": 2}, {\\\\\\\\\\\\\\\"column\\\\\\\\\\\\\\\": {\\\\\\\\\\\\\\\"type\\\\\\\\\\\\\\\": 2, \\\\\\\\\\\\\\\"details\\\\\\\\\\\\\\\": {\\\\\\\\\\\\\\\"selectedColumn\\\\\\\\\\\\\\\": \\\\\\\\\\\\\\\"gender\\\\\\\\\\\\\\\"}}, \\\\\\\\\\\\\\\"typeProperty\\\\\\\\\\\\\\\": 2}, {\\\\\\\\\\\\\\\"column\\\\\\\\\\\\\\\": {\\\\\\\\\\\\\\\"type\\\\\\\\\\\\\\\": 2, \\\\\\\\\\\\\\\"details\\\\\\\\\\\\\\\": {\\\\\\\\\\\\\\\"selectedColumn\\\\\\\\\\\\\\\": \\\\\\\\\\\\\\\"net_type\\\\\\\\\\\\\\\"}}, \\\\\\\\\\\\\\\"typeProperty\\\\\\\\\\\\\\\": 2}, {\\\\\\\\\\\\\\\"column\\\\\\\\\\\\\\\": {\\\\\\\\\\\\\\\"type\\\\\\\\\\\\\\\": 2, \\\\\\\\\\\\\\\"details\\\\\\\\\\\\\\\": {\\\\\\\\\\\\\\\"selectedColumn\\\\\\\\\\\\\\\": \\\\\\\\\\\\\\\"residence\\\\\\\\\\\\\\\"}}, \\\\\\\\\\\\\\\"typeProperty\\\\\\\\\\\\\\\": 2}, {\\\\\\\\\\\\\\\"column\\\\\\\\\\\\\\\": {\\\\\\\\\\\\\\\"type\\\\\\\\\\\\\\\": 2, \\\\\\\\\\\\\\\"details\\\\\\\\\\\\\\\": {\\\\\\\\\\\\\\\"selectedColumn\\\\\\\\\\\\\\\": \\\\\\\\\\\\\\\"his_app_size\\\\\\\\\\\\\\\"}}, \\\\\\\\\\\\\\\"typeProperty\\\\\\\\\\\\\\\": 2}, {\\\\\\\\\\\\\\\"column\\\\\\\\\\\\\\\": {\\\\\\\\\\\\\\\"type\\\\\\\\\\\\\\\": 2, \\\\\\\\\\\\\\\"details\\\\\\\\\\\\\\\": {\\\\\\\\\\\\\\\"selectedColumn\\\\\\\\\\\\\\\": \\\\\\\\\\\\\\\"his_on_shelf_time\\\\\\\\\\\\\\\"}}, \\\\\\\\\\\\\\\"typeProperty\\\\\\\\\\\\\\\": 2}, {\\\\\\\\\\\\\\\"column\\\\\\\\\\\\\\\": {\\\\\\\\\\\\\\\"type\\\\\\\\\\\\\\\": 2, \\\\\\\\\\\\\\\"details\\\\\\\\\\\\\\\": {\\\\\\\\\\\\\\\"selectedColumn\\\\\\\\\\\\\\\": \\\\\\\\\\\\\\\"app_score\\\\\\\\\\\\\\\"}}, \\\\\\\\\\\\\\\"typeProperty\\\\\\\\\\\\\\\": 2}, {\\\\\\\\\\\\\\\"column\\\\\\\\\\\\\\\": {\\\\\\\\\\\\\\\"type\\\\\\\\\\\\\\\": 2, \\\\\\\\\\\\\\\"details\\\\\\\\\\\\\\\": {\\\\\\\\\\\\\\\"selectedColumn\\\\\\\\\\\\\\\": \\\\\\\\\\\\\\\"emui_dev\\\\\\\\\\\\\\\"}}, \\\\\\\\\\\\\\\"typeProperty\\\\\\\\\\\\\\\": 2}, {\\\\\\\\\\\\\\\"column\\\\\\\\\\\\\\\": {\\\\\\\\\\\\\\\"type\\\\\\\\\\\\\\\": 2, \\\\\\\\\\\\\\\"details\\\\\\\\\\\\\\\": {\\\\\\\\\\\\\\\"selectedColumn\\\\\\\\\\\\\\\": \\\\\\\\\\\\\\\"list_time\\\\\\\\\\\\\\\"}}, \\\\\\\\\\\\\\\"typeProperty\\\\\\\\\\\\\\\": 2}, {\\\\\\\\\\\\\\\"column\\\\\\\\\\\\\\\": {\\\\\\\\\\\\\\\"type\\\\\\\\\\\\\\\": 2, \\\\\\\\\\\\\\\"details\\\\\\\\\\\\\\\": {\\\\\\\\\\\\\\\"selectedColumn\\\\\\\\\\\\\\\": \\\\\\\\\\\\\\\"device_price\\\\\\\\\\\\\\\"}}, \\\\\\\\\\\\\\\"typeProperty\\\\\\\\\\\\\\\": 2}, {\\\\\\\\\\\\\\\"column\\\\\\\\\\\\\\\": {\\\\\\\\\\\\\\\"type\\\\\\\\\\\\\\\": 2, \\\\\\\\\\\\\\\"details\\\\\\\\\\\\\\\": {\\\\\\\\\\\\\\\"selectedColumn\\\\\\\\\\\\\\\": \\\\\\\\\\\\\\\"up_life_duration\\\\\\\\\\\\\\\"}}, \\\\\\\\\\\\\\\"typeProperty\\\\\\\\\\\\\\\": 2}, {\\\\\\\\\\\\\\\"column\\\\\\\\\\\\\\\": {\\\\\\\\\\\\\\\"type\\\\\\\\\\\\\\\": 2, \\\\\\\\\\\\\\\"details\\\\\\\\\\\\\\\": {\\\\\\\\\\\\\\\"selectedColumn\\\\\\\\\\\\\\\": \\\\\\\\\\\\\\\"up_membership_grade\\\\\\\\\\\\\\\"}}, \\\\\\\\\\\\\\\"typeProperty\\\\\\\\\\\\\\\": 2}, {\\\\\\\\\\\\\\\"column\\\\\\\\\\\\\\\": {\\\\\\\\\\\\\\\"type\\\\\\\\\\\\\\\": 2, \\\\\\\\\\\\\\\"details\\\\\\\\\\\\\\\": {\\\\\\\\\\\\\\\"selectedColumn\\\\\\\\\\\\\\\": \\\\\\\\\\\\\\\"membership_life_duration\\\\\\\\\\\\\\\"}}, \\\\\\\\\\\\\\\"typeProperty\\\\\\\\\\\\\\\": 2}, {\\\\\\\\\\\\\\\"column\\\\\\\\\\\\\\\": {\\\\\\\\\\\\\\\"type\\\\\\\\\\\\\\\": 2, \\\\\\\\\\\\\\\"details\\\\\\\\\\\\\\\": {\\\\\\\\\\\\\\\"selectedColumn\\\\\\\\\\\\\\\": \\\\\\\\\\\\\\\"consume_purchase\\\\\\\\\\\\\\\"}}, \\\\\\\\\\\\\\\"typeProperty\\\\\\\\\\\\\\\": 2}, {\\\\\\\\\\\\\\\"column\\\\\\\\\\\\\\\": {\\\\\\\\\\\\\\\"type\\\\\\\\\\\\\\\": 2, \\\\\\\\\\\\\\\"details\\\\\\\\\\\\\\\": {\\\\\\\\\\\\\\\"selectedColumn\\\\\\\\\\\\\\\": \\\\\\\\\\\\\\\"communication_onlinerate\\\\\\\\\\\\\\\"}}, \\\\\\\\\\\\\\\"typeProperty\\\\\\\\\\\\\\\": 0}, {\\\\\\\\\\\\\\\"column\\\\\\\\\\\\\\\": {\\\\\\\\\\\\\\\"type\\\\\\\\\\\\\\\": 2, \\\\\\\\\\\\\\\"details\\\\\\\\\\\\\\\": {\\\\\\\\\\\\\\\"selectedColumn\\\\\\\\\\\\\\\": \\\\\\\\\\\\\\\"communication_avgonline_30d\\\\\\\\\\\\\\\"}}, \\\\\\\\\\\\\\\"typeProperty\\\\\\\\\\\\\\\": 2}, {\\\\\\\\\\\\\\\"column\\\\\\\\\\\\\\\": {\\\\\\\\\\\\\\\"type\\\\\\\\\\\\\\\": 2, \\\\\\\\\\\\\\\"details\\\\\\\\\\\\\\\": {\\\\\\\\\\\\\\\"selectedColumn\\\\\\\\\\\\\\\": \\\\\\\\\\\\\\\"indu_name\\\\\\\\\\\\\\\"}}, \\\\\\\\\\\\\\\"typeProperty\\\\\\\\\\\\\\\": 2}, {\\\\\\\\\\\\\\\"column\\\\\\\\\\\\\\\": {\\\\\\\\\\\\\\\"type\\\\\\\\\\\\\\\": 2, \\\\\\\\\\\\\\\"details\\\\\\\\\\\\\\\": {\\\\\\\\\\\\\\\"selectedColumn\\\\\\\\\\\\\\\": \\\\\\\\\\\\\\\"pt_d\\\\\\\\\\\\\\\"}}, \\\\\\\\\\\\\\\"typeProperty\\\\\\\\\\\\\\\": 2}, {\\\\\\\\\\\\\\\"column\\\\\\\\\\\\\\\": {\\\\\\\\\\\\\\\"type\\\\\\\\\\\\\\\": 2, \\\\\\\\\\\\\\\"details\\\\\\\\\\\\\\\": {\\\\\\\\\\\\\\\"selectedColumn\\\\\\\\\\\\\\\": \\\\\\\\\\\\\\\"uid_prev_1_day_ctr\\\\\\\\\\\\\\\"}}, \\\\\\\\\\\\\\\"typeProperty\\\\\\\\\\\\\\\": 3}, {\\\\\\\\\\\\\\\"column\\\\\\\\\\\\\\\": {\\\\\\\\\\\\\\\"type\\\\\\\\\\\\\\\": 2, \\\\\\\\\\\\\\\"details\\\\\\\\\\\\\\\": {\\\\\\\\\\\\\\\"selectedColumn\\\\\\\\\\\\\\\": \\\\\\\\\\\\\\\"uid_prev_2_day_ctr\\\\\\\\\\\\\\\"}}, \\\\\\\\\\\\\\\"typeProperty\\\\\\\\\\\\\\\": 3}, {\\\\\\\\\\\\\\\"column\\\\\\\\\\\\\\\": {\\\\\\\\\\\\\\\"type\\\\\\\\\\\\\\\": 2, \\\\\\\\\\\\\\\"details\\\\\\\\\\\\\\\": {\\\\\\\\\\\\\\\"selectedColumn\\\\\\\\\\\\\\\": \\\\\\\\\\\\\\\"uid_prev_3_day_ctr\\\\\\\\\\\\\\\"}}, \\\\\\\\\\\\\\\"typeProperty\\\\\\\\\\\\\\\": 3}, {\\\\\\\\\\\\\\\"column\\\\\\\\\\\\\\\": {\\\\\\\\\\\\\\\"type\\\\\\\\\\\\\\\": 2, \\\\\\\\\\\\\\\"details\\\\\\\\\\\\\\\": {\\\\\\\\\\\\\\\"selectedColumn\\\\\\\\\\\\\\\": \\\\\\\\\\\\\\\"uid_prev_4_day_ctr\\\\\\\\\\\\\\\"}}, \\\\\\\\\\\\\\\"typeProperty\\\\\\\\\\\\\\\": 3}, {\\\\\\\\\\\\\\\"column\\\\\\\\\\\\\\\": {\\\\\\\\\\\\\\\"type\\\\\\\\\\\\\\\": 2, \\\\\\\\\\\\\\\"details\\\\\\\\\\\\\\\": {\\\\\\\\\\\\\\\"selectedColumn\\\\\\\\\\\\\\\": \\\\\\\\\\\\\\\"uid_prev_5_day_ctr\\\\\\\\\\\\\\\"}}, \\\\\\\\\\\\\\\"typeProperty\\\\\\\\\\\\\\\": 3}, {\\\\\\\\\\\\\\\"column\\\\\\\\\\\\\\\": {\\\\\\\\\\\\\\\"type\\\\\\\\\\\\\\\": 2, \\\\\\\\\\\\\\\"details\\\\\\\\\\\\\\\": {\\\\\\\\\\\\\\\"selectedColumn\\\\\\\\\\\\\\\": \\\\\\\\\\\\\\\"uid_prev_6_day_ctr\\\\\\\\\\\\\\\"}}, \\\\\\\\\\\\\\\"typeProperty\\\\\\\\\\\\\\\": 3}, {\\\\\\\\\\\\\\\"column\\\\\\\\\\\\\\\": {\\\\\\\\\\\\\\\"type\\\\\\\\\\\\\\\": 2, \\\\\\\\\\\\\\\"details\\\\\\\\\\\\\\\": {\\\\\\\\\\\\\\\"selectedColumn\\\\\\\\\\\\\\\": \\\\\\\\\\\\\\\"task_id_prev_1_day_ctr\\\\\\\\\\\\\\\"}}, \\\\\\\\\\\\\\\"typeProperty\\\\\\\\\\\\\\\": 3}, {\\\\\\\\\\\\\\\"column\\\\\\\\\\\\\\\": {\\\\\\\\\\\\\\\"type\\\\\\\\\\\\\\\": 2, \\\\\\\\\\\\\\\"details\\\\\\\\\\\\\\\": {\\\\\\\\\\\\\\\"selectedColumn\\\\\\\\\\\\\\\": \\\\\\\\\\\\\\\"task_id_prev_2_day_ctr\\\\\\\\\\\\\\\"}}, \\\\\\\\\\\\\\\"typeProperty\\\\\\\\\\\\\\\": 3}, {\\\\\\\\\\\\\\\"column\\\\\\\\\\\\\\\": {\\\\\\\\\\\\\\\"type\\\\\\\\\\\\\\\": 2, \\\\\\\\\\\\\\\"details\\\\\\\\\\\\\\\": {\\\\\\\\\\\\\\\"selectedColumn\\\\\\\\\\\\\\\": \\\\\\\\\\\\\\\"task_id_prev_3_day_ctr\\\\\\\\\\\\\\\"}}, \\\\\\\\\\\\\\\"typeProperty\\\\\\\\\\\\\\\": 3}, {\\\\\\\\\\\\\\\"column\\\\\\\\\\\\\\\": {\\\\\\\\\\\\\\\"type\\\\\\\\\\\\\\\": 2, \\\\\\\\\\\\\\\"details\\\\\\\\\\\\\\\": {\\\\\\\\\\\\\\\"selectedColumn\\\\\\\\\\\\\\\": \\\\\\\\\\\\\\\"task_id_prev_4_day_ctr\\\\\\\\\\\\\\\"}}, \\\\\\\\\\\\\\\"typeProperty\\\\\\\\\\\\\\\": 3}, {\\\\\\\\\\\\\\\"column\\\\\\\\\\\\\\\": {\\\\\\\\\\\\\\\"type\\\\\\\\\\\\\\\": 2, \\\\\\\\\\\\\\\"details\\\\\\\\\\\\\\\": {\\\\\\\\\\\\\\\"selectedColumn\\\\\\\\\\\\\\\": \\\\\\\\\\\\\\\"task_id_prev_5_day_ctr\\\\\\\\\\\\\\\"}}, \\\\\\\\\\\\\\\"typeProperty\\\\\\\\\\\\\\\": 3}, {\\\\\\\\\\\\\\\"column\\\\\\\\\\\\\\\": {\\\\\\\\\\\\\\\"type\\\\\\\\\\\\\\\": 2, \\\\\\\\\\\\\\\"details\\\\\\\\\\\\\\\": {\\\\\\\\\\\\\\\"selectedColumn\\\\\\\\\\\\\\\": \\\\\\\\\\\\\\\"task_id_prev_6_day_ctr\\\\\\\\\\\\\\\"}}, \\\\\\\\\\\\\\\"typeProperty\\\\\\\\\\\\\\\": 3}, {\\\\\\\\\\\\\\\"column\\\\\\\\\\\\\\\": {\\\\\\\\\\\\\\\"type\\\\\\\\\\\\\\\": 2, \\\\\\\\\\\\\\\"details\\\\\\\\\\\\\\\": {\\\\\\\\\\\\\\\"selectedColumn\\\\\\\\\\\\\\\": \\\\\\\\\\\\\\\"adv_id_prev_1_day_ctr\\\\\\\\\\\\\\\"}}, \\\\\\\\\\\\\\\"typeProperty\\\\\\\\\\\\\\\": 3}, {\\\\\\\\\\\\\\\"column\\\\\\\\\\\\\\\": {\\\\\\\\\\\\\\\"type\\\\\\\\\\\\\\\": 2, \\\\\\\\\\\\\\\"details\\\\\\\\\\\\\\\": {\\\\\\\\\\\\\\\"selectedColumn\\\\\\\\\\\\\\\": \\\\\\\\\\\\\\\"adv_id_prev_2_day_ctr\\\\\\\\\\\\\\\"}}, \\\\\\\\\\\\\\\"typeProperty\\\\\\\\\\\\\\\": 3}, {\\\\\\\\\\\\\\\"column\\\\\\\\\\\\\\\": {\\\\\\\\\\\\\\\"type\\\\\\\\\\\\\\\": 2, \\\\\\\\\\\\\\\"details\\\\\\\\\\\\\\\": {\\\\\\\\\\\\\\\"selectedColumn\\\\\\\\\\\\\\\": \\\\\\\\\\\\\\\"adv_id_prev_3_day_ctr\\\\\\\\\\\\\\\"}}, \\\\\\\\\\\\\\\"typeProperty\\\\\\\\\\\\\\\": 3}, {\\\\\\\\\\\\\\\"column\\\\\\\\\\\\\\\": {\\\\\\\\\\\\\\\"type\\\\\\\\\\\\\\\": 2, \\\\\\\\\\\\\\\"details\\\\\\\\\\\\\\\": {\\\\\\\\\\\\\\\"selectedColumn\\\\\\\\\\\\\\\": \\\\\\\\\\\\\\\"adv_id_prev_4_day_ctr\\\\\\\\\\\\\\\"}}, \\\\\\\\\\\\\\\"typeProperty\\\\\\\\\\\\\\\": 3}, {\\\\\\\\\\\\\\\"column\\\\\\\\\\\\\\\": {\\\\\\\\\\\\\\\"type\\\\\\\\\\\\\\\": 2, \\\\\\\\\\\\\\\"details\\\\\\\\\\\\\\\": {\\\\\\\\\\\\\\\"selectedColumn\\\\\\\\\\\\\\\": \\\\\\\\\\\\\\\"adv_id_prev_5_day_ctr\\\\\\\\\\\\\\\"}}, \\\\\\\\\\\\\\\"typeProperty\\\\\\\\\\\\\\\": 3}, {\\\\\\\\\\\\\\\"column\\\\\\\\\\\\\\\": {\\\\\\\\\\\\\\\"type\\\\\\\\\\\\\\\": 2, \\\\\\\\\\\\\\\"details\\\\\\\\\\\\\\\": {\\\\\\\\\\\\\\\"selectedColumn\\\\\\\\\\\\\\\": \\\\\\\\\\\\\\\"adv_id_prev_6_day_ctr\\\\\\\\\\\\\\\"}}, \\\\\\\\\\\\\\\"typeProperty\\\\\\\\\\\\\\\": 3}, {\\\\\\\\\\\\\\\"column\\\\\\\\\\\\\\\": {\\\\\\\\\\\\\\\"type\\\\\\\\\\\\\\\": 2, \\\\\\\\\\\\\\\"details\\\\\\\\\\\\\\\": {\\\\\\\\\\\\\\\"selectedColumn\\\\\\\\\\\\\\\": \\\\\\\\\\\\\\\"adv_prim_id_prev_1_day_ctr\\\\\\\\\\\\\\\"}}, \\\\\\\\\\\\\\\"typeProperty\\\\\\\\\\\\\\\": 3}, {\\\\\\\\\\\\\\\"column\\\\\\\\\\\\\\\": {\\\\\\\\\\\\\\\"type\\\\\\\\\\\\\\\": 2, \\\\\\\\\\\\\\\"details\\\\\\\\\\\\\\\": {\\\\\\\\\\\\\\\"selectedColumn\\\\\\\\\\\\\\\": \\\\\\\\\\\\\\\"adv_prim_id_prev_2_day_ctr\\\\\\\\\\\\\\\"}}, \\\\\\\\\\\\\\\"typeProperty\\\\\\\\\\\\\\\": 3}, {\\\\\\\\\\\\\\\"column\\\\\\\\\\\\\\\": {\\\\\\\\\\\\\\\"type\\\\\\\\\\\\\\\": 2, \\\\\\\\\\\\\\\"details\\\\\\\\\\\\\\\": {\\\\\\\\\\\\\\\"selectedColumn\\\\\\\\\\\\\\\": \\\\\\\\\\\\\\\"adv_prim_id_prev_3_day_ctr\\\\\\\\\\\\\\\"}}, \\\\\\\\\\\\\\\"typeProperty\\\\\\\\\\\\\\\": 3}, {\\\\\\\\\\\\\\\"column\\\\\\\\\\\\\\\": {\\\\\\\\\\\\\\\"type\\\\\\\\\\\\\\\": 2, \\\\\\\\\\\\\\\"details\\\\\\\\\\\\\\\": {\\\\\\\\\\\\\\\"selectedColumn\\\\\\\\\\\\\\\": \\\\\\\\\\\\\\\"adv_prim_id_prev_4_day_ctr\\\\\\\\\\\\\\\"}}, \\\\\\\\\\\\\\\"typeProperty\\\\\\\\\\\\\\\": 3}, {\\\\\\\\\\\\\\\"column\\\\\\\\\\\\\\\": {\\\\\\\\\\\\\\\"type\\\\\\\\\\\\\\\": 2, \\\\\\\\\\\\\\\"details\\\\\\\\\\\\\\\": {\\\\\\\\\\\\\\\"selectedColumn\\\\\\\\\\\\\\\": \\\\\\\\\\\\\\\"adv_prim_id_prev_5_day_ctr\\\\\\\\\\\\\\\"}}, \\\\\\\\\\\\\\\"typeProperty\\\\\\\\\\\\\\\": 3}, {\\\\\\\\\\\\\\\"column\\\\\\\\\\\\\\\": {\\\\\\\\\\\\\\\"type\\\\\\\\\\\\\\\": 2, \\\\\\\\\\\\\\\"details\\\\\\\\\\\\\\\": {\\\\\\\\\\\\\\\"selectedColumn\\\\\\\\\\\\\\\": \\\\\\\\\\\\\\\"adv_prim_id_prev_6_day_ctr\\\\\\\\\\\\\\\"}}, \\\\\\\\\\\\\\\"typeProperty\\\\\\\\\\\\\\\": 3}, {\\\\\\\\\\\\\\\"column\\\\\\\\\\\\\\\": {\\\\\\\\\\\\\\\"type\\\\\\\\\\\\\\\": 2, \\\\\\\\\\\\\\\"details\\\\\\\\\\\\\\\": {\\\\\\\\\\\\\\\"selectedColumn\\\\\\\\\\\\\\\": \\\\\\\\\\\\\\\"spread_app_id_prev_1_day_ctr\\\\\\\\\\\\\\\"}}, \\\\\\\\\\\\\\\"typeProperty\\\\\\\\\\\\\\\": 3}, {\\\\\\\\\\\\\\\"column\\\\\\\\\\\\\\\": {\\\\\\\\\\\\\\\"type\\\\\\\\\\\\\\\": 2, \\\\\\\\\\\\\\\"details\\\\\\\\\\\\\\\": {\\\\\\\\\\\\\\\"selectedColumn\\\\\\\\\\\\\\\": \\\\\\\\\\\\\\\"spread_app_id_prev_2_day_ctr\\\\\\\\\\\\\\\"}}, \\\\\\\\\\\\\\\"typeProperty\\\\\\\\\\\\\\\": 3}, {\\\\\\\\\\\\\\\"column\\\\\\\\\\\\\\\": {\\\\\\\\\\\\\\\"type\\\\\\\\\\\\\\\": 2, \\\\\\\\\\\\\\\"details\\\\\\\\\\\\\\\": {\\\\\\\\\\\\\\\"selectedColumn\\\\\\\\\\\\\\\": \\\\\\\\\\\\\\\"spread_app_id_prev_3_day_ctr\\\\\\\\\\\\\\\"}}, \\\\\\\\\\\\\\\"typeProperty\\\\\\\\\\\\\\\": 3}, {\\\\\\\\\\\\\\\"column\\\\\\\\\\\\\\\": {\\\\\\\\\\\\\\\"type\\\\\\\\\\\\\\\": 2, \\\\\\\\\\\\\\\"details\\\\\\\\\\\\\\\": {\\\\\\\\\\\\\\\"selectedColumn\\\\\\\\\\\\\\\": \\\\\\\\\\\\\\\"spread_app_id_prev_4_day_ctr\\\\\\\\\\\\\\\"}}, \\\\\\\\\\\\\\\"typeProperty\\\\\\\\\\\\\\\": 3}, {\\\\\\\\\\\\\\\"column\\\\\\\\\\\\\\\": {\\\\\\\\\\\\\\\"type\\\\\\\\\\\\\\\": 2, \\\\\\\\\\\\\\\"details\\\\\\\\\\\\\\\": {\\\\\\\\\\\\\\\"selectedColumn\\\\\\\\\\\\\\\": \\\\\\\\\\\\\\\"spread_app_id_prev_5_day_ctr\\\\\\\\\\\\\\\"}}, \\\\\\\\\\\\\\\"typeProperty\\\\\\\\\\\\\\\": 3}, {\\\\\\\\\\\\\\\"column\\\\\\\\\\\\\\\": {\\\\\\\\\\\\\\\"type\\\\\\\\\\\\\\\": 2, \\\\\\\\\\\\\\\"details\\\\\\\\\\\\\\\": {\\\\\\\\\\\\\\\"selectedColumn\\\\\\\\\\\\\\\": \\\\\\\\\\\\\\\"spread_app_id_prev_6_day_ctr\\\\\\\\\\\\\\\"}}, \\\\\\\\\\\\\\\"typeProperty\\\\\\\\\\\\\\\": 3}]}, \\\\\\\\\\\\\\\"localData\\\\\\\\\\\\\\\": {}, \\\\\\\\\\\\\\\"isEnabled\\\\\\\\\\\\\\\": true, \\\\\\\\\\\\\\\"name\\\\\\\\\\\\\\\": null, \\\\\\\\\\\\\\\"annotation\\\\\\\\\\\\\\\": null}, {\\\\\\\\\\\\\\\"id\\\\\\\\\\\\\\\": \\\\\\\\\\\\\\\"7b56f2be-7626-4d1b-a979-c60689a78017\\\\\\\\\\\\\\\", \\\\\\\\\\\\\\\"type\\\\\\\\\\\\\\\": \\\\\\\\\\\\\\\"Microsoft.DPrep.RandomSplitBlock\\\\\\\\\\\\\\\", \\\\\\\\\\\\\\\"arguments\\\\\\\\\\\\\\\": {\\\\\\\\\\\\\\\"probability\\\\\\\\\\\\\\\": 0.8, \\\\\\\\\\\\\\\"seed\\\\\\\\\\\\\\\": 7}, \\\\\\\\\\\\\\\"localData\\\\\\\\\\\\\\\": {}, \\\\\\\\\\\\\\\"isEnabled\\\\\\\\\\\\\\\": true, \\\\\\\\\\\\\\\"name\\\\\\\\\\\\\\\": null, \\\\\\\\\\\\\\\"annotation\\\\\\\\\\\\\\\": null}], \\\\\\\\\\\\\\\"inspectors\\\\\\\\\\\\\\\": [], \\\\\\\\\\\\\\\"meta\\\\\\\\\\\\\\\": {\\\\\\\\\\\\\\\"savedDatasetId\\\\\\\\\\\\\\\": \\\\\\\\\\\\\\\"2f2bcbaa-74d2-4680-8bd9-aa69ace159ac\\\\\\\\\\\\\\\", \\\\\\\\\\\\\\\"datasetType\\\\\\\\\\\\\\\": \\\\\\\\\\\\\\\"tabular\\\\\\\\\\\\\\\", \\\\\\\\\\\\\\\"subscriptionId\\\\\\\\\\\\\\\": \\\\\\\\\\\\\\\"cdbe0b43-92a0-4715-838a-f2648cc7ad21\\\\\\\\\\\\\\\", \\\\\\\\\\\\\\\"workspaceId\\\\\\\\\\\\\\\": \\\\\\\\\\\\\\\"6a3d077e-5197-45ba-83be-7294548348e8\\\\\\\\\\\\\\\", \\\\\\\\\\\\\\\"workspaceLocation\\\\\\\\\\\\\\\": \\\\\\\\\\\\\\\"southcentralus\\\\\\\\\\\\\\\"}}\\\\\\\", \\\\\\\"activities\\\\\\\": 0}\", \"EnableSubsampling\": null, \"runTemplate\": \"AutoML\", \"azureml.runsource\": \"automl\", \"display_task_type\": \"classification\", \"dependencies_versions\": \"{\\\"azureml-widgets\\\": \\\"1.19.0\\\", \\\"azureml-train\\\": \\\"1.19.0\\\", \\\"azureml-train-restclients-hyperdrive\\\": \\\"1.19.0\\\", \\\"azureml-train-core\\\": \\\"1.19.0\\\", \\\"azureml-train-automl\\\": \\\"1.19.0\\\", \\\"azureml-train-automl-runtime\\\": \\\"1.19.0\\\", \\\"azureml-train-automl-client\\\": \\\"1.19.0\\\", \\\"azureml-tensorboard\\\": \\\"1.19.0\\\", \\\"azureml-telemetry\\\": \\\"1.19.0\\\", \\\"azureml-sdk\\\": \\\"1.19.0\\\", \\\"azureml-samples\\\": \\\"0+unknown\\\", \\\"azureml-pipeline\\\": \\\"1.19.0\\\", \\\"azureml-pipeline-steps\\\": \\\"1.19.0\\\", \\\"azureml-pipeline-core\\\": \\\"1.19.0\\\", \\\"azureml-opendatasets\\\": \\\"1.19.0\\\", \\\"azureml-model-management-sdk\\\": \\\"1.0.1b6.post1\\\", \\\"azureml-mlflow\\\": \\\"1.19.0\\\", \\\"azureml-interpret\\\": \\\"1.19.0\\\", \\\"azureml-explain-model\\\": \\\"1.19.0\\\", \\\"azureml-defaults\\\": \\\"1.19.0\\\", \\\"azureml-dataset-runtime\\\": \\\"1.19.0\\\", \\\"azureml-dataprep\\\": \\\"2.6.1\\\", \\\"azureml-dataprep-rslex\\\": \\\"1.4.0\\\", \\\"azureml-dataprep-native\\\": \\\"26.0.0\\\", \\\"azureml-datadrift\\\": \\\"1.19.0\\\", \\\"azureml-core\\\": \\\"1.19.0\\\", \\\"azureml-contrib-services\\\": \\\"1.19.0\\\", \\\"azureml-contrib-server\\\": \\\"1.19.0\\\", \\\"azureml-contrib-reinforcementlearning\\\": \\\"1.19.0\\\", \\\"azureml-contrib-pipeline-steps\\\": \\\"1.19.0\\\", \\\"azureml-contrib-notebook\\\": \\\"1.19.0\\\", \\\"azureml-contrib-interpret\\\": \\\"1.19.0\\\", \\\"azureml-contrib-gbdt\\\": \\\"1.19.0\\\", \\\"azureml-contrib-fairness\\\": \\\"1.19.0\\\", \\\"azureml-contrib-dataset\\\": \\\"1.19.0\\\", \\\"azureml-cli-common\\\": \\\"1.19.0\\\", \\\"azureml-automl-runtime\\\": \\\"1.19.0\\\", \\\"azureml-automl-core\\\": \\\"1.19.0\\\", \\\"azureml-accel-models\\\": \\\"1.19.0\\\"}\", \"_aml_system_scenario_identification\": \"Remote.Parent\", \"ClientType\": \"SDK\", \"environment_cpu_name\": \"AzureML-AutoML\", \"environment_cpu_label\": \"prod\", \"environment_gpu_name\": \"AzureML-AutoML-GPU\", \"environment_gpu_label\": \"prod\", \"root_attribution\": \"automl\", \"attribution\": \"AutoML\", \"Orchestrator\": \"AutoML\", \"CancelUri\": \"https://southcentralus.experiments.azureml.net/jasmine/v1.0/subscriptions/cdbe0b43-92a0-4715-838a-f2648cc7ad21/resourceGroups/aml-quickstarts-134681/providers/Microsoft.MachineLearningServices/workspaces/quick-starts-ws-134681/experimentids/02a5f043-7c27-4240-9e9c-60a0f656f970/cancel/AutoML_561039e3-793b-4189-957c-a065b584b04f\", \"ClientSdkVersion\": \"1.19.0\", \"snapshotId\": \"00000000-0000-0000-0000-000000000000\", \"SetupRunId\": \"AutoML_561039e3-793b-4189-957c-a065b584b04f_setup\", \"SetupRunContainerId\": \"dcid.AutoML_561039e3-793b-4189-957c-a065b584b04f_setup\", \"FeaturizationRunJsonPath\": \"featurizer_container.json\", \"FeaturizationRunId\": \"AutoML_561039e3-793b-4189-957c-a065b584b04f_featurize\", \"ProblemInfoJsonString\": \"{\\\"dataset_num_categorical\\\": 0, \\\"is_sparse\\\": true, \\\"subsampling\\\": false, \\\"dataset_classes\\\": 2, \\\"dataset_features\\\": 469, \\\"dataset_samples\\\": 66912, \\\"single_frequency_class_detected\\\": false}\", \"ModelExplainRunId\": \"AutoML_561039e3-793b-4189-957c-a065b584b04f_ModelExplain\"}, \"tags\": {\"model_explain_run\": \"best_run\", \"_aml_system_azureml.automlComponent\": \"AutoML\", \"pipeline_id\": \"<5dfac790c5c209f98a1da2dc1c7fb76f0397324f>;<c7af0367625be6ac5c2fecbfc72ed444cb7a2111>;<cf1dc9b7ea4a50d759bce352343ec6737501695a>;<032c2f067189c1f56172ca21b98c8843539dd9de>;<b19eeb61727e9c4fbb5aa45fb6e9fe3fab5b1f04>;<8de8c085d2a4b23d3f4cc392a2f2660d23d38c14>;<4d4be808b8b6dd0f67e8354c79eddd3d712440a5>;<84f353ee505484d17af765441b00eb466a22fd74>;<22ff711585f7d612cb5545b13e4f726a7baea08b>;<644b67c67a3167cae43bb632e070a07c98f8e659>;<2a4d6884653b914a3c776e7938f6ae32acfc26c6>;<197f7a2c9f73f532dd122984f886bacedf643181>;<1fd5868c208aedafb2bfd358f8d40174211c5606>;<5deecfce5e556e579298341c0ed1f8e9dc8537ab>;<ce2643edf3d450b10c86c7d034a9bc952dc282d3>;<121c9f60849e027dd2ce3aec439c7d7cc3b62e91>;<784a782a98099dfe65001ce6234d77bbeb4dbbb4>;<19ffa0b5813a11fb58f0307c4b67f7c2427d4abe>;<8fc9f7fa3a37c2e5e097db0247b7f25f8d8becfa>;<42688c366e2a05810ab1c05a89dab4d6cc98e62e>;<db2e33972fb53a15db7a1140e9735bc70c565870>;<0111688375aa9d938c2e1e0faaf13aef53ff6b4f>;<f6e9c169e4c41c560c21961ae7b9aa95d79bc15e>;<51708310f634ea58dc1152301e4aed2fee0fc6e0>;<4f2e976a99f82d620c6c4f723bf1641c01625f4f>;<51d7842c0cc730ddaeed6c80376d239591eb2c39>;<8b84d39fd2272d81e2356a31cd0f238e424aa420>;<f300840e20e253bf3d690efec1e907b59f0f4be0>;<02c0d444bfbe671a7d215a8216ee448ced3f7b80>;<a5f4ed0a4a4011cf7a2b666322744ab82ef0cc8d>;<__AutoML_Ensemble__>;<__AutoML_Stack_Ensemble__>;\", \"score\": \"<0.7064496050456763>;<0.6994147152098772>;<0.6711267052063538>;<0.6652175616095009>;<0.6559779471108921>;<0.6658538656201557>;<0.6792809128961116>;<0.6694788453593458>;<0.6695334316373305>;<0.6701798505356894>;<0.6526678469065674>;<0.6620032909848244>;<0.6606847477258325>;<0.6853971519563118>;<0.6589836289450182>;<0.6655073444272456>;<0.6703580133520198>;<0.6609281666604347>;<0.654555891454497>;<0.7081566450266977>;<0.7031000469586116>;<0.6899758403795244>;<0.6990138221902479>;<0.7000168496247658>;<0.6851244072435377>;<0.6543403393263117>;<0.6707945798252988>;<0.6977638657116388>;<NaN>;<0.6813576647166986>;<0.7115380051470858>;<0.7116875172797439>;\", \"predicted_cost\": \"<0>;<0>;<0.5>;<0.7058158000000001>;<0.790577775833676>;<0.6973203224895043>;<1.0098941915760689>;<1.1331000052961242>;<1.2170273118464043>;<1.2103243546832085>;<1.1480849623911775>;<1.2231205767392979>;<1.1420782437845012>;<1.113042563552495>;<1.0477976915701688>;<1.0884567966914764>;<1.0685288460491136>;<1.0958531112773038>;<1.0991125177142134>;<1.8183594035644908>;<2.42532328617331>;<3.894437081462992>;<1.4575970687813917>;<6.157413814764604>;<2.294874850796092>;<2.2892121937504624>;<4.855345679300902>;<3.5116319898047226>;<13.994645014458062>;<2.5913578841487763>;<0>;<0>;\", \"fit_time\": \"<2.6091589999999996>;<7.937781599999999>;<0.7058158000000001>;<0.9684812>;<0.5816414>;<2.1732298>;<3.5694114>;<1.1100222>;<1.0738113999999999>;<1.8099374000000001>;<0.4421562>;<0.97819>;<2.1869001999999997>;<1.9952007999999999>;<0.4268968>;<2.354266>;<1.17069>;<1.4588154000000002>;<0.8572806>;<4.4013724>;<2.6626684000000003>;<19.2927528>;<3.458923>;<23.340452>;<0.9710352>;<0.8888704000000001>;<9.7685584>;<2.0344988>;<NaN>;<2.281727>;<70>;<92>;\", \"training_percent\": \"<100>;<100>;<100>;<100>;<100>;<100>;<100>;<100>;<100>;<100>;<100>;<100>;<100>;<100>;<100>;<100>;<100>;<100>;<100>;<100>;<100>;<100>;<100>;<100>;<100>;<100>;<100>;<100>;<100>;<100>;<100>;<100>;\", \"iteration\": \"<0>;<1>;<2>;<3>;<4>;<5>;<6>;<7>;<8>;<9>;<10>;<11>;<12>;<13>;<14>;<15>;<16>;<17>;<18>;<19>;<20>;<21>;<22>;<23>;<24>;<25>;<26>;<27>;<28>;<29>;<30>;<31>;\", \"run_preprocessor\": \"<MaxAbsScaler>;<MaxAbsScaler>;<MaxAbsScaler>;<MaxAbsScaler>;<MaxAbsScaler>;<MaxAbsScaler>;<MaxAbsScaler>;<MaxAbsScaler>;<MaxAbsScaler>;<MaxAbsScaler>;<MaxAbsScaler>;<MaxAbsScaler>;<MaxAbsScaler>;<StandardScalerWrapper>;<MaxAbsScaler>;<StandardScalerWrapper>;<MaxAbsScaler>;<MaxAbsScaler>;<MaxAbsScaler>;<MaxAbsScaler>;<StandardScalerWrapper>;<StandardScalerWrapper>;<StandardScalerWrapper>;<StandardScalerWrapper>;<SparseNormalizer>;<StandardScalerWrapper>;<TruncatedSVDWrapper>;<StandardScalerWrapper>;<TruncatedSVDWrapper>;<SparseNormalizer>;<>;<>;\", \"run_algorithm\": \"<LightGBM>;<XGBoostClassifier>;<RandomForest>;<RandomForest>;<RandomForest>;<ExtremeRandomTrees>;<ExtremeRandomTrees>;<ExtremeRandomTrees>;<RandomForest>;<ExtremeRandomTrees>;<RandomForest>;<RandomForest>;<RandomForest>;<XGBoostClassifier>;<RandomForest>;<ExtremeRandomTrees>;<ExtremeRandomTrees>;<ExtremeRandomTrees>;<RandomForest>;<LightGBM>;<XGBoostClassifier>;<XGBoostClassifier>;<LogisticRegression>;<LogisticRegression>;<LightGBM>;<LightGBM>;<XGBoostClassifier>;<LightGBM>;<XGBoostClassifier>;<XGBoostClassifier>;<VotingEnsemble>;<StackEnsemble>;\", \"dynamic_whitelisting_iterations\": \"<25>;\", \"automl_best_child_run_id\": \"AutoML_561039e3-793b-4189-957c-a065b584b04f_31\"}, \"end_time_utc\": \"2021-01-14T17:57:40.655009Z\", \"status\": \"Completed\", \"log_files\": {}, \"log_groups\": [], \"run_duration\": \"1:15:41\"}, \"child_runs\": [{\"run_id\": \"AutoML_561039e3-793b-4189-957c-a065b584b04f_0\", \"run_number\": 5, \"metric\": null, \"status\": \"Completed\", \"run_type\": \"azureml.scriptrun\", \"training_percent\": \"100\", \"start_time\": \"2021-01-14T16:54:44.475086Z\", \"end_time\": \"2021-01-14T16:55:59.080086Z\", \"created_time\": \"2021-01-14T16:54:31.207522Z\", \"created_time_dt\": \"2021-01-14T16:54:31.207522Z\", \"duration\": \"0:01:27\", \"iteration\": \"0\", \"goal\": \"AUC_weighted_max\", \"run_name\": \"MaxAbsScaler, LightGBM\", \"run_properties\": \"copy=True\", \"primary_metric\": 0.70644961, \"best_metric\": 0.70644961}, {\"run_id\": \"AutoML_561039e3-793b-4189-957c-a065b584b04f_1\", \"run_number\": 6, \"metric\": null, \"status\": \"Completed\", \"run_type\": \"azureml.scriptrun\", \"training_percent\": \"100\", \"start_time\": \"2021-01-14T16:56:16.331255Z\", \"end_time\": \"2021-01-14T16:58:08.193669Z\", \"created_time\": \"2021-01-14T16:56:01.69929Z\", \"created_time_dt\": \"2021-01-14T16:56:01.69929Z\", \"duration\": \"0:02:06\", \"iteration\": \"1\", \"goal\": \"AUC_weighted_max\", \"run_name\": \"MaxAbsScaler, XGBoostClassifier\", \"run_properties\": \"copy=True\", \"primary_metric\": 0.69941472, \"best_metric\": 0.70644961}, {\"run_id\": \"AutoML_561039e3-793b-4189-957c-a065b584b04f_2\", \"run_number\": 7, \"metric\": null, \"status\": \"Completed\", \"run_type\": \"azureml.scriptrun\", \"training_percent\": \"100\", \"start_time\": \"2021-01-14T16:58:21.6558Z\", \"end_time\": \"2021-01-14T16:59:54.019744Z\", \"created_time\": \"2021-01-14T16:58:09.542232Z\", \"created_time_dt\": \"2021-01-14T16:58:09.542232Z\", \"duration\": \"0:01:44\", \"iteration\": \"2\", \"goal\": \"AUC_weighted_max\", \"run_name\": \"MaxAbsScaler, RandomForest\", \"run_properties\": \"copy=True\", \"primary_metric\": 0.67112671, \"best_metric\": 0.70644961}, {\"run_id\": \"AutoML_561039e3-793b-4189-957c-a065b584b04f_3\", \"run_number\": 8, \"metric\": null, \"status\": \"Completed\", \"run_type\": \"azureml.scriptrun\", \"training_percent\": \"100\", \"start_time\": \"2021-01-14T17:00:09.296223Z\", \"end_time\": \"2021-01-14T17:02:31.658171Z\", \"created_time\": \"2021-01-14T16:59:55.854134Z\", \"created_time_dt\": \"2021-01-14T16:59:55.854134Z\", \"duration\": \"0:02:35\", \"iteration\": \"3\", \"goal\": \"AUC_weighted_max\", \"run_name\": \"MaxAbsScaler, RandomForest\", \"run_properties\": \"copy=True\", \"primary_metric\": 0.66521756, \"best_metric\": 0.70644961}, {\"run_id\": \"AutoML_561039e3-793b-4189-957c-a065b584b04f_4\", \"run_number\": 9, \"metric\": null, \"status\": \"Completed\", \"run_type\": \"azureml.scriptrun\", \"training_percent\": \"100\", \"start_time\": \"2021-01-14T17:02:49.828078Z\", \"end_time\": \"2021-01-14T17:03:57.905184Z\", \"created_time\": \"2021-01-14T17:02:33.707304Z\", \"created_time_dt\": \"2021-01-14T17:02:33.707304Z\", \"duration\": \"0:01:24\", \"iteration\": \"4\", \"goal\": \"AUC_weighted_max\", \"run_name\": \"MaxAbsScaler, RandomForest\", \"run_properties\": \"copy=True\", \"primary_metric\": 0.65597795, \"best_metric\": 0.70644961}, {\"run_id\": \"AutoML_561039e3-793b-4189-957c-a065b584b04f_5\", \"run_number\": 10, \"metric\": null, \"status\": \"Completed\", \"run_type\": \"azureml.scriptrun\", \"training_percent\": \"100\", \"start_time\": \"2021-01-14T17:04:13.477969Z\", \"end_time\": \"2021-01-14T17:05:26.181772Z\", \"created_time\": \"2021-01-14T17:04:01.811676Z\", \"created_time_dt\": \"2021-01-14T17:04:01.811676Z\", \"duration\": \"0:01:24\", \"iteration\": \"5\", \"goal\": \"AUC_weighted_max\", \"run_name\": \"MaxAbsScaler, ExtremeRandomTrees\", \"run_properties\": \"copy=True\", \"primary_metric\": 0.66585387, \"best_metric\": 0.70644961}, {\"run_id\": \"AutoML_561039e3-793b-4189-957c-a065b584b04f_6\", \"run_number\": 11, \"metric\": null, \"status\": \"Completed\", \"run_type\": \"azureml.scriptrun\", \"training_percent\": \"100\", \"start_time\": \"2021-01-14T17:05:39.148444Z\", \"end_time\": \"2021-01-14T17:07:01.861118Z\", \"created_time\": \"2021-01-14T17:05:28.034614Z\", \"created_time_dt\": \"2021-01-14T17:05:28.034614Z\", \"duration\": \"0:01:33\", \"iteration\": \"6\", \"goal\": \"AUC_weighted_max\", \"run_name\": \"MaxAbsScaler, ExtremeRandomTrees\", \"run_properties\": \"copy=True\", \"primary_metric\": 0.67928091, \"best_metric\": 0.70644961}, {\"run_id\": \"AutoML_561039e3-793b-4189-957c-a065b584b04f_7\", \"run_number\": 12, \"metric\": null, \"status\": \"Completed\", \"run_type\": \"azureml.scriptrun\", \"training_percent\": \"100\", \"start_time\": \"2021-01-14T17:07:18.285582Z\", \"end_time\": \"2021-01-14T17:08:25.484875Z\", \"created_time\": \"2021-01-14T17:07:04.798936Z\", \"created_time_dt\": \"2021-01-14T17:07:04.798936Z\", \"duration\": \"0:01:20\", \"iteration\": \"7\", \"goal\": \"AUC_weighted_max\", \"run_name\": \"MaxAbsScaler, ExtremeRandomTrees\", \"run_properties\": \"copy=True\", \"primary_metric\": 0.66947885, \"best_metric\": 0.70644961}, {\"run_id\": \"AutoML_561039e3-793b-4189-957c-a065b584b04f_8\", \"run_number\": 13, \"metric\": null, \"status\": \"Completed\", \"run_type\": \"azureml.scriptrun\", \"training_percent\": \"100\", \"start_time\": \"2021-01-14T17:08:40.406192Z\", \"end_time\": \"2021-01-14T17:10:43.54985Z\", \"created_time\": \"2021-01-14T17:08:28.439759Z\", \"created_time_dt\": \"2021-01-14T17:08:28.439759Z\", \"duration\": \"0:02:15\", \"iteration\": \"8\", \"goal\": \"AUC_weighted_max\", \"run_name\": \"MaxAbsScaler, RandomForest\", \"run_properties\": \"copy=True\", \"primary_metric\": 0.66953343, \"best_metric\": 0.70644961}, {\"run_id\": \"AutoML_561039e3-793b-4189-957c-a065b584b04f_9\", \"run_number\": 14, \"metric\": null, \"status\": \"Completed\", \"run_type\": \"azureml.scriptrun\", \"training_percent\": \"100\", \"start_time\": \"2021-01-14T17:10:58.25538Z\", \"end_time\": \"2021-01-14T17:12:14.707539Z\", \"created_time\": \"2021-01-14T17:10:46.24919Z\", \"created_time_dt\": \"2021-01-14T17:10:46.24919Z\", \"duration\": \"0:01:28\", \"iteration\": \"9\", \"goal\": \"AUC_weighted_max\", \"run_name\": \"MaxAbsScaler, ExtremeRandomTrees\", \"run_properties\": \"copy=True\", \"primary_metric\": 0.67017985, \"best_metric\": 0.70644961}, {\"run_id\": \"AutoML_561039e3-793b-4189-957c-a065b584b04f_10\", \"run_number\": 15, \"metric\": null, \"status\": \"Completed\", \"run_type\": \"azureml.scriptrun\", \"training_percent\": \"100\", \"start_time\": \"2021-01-14T17:12:29.566019Z\", \"end_time\": \"2021-01-14T17:13:27.944631Z\", \"created_time\": \"2021-01-14T17:12:16.53151Z\", \"created_time_dt\": \"2021-01-14T17:12:16.53151Z\", \"duration\": \"0:01:11\", \"iteration\": \"10\", \"goal\": \"AUC_weighted_max\", \"run_name\": \"MaxAbsScaler, RandomForest\", \"run_properties\": \"copy=True\", \"primary_metric\": 0.65266785, \"best_metric\": 0.70644961}, {\"run_id\": \"AutoML_561039e3-793b-4189-957c-a065b584b04f_11\", \"run_number\": 16, \"metric\": null, \"status\": \"Completed\", \"run_type\": \"azureml.scriptrun\", \"training_percent\": \"100\", \"start_time\": \"2021-01-14T17:13:43.480806Z\", \"end_time\": \"2021-01-14T17:14:55.214467Z\", \"created_time\": \"2021-01-14T17:13:30.930018Z\", \"created_time_dt\": \"2021-01-14T17:13:30.930018Z\", \"duration\": \"0:01:24\", \"iteration\": \"11\", \"goal\": \"AUC_weighted_max\", \"run_name\": \"MaxAbsScaler, RandomForest\", \"run_properties\": \"copy=True\", \"primary_metric\": 0.66200329, \"best_metric\": 0.70644961}, {\"run_id\": \"AutoML_561039e3-793b-4189-957c-a065b584b04f_12\", \"run_number\": 17, \"metric\": null, \"status\": \"Completed\", \"run_type\": \"azureml.scriptrun\", \"training_percent\": \"100\", \"start_time\": \"2021-01-14T17:15:09.998619Z\", \"end_time\": \"2021-01-14T17:16:20.726343Z\", \"created_time\": \"2021-01-14T17:14:57.953551Z\", \"created_time_dt\": \"2021-01-14T17:14:57.953551Z\", \"duration\": \"0:01:22\", \"iteration\": \"12\", \"goal\": \"AUC_weighted_max\", \"run_name\": \"MaxAbsScaler, RandomForest\", \"run_properties\": \"copy=True\", \"primary_metric\": 0.66068475, \"best_metric\": 0.70644961}, {\"run_id\": \"AutoML_561039e3-793b-4189-957c-a065b584b04f_13\", \"run_number\": 18, \"metric\": null, \"status\": \"Completed\", \"run_type\": \"azureml.scriptrun\", \"training_percent\": \"100\", \"start_time\": \"2021-01-14T17:16:38.401392Z\", \"end_time\": \"2021-01-14T17:17:51.759626Z\", \"created_time\": \"2021-01-14T17:16:24.647204Z\", \"created_time_dt\": \"2021-01-14T17:16:24.647204Z\", \"duration\": \"0:01:27\", \"iteration\": \"13\", \"goal\": \"AUC_weighted_max\", \"run_name\": \"StandardScalerWrapper, XGBoostClassifier\", \"run_properties\": \"<azureml.automl.runtime.shared.model_wrappers.StandardScalerWrapper object at 0x7f8d647a6390\", \"primary_metric\": 0.68539715, \"best_metric\": 0.70644961}, {\"run_id\": \"AutoML_561039e3-793b-4189-957c-a065b584b04f_14\", \"run_number\": 19, \"metric\": null, \"status\": \"Completed\", \"run_type\": \"azureml.scriptrun\", \"training_percent\": \"100\", \"start_time\": \"2021-01-14T17:18:07.55865Z\", \"end_time\": \"2021-01-14T17:19:09.524569Z\", \"created_time\": \"2021-01-14T17:17:55.087908Z\", \"created_time_dt\": \"2021-01-14T17:17:55.087908Z\", \"duration\": \"0:01:14\", \"iteration\": \"14\", \"goal\": \"AUC_weighted_max\", \"run_name\": \"MaxAbsScaler, RandomForest\", \"run_properties\": \"copy=True\", \"primary_metric\": 0.65898363, \"best_metric\": 0.70644961}, {\"run_id\": \"AutoML_561039e3-793b-4189-957c-a065b584b04f_15\", \"run_number\": 20, \"metric\": null, \"status\": \"Completed\", \"run_type\": \"azureml.scriptrun\", \"training_percent\": \"100\", \"start_time\": \"2021-01-14T17:19:26.291855Z\", \"end_time\": \"2021-01-14T17:20:45.272919Z\", \"created_time\": \"2021-01-14T17:19:12.487697Z\", \"created_time_dt\": \"2021-01-14T17:19:12.487697Z\", \"duration\": \"0:01:32\", \"iteration\": \"15\", \"goal\": \"AUC_weighted_max\", \"run_name\": \"StandardScalerWrapper, ExtremeRandomTrees\", \"run_properties\": \"<azureml.automl.runtime.shared.model_wrappers.StandardScalerWrapper object at 0x7f92c9668dd8\", \"primary_metric\": 0.66550734, \"best_metric\": 0.70644961}, {\"run_id\": \"AutoML_561039e3-793b-4189-957c-a065b584b04f_16\", \"run_number\": 21, \"metric\": null, \"status\": \"Completed\", \"run_type\": \"azureml.scriptrun\", \"training_percent\": \"100\", \"start_time\": \"2021-01-14T17:21:01.543859Z\", \"end_time\": \"2021-01-14T17:22:19.393951Z\", \"created_time\": \"2021-01-14T17:20:48.38942Z\", \"created_time_dt\": \"2021-01-14T17:20:48.38942Z\", \"duration\": \"0:01:31\", \"iteration\": \"16\", \"goal\": \"AUC_weighted_max\", \"run_name\": \"MaxAbsScaler, ExtremeRandomTrees\", \"run_properties\": \"copy=True\", \"primary_metric\": 0.67035801, \"best_metric\": 0.70644961}, {\"run_id\": \"AutoML_561039e3-793b-4189-957c-a065b584b04f_17\", \"run_number\": 22, \"metric\": null, \"status\": \"Completed\", \"run_type\": \"azureml.scriptrun\", \"training_percent\": \"100\", \"start_time\": \"2021-01-14T17:22:37.456165Z\", \"end_time\": \"2021-01-14T17:23:45.017482Z\", \"created_time\": \"2021-01-14T17:22:22.373141Z\", \"created_time_dt\": \"2021-01-14T17:22:22.373141Z\", \"duration\": \"0:01:22\", \"iteration\": \"17\", \"goal\": \"AUC_weighted_max\", \"run_name\": \"MaxAbsScaler, ExtremeRandomTrees\", \"run_properties\": \"copy=True\", \"primary_metric\": 0.66092817, \"best_metric\": 0.70644961}, {\"run_id\": \"AutoML_561039e3-793b-4189-957c-a065b584b04f_18\", \"run_number\": 23, \"metric\": null, \"status\": \"Completed\", \"run_type\": \"azureml.scriptrun\", \"training_percent\": \"100\", \"start_time\": \"2021-01-14T17:24:00.948756Z\", \"end_time\": \"2021-01-14T17:25:04.698428Z\", \"created_time\": \"2021-01-14T17:23:48.937926Z\", \"created_time_dt\": \"2021-01-14T17:23:48.937926Z\", \"duration\": \"0:01:15\", \"iteration\": \"18\", \"goal\": \"AUC_weighted_max\", \"run_name\": \"MaxAbsScaler, RandomForest\", \"run_properties\": \"copy=True\", \"primary_metric\": 0.65455589, \"best_metric\": 0.70644961}, {\"run_id\": \"AutoML_561039e3-793b-4189-957c-a065b584b04f_19\", \"run_number\": 24, \"metric\": null, \"status\": \"Completed\", \"run_type\": \"azureml.scriptrun\", \"training_percent\": \"100\", \"start_time\": \"2021-01-14T17:25:23.813075Z\", \"end_time\": \"2021-01-14T17:26:47.708838Z\", \"created_time\": \"2021-01-14T17:25:07.610419Z\", \"created_time_dt\": \"2021-01-14T17:25:07.610419Z\", \"duration\": \"0:01:40\", \"iteration\": \"19\", \"goal\": \"AUC_weighted_max\", \"run_name\": \"MaxAbsScaler, LightGBM\", \"run_properties\": \"copy=True\", \"primary_metric\": 0.70815665, \"best_metric\": 0.70815665}, {\"run_id\": \"AutoML_561039e3-793b-4189-957c-a065b584b04f_20\", \"run_number\": 25, \"metric\": null, \"status\": \"Completed\", \"run_type\": \"azureml.scriptrun\", \"training_percent\": \"100\", \"start_time\": \"2021-01-14T17:27:02.699994Z\", \"end_time\": \"2021-01-14T17:28:27.275818Z\", \"created_time\": \"2021-01-14T17:26:50.585824Z\", \"created_time_dt\": \"2021-01-14T17:26:50.585824Z\", \"duration\": \"0:01:36\", \"iteration\": \"20\", \"goal\": \"AUC_weighted_max\", \"run_name\": \"StandardScalerWrapper, XGBoostClassifier\", \"run_properties\": \"<azureml.automl.runtime.shared.model_wrappers.StandardScalerWrapper object at 0x7f63dd310cc0\", \"primary_metric\": 0.70310005, \"best_metric\": 0.70815665}, {\"run_id\": \"AutoML_561039e3-793b-4189-957c-a065b584b04f_21\", \"run_number\": 26, \"metric\": null, \"status\": \"Completed\", \"run_type\": \"azureml.scriptrun\", \"training_percent\": \"100\", \"start_time\": \"2021-01-14T17:28:43.074273Z\", \"end_time\": \"2021-01-14T17:31:45.280413Z\", \"created_time\": \"2021-01-14T17:28:30.033888Z\", \"created_time_dt\": \"2021-01-14T17:28:30.033888Z\", \"duration\": \"0:03:15\", \"iteration\": \"21\", \"goal\": \"AUC_weighted_max\", \"run_name\": \"StandardScalerWrapper, XGBoostClassifier\", \"run_properties\": \"<azureml.automl.runtime.shared.model_wrappers.StandardScalerWrapper object at 0x7ff7a1499630\", \"primary_metric\": 0.68997584, \"best_metric\": 0.70815665}, {\"run_id\": \"AutoML_561039e3-793b-4189-957c-a065b584b04f_22\", \"run_number\": 27, \"metric\": null, \"status\": \"Completed\", \"run_type\": \"azureml.scriptrun\", \"training_percent\": \"100\", \"start_time\": \"2021-01-14T17:32:00.670167Z\", \"end_time\": \"2021-01-14T17:33:23.512662Z\", \"created_time\": \"2021-01-14T17:31:47.810948Z\", \"created_time_dt\": \"2021-01-14T17:31:47.810948Z\", \"duration\": \"0:01:35\", \"iteration\": \"22\", \"goal\": \"AUC_weighted_max\", \"run_name\": \"StandardScalerWrapper, LogisticRegression\", \"run_properties\": \"<azureml.automl.runtime.shared.model_wrappers.StandardScalerWrapper object at 0x7f04de6a1748\", \"primary_metric\": 0.69901382, \"best_metric\": 0.70815665}, {\"run_id\": \"AutoML_561039e3-793b-4189-957c-a065b584b04f_23\", \"run_number\": 28, \"metric\": null, \"status\": \"Completed\", \"run_type\": \"azureml.scriptrun\", \"training_percent\": \"100\", \"start_time\": \"2021-01-14T17:33:36.973519Z\", \"end_time\": \"2021-01-14T17:37:09.934238Z\", \"created_time\": \"2021-01-14T17:33:25.882641Z\", \"created_time_dt\": \"2021-01-14T17:33:25.882641Z\", \"duration\": \"0:03:44\", \"iteration\": \"23\", \"goal\": \"AUC_weighted_max\", \"run_name\": \"StandardScalerWrapper, LogisticRegression\", \"run_properties\": \"<azureml.automl.runtime.shared.model_wrappers.StandardScalerWrapper object at 0x7f3124af1da0\", \"primary_metric\": 0.70001685, \"best_metric\": 0.70815665}, {\"run_id\": \"AutoML_561039e3-793b-4189-957c-a065b584b04f_24\", \"run_number\": 29, \"metric\": null, \"status\": \"Completed\", \"run_type\": \"azureml.scriptrun\", \"training_percent\": \"100\", \"start_time\": \"2021-01-14T17:37:24.430059Z\", \"end_time\": \"2021-01-14T17:38:29.335Z\", \"created_time\": \"2021-01-14T17:37:12.300424Z\", \"created_time_dt\": \"2021-01-14T17:37:12.300424Z\", \"duration\": \"0:01:17\", \"iteration\": \"24\", \"goal\": \"AUC_weighted_max\", \"run_name\": \"SparseNormalizer, LightGBM\", \"run_properties\": \"<azureml.automl.runtime.shared.model_wrappers.SparseNormalizer object at 0x7f3c15518160\", \"primary_metric\": 0.68512441, \"best_metric\": 0.70815665}, {\"run_id\": \"AutoML_561039e3-793b-4189-957c-a065b584b04f_25\", \"run_number\": 30, \"metric\": null, \"status\": \"Completed\", \"run_type\": \"azureml.scriptrun\", \"training_percent\": \"100\", \"start_time\": \"2021-01-14T17:38:45.351253Z\", \"end_time\": \"2021-01-14T17:40:00.266405Z\", \"created_time\": \"2021-01-14T17:38:32.246603Z\", \"created_time_dt\": \"2021-01-14T17:38:32.246603Z\", \"duration\": \"0:01:28\", \"iteration\": \"25\", \"goal\": \"AUC_weighted_max\", \"run_name\": \"StandardScalerWrapper, LightGBM\", \"run_properties\": \"<azureml.automl.runtime.shared.model_wrappers.StandardScalerWrapper object at 0x7f047787eb70\", \"primary_metric\": 0.65434034, \"best_metric\": 0.70815665}, {\"run_id\": \"AutoML_561039e3-793b-4189-957c-a065b584b04f_26\", \"run_number\": 31, \"metric\": null, \"status\": \"Completed\", \"run_type\": \"azureml.scriptrun\", \"training_percent\": \"100\", \"start_time\": \"2021-01-14T17:40:13.959537Z\", \"end_time\": \"2021-01-14T17:42:17.577981Z\", \"created_time\": \"2021-01-14T17:40:02.66072Z\", \"created_time_dt\": \"2021-01-14T17:40:02.66072Z\", \"duration\": \"0:02:14\", \"iteration\": \"26\", \"goal\": \"AUC_weighted_max\", \"run_name\": \"TruncatedSVDWrapper, XGBoostClassifier\", \"run_properties\": \"n_components=0.8510526315789474, random_state=None\", \"primary_metric\": 0.67079458, \"best_metric\": 0.70815665}, {\"run_id\": \"AutoML_561039e3-793b-4189-957c-a065b584b04f_27\", \"run_number\": 32, \"metric\": null, \"status\": \"Completed\", \"run_type\": \"azureml.scriptrun\", \"training_percent\": \"100\", \"start_time\": \"2021-01-14T17:42:40.152648Z\", \"end_time\": \"2021-01-14T17:43:51.992041Z\", \"created_time\": \"2021-01-14T17:42:28.505086Z\", \"created_time_dt\": \"2021-01-14T17:42:28.505086Z\", \"duration\": \"0:01:23\", \"iteration\": \"27\", \"goal\": \"AUC_weighted_max\", \"run_name\": \"StandardScalerWrapper, LightGBM\", \"run_properties\": \"<azureml.automl.runtime.shared.model_wrappers.StandardScalerWrapper object at 0x7f773137e080\", \"primary_metric\": 0.69776387, \"best_metric\": 0.70815665}, {\"run_id\": \"AutoML_561039e3-793b-4189-957c-a065b584b04f_28\", \"run_number\": 33, \"metric\": null, \"status\": \"Failed\", \"run_type\": \"azureml.scriptrun\", \"training_percent\": \"100\", \"start_time\": \"2021-01-14T17:44:07.125649Z\", \"end_time\": \"2021-01-14T17:49:49.109812Z\", \"created_time\": \"2021-01-14T17:43:54.052516Z\", \"created_time_dt\": \"2021-01-14T17:43:54.052516Z\", \"duration\": \"0:05:55\", \"iteration\": \"28\", \"goal\": \"AUC_weighted_max\", \"run_name\": \"TruncatedSVDWrapper, XGBoostClassifier\", \"run_properties\": \"\"}, {\"run_id\": \"AutoML_561039e3-793b-4189-957c-a065b584b04f_29\", \"run_number\": 34, \"metric\": null, \"status\": \"Completed\", \"run_type\": \"azureml.scriptrun\", \"training_percent\": \"100\", \"start_time\": \"2021-01-14T17:50:04.278456Z\", \"end_time\": \"2021-01-14T17:52:24.399171Z\", \"created_time\": \"2021-01-14T17:49:52.303753Z\", \"created_time_dt\": \"2021-01-14T17:49:52.303753Z\", \"duration\": \"0:02:32\", \"iteration\": \"29\", \"goal\": \"AUC_weighted_max\", \"run_name\": \"SparseNormalizer, XGBoostClassifier\", \"run_properties\": \"<azureml.automl.runtime.shared.model_wrappers.SparseNormalizer object at 0x7f4ddec29710\", \"primary_metric\": 0.68135766, \"best_metric\": 0.70815665}, {\"run_id\": \"AutoML_561039e3-793b-4189-957c-a065b584b04f_30\", \"run_number\": 35, \"metric\": null, \"status\": \"Completed\", \"run_type\": \"azureml.scriptrun\", \"training_percent\": \"100\", \"start_time\": \"2021-01-14T17:52:37.958977Z\", \"end_time\": \"2021-01-14T17:54:41.276288Z\", \"created_time\": \"2021-01-14T17:52:25.642434Z\", \"created_time_dt\": \"2021-01-14T17:52:25.642434Z\", \"duration\": \"0:02:15\", \"iteration\": \"30\", \"goal\": \"AUC_weighted_max\", \"run_name\": \"VotingEnsemble\", \"run_properties\": \"classification_labels=None,\\n                              estimators=[('19',\\n                                           Pipeline(memory=None,\\n                                                    steps=[('maxabsscaler',\\n                                                            MaxAbsScaler(copy=True\", \"primary_metric\": 0.71153801, \"best_metric\": 0.71153801}, {\"run_id\": \"AutoML_561039e3-793b-4189-957c-a065b584b04f_31\", \"run_number\": 36, \"metric\": null, \"status\": \"Completed\", \"run_type\": \"azureml.scriptrun\", \"training_percent\": \"100\", \"start_time\": \"2021-01-14T17:55:00.895086Z\", \"end_time\": \"2021-01-14T17:57:30.728704Z\", \"created_time\": \"2021-01-14T17:54:47.953387Z\", \"created_time_dt\": \"2021-01-14T17:54:47.953387Z\", \"duration\": \"0:02:42\", \"iteration\": \"31\", \"goal\": \"AUC_weighted_max\", \"run_name\": \"StackEnsemble\", \"run_properties\": \"base_learners=[('19',\\n                                        Pipeline(memory=None,\\n                                                 steps=[('maxabsscaler',\\n                                                         MaxAbsScaler(copy=True\", \"primary_metric\": 0.71168752, \"best_metric\": 0.71168752}], \"children_metrics\": {\"categories\": [0], \"series\": {\"average_precision_score_weighted\": [{\"categories\": [\"0\", \"1\", \"2\", \"3\", \"4\", \"5\", \"6\", \"7\", \"8\", \"9\", \"10\", \"11\", \"12\", \"13\", \"14\", \"15\", \"16\", \"17\", \"18\", \"19\", \"20\", \"21\", \"22\", \"23\", \"24\", \"25\", \"26\", \"27\", \"29\", \"30\", \"31\"], \"mode\": \"markers\", \"name\": \"average_precision_score_weighted\", \"stepped\": false, \"type\": \"scatter\", \"data\": [0.6926415860388901, 0.6870756955615359, 0.6550113692750836, 0.6497936635242163, 0.6377530708699602, 0.6492078332546113, 0.6666425979493137, 0.6530526167465573, 0.65346890580694, 0.6547793702297016, 0.6318307896987483, 0.6434497708420434, 0.6442242234550728, 0.6714747045765137, 0.641511014657807, 0.6504323004278101, 0.6555267189815276, 0.6463138219877858, 0.6369539734603635, 0.6935774159739005, 0.6887778580908462, 0.6746543003202723, 0.6836514823211797, 0.6863879821911001, 0.6714457789513777, 0.6397206755131705, 0.657927543614431, 0.6834331389325113, 0.666634618439266, 0.6978308524904582, 0.6978490131751365]}, {\"categories\": [\"0\", \"1\", \"2\", \"3\", \"4\", \"5\", \"6\", \"7\", \"8\", \"9\", \"10\", \"11\", \"12\", \"13\", \"14\", \"15\", \"16\", \"17\", \"18\", \"19\", \"20\", \"21\", \"22\", \"23\", \"24\", \"25\", \"26\", \"27\", \"29\", \"30\", \"31\"], \"mode\": \"lines\", \"name\": \"average_precision_score_weighted_max\", \"stepped\": true, \"type\": \"scatter\", \"data\": [0.6926415860388901, 0.6926415860388901, 0.6926415860388901, 0.6926415860388901, 0.6926415860388901, 0.6926415860388901, 0.6926415860388901, 0.6926415860388901, 0.6926415860388901, 0.6926415860388901, 0.6926415860388901, 0.6926415860388901, 0.6926415860388901, 0.6926415860388901, 0.6926415860388901, 0.6926415860388901, 0.6926415860388901, 0.6926415860388901, 0.6926415860388901, 0.6935774159739005, 0.6935774159739005, 0.6935774159739005, 0.6935774159739005, 0.6935774159739005, 0.6935774159739005, 0.6935774159739005, 0.6935774159739005, 0.6935774159739005, 0.6935774159739005, 0.6978308524904582, 0.6978490131751365]}], \"f1_score_macro\": [{\"categories\": [\"0\", \"1\", \"2\", \"3\", \"4\", \"5\", \"6\", \"7\", \"8\", \"9\", \"10\", \"11\", \"12\", \"13\", \"14\", \"15\", \"16\", \"17\", \"18\", \"19\", \"20\", \"21\", \"22\", \"23\", \"24\", \"25\", \"26\", \"27\", \"29\", \"30\", \"31\"], \"mode\": \"markers\", \"name\": \"f1_score_macro\", \"stepped\": false, \"type\": \"scatter\", \"data\": [0.6533844276591436, 0.6460468461326931, 0.6301502925415355, 0.6261030459902827, 0.6184149255410144, 0.6237730356425732, 0.6288733704424174, 0.6304365962307046, 0.6277041585339926, 0.6273640116979191, 0.6167992747511637, 0.623711944469866, 0.6221450100556101, 0.6337108369188885, 0.6188495255341783, 0.6178573399024127, 0.6253205877590441, 0.6207703716099446, 0.6157617119402594, 0.6548602528308749, 0.6511032237793378, 0.639808788724779, 0.6469328697828957, 0.6469049401775002, 0.6366524368309431, 0.6115449699171105, 0.6244734844767621, 0.6462576271340484, 0.6306511792858486, 0.6578896981746365, 0.6590722215047634]}, {\"categories\": [\"0\", \"1\", \"2\", \"3\", \"4\", \"5\", \"6\", \"7\", \"8\", \"9\", \"10\", \"11\", \"12\", \"13\", \"14\", \"15\", \"16\", \"17\", \"18\", \"19\", \"20\", \"21\", \"22\", \"23\", \"24\", \"25\", \"26\", \"27\", \"29\", \"30\", \"31\"], \"mode\": \"lines\", \"name\": \"f1_score_macro_max\", \"stepped\": true, \"type\": \"scatter\", \"data\": [0.6533844276591436, 0.6533844276591436, 0.6533844276591436, 0.6533844276591436, 0.6533844276591436, 0.6533844276591436, 0.6533844276591436, 0.6533844276591436, 0.6533844276591436, 0.6533844276591436, 0.6533844276591436, 0.6533844276591436, 0.6533844276591436, 0.6533844276591436, 0.6533844276591436, 0.6533844276591436, 0.6533844276591436, 0.6533844276591436, 0.6533844276591436, 0.6548602528308749, 0.6548602528308749, 0.6548602528308749, 0.6548602528308749, 0.6548602528308749, 0.6548602528308749, 0.6548602528308749, 0.6548602528308749, 0.6548602528308749, 0.6548602528308749, 0.6578896981746365, 0.6590722215047634]}], \"recall_score_macro\": [{\"categories\": [\"0\", \"1\", \"2\", \"3\", \"4\", \"5\", \"6\", \"7\", \"8\", \"9\", \"10\", \"11\", \"12\", \"13\", \"14\", \"15\", \"16\", \"17\", \"18\", \"19\", \"20\", \"21\", \"22\", \"23\", \"24\", \"25\", \"26\", \"27\", \"29\", \"30\", \"31\"], \"mode\": \"markers\", \"name\": \"recall_score_macro\", \"stepped\": false, \"type\": \"scatter\", \"data\": [0.6541764925060571, 0.6472405468088505, 0.6308984663199109, 0.6265863454796154, 0.6201138982824305, 0.6240301244953426, 0.6303111417813213, 0.6306549056025963, 0.6281872857164231, 0.6275682251208109, 0.6178693281779106, 0.624321955094086, 0.623172162625726, 0.6357552058984546, 0.6201950342785982, 0.6193037063661521, 0.6256491318320195, 0.620851084179491, 0.6176834186171284, 0.6553334318359016, 0.6522133482611302, 0.6399790354305792, 0.6470895983589695, 0.6470851468407669, 0.6376081342908941, 0.6135550342916906, 0.6252532018438448, 0.6469783278936163, 0.6323277393081861, 0.6584226973145852, 0.6595223332530941]}, {\"categories\": [\"0\", \"1\", \"2\", \"3\", \"4\", \"5\", \"6\", \"7\", \"8\", \"9\", \"10\", \"11\", \"12\", \"13\", \"14\", \"15\", \"16\", \"17\", \"18\", \"19\", \"20\", \"21\", \"22\", \"23\", \"24\", \"25\", \"26\", \"27\", \"29\", \"30\", \"31\"], \"mode\": \"lines\", \"name\": \"recall_score_macro_max\", \"stepped\": true, \"type\": \"scatter\", \"data\": [0.6541764925060571, 0.6541764925060571, 0.6541764925060571, 0.6541764925060571, 0.6541764925060571, 0.6541764925060571, 0.6541764925060571, 0.6541764925060571, 0.6541764925060571, 0.6541764925060571, 0.6541764925060571, 0.6541764925060571, 0.6541764925060571, 0.6541764925060571, 0.6541764925060571, 0.6541764925060571, 0.6541764925060571, 0.6541764925060571, 0.6541764925060571, 0.6553334318359016, 0.6553334318359016, 0.6553334318359016, 0.6553334318359016, 0.6553334318359016, 0.6553334318359016, 0.6553334318359016, 0.6553334318359016, 0.6553334318359016, 0.6553334318359016, 0.6584226973145852, 0.6595223332530941]}], \"log_loss\": [{\"categories\": [\"0\", \"1\", \"2\", \"3\", \"4\", \"5\", \"6\", \"7\", \"8\", \"9\", \"10\", \"11\", \"12\", \"13\", \"14\", \"15\", \"16\", \"17\", \"18\", \"19\", \"20\", \"21\", \"22\", \"23\", \"24\", \"25\", \"26\", \"27\", \"29\", \"30\", \"31\"], \"mode\": \"markers\", \"name\": \"log_loss\", \"stepped\": false, \"type\": \"scatter\", \"data\": [0.623944222857386, 0.628930558590594, 0.6529110181257757, 0.6621216915051171, 0.6618811142596489, 0.6496817835206512, 0.6434099094033605, 0.6582915077067665, 0.6553909583998747, 0.6558079003573043, 0.6652777585507833, 0.655929340574386, 0.6614356167064926, 0.6487777438581463, 0.6632122312564027, 0.6498217712426966, 0.6499765961482369, 0.6680912886527979, 0.6670241659890878, 0.6232521801556355, 0.6276484894316363, 0.6506354895683433, 0.6313677368202463, 0.628816978139922, 0.6415863525379139, 0.6606772954890137, 0.6579792183911638, 0.6298042665177329, 0.6510120468942217, 0.6210084559133326, 0.6206427320542491]}, {\"categories\": [\"0\", \"1\", \"2\", \"3\", \"4\", \"5\", \"6\", \"7\", \"8\", \"9\", \"10\", \"11\", \"12\", \"13\", \"14\", \"15\", \"16\", \"17\", \"18\", \"19\", \"20\", \"21\", \"22\", \"23\", \"24\", \"25\", \"26\", \"27\", \"29\", \"30\", \"31\"], \"mode\": \"lines\", \"name\": \"log_loss_min\", \"stepped\": true, \"type\": \"scatter\", \"data\": [0.623944222857386, 0.623944222857386, 0.623944222857386, 0.623944222857386, 0.623944222857386, 0.623944222857386, 0.623944222857386, 0.623944222857386, 0.623944222857386, 0.623944222857386, 0.623944222857386, 0.623944222857386, 0.623944222857386, 0.623944222857386, 0.623944222857386, 0.623944222857386, 0.623944222857386, 0.623944222857386, 0.623944222857386, 0.6232521801556355, 0.6232521801556355, 0.6232521801556355, 0.6232521801556355, 0.6232521801556355, 0.6232521801556355, 0.6232521801556355, 0.6232521801556355, 0.6232521801556355, 0.6232521801556355, 0.6210084559133326, 0.6206427320542491]}], \"matthews_correlation\": [{\"categories\": [\"0\", \"1\", \"2\", \"3\", \"4\", \"5\", \"6\", \"7\", \"8\", \"9\", \"10\", \"11\", \"12\", \"13\", \"14\", \"15\", \"16\", \"17\", \"18\", \"19\", \"20\", \"21\", \"22\", \"23\", \"24\", \"25\", \"26\", \"27\", \"29\", \"30\", \"31\"], \"mode\": \"markers\", \"name\": \"matthews_correlation\", \"stepped\": false, \"type\": \"scatter\", \"data\": [0.3098356031741142, 0.29659298729699907, 0.26287446392558733, 0.25392833930840575, 0.24254879939045076, 0.24841829441843233, 0.26277108212252226, 0.26156901338450506, 0.2571287319644855, 0.2554528037052971, 0.2371457059489499, 0.2494505264775074, 0.2477276297085035, 0.27475303871607093, 0.24204625312997624, 0.24056586716201006, 0.25179135515875223, 0.24181145101119195, 0.23781343211052683, 0.31155664649034753, 0.30648208175260827, 0.2802130690633266, 0.29446642469130235, 0.29450182734654223, 0.27675539592072496, 0.22958048525225516, 0.2516252701738499, 0.29521351502908655, 0.267221736678324, 0.3178947245187165, 0.31990361413233176]}, {\"categories\": [\"0\", \"1\", \"2\", \"3\", \"4\", \"5\", \"6\", \"7\", \"8\", \"9\", \"10\", \"11\", \"12\", \"13\", \"14\", \"15\", \"16\", \"17\", \"18\", \"19\", \"20\", \"21\", \"22\", \"23\", \"24\", \"25\", \"26\", \"27\", \"29\", \"30\", \"31\"], \"mode\": \"lines\", \"name\": \"matthews_correlation_max\", \"stepped\": true, \"type\": \"scatter\", \"data\": [0.3098356031741142, 0.3098356031741142, 0.3098356031741142, 0.3098356031741142, 0.3098356031741142, 0.3098356031741142, 0.3098356031741142, 0.3098356031741142, 0.3098356031741142, 0.3098356031741142, 0.3098356031741142, 0.3098356031741142, 0.3098356031741142, 0.3098356031741142, 0.3098356031741142, 0.3098356031741142, 0.3098356031741142, 0.3098356031741142, 0.3098356031741142, 0.31155664649034753, 0.31155664649034753, 0.31155664649034753, 0.31155664649034753, 0.31155664649034753, 0.31155664649034753, 0.31155664649034753, 0.31155664649034753, 0.31155664649034753, 0.31155664649034753, 0.3178947245187165, 0.31990361413233176]}], \"AUC_micro\": [{\"categories\": [\"0\", \"1\", \"2\", \"3\", \"4\", \"5\", \"6\", \"7\", \"8\", \"9\", \"10\", \"11\", \"12\", \"13\", \"14\", \"15\", \"16\", \"17\", \"18\", \"19\", \"20\", \"21\", \"22\", \"23\", \"24\", \"25\", \"26\", \"27\", \"29\", \"30\", \"31\"], \"mode\": \"markers\", \"name\": \"AUC_micro\", \"stepped\": false, \"type\": \"scatter\", \"data\": [0.7082479823410736, 0.7011147579196796, 0.6721257234723729, 0.6660159548096785, 0.6555631989316579, 0.6663510981602891, 0.6804341655011767, 0.6702704147350822, 0.6701616416253704, 0.6713258662895373, 0.6525303811420127, 0.6616726764261264, 0.6609022021231175, 0.6872108851487864, 0.6592721030058686, 0.6660581171720917, 0.6706409911603114, 0.6608279631577313, 0.6541498245086477, 0.7098979872202794, 0.7048462170616409, 0.6910248067866982, 0.6999456593633346, 0.7010251212273857, 0.6864724594855937, 0.6540802071262746, 0.6720510544150854, 0.69945686790549, 0.6826087912165977, 0.7132067541066014, 0.7132836521997039]}, {\"categories\": [\"0\", \"1\", \"2\", \"3\", \"4\", \"5\", \"6\", \"7\", \"8\", \"9\", \"10\", \"11\", \"12\", \"13\", \"14\", \"15\", \"16\", \"17\", \"18\", \"19\", \"20\", \"21\", \"22\", \"23\", \"24\", \"25\", \"26\", \"27\", \"29\", \"30\", \"31\"], \"mode\": \"lines\", \"name\": \"AUC_micro_max\", \"stepped\": true, \"type\": \"scatter\", \"data\": [0.7082479823410736, 0.7082479823410736, 0.7082479823410736, 0.7082479823410736, 0.7082479823410736, 0.7082479823410736, 0.7082479823410736, 0.7082479823410736, 0.7082479823410736, 0.7082479823410736, 0.7082479823410736, 0.7082479823410736, 0.7082479823410736, 0.7082479823410736, 0.7082479823410736, 0.7082479823410736, 0.7082479823410736, 0.7082479823410736, 0.7082479823410736, 0.7098979872202794, 0.7098979872202794, 0.7098979872202794, 0.7098979872202794, 0.7098979872202794, 0.7098979872202794, 0.7098979872202794, 0.7098979872202794, 0.7098979872202794, 0.7098979872202794, 0.7132067541066014, 0.7132836521997039]}], \"f1_score_weighted\": [{\"categories\": [\"0\", \"1\", \"2\", \"3\", \"4\", \"5\", \"6\", \"7\", \"8\", \"9\", \"10\", \"11\", \"12\", \"13\", \"14\", \"15\", \"16\", \"17\", \"18\", \"19\", \"20\", \"21\", \"22\", \"23\", \"24\", \"25\", \"26\", \"27\", \"29\", \"30\", \"31\"], \"mode\": \"markers\", \"name\": \"f1_score_weighted\", \"stepped\": false, \"type\": \"scatter\", \"data\": [0.6534366900497821, 0.6461159213807595, 0.6301757003686197, 0.6261809758352349, 0.6185609636981099, 0.6238181406837746, 0.6289560410680777, 0.6304514674651449, 0.6277750428610036, 0.6274153714626176, 0.616881263136611, 0.6237430731917358, 0.6221970912477205, 0.6338073374701784, 0.6188584985818267, 0.6179620739163851, 0.6253802812748497, 0.620807275472828, 0.6158587503678836, 0.6549046142327996, 0.6511677890567678, 0.6398401599358092, 0.6469757673488818, 0.6469493894169205, 0.6367151427032586, 0.6116440581951668, 0.6245411325196246, 0.6463075557727508, 0.6307394523666341, 0.657940777713262, 0.659109932079674]}, {\"categories\": [\"0\", \"1\", \"2\", \"3\", \"4\", \"5\", \"6\", \"7\", \"8\", \"9\", \"10\", \"11\", \"12\", \"13\", \"14\", \"15\", \"16\", \"17\", \"18\", \"19\", \"20\", \"21\", \"22\", \"23\", \"24\", \"25\", \"26\", \"27\", \"29\", \"30\", \"31\"], \"mode\": \"lines\", \"name\": \"f1_score_weighted_max\", \"stepped\": true, \"type\": \"scatter\", \"data\": [0.6534366900497821, 0.6534366900497821, 0.6534366900497821, 0.6534366900497821, 0.6534366900497821, 0.6534366900497821, 0.6534366900497821, 0.6534366900497821, 0.6534366900497821, 0.6534366900497821, 0.6534366900497821, 0.6534366900497821, 0.6534366900497821, 0.6534366900497821, 0.6534366900497821, 0.6534366900497821, 0.6534366900497821, 0.6534366900497821, 0.6534366900497821, 0.6549046142327996, 0.6549046142327996, 0.6549046142327996, 0.6549046142327996, 0.6549046142327996, 0.6549046142327996, 0.6549046142327996, 0.6549046142327996, 0.6549046142327996, 0.6549046142327996, 0.657940777713262, 0.659109932079674]}], \"precision_score_macro\": [{\"categories\": [\"0\", \"1\", \"2\", \"3\", \"4\", \"5\", \"6\", \"7\", \"8\", \"9\", \"10\", \"11\", \"12\", \"13\", \"14\", \"15\", \"16\", \"17\", \"18\", \"19\", \"20\", \"21\", \"22\", \"23\", \"24\", \"25\", \"26\", \"27\", \"29\", \"30\", \"31\"], \"mode\": \"markers\", \"name\": \"precision_score_macro\", \"stepped\": false, \"type\": \"scatter\", \"data\": [0.655662925057592, 0.6493601119999688, 0.631980345711872, 0.6273433727576335, 0.6224522392916078, 0.6243884460001743, 0.6324692613721516, 0.6309143672333282, 0.6289428570518465, 0.627884889836617, 0.6192831538837578, 0.6251302923028884, 0.6245594871810974, 0.6390177240779419, 0.6218595872735694, 0.6212706248021128, 0.6261428255694209, 0.6209604163028201, 0.6201460980224514, 0.6562245768155861, 0.6542759035115295, 0.6402341636075548, 0.647376979503651, 0.6474168777111903, 0.6391517041477939, 0.6160399234182864, 0.6263746075026784, 0.6482379167009711, 0.6349067277857019, 0.6594738559126999, 0.6603825795988592]}, {\"categories\": [\"0\", \"1\", \"2\", \"3\", \"4\", \"5\", \"6\", \"7\", \"8\", \"9\", \"10\", \"11\", \"12\", \"13\", \"14\", \"15\", \"16\", \"17\", \"18\", \"19\", \"20\", \"21\", \"22\", \"23\", \"24\", \"25\", \"26\", \"27\", \"29\", \"30\", \"31\"], \"mode\": \"lines\", \"name\": \"precision_score_macro_max\", \"stepped\": true, \"type\": \"scatter\", \"data\": [0.655662925057592, 0.655662925057592, 0.655662925057592, 0.655662925057592, 0.655662925057592, 0.655662925057592, 0.655662925057592, 0.655662925057592, 0.655662925057592, 0.655662925057592, 0.655662925057592, 0.655662925057592, 0.655662925057592, 0.655662925057592, 0.655662925057592, 0.655662925057592, 0.655662925057592, 0.655662925057592, 0.655662925057592, 0.6562245768155861, 0.6562245768155861, 0.6562245768155861, 0.6562245768155861, 0.6562245768155861, 0.6562245768155861, 0.6562245768155861, 0.6562245768155861, 0.6562245768155861, 0.6562245768155861, 0.6594738559126999, 0.6603825795988592]}], \"f1_score_micro\": [{\"categories\": [\"0\", \"1\", \"2\", \"3\", \"4\", \"5\", \"6\", \"7\", \"8\", \"9\", \"10\", \"11\", \"12\", \"13\", \"14\", \"15\", \"16\", \"17\", \"18\", \"19\", \"20\", \"21\", \"22\", \"23\", \"24\", \"25\", \"26\", \"27\", \"29\", \"30\", \"31\"], \"mode\": \"markers\", \"name\": \"f1_score_micro\", \"stepped\": false, \"type\": \"scatter\", \"data\": [0.6542623046146081, 0.6473726424218494, 0.63090335719591, 0.6267336695841618, 0.620426912292437, 0.6240884010304778, 0.6304699101362295, 0.6306342855079743, 0.6283177822155142, 0.6276452716247433, 0.6180207619905346, 0.6243424301121574, 0.623251412327073, 0.6359546621431194, 0.6201579109596755, 0.619515205277469, 0.6257472520748717, 0.6208900715705317, 0.6178712159260261, 0.6553981017928363, 0.6523343941665153, 0.6400047314412907, 0.6471484819034152, 0.647148483020164, 0.6377182005697138, 0.6137465399911708, 0.6253735789943929, 0.6470587567215575, 0.6325024465453393, 0.658506687086195, 0.6595677693031062]}, {\"categories\": [\"0\", \"1\", \"2\", \"3\", \"4\", \"5\", \"6\", \"7\", \"8\", \"9\", \"10\", \"11\", \"12\", \"13\", \"14\", \"15\", \"16\", \"17\", \"18\", \"19\", \"20\", \"21\", \"22\", \"23\", \"24\", \"25\", \"26\", \"27\", \"29\", \"30\", \"31\"], \"mode\": \"lines\", \"name\": \"f1_score_micro_max\", \"stepped\": true, \"type\": \"scatter\", \"data\": [0.6542623046146081, 0.6542623046146081, 0.6542623046146081, 0.6542623046146081, 0.6542623046146081, 0.6542623046146081, 0.6542623046146081, 0.6542623046146081, 0.6542623046146081, 0.6542623046146081, 0.6542623046146081, 0.6542623046146081, 0.6542623046146081, 0.6542623046146081, 0.6542623046146081, 0.6542623046146081, 0.6542623046146081, 0.6542623046146081, 0.6542623046146081, 0.6553981017928363, 0.6553981017928363, 0.6553981017928363, 0.6553981017928363, 0.6553981017928363, 0.6553981017928363, 0.6553981017928363, 0.6553981017928363, 0.6553981017928363, 0.6553981017928363, 0.658506687086195, 0.6595677693031062]}], \"recall_score_micro\": [{\"categories\": [\"0\", \"1\", \"2\", \"3\", \"4\", \"5\", \"6\", \"7\", \"8\", \"9\", \"10\", \"11\", \"12\", \"13\", \"14\", \"15\", \"16\", \"17\", \"18\", \"19\", \"20\", \"21\", \"22\", \"23\", \"24\", \"25\", \"26\", \"27\", \"29\", \"30\", \"31\"], \"mode\": \"markers\", \"name\": \"recall_score_micro\", \"stepped\": false, \"type\": \"scatter\", \"data\": [0.6542623046146081, 0.6473726424218494, 0.63090335719591, 0.6267336695841618, 0.620426912292437, 0.6240884010304778, 0.6304699101362295, 0.6306342855079743, 0.6283177822155142, 0.6276452716247433, 0.6180207619905346, 0.6243424301121574, 0.623251412327073, 0.6359546621431194, 0.6201579109596755, 0.619515205277469, 0.6257472520748717, 0.6208900715705317, 0.6178712159260261, 0.6553981017928363, 0.6523343941665153, 0.6400047314412907, 0.6471484819034152, 0.647148483020164, 0.6377182005697138, 0.6137465399911708, 0.6253735789943929, 0.6470587567215575, 0.6325024465453393, 0.658506687086195, 0.6595677693031062]}, {\"categories\": [\"0\", \"1\", \"2\", \"3\", \"4\", \"5\", \"6\", \"7\", \"8\", \"9\", \"10\", \"11\", \"12\", \"13\", \"14\", \"15\", \"16\", \"17\", \"18\", \"19\", \"20\", \"21\", \"22\", \"23\", \"24\", \"25\", \"26\", \"27\", \"29\", \"30\", \"31\"], \"mode\": \"lines\", \"name\": \"recall_score_micro_max\", \"stepped\": true, \"type\": \"scatter\", \"data\": [0.6542623046146081, 0.6542623046146081, 0.6542623046146081, 0.6542623046146081, 0.6542623046146081, 0.6542623046146081, 0.6542623046146081, 0.6542623046146081, 0.6542623046146081, 0.6542623046146081, 0.6542623046146081, 0.6542623046146081, 0.6542623046146081, 0.6542623046146081, 0.6542623046146081, 0.6542623046146081, 0.6542623046146081, 0.6542623046146081, 0.6542623046146081, 0.6553981017928363, 0.6553981017928363, 0.6553981017928363, 0.6553981017928363, 0.6553981017928363, 0.6553981017928363, 0.6553981017928363, 0.6553981017928363, 0.6553981017928363, 0.6553981017928363, 0.658506687086195, 0.6595677693031062]}], \"norm_macro_recall\": [{\"categories\": [\"0\", \"1\", \"2\", \"3\", \"4\", \"5\", \"6\", \"7\", \"8\", \"9\", \"10\", \"11\", \"12\", \"13\", \"14\", \"15\", \"16\", \"17\", \"18\", \"19\", \"20\", \"21\", \"22\", \"23\", \"24\", \"25\", \"26\", \"27\", \"29\", \"30\", \"31\"], \"mode\": \"markers\", \"name\": \"norm_macro_recall\", \"stepped\": false, \"type\": \"scatter\", \"data\": [0.30835298501211433, 0.29448109361770103, 0.2617969326398217, 0.25317269095923084, 0.24022779656486098, 0.24806024899068513, 0.26062228356264255, 0.26130981120519253, 0.25637457143284614, 0.25513645024162185, 0.23573865635582142, 0.2486439101881718, 0.24634432525145197, 0.27151041179690916, 0.2403900685571967, 0.2386074127323042, 0.251298263664039, 0.24170216835898187, 0.235366837234257, 0.3106668636718034, 0.3044266965222606, 0.2799580708611585, 0.2941791967179392, 0.2941702936815337, 0.27521626858178816, 0.22711006858338112, 0.25050640368768934, 0.2939566557872325, 0.2646554786163721, 0.3168453946291704, 0.31904466650618823]}, {\"categories\": [\"0\", \"1\", \"2\", \"3\", \"4\", \"5\", \"6\", \"7\", \"8\", \"9\", \"10\", \"11\", \"12\", \"13\", \"14\", \"15\", \"16\", \"17\", \"18\", \"19\", \"20\", \"21\", \"22\", \"23\", \"24\", \"25\", \"26\", \"27\", \"29\", \"30\", \"31\"], \"mode\": \"lines\", \"name\": \"norm_macro_recall_max\", \"stepped\": true, \"type\": \"scatter\", \"data\": [0.30835298501211433, 0.30835298501211433, 0.30835298501211433, 0.30835298501211433, 0.30835298501211433, 0.30835298501211433, 0.30835298501211433, 0.30835298501211433, 0.30835298501211433, 0.30835298501211433, 0.30835298501211433, 0.30835298501211433, 0.30835298501211433, 0.30835298501211433, 0.30835298501211433, 0.30835298501211433, 0.30835298501211433, 0.30835298501211433, 0.30835298501211433, 0.3106668636718034, 0.3106668636718034, 0.3106668636718034, 0.3106668636718034, 0.3106668636718034, 0.3106668636718034, 0.3106668636718034, 0.3106668636718034, 0.3106668636718034, 0.3106668636718034, 0.3168453946291704, 0.31904466650618823]}], \"accuracy\": [{\"categories\": [\"0\", \"1\", \"2\", \"3\", \"4\", \"5\", \"6\", \"7\", \"8\", \"9\", \"10\", \"11\", \"12\", \"13\", \"14\", \"15\", \"16\", \"17\", \"18\", \"19\", \"20\", \"21\", \"22\", \"23\", \"24\", \"25\", \"26\", \"27\", \"29\", \"30\", \"31\"], \"mode\": \"markers\", \"name\": \"accuracy\", \"stepped\": false, \"type\": \"scatter\", \"data\": [0.6542623046146081, 0.6473726424218494, 0.63090335719591, 0.6267336695841618, 0.620426912292437, 0.6240884010304778, 0.6304699101362295, 0.6306342855079743, 0.6283177822155142, 0.6276452716247433, 0.6180207619905346, 0.6243424301121574, 0.623251412327073, 0.6359546621431194, 0.6201579109596755, 0.619515205277469, 0.6257472520748717, 0.6208900715705317, 0.6178712159260261, 0.6553981017928363, 0.6523343941665153, 0.6400047314412907, 0.6471484819034152, 0.647148483020164, 0.6377182005697138, 0.6137465399911708, 0.6253735789943929, 0.6470587567215575, 0.6325024465453393, 0.658506687086195, 0.6595677693031062]}, {\"categories\": [\"0\", \"1\", \"2\", \"3\", \"4\", \"5\", \"6\", \"7\", \"8\", \"9\", \"10\", \"11\", \"12\", \"13\", \"14\", \"15\", \"16\", \"17\", \"18\", \"19\", \"20\", \"21\", \"22\", \"23\", \"24\", \"25\", \"26\", \"27\", \"29\", \"30\", \"31\"], \"mode\": \"lines\", \"name\": \"accuracy_max\", \"stepped\": true, \"type\": \"scatter\", \"data\": [0.6542623046146081, 0.6542623046146081, 0.6542623046146081, 0.6542623046146081, 0.6542623046146081, 0.6542623046146081, 0.6542623046146081, 0.6542623046146081, 0.6542623046146081, 0.6542623046146081, 0.6542623046146081, 0.6542623046146081, 0.6542623046146081, 0.6542623046146081, 0.6542623046146081, 0.6542623046146081, 0.6542623046146081, 0.6542623046146081, 0.6542623046146081, 0.6553981017928363, 0.6553981017928363, 0.6553981017928363, 0.6553981017928363, 0.6553981017928363, 0.6553981017928363, 0.6553981017928363, 0.6553981017928363, 0.6553981017928363, 0.6553981017928363, 0.658506687086195, 0.6595677693031062]}], \"average_precision_score_micro\": [{\"categories\": [\"0\", \"1\", \"2\", \"3\", \"4\", \"5\", \"6\", \"7\", \"8\", \"9\", \"10\", \"11\", \"12\", \"13\", \"14\", \"15\", \"16\", \"17\", \"18\", \"19\", \"20\", \"21\", \"22\", \"23\", \"24\", \"25\", \"26\", \"27\", \"29\", \"30\", \"31\"], \"mode\": \"markers\", \"name\": \"average_precision_score_micro\", \"stepped\": false, \"type\": \"scatter\", \"data\": [0.6961566092594211, 0.6904160140032081, 0.6572150521510639, 0.6515675037617055, 0.6378454935160123, 0.6529541428572833, 0.6693006249318806, 0.6542783787705065, 0.655425293589414, 0.6576783084011554, 0.632004302290919, 0.6444194111866917, 0.6450861245256478, 0.675178637472502, 0.6425503972099584, 0.6536845793186987, 0.6579885904542107, 0.6463748212212796, 0.6376688899123846, 0.6970665143300799, 0.6924595140018127, 0.677207057361147, 0.6853686221126696, 0.6885514991919262, 0.6743193483573354, 0.6405631914297963, 0.6604129538469059, 0.6869625589438345, 0.669712810276201, 0.7012227818827081, 0.7013047186462351]}, {\"categories\": [\"0\", \"1\", \"2\", \"3\", \"4\", \"5\", \"6\", \"7\", \"8\", \"9\", \"10\", \"11\", \"12\", \"13\", \"14\", \"15\", \"16\", \"17\", \"18\", \"19\", \"20\", \"21\", \"22\", \"23\", \"24\", \"25\", \"26\", \"27\", \"29\", \"30\", \"31\"], \"mode\": \"lines\", \"name\": \"average_precision_score_micro_max\", \"stepped\": true, \"type\": \"scatter\", \"data\": [0.6961566092594211, 0.6961566092594211, 0.6961566092594211, 0.6961566092594211, 0.6961566092594211, 0.6961566092594211, 0.6961566092594211, 0.6961566092594211, 0.6961566092594211, 0.6961566092594211, 0.6961566092594211, 0.6961566092594211, 0.6961566092594211, 0.6961566092594211, 0.6961566092594211, 0.6961566092594211, 0.6961566092594211, 0.6961566092594211, 0.6961566092594211, 0.6970665143300799, 0.6970665143300799, 0.6970665143300799, 0.6970665143300799, 0.6970665143300799, 0.6970665143300799, 0.6970665143300799, 0.6970665143300799, 0.6970665143300799, 0.6970665143300799, 0.7012227818827081, 0.7013047186462351]}], \"recall_score_weighted\": [{\"categories\": [\"0\", \"1\", \"2\", \"3\", \"4\", \"5\", \"6\", \"7\", \"8\", \"9\", \"10\", \"11\", \"12\", \"13\", \"14\", \"15\", \"16\", \"17\", \"18\", \"19\", \"20\", \"21\", \"22\", \"23\", \"24\", \"25\", \"26\", \"27\", \"29\", \"30\", \"31\"], \"mode\": \"markers\", \"name\": \"recall_score_weighted\", \"stepped\": false, \"type\": \"scatter\", \"data\": [0.6542623046146081, 0.6473726424218494, 0.63090335719591, 0.6267336695841618, 0.620426912292437, 0.6240884010304778, 0.6304699101362295, 0.6306342855079743, 0.6283177822155142, 0.6276452716247433, 0.6180207619905346, 0.6243424301121574, 0.623251412327073, 0.6359546621431194, 0.6201579109596755, 0.619515205277469, 0.6257472520748717, 0.6208900715705317, 0.6178712159260261, 0.6553981017928363, 0.6523343941665153, 0.6400047314412907, 0.6471484819034152, 0.647148483020164, 0.6377182005697138, 0.6137465399911708, 0.6253735789943929, 0.6470587567215575, 0.6325024465453393, 0.658506687086195, 0.6595677693031062]}, {\"categories\": [\"0\", \"1\", \"2\", \"3\", \"4\", \"5\", \"6\", \"7\", \"8\", \"9\", \"10\", \"11\", \"12\", \"13\", \"14\", \"15\", \"16\", \"17\", \"18\", \"19\", \"20\", \"21\", \"22\", \"23\", \"24\", \"25\", \"26\", \"27\", \"29\", \"30\", \"31\"], \"mode\": \"lines\", \"name\": \"recall_score_weighted_max\", \"stepped\": true, \"type\": \"scatter\", \"data\": [0.6542623046146081, 0.6542623046146081, 0.6542623046146081, 0.6542623046146081, 0.6542623046146081, 0.6542623046146081, 0.6542623046146081, 0.6542623046146081, 0.6542623046146081, 0.6542623046146081, 0.6542623046146081, 0.6542623046146081, 0.6542623046146081, 0.6542623046146081, 0.6542623046146081, 0.6542623046146081, 0.6542623046146081, 0.6542623046146081, 0.6542623046146081, 0.6553981017928363, 0.6553981017928363, 0.6553981017928363, 0.6553981017928363, 0.6553981017928363, 0.6553981017928363, 0.6553981017928363, 0.6553981017928363, 0.6553981017928363, 0.6553981017928363, 0.658506687086195, 0.6595677693031062]}], \"average_precision_score_macro\": [{\"categories\": [\"0\", \"1\", \"2\", \"3\", \"4\", \"5\", \"6\", \"7\", \"8\", \"9\", \"10\", \"11\", \"12\", \"13\", \"14\", \"15\", \"16\", \"17\", \"18\", \"19\", \"20\", \"21\", \"22\", \"23\", \"24\", \"25\", \"26\", \"27\", \"29\", \"30\", \"31\"], \"mode\": \"markers\", \"name\": \"average_precision_score_macro\", \"stepped\": false, \"type\": \"scatter\", \"data\": [0.6926617059645619, 0.6870923247613593, 0.6550034656386371, 0.6497687384379146, 0.637707953684978, 0.6491868282284994, 0.6666324728027094, 0.6530445366054825, 0.6534485545811306, 0.6547785292694368, 0.6317748643522618, 0.643419975615637, 0.6442019525958589, 0.6714756589217853, 0.6414715543729773, 0.6504201609686339, 0.6555101926196946, 0.6462894052826365, 0.6369193313308578, 0.6935919484434899, 0.6887869712766969, 0.674682466822327, 0.683661589239127, 0.68640530060452, 0.671439002135876, 0.639693696063214, 0.6579180483260988, 0.6834482610693339, 0.6666350814390393, 0.6978512050529168, 0.6978699923515956]}, {\"categories\": [\"0\", \"1\", \"2\", \"3\", \"4\", \"5\", \"6\", \"7\", \"8\", \"9\", \"10\", \"11\", \"12\", \"13\", \"14\", \"15\", \"16\", \"17\", \"18\", \"19\", \"20\", \"21\", \"22\", \"23\", \"24\", \"25\", \"26\", \"27\", \"29\", \"30\", \"31\"], \"mode\": \"lines\", \"name\": \"average_precision_score_macro_max\", \"stepped\": true, \"type\": \"scatter\", \"data\": [0.6926617059645619, 0.6926617059645619, 0.6926617059645619, 0.6926617059645619, 0.6926617059645619, 0.6926617059645619, 0.6926617059645619, 0.6926617059645619, 0.6926617059645619, 0.6926617059645619, 0.6926617059645619, 0.6926617059645619, 0.6926617059645619, 0.6926617059645619, 0.6926617059645619, 0.6926617059645619, 0.6926617059645619, 0.6926617059645619, 0.6926617059645619, 0.6935919484434899, 0.6935919484434899, 0.6935919484434899, 0.6935919484434899, 0.6935919484434899, 0.6935919484434899, 0.6935919484434899, 0.6935919484434899, 0.6935919484434899, 0.6935919484434899, 0.6978512050529168, 0.6978699923515956]}], \"precision_score_micro\": [{\"categories\": [\"0\", \"1\", \"2\", \"3\", \"4\", \"5\", \"6\", \"7\", \"8\", \"9\", \"10\", \"11\", \"12\", \"13\", \"14\", \"15\", \"16\", \"17\", \"18\", \"19\", \"20\", \"21\", \"22\", \"23\", \"24\", \"25\", \"26\", \"27\", \"29\", \"30\", \"31\"], \"mode\": \"markers\", \"name\": \"precision_score_micro\", \"stepped\": false, \"type\": \"scatter\", \"data\": [0.6542623046146081, 0.6473726424218494, 0.63090335719591, 0.6267336695841618, 0.620426912292437, 0.6240884010304778, 0.6304699101362295, 0.6306342855079743, 0.6283177822155142, 0.6276452716247433, 0.6180207619905346, 0.6243424301121574, 0.623251412327073, 0.6359546621431194, 0.6201579109596755, 0.619515205277469, 0.6257472520748717, 0.6208900715705317, 0.6178712159260261, 0.6553981017928363, 0.6523343941665153, 0.6400047314412907, 0.6471484819034152, 0.647148483020164, 0.6377182005697138, 0.6137465399911708, 0.6253735789943929, 0.6470587567215575, 0.6325024465453393, 0.658506687086195, 0.6595677693031062]}, {\"categories\": [\"0\", \"1\", \"2\", \"3\", \"4\", \"5\", \"6\", \"7\", \"8\", \"9\", \"10\", \"11\", \"12\", \"13\", \"14\", \"15\", \"16\", \"17\", \"18\", \"19\", \"20\", \"21\", \"22\", \"23\", \"24\", \"25\", \"26\", \"27\", \"29\", \"30\", \"31\"], \"mode\": \"lines\", \"name\": \"precision_score_micro_max\", \"stepped\": true, \"type\": \"scatter\", \"data\": [0.6542623046146081, 0.6542623046146081, 0.6542623046146081, 0.6542623046146081, 0.6542623046146081, 0.6542623046146081, 0.6542623046146081, 0.6542623046146081, 0.6542623046146081, 0.6542623046146081, 0.6542623046146081, 0.6542623046146081, 0.6542623046146081, 0.6542623046146081, 0.6542623046146081, 0.6542623046146081, 0.6542623046146081, 0.6542623046146081, 0.6542623046146081, 0.6553981017928363, 0.6553981017928363, 0.6553981017928363, 0.6553981017928363, 0.6553981017928363, 0.6553981017928363, 0.6553981017928363, 0.6553981017928363, 0.6553981017928363, 0.6553981017928363, 0.658506687086195, 0.6595677693031062]}], \"balanced_accuracy\": [{\"categories\": [\"0\", \"1\", \"2\", \"3\", \"4\", \"5\", \"6\", \"7\", \"8\", \"9\", \"10\", \"11\", \"12\", \"13\", \"14\", \"15\", \"16\", \"17\", \"18\", \"19\", \"20\", \"21\", \"22\", \"23\", \"24\", \"25\", \"26\", \"27\", \"29\", \"30\", \"31\"], \"mode\": \"markers\", \"name\": \"balanced_accuracy\", \"stepped\": false, \"type\": \"scatter\", \"data\": [0.6541764925060571, 0.6472405468088505, 0.6308984663199109, 0.6265863454796154, 0.6201138982824305, 0.6240301244953426, 0.6303111417813213, 0.6306549056025963, 0.6281872857164231, 0.6275682251208109, 0.6178693281779106, 0.624321955094086, 0.623172162625726, 0.6357552058984546, 0.6201950342785982, 0.6193037063661521, 0.6256491318320195, 0.620851084179491, 0.6176834186171284, 0.6553334318359016, 0.6522133482611302, 0.6399790354305792, 0.6470895983589695, 0.6470851468407669, 0.6376081342908941, 0.6135550342916906, 0.6252532018438448, 0.6469783278936163, 0.6323277393081861, 0.6584226973145852, 0.6595223332530941]}, {\"categories\": [\"0\", \"1\", \"2\", \"3\", \"4\", \"5\", \"6\", \"7\", \"8\", \"9\", \"10\", \"11\", \"12\", \"13\", \"14\", \"15\", \"16\", \"17\", \"18\", \"19\", \"20\", \"21\", \"22\", \"23\", \"24\", \"25\", \"26\", \"27\", \"29\", \"30\", \"31\"], \"mode\": \"lines\", \"name\": \"balanced_accuracy_max\", \"stepped\": true, \"type\": \"scatter\", \"data\": [0.6541764925060571, 0.6541764925060571, 0.6541764925060571, 0.6541764925060571, 0.6541764925060571, 0.6541764925060571, 0.6541764925060571, 0.6541764925060571, 0.6541764925060571, 0.6541764925060571, 0.6541764925060571, 0.6541764925060571, 0.6541764925060571, 0.6541764925060571, 0.6541764925060571, 0.6541764925060571, 0.6541764925060571, 0.6541764925060571, 0.6541764925060571, 0.6553334318359016, 0.6553334318359016, 0.6553334318359016, 0.6553334318359016, 0.6553334318359016, 0.6553334318359016, 0.6553334318359016, 0.6553334318359016, 0.6553334318359016, 0.6553334318359016, 0.6584226973145852, 0.6595223332530941]}], \"weighted_accuracy\": [{\"categories\": [\"0\", \"1\", \"2\", \"3\", \"4\", \"5\", \"6\", \"7\", \"8\", \"9\", \"10\", \"11\", \"12\", \"13\", \"14\", \"15\", \"16\", \"17\", \"18\", \"19\", \"20\", \"21\", \"22\", \"23\", \"24\", \"25\", \"26\", \"27\", \"29\", \"30\", \"31\"], \"mode\": \"markers\", \"name\": \"weighted_accuracy\", \"stepped\": false, \"type\": \"scatter\", \"data\": [0.654348084471372, 0.6475046931335353, 0.6309082275879966, 0.6268809529462651, 0.6207398295966395, 0.6241466601227129, 0.6306286324404725, 0.6306136615695844, 0.6284482392186163, 0.6277222898991213, 0.6181721460361685, 0.6243628822676206, 0.6233306312963249, 0.6361540563081153, 0.6201207699319053, 0.6197266420150237, 0.6258453442463209, 0.6209290408921626, 0.6180589664380586, 0.6554627455666406, 0.6524553973158076, 0.6400304153111548, 0.6472073448966906, 0.6472117977945621, 0.6378282296989835, 0.6139379789312169, 0.6254939197380044, 0.6471391569106831, 0.632677099893968, 0.6585906472385148, 0.6596131845912538]}, {\"categories\": [\"0\", \"1\", \"2\", \"3\", \"4\", \"5\", \"6\", \"7\", \"8\", \"9\", \"10\", \"11\", \"12\", \"13\", \"14\", \"15\", \"16\", \"17\", \"18\", \"19\", \"20\", \"21\", \"22\", \"23\", \"24\", \"25\", \"26\", \"27\", \"29\", \"30\", \"31\"], \"mode\": \"lines\", \"name\": \"weighted_accuracy_max\", \"stepped\": true, \"type\": \"scatter\", \"data\": [0.654348084471372, 0.654348084471372, 0.654348084471372, 0.654348084471372, 0.654348084471372, 0.654348084471372, 0.654348084471372, 0.654348084471372, 0.654348084471372, 0.654348084471372, 0.654348084471372, 0.654348084471372, 0.654348084471372, 0.654348084471372, 0.654348084471372, 0.654348084471372, 0.654348084471372, 0.654348084471372, 0.654348084471372, 0.6554627455666406, 0.6554627455666406, 0.6554627455666406, 0.6554627455666406, 0.6554627455666406, 0.6554627455666406, 0.6554627455666406, 0.6554627455666406, 0.6554627455666406, 0.6554627455666406, 0.6585906472385148, 0.6596131845912538]}], \"precision_score_weighted\": [{\"categories\": [\"0\", \"1\", \"2\", \"3\", \"4\", \"5\", \"6\", \"7\", \"8\", \"9\", \"10\", \"11\", \"12\", \"13\", \"14\", \"15\", \"16\", \"17\", \"18\", \"19\", \"20\", \"21\", \"22\", \"23\", \"24\", \"25\", \"26\", \"27\", \"29\", \"30\", \"31\"], \"mode\": \"markers\", \"name\": \"precision_score_weighted\", \"stepped\": false, \"type\": \"scatter\", \"data\": [0.6556816755969439, 0.6493656104562848, 0.6320273258080567, 0.627351277252149, 0.6224254192800958, 0.6244203601994066, 0.6324746588226623, 0.630964906074968, 0.6289535966896851, 0.62791041389505, 0.6192951661191077, 0.6251723255320302, 0.6245846062877168, 0.6390092268458916, 0.6219160654214837, 0.621266634723022, 0.6261638836304825, 0.6209951965192272, 0.6201498030826846, 0.6562486535659189, 0.654283628846768, 0.640271250833021, 0.6474038379639946, 0.6474423759048674, 0.6391667888301857, 0.6160446041298655, 0.6263890842292906, 0.6482573294441801, 0.6349071149799626, 0.6594919124487684, 0.6604127271479839]}, {\"categories\": [\"0\", \"1\", \"2\", \"3\", \"4\", \"5\", \"6\", \"7\", \"8\", \"9\", \"10\", \"11\", \"12\", \"13\", \"14\", \"15\", \"16\", \"17\", \"18\", \"19\", \"20\", \"21\", \"22\", \"23\", \"24\", \"25\", \"26\", \"27\", \"29\", \"30\", \"31\"], \"mode\": \"lines\", \"name\": \"precision_score_weighted_max\", \"stepped\": true, \"type\": \"scatter\", \"data\": [0.6556816755969439, 0.6556816755969439, 0.6556816755969439, 0.6556816755969439, 0.6556816755969439, 0.6556816755969439, 0.6556816755969439, 0.6556816755969439, 0.6556816755969439, 0.6556816755969439, 0.6556816755969439, 0.6556816755969439, 0.6556816755969439, 0.6556816755969439, 0.6556816755969439, 0.6556816755969439, 0.6556816755969439, 0.6556816755969439, 0.6556816755969439, 0.6562486535659189, 0.6562486535659189, 0.6562486535659189, 0.6562486535659189, 0.6562486535659189, 0.6562486535659189, 0.6562486535659189, 0.6562486535659189, 0.6562486535659189, 0.6562486535659189, 0.6594919124487684, 0.6604127271479839]}], \"AUC_weighted\": [{\"categories\": [\"0\", \"1\", \"2\", \"3\", \"4\", \"5\", \"6\", \"7\", \"8\", \"9\", \"10\", \"11\", \"12\", \"13\", \"14\", \"15\", \"16\", \"17\", \"18\", \"19\", \"20\", \"21\", \"22\", \"23\", \"24\", \"25\", \"26\", \"27\", \"29\", \"30\", \"31\"], \"mode\": \"markers\", \"name\": \"AUC_weighted\", \"stepped\": false, \"type\": \"scatter\", \"data\": [0.7064496050456763, 0.6994147152098772, 0.6711267052063538, 0.6652175616095009, 0.6559779471108921, 0.6658538656201557, 0.6792809128961116, 0.6694788453593458, 0.6695334316373305, 0.6701798505356894, 0.6526678469065674, 0.6620032909848244, 0.6606847477258325, 0.6853971519563118, 0.6589836289450182, 0.6655073444272456, 0.6703580133520198, 0.6609281666604347, 0.654555891454497, 0.7081566450266977, 0.7031000469586116, 0.6899758403795244, 0.6990138221902479, 0.7000168496247658, 0.6851244072435377, 0.6543403393263117, 0.6707945798252988, 0.6977638657116388, 0.6813576647166986, 0.7115380051470858, 0.7116875172797439]}, {\"categories\": [\"0\", \"1\", \"2\", \"3\", \"4\", \"5\", \"6\", \"7\", \"8\", \"9\", \"10\", \"11\", \"12\", \"13\", \"14\", \"15\", \"16\", \"17\", \"18\", \"19\", \"20\", \"21\", \"22\", \"23\", \"24\", \"25\", \"26\", \"27\", \"29\", \"30\", \"31\"], \"mode\": \"lines\", \"name\": \"AUC_weighted_max\", \"stepped\": true, \"type\": \"scatter\", \"data\": [0.7064496050456763, 0.7064496050456763, 0.7064496050456763, 0.7064496050456763, 0.7064496050456763, 0.7064496050456763, 0.7064496050456763, 0.7064496050456763, 0.7064496050456763, 0.7064496050456763, 0.7064496050456763, 0.7064496050456763, 0.7064496050456763, 0.7064496050456763, 0.7064496050456763, 0.7064496050456763, 0.7064496050456763, 0.7064496050456763, 0.7064496050456763, 0.7081566450266977, 0.7081566450266977, 0.7081566450266977, 0.7081566450266977, 0.7081566450266977, 0.7081566450266977, 0.7081566450266977, 0.7081566450266977, 0.7081566450266977, 0.7081566450266977, 0.7115380051470858, 0.7116875172797439]}], \"AUC_macro\": [{\"categories\": [\"0\", \"1\", \"2\", \"3\", \"4\", \"5\", \"6\", \"7\", \"8\", \"9\", \"10\", \"11\", \"12\", \"13\", \"14\", \"15\", \"16\", \"17\", \"18\", \"19\", \"20\", \"21\", \"22\", \"23\", \"24\", \"25\", \"26\", \"27\", \"29\", \"30\", \"31\"], \"mode\": \"markers\", \"name\": \"AUC_macro\", \"stepped\": false, \"type\": \"scatter\", \"data\": [0.7064496050456763, 0.6994147152017837, 0.6711267052063538, 0.6652175616095009, 0.6559779471108921, 0.6658538656201557, 0.6792809128961116, 0.6694788453593457, 0.6695334316373304, 0.6701798505356894, 0.6526678469065674, 0.6620032909848242, 0.6606847477258324, 0.6853971519447933, 0.658983628945018, 0.6655073444272456, 0.6703580133520198, 0.6609281666604347, 0.654555891454497, 0.7081566450266978, 0.7031000469402539, 0.6899758403339572, 0.6990138221902479, 0.7000168496247658, 0.6851244072435377, 0.654340339326312, 0.6707945798174517, 0.6977638657116387, 0.6813576646591064, 0.7115380051470858, 0.7116875172797439]}, {\"categories\": [\"0\", \"1\", \"2\", \"3\", \"4\", \"5\", \"6\", \"7\", \"8\", \"9\", \"10\", \"11\", \"12\", \"13\", \"14\", \"15\", \"16\", \"17\", \"18\", \"19\", \"20\", \"21\", \"22\", \"23\", \"24\", \"25\", \"26\", \"27\", \"29\", \"30\", \"31\"], \"mode\": \"lines\", \"name\": \"AUC_macro_max\", \"stepped\": true, \"type\": \"scatter\", \"data\": [0.7064496050456763, 0.7064496050456763, 0.7064496050456763, 0.7064496050456763, 0.7064496050456763, 0.7064496050456763, 0.7064496050456763, 0.7064496050456763, 0.7064496050456763, 0.7064496050456763, 0.7064496050456763, 0.7064496050456763, 0.7064496050456763, 0.7064496050456763, 0.7064496050456763, 0.7064496050456763, 0.7064496050456763, 0.7064496050456763, 0.7064496050456763, 0.7081566450266978, 0.7081566450266978, 0.7081566450266978, 0.7081566450266978, 0.7081566450266978, 0.7081566450266978, 0.7081566450266978, 0.7081566450266978, 0.7081566450266978, 0.7081566450266978, 0.7115380051470858, 0.7116875172797439]}]}, \"metricName\": null, \"primaryMetricName\": \"AUC_weighted\", \"showLegend\": false}, \"run_metrics\": [{\"name\": \"experiment_status\", \"run_id\": \"AutoML_561039e3-793b-4189-957c-a065b584b04f\", \"categories\": [0, 1, 2, 3, 4, 5], \"series\": [{\"data\": [\"DatasetEvaluation\", \"FeaturesGeneration\", \"DatasetFeaturization\", \"DatasetFeaturizationCompleted\", \"DatasetCrossValidationSplit\", \"ModelSelection\"]}]}, {\"name\": \"experiment_status_description\", \"run_id\": \"AutoML_561039e3-793b-4189-957c-a065b584b04f\", \"categories\": [0, 1, 2, 3, 4, 5], \"series\": [{\"data\": [\"Gathering dataset statistics.\", \"Generating features for the dataset.\", \"Beginning to fit featurizers and featurize the dataset.\", \"Completed fit featurizers and featurizing the dataset.\", \"Generating individually featurized CV splits.\", \"Beginning model selection.\"]}]}], \"run_logs\": \"\\nRun is completed.\", \"graph\": {}, \"widget_settings\": {\"childWidgetDisplay\": \"popup\", \"send_telemetry\": false, \"log_level\": \"INFO\", \"sdk_version\": \"1.19.0\"}, \"loading\": false}"
     },
     "metadata": {},
     "output_type": "display_data"
    },
    {
     "data": {
      "text/plain": [
       "{'runId': 'AutoML_561039e3-793b-4189-957c-a065b584b04f',\n",
       " 'target': 'compute-cluster',\n",
       " 'status': 'Completed',\n",
       " 'startTimeUtc': '2021-01-14T16:42:15.384503Z',\n",
       " 'endTimeUtc': '2021-01-14T17:57:40.655009Z',\n",
       " 'properties': {'num_iterations': '1000',\n",
       "  'training_type': 'TrainFull',\n",
       "  'acquisition_function': 'EI',\n",
       "  'primary_metric': 'AUC_weighted',\n",
       "  'train_split': '0',\n",
       "  'acquisition_parameter': '0',\n",
       "  'num_cross_validation': '5',\n",
       "  'target': 'compute-cluster',\n",
       "  'AMLSettingsJsonString': '{\"path\":null,\"name\":\"click-through-rate-prediction\",\"subscription_id\":\"cdbe0b43-92a0-4715-838a-f2648cc7ad21\",\"resource_group\":\"aml-quickstarts-134681\",\"workspace_name\":\"quick-starts-ws-134681\",\"region\":\"southcentralus\",\"compute_target\":\"compute-cluster\",\"spark_service\":null,\"azure_service\":\"remote\",\"many_models\":false,\"pipeline_fetch_max_batch_size\":1,\"iterations\":1000,\"primary_metric\":\"AUC_weighted\",\"task_type\":\"classification\",\"data_script\":null,\"validation_size\":0.0,\"n_cross_validations\":5,\"y_min\":null,\"y_max\":null,\"num_classes\":null,\"featurization\":\"auto\",\"_ignore_package_version_incompatibilities\":false,\"is_timeseries\":false,\"max_cores_per_iteration\":1,\"max_concurrent_iterations\":1,\"iteration_timeout_minutes\":5,\"mem_in_mb\":null,\"enforce_time_on_windows\":false,\"experiment_timeout_minutes\":60,\"experiment_exit_score\":null,\"whitelist_models\":null,\"blacklist_algos\":[\"TensorFlowLinearClassifier\",\"TensorFlowDNN\"],\"supported_models\":[\"XGBoostClassifier\",\"LinearSVM\",\"DecisionTree\",\"LogisticRegression\",\"SVM\",\"KNN\",\"RandomForest\",\"MultinomialNaiveBayes\",\"SGD\",\"BernoulliNaiveBayes\",\"AveragedPerceptronClassifier\",\"LightGBM\",\"ExtremeRandomTrees\",\"TensorFlowDNN\",\"GradientBoosting\",\"TensorFlowLinearClassifier\"],\"auto_blacklist\":true,\"blacklist_samples_reached\":false,\"exclude_nan_labels\":true,\"verbosity\":20,\"_debug_log\":\"azureml_automl.log\",\"show_warnings\":false,\"model_explainability\":true,\"service_url\":null,\"sdk_url\":null,\"sdk_packages\":null,\"enable_onnx_compatible_models\":false,\"enable_split_onnx_featurizer_estimator_models\":false,\"vm_type\":\"STANDARD_DS3_V2\",\"telemetry_verbosity\":20,\"send_telemetry\":true,\"enable_dnn\":false,\"scenario\":\"SDK-1.13.0\",\"environment_label\":null,\"force_text_dnn\":false,\"enable_feature_sweeping\":true,\"enable_early_stopping\":true,\"early_stopping_n_iters\":10,\"metrics\":null,\"enable_ensembling\":true,\"enable_stack_ensembling\":true,\"ensemble_iterations\":15,\"enable_tf\":false,\"enable_subsampling\":null,\"subsample_seed\":null,\"enable_nimbusml\":false,\"enable_streaming\":false,\"force_streaming\":false,\"track_child_runs\":true,\"allowed_private_models\":[],\"label_column_name\":\"label\",\"weight_column_name\":null,\"cv_split_column_names\":null,\"enable_local_managed\":false,\"_local_managed_run_id\":null,\"cost_mode\":1,\"lag_length\":0,\"metric_operation\":\"maximize\",\"preprocess\":true}',\n",
       "  'DataPrepJsonString': '{\\\\\"training_data\\\\\": \\\\\"{\\\\\\\\\\\\\"blocks\\\\\\\\\\\\\": [{\\\\\\\\\\\\\"id\\\\\\\\\\\\\": \\\\\\\\\\\\\"307a590f-1781-4832-aea0-e8c01f0e530d\\\\\\\\\\\\\", \\\\\\\\\\\\\"type\\\\\\\\\\\\\": \\\\\\\\\\\\\"Microsoft.DPrep.GetDatastoreFilesBlock\\\\\\\\\\\\\", \\\\\\\\\\\\\"arguments\\\\\\\\\\\\\": {\\\\\\\\\\\\\"datastores\\\\\\\\\\\\\": [{\\\\\\\\\\\\\"datastoreName\\\\\\\\\\\\\": \\\\\\\\\\\\\"workspaceblobstore\\\\\\\\\\\\\", \\\\\\\\\\\\\"path\\\\\\\\\\\\\": \\\\\\\\\\\\\"click_through_rate/ctr_data.csv\\\\\\\\\\\\\", \\\\\\\\\\\\\"resourceGroup\\\\\\\\\\\\\": \\\\\\\\\\\\\"aml-quickstarts-134681\\\\\\\\\\\\\", \\\\\\\\\\\\\"subscription\\\\\\\\\\\\\": \\\\\\\\\\\\\"cdbe0b43-92a0-4715-838a-f2648cc7ad21\\\\\\\\\\\\\", \\\\\\\\\\\\\"workspaceName\\\\\\\\\\\\\": \\\\\\\\\\\\\"quick-starts-ws-134681\\\\\\\\\\\\\"}]}, \\\\\\\\\\\\\"localData\\\\\\\\\\\\\": {}, \\\\\\\\\\\\\"isEnabled\\\\\\\\\\\\\": true, \\\\\\\\\\\\\"name\\\\\\\\\\\\\": null, \\\\\\\\\\\\\"annotation\\\\\\\\\\\\\": null}, {\\\\\\\\\\\\\"id\\\\\\\\\\\\\": \\\\\\\\\\\\\"9983b2a7-3565-4468-b59a-f487b6a6b115\\\\\\\\\\\\\", \\\\\\\\\\\\\"type\\\\\\\\\\\\\": \\\\\\\\\\\\\"Microsoft.DPrep.ParseDelimitedBlock\\\\\\\\\\\\\", \\\\\\\\\\\\\"arguments\\\\\\\\\\\\\": {\\\\\\\\\\\\\"columnHeadersMode\\\\\\\\\\\\\": 3, \\\\\\\\\\\\\"fileEncoding\\\\\\\\\\\\\": 0, \\\\\\\\\\\\\"handleQuotedLineBreaks\\\\\\\\\\\\\": false, \\\\\\\\\\\\\"preview\\\\\\\\\\\\\": false, \\\\\\\\\\\\\"separator\\\\\\\\\\\\\": \\\\\\\\\\\\\",\\\\\\\\\\\\\", \\\\\\\\\\\\\"skipRows\\\\\\\\\\\\\": 0, \\\\\\\\\\\\\"skipRowsMode\\\\\\\\\\\\\": 0}, \\\\\\\\\\\\\"localData\\\\\\\\\\\\\": {}, \\\\\\\\\\\\\"isEnabled\\\\\\\\\\\\\": true, \\\\\\\\\\\\\"name\\\\\\\\\\\\\": null, \\\\\\\\\\\\\"annotation\\\\\\\\\\\\\": null}, {\\\\\\\\\\\\\"id\\\\\\\\\\\\\": \\\\\\\\\\\\\"d51bc92b-9768-4294-a4ec-26257b63ed73\\\\\\\\\\\\\", \\\\\\\\\\\\\"type\\\\\\\\\\\\\": \\\\\\\\\\\\\"Microsoft.DPrep.DropColumnsBlock\\\\\\\\\\\\\", \\\\\\\\\\\\\"arguments\\\\\\\\\\\\\": {\\\\\\\\\\\\\"columns\\\\\\\\\\\\\": {\\\\\\\\\\\\\"type\\\\\\\\\\\\\": 0, \\\\\\\\\\\\\"details\\\\\\\\\\\\\": {\\\\\\\\\\\\\"selectedColumns\\\\\\\\\\\\\": [\\\\\\\\\\\\\"Path\\\\\\\\\\\\\"]}}}, \\\\\\\\\\\\\"localData\\\\\\\\\\\\\": {}, \\\\\\\\\\\\\"isEnabled\\\\\\\\\\\\\": true, \\\\\\\\\\\\\"name\\\\\\\\\\\\\": null, \\\\\\\\\\\\\"annotation\\\\\\\\\\\\\": null}, {\\\\\\\\\\\\\"id\\\\\\\\\\\\\": \\\\\\\\\\\\\"22232650-5c85-48c0-b829-0bde3a2a1faa\\\\\\\\\\\\\", \\\\\\\\\\\\\"type\\\\\\\\\\\\\": \\\\\\\\\\\\\"Microsoft.DPrep.SetColumnTypesBlock\\\\\\\\\\\\\", \\\\\\\\\\\\\"arguments\\\\\\\\\\\\\": {\\\\\\\\\\\\\"columnConversion\\\\\\\\\\\\\": [{\\\\\\\\\\\\\"column\\\\\\\\\\\\\": {\\\\\\\\\\\\\"type\\\\\\\\\\\\\": 2, \\\\\\\\\\\\\"details\\\\\\\\\\\\\": {\\\\\\\\\\\\\"selectedColumn\\\\\\\\\\\\\": \\\\\\\\\\\\\"label\\\\\\\\\\\\\"}}, \\\\\\\\\\\\\"typeProperty\\\\\\\\\\\\\": 2}, {\\\\\\\\\\\\\"column\\\\\\\\\\\\\": {\\\\\\\\\\\\\"type\\\\\\\\\\\\\": 2, \\\\\\\\\\\\\"details\\\\\\\\\\\\\": {\\\\\\\\\\\\\"selectedColumn\\\\\\\\\\\\\": \\\\\\\\\\\\\"uid\\\\\\\\\\\\\"}}, \\\\\\\\\\\\\"typeProperty\\\\\\\\\\\\\": 2}, {\\\\\\\\\\\\\"column\\\\\\\\\\\\\": {\\\\\\\\\\\\\"type\\\\\\\\\\\\\": 2, \\\\\\\\\\\\\"details\\\\\\\\\\\\\": {\\\\\\\\\\\\\"selectedColumn\\\\\\\\\\\\\": \\\\\\\\\\\\\"task_id\\\\\\\\\\\\\"}}, \\\\\\\\\\\\\"typeProperty\\\\\\\\\\\\\": 2}, {\\\\\\\\\\\\\"column\\\\\\\\\\\\\": {\\\\\\\\\\\\\"type\\\\\\\\\\\\\": 2, \\\\\\\\\\\\\"details\\\\\\\\\\\\\": {\\\\\\\\\\\\\"selectedColumn\\\\\\\\\\\\\": \\\\\\\\\\\\\"adv_id\\\\\\\\\\\\\"}}, \\\\\\\\\\\\\"typeProperty\\\\\\\\\\\\\": 2}, {\\\\\\\\\\\\\"column\\\\\\\\\\\\\": {\\\\\\\\\\\\\"type\\\\\\\\\\\\\": 2, \\\\\\\\\\\\\"details\\\\\\\\\\\\\": {\\\\\\\\\\\\\"selectedColumn\\\\\\\\\\\\\": \\\\\\\\\\\\\"creat_type_cd\\\\\\\\\\\\\"}}, \\\\\\\\\\\\\"typeProperty\\\\\\\\\\\\\": 2}, {\\\\\\\\\\\\\"column\\\\\\\\\\\\\": {\\\\\\\\\\\\\"type\\\\\\\\\\\\\": 2, \\\\\\\\\\\\\"details\\\\\\\\\\\\\": {\\\\\\\\\\\\\"selectedColumn\\\\\\\\\\\\\": \\\\\\\\\\\\\"adv_prim_id\\\\\\\\\\\\\"}}, \\\\\\\\\\\\\"typeProperty\\\\\\\\\\\\\": 2}, {\\\\\\\\\\\\\"column\\\\\\\\\\\\\": {\\\\\\\\\\\\\"type\\\\\\\\\\\\\": 2, \\\\\\\\\\\\\"details\\\\\\\\\\\\\": {\\\\\\\\\\\\\"selectedColumn\\\\\\\\\\\\\": \\\\\\\\\\\\\"dev_id\\\\\\\\\\\\\"}}, \\\\\\\\\\\\\"typeProperty\\\\\\\\\\\\\": 2}, {\\\\\\\\\\\\\"column\\\\\\\\\\\\\": {\\\\\\\\\\\\\"type\\\\\\\\\\\\\": 2, \\\\\\\\\\\\\"details\\\\\\\\\\\\\": {\\\\\\\\\\\\\"selectedColumn\\\\\\\\\\\\\": \\\\\\\\\\\\\"inter_type_cd\\\\\\\\\\\\\"}}, \\\\\\\\\\\\\"typeProperty\\\\\\\\\\\\\": 2}, {\\\\\\\\\\\\\"column\\\\\\\\\\\\\": {\\\\\\\\\\\\\"type\\\\\\\\\\\\\": 2, \\\\\\\\\\\\\"details\\\\\\\\\\\\\": {\\\\\\\\\\\\\"selectedColumn\\\\\\\\\\\\\": \\\\\\\\\\\\\"slot_id\\\\\\\\\\\\\"}}, \\\\\\\\\\\\\"typeProperty\\\\\\\\\\\\\": 2}, {\\\\\\\\\\\\\"column\\\\\\\\\\\\\": {\\\\\\\\\\\\\"type\\\\\\\\\\\\\": 2, \\\\\\\\\\\\\"details\\\\\\\\\\\\\": {\\\\\\\\\\\\\"selectedColumn\\\\\\\\\\\\\": \\\\\\\\\\\\\"spread_app_id\\\\\\\\\\\\\"}}, \\\\\\\\\\\\\"typeProperty\\\\\\\\\\\\\": 2}, {\\\\\\\\\\\\\"column\\\\\\\\\\\\\": {\\\\\\\\\\\\\"type\\\\\\\\\\\\\": 2, \\\\\\\\\\\\\"details\\\\\\\\\\\\\": {\\\\\\\\\\\\\"selectedColumn\\\\\\\\\\\\\": \\\\\\\\\\\\\"tags\\\\\\\\\\\\\"}}, \\\\\\\\\\\\\"typeProperty\\\\\\\\\\\\\": 2}, {\\\\\\\\\\\\\"column\\\\\\\\\\\\\": {\\\\\\\\\\\\\"type\\\\\\\\\\\\\": 2, \\\\\\\\\\\\\"details\\\\\\\\\\\\\": {\\\\\\\\\\\\\"selectedColumn\\\\\\\\\\\\\": \\\\\\\\\\\\\"app_first_class\\\\\\\\\\\\\"}}, \\\\\\\\\\\\\"typeProperty\\\\\\\\\\\\\": 2}, {\\\\\\\\\\\\\"column\\\\\\\\\\\\\": {\\\\\\\\\\\\\"type\\\\\\\\\\\\\": 2, \\\\\\\\\\\\\"details\\\\\\\\\\\\\": {\\\\\\\\\\\\\"selectedColumn\\\\\\\\\\\\\": \\\\\\\\\\\\\"app_second_class\\\\\\\\\\\\\"}}, \\\\\\\\\\\\\"typeProperty\\\\\\\\\\\\\": 2}, {\\\\\\\\\\\\\"column\\\\\\\\\\\\\": {\\\\\\\\\\\\\"type\\\\\\\\\\\\\": 2, \\\\\\\\\\\\\"details\\\\\\\\\\\\\": {\\\\\\\\\\\\\"selectedColumn\\\\\\\\\\\\\": \\\\\\\\\\\\\"age\\\\\\\\\\\\\"}}, \\\\\\\\\\\\\"typeProperty\\\\\\\\\\\\\": 2}, {\\\\\\\\\\\\\"column\\\\\\\\\\\\\": {\\\\\\\\\\\\\"type\\\\\\\\\\\\\": 2, \\\\\\\\\\\\\"details\\\\\\\\\\\\\": {\\\\\\\\\\\\\"selectedColumn\\\\\\\\\\\\\": \\\\\\\\\\\\\"city\\\\\\\\\\\\\"}}, \\\\\\\\\\\\\"typeProperty\\\\\\\\\\\\\": 2}, {\\\\\\\\\\\\\"column\\\\\\\\\\\\\": {\\\\\\\\\\\\\"type\\\\\\\\\\\\\": 2, \\\\\\\\\\\\\"details\\\\\\\\\\\\\": {\\\\\\\\\\\\\"selectedColumn\\\\\\\\\\\\\": \\\\\\\\\\\\\"city_rank\\\\\\\\\\\\\"}}, \\\\\\\\\\\\\"typeProperty\\\\\\\\\\\\\": 2}, {\\\\\\\\\\\\\"column\\\\\\\\\\\\\": {\\\\\\\\\\\\\"type\\\\\\\\\\\\\": 2, \\\\\\\\\\\\\"details\\\\\\\\\\\\\": {\\\\\\\\\\\\\"selectedColumn\\\\\\\\\\\\\": \\\\\\\\\\\\\"device_name\\\\\\\\\\\\\"}}, \\\\\\\\\\\\\"typeProperty\\\\\\\\\\\\\": 2}, {\\\\\\\\\\\\\"column\\\\\\\\\\\\\": {\\\\\\\\\\\\\"type\\\\\\\\\\\\\": 2, \\\\\\\\\\\\\"details\\\\\\\\\\\\\": {\\\\\\\\\\\\\"selectedColumn\\\\\\\\\\\\\": \\\\\\\\\\\\\"device_size\\\\\\\\\\\\\"}}, \\\\\\\\\\\\\"typeProperty\\\\\\\\\\\\\": 2}, {\\\\\\\\\\\\\"column\\\\\\\\\\\\\": {\\\\\\\\\\\\\"type\\\\\\\\\\\\\": 2, \\\\\\\\\\\\\"details\\\\\\\\\\\\\": {\\\\\\\\\\\\\"selectedColumn\\\\\\\\\\\\\": \\\\\\\\\\\\\"career\\\\\\\\\\\\\"}}, \\\\\\\\\\\\\"typeProperty\\\\\\\\\\\\\": 2}, {\\\\\\\\\\\\\"column\\\\\\\\\\\\\": {\\\\\\\\\\\\\"type\\\\\\\\\\\\\": 2, \\\\\\\\\\\\\"details\\\\\\\\\\\\\": {\\\\\\\\\\\\\"selectedColumn\\\\\\\\\\\\\": \\\\\\\\\\\\\"gender\\\\\\\\\\\\\"}}, \\\\\\\\\\\\\"typeProperty\\\\\\\\\\\\\": 2}, {\\\\\\\\\\\\\"column\\\\\\\\\\\\\": {\\\\\\\\\\\\\"type\\\\\\\\\\\\\": 2, \\\\\\\\\\\\\"details\\\\\\\\\\\\\": {\\\\\\\\\\\\\"selectedColumn\\\\\\\\\\\\\": \\\\\\\\\\\\\"net_type\\\\\\\\\\\\\"}}, \\\\\\\\\\\\\"typeProperty\\\\\\\\\\\\\": 2}, {\\\\\\\\\\\\\"column\\\\\\\\\\\\\": {\\\\\\\\\\\\\"type\\\\\\\\\\\\\": 2, \\\\\\\\\\\\\"details\\\\\\\\\\\\\": {\\\\\\\\\\\\\"selectedColumn\\\\\\\\\\\\\": \\\\\\\\\\\\\"residence\\\\\\\\\\\\\"}}, \\\\\\\\\\\\\"typeProperty\\\\\\\\\\\\\": 2}, {\\\\\\\\\\\\\"column\\\\\\\\\\\\\": {\\\\\\\\\\\\\"type\\\\\\\\\\\\\": 2, \\\\\\\\\\\\\"details\\\\\\\\\\\\\": {\\\\\\\\\\\\\"selectedColumn\\\\\\\\\\\\\": \\\\\\\\\\\\\"his_app_size\\\\\\\\\\\\\"}}, \\\\\\\\\\\\\"typeProperty\\\\\\\\\\\\\": 2}, {\\\\\\\\\\\\\"column\\\\\\\\\\\\\": {\\\\\\\\\\\\\"type\\\\\\\\\\\\\": 2, \\\\\\\\\\\\\"details\\\\\\\\\\\\\": {\\\\\\\\\\\\\"selectedColumn\\\\\\\\\\\\\": \\\\\\\\\\\\\"his_on_shelf_time\\\\\\\\\\\\\"}}, \\\\\\\\\\\\\"typeProperty\\\\\\\\\\\\\": 2}, {\\\\\\\\\\\\\"column\\\\\\\\\\\\\": {\\\\\\\\\\\\\"type\\\\\\\\\\\\\": 2, \\\\\\\\\\\\\"details\\\\\\\\\\\\\": {\\\\\\\\\\\\\"selectedColumn\\\\\\\\\\\\\": \\\\\\\\\\\\\"app_score\\\\\\\\\\\\\"}}, \\\\\\\\\\\\\"typeProperty\\\\\\\\\\\\\": 2}, {\\\\\\\\\\\\\"column\\\\\\\\\\\\\": {\\\\\\\\\\\\\"type\\\\\\\\\\\\\": 2, \\\\\\\\\\\\\"details\\\\\\\\\\\\\": {\\\\\\\\\\\\\"selectedColumn\\\\\\\\\\\\\": \\\\\\\\\\\\\"emui_dev\\\\\\\\\\\\\"}}, \\\\\\\\\\\\\"typeProperty\\\\\\\\\\\\\": 2}, {\\\\\\\\\\\\\"column\\\\\\\\\\\\\": {\\\\\\\\\\\\\"type\\\\\\\\\\\\\": 2, \\\\\\\\\\\\\"details\\\\\\\\\\\\\": {\\\\\\\\\\\\\"selectedColumn\\\\\\\\\\\\\": \\\\\\\\\\\\\"list_time\\\\\\\\\\\\\"}}, \\\\\\\\\\\\\"typeProperty\\\\\\\\\\\\\": 2}, {\\\\\\\\\\\\\"column\\\\\\\\\\\\\": {\\\\\\\\\\\\\"type\\\\\\\\\\\\\": 2, \\\\\\\\\\\\\"details\\\\\\\\\\\\\": {\\\\\\\\\\\\\"selectedColumn\\\\\\\\\\\\\": \\\\\\\\\\\\\"device_price\\\\\\\\\\\\\"}}, \\\\\\\\\\\\\"typeProperty\\\\\\\\\\\\\": 2}, {\\\\\\\\\\\\\"column\\\\\\\\\\\\\": {\\\\\\\\\\\\\"type\\\\\\\\\\\\\": 2, \\\\\\\\\\\\\"details\\\\\\\\\\\\\": {\\\\\\\\\\\\\"selectedColumn\\\\\\\\\\\\\": \\\\\\\\\\\\\"up_life_duration\\\\\\\\\\\\\"}}, \\\\\\\\\\\\\"typeProperty\\\\\\\\\\\\\": 2}, {\\\\\\\\\\\\\"column\\\\\\\\\\\\\": {\\\\\\\\\\\\\"type\\\\\\\\\\\\\": 2, \\\\\\\\\\\\\"details\\\\\\\\\\\\\": {\\\\\\\\\\\\\"selectedColumn\\\\\\\\\\\\\": \\\\\\\\\\\\\"up_membership_grade\\\\\\\\\\\\\"}}, \\\\\\\\\\\\\"typeProperty\\\\\\\\\\\\\": 2}, {\\\\\\\\\\\\\"column\\\\\\\\\\\\\": {\\\\\\\\\\\\\"type\\\\\\\\\\\\\": 2, \\\\\\\\\\\\\"details\\\\\\\\\\\\\": {\\\\\\\\\\\\\"selectedColumn\\\\\\\\\\\\\": \\\\\\\\\\\\\"membership_life_duration\\\\\\\\\\\\\"}}, \\\\\\\\\\\\\"typeProperty\\\\\\\\\\\\\": 2}, {\\\\\\\\\\\\\"column\\\\\\\\\\\\\": {\\\\\\\\\\\\\"type\\\\\\\\\\\\\": 2, \\\\\\\\\\\\\"details\\\\\\\\\\\\\": {\\\\\\\\\\\\\"selectedColumn\\\\\\\\\\\\\": \\\\\\\\\\\\\"consume_purchase\\\\\\\\\\\\\"}}, \\\\\\\\\\\\\"typeProperty\\\\\\\\\\\\\": 2}, {\\\\\\\\\\\\\"column\\\\\\\\\\\\\": {\\\\\\\\\\\\\"type\\\\\\\\\\\\\": 2, \\\\\\\\\\\\\"details\\\\\\\\\\\\\": {\\\\\\\\\\\\\"selectedColumn\\\\\\\\\\\\\": \\\\\\\\\\\\\"communication_onlinerate\\\\\\\\\\\\\"}}, \\\\\\\\\\\\\"typeProperty\\\\\\\\\\\\\": 0}, {\\\\\\\\\\\\\"column\\\\\\\\\\\\\": {\\\\\\\\\\\\\"type\\\\\\\\\\\\\": 2, \\\\\\\\\\\\\"details\\\\\\\\\\\\\": {\\\\\\\\\\\\\"selectedColumn\\\\\\\\\\\\\": \\\\\\\\\\\\\"communication_avgonline_30d\\\\\\\\\\\\\"}}, \\\\\\\\\\\\\"typeProperty\\\\\\\\\\\\\": 2}, {\\\\\\\\\\\\\"column\\\\\\\\\\\\\": {\\\\\\\\\\\\\"type\\\\\\\\\\\\\": 2, \\\\\\\\\\\\\"details\\\\\\\\\\\\\": {\\\\\\\\\\\\\"selectedColumn\\\\\\\\\\\\\": \\\\\\\\\\\\\"indu_name\\\\\\\\\\\\\"}}, \\\\\\\\\\\\\"typeProperty\\\\\\\\\\\\\": 2}, {\\\\\\\\\\\\\"column\\\\\\\\\\\\\": {\\\\\\\\\\\\\"type\\\\\\\\\\\\\": 2, \\\\\\\\\\\\\"details\\\\\\\\\\\\\": {\\\\\\\\\\\\\"selectedColumn\\\\\\\\\\\\\": \\\\\\\\\\\\\"pt_d\\\\\\\\\\\\\"}}, \\\\\\\\\\\\\"typeProperty\\\\\\\\\\\\\": 2}, {\\\\\\\\\\\\\"column\\\\\\\\\\\\\": {\\\\\\\\\\\\\"type\\\\\\\\\\\\\": 2, \\\\\\\\\\\\\"details\\\\\\\\\\\\\": {\\\\\\\\\\\\\"selectedColumn\\\\\\\\\\\\\": \\\\\\\\\\\\\"uid_prev_1_day_ctr\\\\\\\\\\\\\"}}, \\\\\\\\\\\\\"typeProperty\\\\\\\\\\\\\": 3}, {\\\\\\\\\\\\\"column\\\\\\\\\\\\\": {\\\\\\\\\\\\\"type\\\\\\\\\\\\\": 2, \\\\\\\\\\\\\"details\\\\\\\\\\\\\": {\\\\\\\\\\\\\"selectedColumn\\\\\\\\\\\\\": \\\\\\\\\\\\\"uid_prev_2_day_ctr\\\\\\\\\\\\\"}}, \\\\\\\\\\\\\"typeProperty\\\\\\\\\\\\\": 3}, {\\\\\\\\\\\\\"column\\\\\\\\\\\\\": {\\\\\\\\\\\\\"type\\\\\\\\\\\\\": 2, \\\\\\\\\\\\\"details\\\\\\\\\\\\\": {\\\\\\\\\\\\\"selectedColumn\\\\\\\\\\\\\": \\\\\\\\\\\\\"uid_prev_3_day_ctr\\\\\\\\\\\\\"}}, \\\\\\\\\\\\\"typeProperty\\\\\\\\\\\\\": 3}, {\\\\\\\\\\\\\"column\\\\\\\\\\\\\": {\\\\\\\\\\\\\"type\\\\\\\\\\\\\": 2, \\\\\\\\\\\\\"details\\\\\\\\\\\\\": {\\\\\\\\\\\\\"selectedColumn\\\\\\\\\\\\\": \\\\\\\\\\\\\"uid_prev_4_day_ctr\\\\\\\\\\\\\"}}, \\\\\\\\\\\\\"typeProperty\\\\\\\\\\\\\": 3}, {\\\\\\\\\\\\\"column\\\\\\\\\\\\\": {\\\\\\\\\\\\\"type\\\\\\\\\\\\\": 2, \\\\\\\\\\\\\"details\\\\\\\\\\\\\": {\\\\\\\\\\\\\"selectedColumn\\\\\\\\\\\\\": \\\\\\\\\\\\\"uid_prev_5_day_ctr\\\\\\\\\\\\\"}}, \\\\\\\\\\\\\"typeProperty\\\\\\\\\\\\\": 3}, {\\\\\\\\\\\\\"column\\\\\\\\\\\\\": {\\\\\\\\\\\\\"type\\\\\\\\\\\\\": 2, \\\\\\\\\\\\\"details\\\\\\\\\\\\\": {\\\\\\\\\\\\\"selectedColumn\\\\\\\\\\\\\": \\\\\\\\\\\\\"uid_prev_6_day_ctr\\\\\\\\\\\\\"}}, \\\\\\\\\\\\\"typeProperty\\\\\\\\\\\\\": 3}, {\\\\\\\\\\\\\"column\\\\\\\\\\\\\": {\\\\\\\\\\\\\"type\\\\\\\\\\\\\": 2, \\\\\\\\\\\\\"details\\\\\\\\\\\\\": {\\\\\\\\\\\\\"selectedColumn\\\\\\\\\\\\\": \\\\\\\\\\\\\"task_id_prev_1_day_ctr\\\\\\\\\\\\\"}}, \\\\\\\\\\\\\"typeProperty\\\\\\\\\\\\\": 3}, {\\\\\\\\\\\\\"column\\\\\\\\\\\\\": {\\\\\\\\\\\\\"type\\\\\\\\\\\\\": 2, \\\\\\\\\\\\\"details\\\\\\\\\\\\\": {\\\\\\\\\\\\\"selectedColumn\\\\\\\\\\\\\": \\\\\\\\\\\\\"task_id_prev_2_day_ctr\\\\\\\\\\\\\"}}, \\\\\\\\\\\\\"typeProperty\\\\\\\\\\\\\": 3}, {\\\\\\\\\\\\\"column\\\\\\\\\\\\\": {\\\\\\\\\\\\\"type\\\\\\\\\\\\\": 2, \\\\\\\\\\\\\"details\\\\\\\\\\\\\": {\\\\\\\\\\\\\"selectedColumn\\\\\\\\\\\\\": \\\\\\\\\\\\\"task_id_prev_3_day_ctr\\\\\\\\\\\\\"}}, \\\\\\\\\\\\\"typeProperty\\\\\\\\\\\\\": 3}, {\\\\\\\\\\\\\"column\\\\\\\\\\\\\": {\\\\\\\\\\\\\"type\\\\\\\\\\\\\": 2, \\\\\\\\\\\\\"details\\\\\\\\\\\\\": {\\\\\\\\\\\\\"selectedColumn\\\\\\\\\\\\\": \\\\\\\\\\\\\"task_id_prev_4_day_ctr\\\\\\\\\\\\\"}}, \\\\\\\\\\\\\"typeProperty\\\\\\\\\\\\\": 3}, {\\\\\\\\\\\\\"column\\\\\\\\\\\\\": {\\\\\\\\\\\\\"type\\\\\\\\\\\\\": 2, \\\\\\\\\\\\\"details\\\\\\\\\\\\\": {\\\\\\\\\\\\\"selectedColumn\\\\\\\\\\\\\": \\\\\\\\\\\\\"task_id_prev_5_day_ctr\\\\\\\\\\\\\"}}, \\\\\\\\\\\\\"typeProperty\\\\\\\\\\\\\": 3}, {\\\\\\\\\\\\\"column\\\\\\\\\\\\\": {\\\\\\\\\\\\\"type\\\\\\\\\\\\\": 2, \\\\\\\\\\\\\"details\\\\\\\\\\\\\": {\\\\\\\\\\\\\"selectedColumn\\\\\\\\\\\\\": \\\\\\\\\\\\\"task_id_prev_6_day_ctr\\\\\\\\\\\\\"}}, \\\\\\\\\\\\\"typeProperty\\\\\\\\\\\\\": 3}, {\\\\\\\\\\\\\"column\\\\\\\\\\\\\": {\\\\\\\\\\\\\"type\\\\\\\\\\\\\": 2, \\\\\\\\\\\\\"details\\\\\\\\\\\\\": {\\\\\\\\\\\\\"selectedColumn\\\\\\\\\\\\\": \\\\\\\\\\\\\"adv_id_prev_1_day_ctr\\\\\\\\\\\\\"}}, \\\\\\\\\\\\\"typeProperty\\\\\\\\\\\\\": 3}, {\\\\\\\\\\\\\"column\\\\\\\\\\\\\": {\\\\\\\\\\\\\"type\\\\\\\\\\\\\": 2, \\\\\\\\\\\\\"details\\\\\\\\\\\\\": {\\\\\\\\\\\\\"selectedColumn\\\\\\\\\\\\\": \\\\\\\\\\\\\"adv_id_prev_2_day_ctr\\\\\\\\\\\\\"}}, \\\\\\\\\\\\\"typeProperty\\\\\\\\\\\\\": 3}, {\\\\\\\\\\\\\"column\\\\\\\\\\\\\": {\\\\\\\\\\\\\"type\\\\\\\\\\\\\": 2, \\\\\\\\\\\\\"details\\\\\\\\\\\\\": {\\\\\\\\\\\\\"selectedColumn\\\\\\\\\\\\\": \\\\\\\\\\\\\"adv_id_prev_3_day_ctr\\\\\\\\\\\\\"}}, \\\\\\\\\\\\\"typeProperty\\\\\\\\\\\\\": 3}, {\\\\\\\\\\\\\"column\\\\\\\\\\\\\": {\\\\\\\\\\\\\"type\\\\\\\\\\\\\": 2, \\\\\\\\\\\\\"details\\\\\\\\\\\\\": {\\\\\\\\\\\\\"selectedColumn\\\\\\\\\\\\\": \\\\\\\\\\\\\"adv_id_prev_4_day_ctr\\\\\\\\\\\\\"}}, \\\\\\\\\\\\\"typeProperty\\\\\\\\\\\\\": 3}, {\\\\\\\\\\\\\"column\\\\\\\\\\\\\": {\\\\\\\\\\\\\"type\\\\\\\\\\\\\": 2, \\\\\\\\\\\\\"details\\\\\\\\\\\\\": {\\\\\\\\\\\\\"selectedColumn\\\\\\\\\\\\\": \\\\\\\\\\\\\"adv_id_prev_5_day_ctr\\\\\\\\\\\\\"}}, \\\\\\\\\\\\\"typeProperty\\\\\\\\\\\\\": 3}, {\\\\\\\\\\\\\"column\\\\\\\\\\\\\": {\\\\\\\\\\\\\"type\\\\\\\\\\\\\": 2, \\\\\\\\\\\\\"details\\\\\\\\\\\\\": {\\\\\\\\\\\\\"selectedColumn\\\\\\\\\\\\\": \\\\\\\\\\\\\"adv_id_prev_6_day_ctr\\\\\\\\\\\\\"}}, \\\\\\\\\\\\\"typeProperty\\\\\\\\\\\\\": 3}, {\\\\\\\\\\\\\"column\\\\\\\\\\\\\": {\\\\\\\\\\\\\"type\\\\\\\\\\\\\": 2, \\\\\\\\\\\\\"details\\\\\\\\\\\\\": {\\\\\\\\\\\\\"selectedColumn\\\\\\\\\\\\\": \\\\\\\\\\\\\"adv_prim_id_prev_1_day_ctr\\\\\\\\\\\\\"}}, \\\\\\\\\\\\\"typeProperty\\\\\\\\\\\\\": 3}, {\\\\\\\\\\\\\"column\\\\\\\\\\\\\": {\\\\\\\\\\\\\"type\\\\\\\\\\\\\": 2, \\\\\\\\\\\\\"details\\\\\\\\\\\\\": {\\\\\\\\\\\\\"selectedColumn\\\\\\\\\\\\\": \\\\\\\\\\\\\"adv_prim_id_prev_2_day_ctr\\\\\\\\\\\\\"}}, \\\\\\\\\\\\\"typeProperty\\\\\\\\\\\\\": 3}, {\\\\\\\\\\\\\"column\\\\\\\\\\\\\": {\\\\\\\\\\\\\"type\\\\\\\\\\\\\": 2, \\\\\\\\\\\\\"details\\\\\\\\\\\\\": {\\\\\\\\\\\\\"selectedColumn\\\\\\\\\\\\\": \\\\\\\\\\\\\"adv_prim_id_prev_3_day_ctr\\\\\\\\\\\\\"}}, \\\\\\\\\\\\\"typeProperty\\\\\\\\\\\\\": 3}, {\\\\\\\\\\\\\"column\\\\\\\\\\\\\": {\\\\\\\\\\\\\"type\\\\\\\\\\\\\": 2, \\\\\\\\\\\\\"details\\\\\\\\\\\\\": {\\\\\\\\\\\\\"selectedColumn\\\\\\\\\\\\\": \\\\\\\\\\\\\"adv_prim_id_prev_4_day_ctr\\\\\\\\\\\\\"}}, \\\\\\\\\\\\\"typeProperty\\\\\\\\\\\\\": 3}, {\\\\\\\\\\\\\"column\\\\\\\\\\\\\": {\\\\\\\\\\\\\"type\\\\\\\\\\\\\": 2, \\\\\\\\\\\\\"details\\\\\\\\\\\\\": {\\\\\\\\\\\\\"selectedColumn\\\\\\\\\\\\\": \\\\\\\\\\\\\"adv_prim_id_prev_5_day_ctr\\\\\\\\\\\\\"}}, \\\\\\\\\\\\\"typeProperty\\\\\\\\\\\\\": 3}, {\\\\\\\\\\\\\"column\\\\\\\\\\\\\": {\\\\\\\\\\\\\"type\\\\\\\\\\\\\": 2, \\\\\\\\\\\\\"details\\\\\\\\\\\\\": {\\\\\\\\\\\\\"selectedColumn\\\\\\\\\\\\\": \\\\\\\\\\\\\"adv_prim_id_prev_6_day_ctr\\\\\\\\\\\\\"}}, \\\\\\\\\\\\\"typeProperty\\\\\\\\\\\\\": 3}, {\\\\\\\\\\\\\"column\\\\\\\\\\\\\": {\\\\\\\\\\\\\"type\\\\\\\\\\\\\": 2, \\\\\\\\\\\\\"details\\\\\\\\\\\\\": {\\\\\\\\\\\\\"selectedColumn\\\\\\\\\\\\\": \\\\\\\\\\\\\"spread_app_id_prev_1_day_ctr\\\\\\\\\\\\\"}}, \\\\\\\\\\\\\"typeProperty\\\\\\\\\\\\\": 3}, {\\\\\\\\\\\\\"column\\\\\\\\\\\\\": {\\\\\\\\\\\\\"type\\\\\\\\\\\\\": 2, \\\\\\\\\\\\\"details\\\\\\\\\\\\\": {\\\\\\\\\\\\\"selectedColumn\\\\\\\\\\\\\": \\\\\\\\\\\\\"spread_app_id_prev_2_day_ctr\\\\\\\\\\\\\"}}, \\\\\\\\\\\\\"typeProperty\\\\\\\\\\\\\": 3}, {\\\\\\\\\\\\\"column\\\\\\\\\\\\\": {\\\\\\\\\\\\\"type\\\\\\\\\\\\\": 2, \\\\\\\\\\\\\"details\\\\\\\\\\\\\": {\\\\\\\\\\\\\"selectedColumn\\\\\\\\\\\\\": \\\\\\\\\\\\\"spread_app_id_prev_3_day_ctr\\\\\\\\\\\\\"}}, \\\\\\\\\\\\\"typeProperty\\\\\\\\\\\\\": 3}, {\\\\\\\\\\\\\"column\\\\\\\\\\\\\": {\\\\\\\\\\\\\"type\\\\\\\\\\\\\": 2, \\\\\\\\\\\\\"details\\\\\\\\\\\\\": {\\\\\\\\\\\\\"selectedColumn\\\\\\\\\\\\\": \\\\\\\\\\\\\"spread_app_id_prev_4_day_ctr\\\\\\\\\\\\\"}}, \\\\\\\\\\\\\"typeProperty\\\\\\\\\\\\\": 3}, {\\\\\\\\\\\\\"column\\\\\\\\\\\\\": {\\\\\\\\\\\\\"type\\\\\\\\\\\\\": 2, \\\\\\\\\\\\\"details\\\\\\\\\\\\\": {\\\\\\\\\\\\\"selectedColumn\\\\\\\\\\\\\": \\\\\\\\\\\\\"spread_app_id_prev_5_day_ctr\\\\\\\\\\\\\"}}, \\\\\\\\\\\\\"typeProperty\\\\\\\\\\\\\": 3}, {\\\\\\\\\\\\\"column\\\\\\\\\\\\\": {\\\\\\\\\\\\\"type\\\\\\\\\\\\\": 2, \\\\\\\\\\\\\"details\\\\\\\\\\\\\": {\\\\\\\\\\\\\"selectedColumn\\\\\\\\\\\\\": \\\\\\\\\\\\\"spread_app_id_prev_6_day_ctr\\\\\\\\\\\\\"}}, \\\\\\\\\\\\\"typeProperty\\\\\\\\\\\\\": 3}]}, \\\\\\\\\\\\\"localData\\\\\\\\\\\\\": {}, \\\\\\\\\\\\\"isEnabled\\\\\\\\\\\\\": true, \\\\\\\\\\\\\"name\\\\\\\\\\\\\": null, \\\\\\\\\\\\\"annotation\\\\\\\\\\\\\": null}, {\\\\\\\\\\\\\"id\\\\\\\\\\\\\": \\\\\\\\\\\\\"7b56f2be-7626-4d1b-a979-c60689a78017\\\\\\\\\\\\\", \\\\\\\\\\\\\"type\\\\\\\\\\\\\": \\\\\\\\\\\\\"Microsoft.DPrep.RandomSplitBlock\\\\\\\\\\\\\", \\\\\\\\\\\\\"arguments\\\\\\\\\\\\\": {\\\\\\\\\\\\\"probability\\\\\\\\\\\\\": 0.8, \\\\\\\\\\\\\"seed\\\\\\\\\\\\\": 7}, \\\\\\\\\\\\\"localData\\\\\\\\\\\\\": {}, \\\\\\\\\\\\\"isEnabled\\\\\\\\\\\\\": true, \\\\\\\\\\\\\"name\\\\\\\\\\\\\": null, \\\\\\\\\\\\\"annotation\\\\\\\\\\\\\": null}], \\\\\\\\\\\\\"inspectors\\\\\\\\\\\\\": [], \\\\\\\\\\\\\"meta\\\\\\\\\\\\\": {\\\\\\\\\\\\\"savedDatasetId\\\\\\\\\\\\\": \\\\\\\\\\\\\"2f2bcbaa-74d2-4680-8bd9-aa69ace159ac\\\\\\\\\\\\\", \\\\\\\\\\\\\"datasetType\\\\\\\\\\\\\": \\\\\\\\\\\\\"tabular\\\\\\\\\\\\\", \\\\\\\\\\\\\"subscriptionId\\\\\\\\\\\\\": \\\\\\\\\\\\\"cdbe0b43-92a0-4715-838a-f2648cc7ad21\\\\\\\\\\\\\", \\\\\\\\\\\\\"workspaceId\\\\\\\\\\\\\": \\\\\\\\\\\\\"6a3d077e-5197-45ba-83be-7294548348e8\\\\\\\\\\\\\", \\\\\\\\\\\\\"workspaceLocation\\\\\\\\\\\\\": \\\\\\\\\\\\\"southcentralus\\\\\\\\\\\\\"}}\\\\\", \\\\\"activities\\\\\": 0}',\n",
       "  'EnableSubsampling': None,\n",
       "  'runTemplate': 'AutoML',\n",
       "  'azureml.runsource': 'automl',\n",
       "  'display_task_type': 'classification',\n",
       "  'dependencies_versions': '{\"azureml-widgets\": \"1.19.0\", \"azureml-train\": \"1.19.0\", \"azureml-train-restclients-hyperdrive\": \"1.19.0\", \"azureml-train-core\": \"1.19.0\", \"azureml-train-automl\": \"1.19.0\", \"azureml-train-automl-runtime\": \"1.19.0\", \"azureml-train-automl-client\": \"1.19.0\", \"azureml-tensorboard\": \"1.19.0\", \"azureml-telemetry\": \"1.19.0\", \"azureml-sdk\": \"1.19.0\", \"azureml-samples\": \"0+unknown\", \"azureml-pipeline\": \"1.19.0\", \"azureml-pipeline-steps\": \"1.19.0\", \"azureml-pipeline-core\": \"1.19.0\", \"azureml-opendatasets\": \"1.19.0\", \"azureml-model-management-sdk\": \"1.0.1b6.post1\", \"azureml-mlflow\": \"1.19.0\", \"azureml-interpret\": \"1.19.0\", \"azureml-explain-model\": \"1.19.0\", \"azureml-defaults\": \"1.19.0\", \"azureml-dataset-runtime\": \"1.19.0\", \"azureml-dataprep\": \"2.6.1\", \"azureml-dataprep-rslex\": \"1.4.0\", \"azureml-dataprep-native\": \"26.0.0\", \"azureml-datadrift\": \"1.19.0\", \"azureml-core\": \"1.19.0\", \"azureml-contrib-services\": \"1.19.0\", \"azureml-contrib-server\": \"1.19.0\", \"azureml-contrib-reinforcementlearning\": \"1.19.0\", \"azureml-contrib-pipeline-steps\": \"1.19.0\", \"azureml-contrib-notebook\": \"1.19.0\", \"azureml-contrib-interpret\": \"1.19.0\", \"azureml-contrib-gbdt\": \"1.19.0\", \"azureml-contrib-fairness\": \"1.19.0\", \"azureml-contrib-dataset\": \"1.19.0\", \"azureml-cli-common\": \"1.19.0\", \"azureml-automl-runtime\": \"1.19.0\", \"azureml-automl-core\": \"1.19.0\", \"azureml-accel-models\": \"1.19.0\"}',\n",
       "  '_aml_system_scenario_identification': 'Remote.Parent',\n",
       "  'ClientType': 'SDK',\n",
       "  'environment_cpu_name': 'AzureML-AutoML',\n",
       "  'environment_cpu_label': 'prod',\n",
       "  'environment_gpu_name': 'AzureML-AutoML-GPU',\n",
       "  'environment_gpu_label': 'prod',\n",
       "  'root_attribution': 'automl',\n",
       "  'attribution': 'AutoML',\n",
       "  'Orchestrator': 'AutoML',\n",
       "  'CancelUri': 'https://southcentralus.experiments.azureml.net/jasmine/v1.0/subscriptions/cdbe0b43-92a0-4715-838a-f2648cc7ad21/resourceGroups/aml-quickstarts-134681/providers/Microsoft.MachineLearningServices/workspaces/quick-starts-ws-134681/experimentids/02a5f043-7c27-4240-9e9c-60a0f656f970/cancel/AutoML_561039e3-793b-4189-957c-a065b584b04f',\n",
       "  'ClientSdkVersion': '1.19.0',\n",
       "  'snapshotId': '00000000-0000-0000-0000-000000000000',\n",
       "  'SetupRunId': 'AutoML_561039e3-793b-4189-957c-a065b584b04f_setup',\n",
       "  'SetupRunContainerId': 'dcid.AutoML_561039e3-793b-4189-957c-a065b584b04f_setup',\n",
       "  'FeaturizationRunJsonPath': 'featurizer_container.json',\n",
       "  'FeaturizationRunId': 'AutoML_561039e3-793b-4189-957c-a065b584b04f_featurize',\n",
       "  'ProblemInfoJsonString': '{\"dataset_num_categorical\": 0, \"is_sparse\": true, \"subsampling\": false, \"dataset_classes\": 2, \"dataset_features\": 469, \"dataset_samples\": 66912, \"single_frequency_class_detected\": false}',\n",
       "  'ModelExplainRunId': 'AutoML_561039e3-793b-4189-957c-a065b584b04f_ModelExplain'},\n",
       " 'inputDatasets': [{'dataset': {'id': '2f2bcbaa-74d2-4680-8bd9-aa69ace159ac'}, 'consumptionDetails': {'type': 'RunInput', 'inputName': 'training_data', 'mechanism': 'Direct'}}],\n",
       " 'outputDatasets': [],\n",
       " 'logFiles': {}}"
      ]
     },
     "execution_count": 9,
     "metadata": {},
     "output_type": "execute_result"
    }
   ],
   "source": [
    "RunDetails(remote_run).show()\n",
    "remote_run.wait_for_completion()"
   ]
  },
  {
   "cell_type": "markdown",
   "metadata": {},
   "source": [
    "## Best Model\n",
    "\n",
    "get the best model from the automl experiments and display all the properties of the model.\n",
    "\n"
   ]
  },
  {
   "cell_type": "code",
   "execution_count": 10,
   "metadata": {
    "collapsed": false,
    "gather": {
     "logged": 1598431425670
    },
    "jupyter": {
     "outputs_hidden": false,
     "source_hidden": false
    },
    "nteract": {
     "transient": {
      "deleting": false
     }
    }
   },
   "outputs": [],
   "source": [
    "best_run, fitted_model = remote_run.get_output()"
   ]
  },
  {
   "cell_type": "code",
   "execution_count": 11,
   "metadata": {},
   "outputs": [
    {
     "name": "stdout",
     "output_type": "stream",
     "text": [
      "Run(Experiment: click-through-rate-prediction,\n",
      "Id: AutoML_561039e3-793b-4189-957c-a065b584b04f_31,\n",
      "Type: azureml.scriptrun,\n",
      "Status: Completed)\n"
     ]
    }
   ],
   "source": [
    "print(best_run)"
   ]
  },
  {
   "cell_type": "code",
   "execution_count": 12,
   "metadata": {
    "collapsed": false,
    "gather": {
     "logged": 1598431426111
    },
    "jupyter": {
     "outputs_hidden": false,
     "source_hidden": false
    },
    "nteract": {
     "transient": {
      "deleting": false
     }
    }
   },
   "outputs": [],
   "source": [
    "# register model\n",
    "model = best_run.register_model(model_name='click-through-rate-predictions-AutoML', \n",
    "                                model_path='./outputs/model.pkl',\n",
    "                                tags=best_run.get_metrics())"
   ]
  },
  {
   "cell_type": "markdown",
   "metadata": {},
   "source": [
    "get best model parameters"
   ]
  },
  {
   "cell_type": "code",
   "execution_count": 13,
   "metadata": {},
   "outputs": [
    {
     "data": {
      "text/plain": [
       "StackEnsembleClassifier(base_learners=[('19',\n",
       "                                        Pipeline(memory=None,\n",
       "                                                 steps=[('maxabsscaler',\n",
       "                                                         MaxAbsScaler(copy=True)),\n",
       "                                                        ('lightgbmclassifier',\n",
       "                                                         LightGBMClassifier(boosting_type='gbdt',\n",
       "                                                                            class_weight=None,\n",
       "                                                                            colsample_bytree=0.7922222222222222,\n",
       "                                                                            importance_type='split',\n",
       "                                                                            learning_rate=0.1,\n",
       "                                                                            max_bin=270,\n",
       "                                                                            max_depth=-1,\n",
       "                                                                            min_child_samples=1385,\n",
       "                                                                            min_child_weight=7,\n",
       "                                                                            min_split_g...\n",
       "                        meta_learner=LogisticRegressionCV(Cs=10,\n",
       "                                                          class_weight=None,\n",
       "                                                          cv=None, dual=False,\n",
       "                                                          fit_intercept=True,\n",
       "                                                          intercept_scaling=1.0,\n",
       "                                                          l1_ratios=None,\n",
       "                                                          max_iter=100,\n",
       "                                                          multi_class='auto',\n",
       "                                                          n_jobs=None,\n",
       "                                                          penalty='l2',\n",
       "                                                          random_state=None,\n",
       "                                                          refit=True,\n",
       "                                                          scoring=<azureml.automl.runtime.stack_ensemble_base.Scorer object at 0x7f93d54d2860>,\n",
       "                                                          solver='lbfgs',\n",
       "                                                          tol=0.0001,\n",
       "                                                          verbose=0),\n",
       "                        training_cv_folds=5)"
      ]
     },
     "execution_count": 13,
     "metadata": {},
     "output_type": "execute_result"
    }
   ],
   "source": [
    "fitted_model.steps[1][1]"
   ]
  },
  {
   "cell_type": "code",
   "execution_count": 14,
   "metadata": {},
   "outputs": [
    {
     "data": {
      "text/plain": [
       "{'base_learners': None,\n",
       " 'meta_learner': None,\n",
       " 'training_cv_folds': None,\n",
       " '19': Pipeline(memory=None,\n",
       "          steps=[('maxabsscaler', MaxAbsScaler(copy=True)),\n",
       "                 ('lightgbmclassifier',\n",
       "                  LightGBMClassifier(boosting_type='gbdt', class_weight=None,\n",
       "                                     colsample_bytree=0.7922222222222222,\n",
       "                                     importance_type='split', learning_rate=0.1,\n",
       "                                     max_bin=270, max_depth=-1,\n",
       "                                     min_child_samples=1385, min_child_weight=7,\n",
       "                                     min_split_gain=0.15789473684210525,\n",
       "                                     n_estimators=200, n_jobs=1, num_leaves=239,\n",
       "                                     objective=None, random_state=None,\n",
       "                                     reg_alpha=0.2631578947368421,\n",
       "                                     reg_lambda=0.05263157894736842, silent=True,\n",
       "                                     subsample=0.8415789473684211,\n",
       "                                     subsample_for_bin=200000, subsample_freq=0,\n",
       "                                     verbose=-10))],\n",
       "          verbose=False),\n",
       " '0': Pipeline(memory=None,\n",
       "          steps=[('maxabsscaler', MaxAbsScaler(copy=True)),\n",
       "                 ('lightgbmclassifier',\n",
       "                  LightGBMClassifier(boosting_type='gbdt', class_weight=None,\n",
       "                                     colsample_bytree=1.0,\n",
       "                                     importance_type='split', learning_rate=0.1,\n",
       "                                     max_depth=-1, min_child_samples=20,\n",
       "                                     min_child_weight=0.001, min_split_gain=0.0,\n",
       "                                     n_estimators=100, n_jobs=1, num_leaves=31,\n",
       "                                     objective=None, random_state=None,\n",
       "                                     reg_alpha=0.0, reg_lambda=0.0, silent=True,\n",
       "                                     subsample=1.0, subsample_for_bin=200000,\n",
       "                                     subsample_freq=0, verbose=-10))],\n",
       "          verbose=False),\n",
       " '20': Pipeline(memory=None,\n",
       "          steps=[('standardscalerwrapper',\n",
       "                  <azureml.automl.runtime.shared.model_wrappers.StandardScalerWrapper object at 0x7f93d5526b70>),\n",
       "                 ('xgboostclassifier',\n",
       "                  XGBoostClassifier(base_score=0.5, booster='gbtree',\n",
       "                                    colsample_bylevel=1, colsample_bynode=1,\n",
       "                                    colsample_bytree=1, eta=0.001, gamma=0.1,\n",
       "                                    grow_policy='lossguide', learning_rate=0.1,\n",
       "                                    max_bin=1023, max_delta_step=0, max_depth=0,\n",
       "                                    max_leaves=63, min_child_weight=1,\n",
       "                                    missing=nan, n_estimators=25, n_jobs=1,\n",
       "                                    nthread=None, objective='reg:logistic',\n",
       "                                    random_state=0, reg_alpha=0,\n",
       "                                    reg_lambda=1.7708333333333335,\n",
       "                                    scale_pos_weight=1, seed=None, silent=None,\n",
       "                                    subsample=0.9, tree_method='hist',\n",
       "                                    verbose=-10, verbosity=0))],\n",
       "          verbose=False),\n",
       " '23': Pipeline(memory=None,\n",
       "          steps=[('standardscalerwrapper',\n",
       "                  <azureml.automl.runtime.shared.model_wrappers.StandardScalerWrapper object at 0x7f93d5537d30>),\n",
       "                 ('logisticregression',\n",
       "                  LogisticRegression(C=0.12648552168552957,\n",
       "                                     class_weight='balanced', dual=False,\n",
       "                                     fit_intercept=True, intercept_scaling=1,\n",
       "                                     l1_ratio=None, max_iter=100,\n",
       "                                     multi_class='ovr', n_jobs=1, penalty='l2',\n",
       "                                     random_state=None, solver='newton-cg',\n",
       "                                     tol=0.0001, verbose=0, warm_start=False))],\n",
       "          verbose=False),\n",
       " '1': Pipeline(memory=None,\n",
       "          steps=[('maxabsscaler', MaxAbsScaler(copy=True)),\n",
       "                 ('xgboostclassifier',\n",
       "                  XGBoostClassifier(base_score=0.5, booster='gbtree',\n",
       "                                    colsample_bylevel=1, colsample_bynode=1,\n",
       "                                    colsample_bytree=1, gamma=0,\n",
       "                                    learning_rate=0.1, max_delta_step=0,\n",
       "                                    max_depth=3, min_child_weight=1, missing=nan,\n",
       "                                    n_estimators=100, n_jobs=1, nthread=None,\n",
       "                                    objective='binary:logistic', random_state=0,\n",
       "                                    reg_alpha=0, reg_lambda=1,\n",
       "                                    scale_pos_weight=1, seed=None, silent=None,\n",
       "                                    subsample=1, tree_method='auto', verbose=-10,\n",
       "                                    verbosity=0))],\n",
       "          verbose=False),\n",
       " '22': Pipeline(memory=None,\n",
       "          steps=[('standardscalerwrapper',\n",
       "                  <azureml.automl.runtime.shared.model_wrappers.StandardScalerWrapper object at 0x7f93d54c14e0>),\n",
       "                 ('logisticregression',\n",
       "                  LogisticRegression(C=0.2682695795279725,\n",
       "                                     class_weight='balanced', dual=False,\n",
       "                                     fit_intercept=True, intercept_scaling=1,\n",
       "                                     l1_ratio=None, max_iter=100,\n",
       "                                     multi_class='ovr', n_jobs=1, penalty='l2',\n",
       "                                     random_state=None, solver='saga',\n",
       "                                     tol=0.0001, verbose=0, warm_start=False))],\n",
       "          verbose=False),\n",
       " '21': Pipeline(memory=None,\n",
       "          steps=[('standardscalerwrapper',\n",
       "                  <azureml.automl.runtime.shared.model_wrappers.StandardScalerWrapper object at 0x7f93d54c1cf8>),\n",
       "                 ('xgboostclassifier',\n",
       "                  XGBoostClassifier(base_score=0.5, booster='gbtree',\n",
       "                                    colsample_bylevel=1, colsample_bynode=1,\n",
       "                                    colsample_bytree=0.6, eta=0.1, gamma=0,\n",
       "                                    grow_policy='lossguide', learning_rate=0.1,\n",
       "                                    max_bin=63, max_delta_step=0, max_depth=6,\n",
       "                                    max_leaves=0, min_child_weight=1,\n",
       "                                    missing=nan, n_estimators=800, n_jobs=1,\n",
       "                                    nthread=None, objective='reg:logistic',\n",
       "                                    random_state=0, reg_alpha=1.1458333333333335,\n",
       "                                    reg_lambda=0.5208333333333334,\n",
       "                                    scale_pos_weight=1, seed=None, silent=None,\n",
       "                                    subsample=0.5, tree_method='hist',\n",
       "                                    verbose=-10, verbosity=0))],\n",
       "          verbose=False),\n",
       " '26': Pipeline(memory=None,\n",
       "          steps=[('truncatedsvdwrapper',\n",
       "                  TruncatedSVDWrapper(n_components=0.8510526315789474,\n",
       "                                      random_state=None)),\n",
       "                 ('xgboostclassifier',\n",
       "                  XGBoostClassifier(base_score=0.5, booster='gbtree',\n",
       "                                    colsample_bylevel=1, colsample_bynode=1,\n",
       "                                    colsample_bytree=0.8, eta=0.05, gamma=0,\n",
       "                                    grow_policy='lossguide', learning_rate=0.1,\n",
       "                                    max_bin=255, max_delta_step=0, max_depth=6,\n",
       "                                    max_leaves=0, min_child_weight=1,\n",
       "                                    missing=nan, n_estimators=10, n_jobs=1,\n",
       "                                    nthread=None, objective='reg:logistic',\n",
       "                                    random_state=0, reg_alpha=0,\n",
       "                                    reg_lambda=0.9375, scale_pos_weight=1,\n",
       "                                    seed=None, silent=None, subsample=0.5,\n",
       "                                    tree_method='hist', verbose=-10,\n",
       "                                    verbosity=0))],\n",
       "          verbose=False),\n",
       " '19__memory': None,\n",
       " '19__steps': [('maxabsscaler', MaxAbsScaler(copy=True)),\n",
       "  ('lightgbmclassifier',\n",
       "   LightGBMClassifier(boosting_type='gbdt', class_weight=None,\n",
       "                      colsample_bytree=0.7922222222222222, importance_type='split',\n",
       "                      learning_rate=0.1, max_bin=270, max_depth=-1,\n",
       "                      min_child_samples=1385, min_child_weight=7,\n",
       "                      min_split_gain=0.15789473684210525, n_estimators=200,\n",
       "                      n_jobs=1, num_leaves=239, objective=None, random_state=None,\n",
       "                      reg_alpha=0.2631578947368421, reg_lambda=0.05263157894736842,\n",
       "                      silent=True, subsample=0.8415789473684211,\n",
       "                      subsample_for_bin=200000, subsample_freq=0, verbose=-10))],\n",
       " '19__verbose': False,\n",
       " '19__maxabsscaler': MaxAbsScaler(copy=True),\n",
       " '19__lightgbmclassifier': LightGBMClassifier(boosting_type='gbdt', class_weight=None,\n",
       "                    colsample_bytree=0.7922222222222222, importance_type='split',\n",
       "                    learning_rate=0.1, max_bin=270, max_depth=-1,\n",
       "                    min_child_samples=1385, min_child_weight=7,\n",
       "                    min_split_gain=0.15789473684210525, n_estimators=200,\n",
       "                    n_jobs=1, num_leaves=239, objective=None, random_state=None,\n",
       "                    reg_alpha=0.2631578947368421, reg_lambda=0.05263157894736842,\n",
       "                    silent=True, subsample=0.8415789473684211,\n",
       "                    subsample_for_bin=200000, subsample_freq=0, verbose=-10),\n",
       " '19__maxabsscaler__copy': True,\n",
       " '19__lightgbmclassifier__random_state': None,\n",
       " '19__lightgbmclassifier__n_jobs': 1,\n",
       " '19__lightgbmclassifier__boosting_type': 'gbdt',\n",
       " '19__lightgbmclassifier__class_weight': None,\n",
       " '19__lightgbmclassifier__colsample_bytree': 0.7922222222222222,\n",
       " '19__lightgbmclassifier__importance_type': 'split',\n",
       " '19__lightgbmclassifier__learning_rate': 0.1,\n",
       " '19__lightgbmclassifier__max_depth': -1,\n",
       " '19__lightgbmclassifier__min_child_samples': 1385,\n",
       " '19__lightgbmclassifier__min_child_weight': 7,\n",
       " '19__lightgbmclassifier__min_split_gain': 0.15789473684210525,\n",
       " '19__lightgbmclassifier__n_estimators': 200,\n",
       " '19__lightgbmclassifier__num_leaves': 239,\n",
       " '19__lightgbmclassifier__objective': None,\n",
       " '19__lightgbmclassifier__reg_alpha': 0.2631578947368421,\n",
       " '19__lightgbmclassifier__reg_lambda': 0.05263157894736842,\n",
       " '19__lightgbmclassifier__silent': True,\n",
       " '19__lightgbmclassifier__subsample': 0.8415789473684211,\n",
       " '19__lightgbmclassifier__subsample_for_bin': 200000,\n",
       " '19__lightgbmclassifier__subsample_freq': 0,\n",
       " '19__lightgbmclassifier__max_bin': 270,\n",
       " '19__lightgbmclassifier__verbose': -10,\n",
       " '0__memory': None,\n",
       " '0__steps': [('maxabsscaler', MaxAbsScaler(copy=True)),\n",
       "  ('lightgbmclassifier',\n",
       "   LightGBMClassifier(boosting_type='gbdt', class_weight=None,\n",
       "                      colsample_bytree=1.0, importance_type='split',\n",
       "                      learning_rate=0.1, max_depth=-1, min_child_samples=20,\n",
       "                      min_child_weight=0.001, min_split_gain=0.0, n_estimators=100,\n",
       "                      n_jobs=1, num_leaves=31, objective=None, random_state=None,\n",
       "                      reg_alpha=0.0, reg_lambda=0.0, silent=True, subsample=1.0,\n",
       "                      subsample_for_bin=200000, subsample_freq=0, verbose=-10))],\n",
       " '0__verbose': False,\n",
       " '0__maxabsscaler': MaxAbsScaler(copy=True),\n",
       " '0__lightgbmclassifier': LightGBMClassifier(boosting_type='gbdt', class_weight=None,\n",
       "                    colsample_bytree=1.0, importance_type='split',\n",
       "                    learning_rate=0.1, max_depth=-1, min_child_samples=20,\n",
       "                    min_child_weight=0.001, min_split_gain=0.0, n_estimators=100,\n",
       "                    n_jobs=1, num_leaves=31, objective=None, random_state=None,\n",
       "                    reg_alpha=0.0, reg_lambda=0.0, silent=True, subsample=1.0,\n",
       "                    subsample_for_bin=200000, subsample_freq=0, verbose=-10),\n",
       " '0__maxabsscaler__copy': True,\n",
       " '0__lightgbmclassifier__random_state': None,\n",
       " '0__lightgbmclassifier__n_jobs': 1,\n",
       " '0__lightgbmclassifier__boosting_type': 'gbdt',\n",
       " '0__lightgbmclassifier__class_weight': None,\n",
       " '0__lightgbmclassifier__colsample_bytree': 1.0,\n",
       " '0__lightgbmclassifier__importance_type': 'split',\n",
       " '0__lightgbmclassifier__learning_rate': 0.1,\n",
       " '0__lightgbmclassifier__max_depth': -1,\n",
       " '0__lightgbmclassifier__min_child_samples': 20,\n",
       " '0__lightgbmclassifier__min_child_weight': 0.001,\n",
       " '0__lightgbmclassifier__min_split_gain': 0.0,\n",
       " '0__lightgbmclassifier__n_estimators': 100,\n",
       " '0__lightgbmclassifier__num_leaves': 31,\n",
       " '0__lightgbmclassifier__objective': None,\n",
       " '0__lightgbmclassifier__reg_alpha': 0.0,\n",
       " '0__lightgbmclassifier__reg_lambda': 0.0,\n",
       " '0__lightgbmclassifier__silent': True,\n",
       " '0__lightgbmclassifier__subsample': 1.0,\n",
       " '0__lightgbmclassifier__subsample_for_bin': 200000,\n",
       " '0__lightgbmclassifier__subsample_freq': 0,\n",
       " '0__lightgbmclassifier__verbose': -10,\n",
       " '20__memory': None,\n",
       " '20__steps': [('standardscalerwrapper',\n",
       "   <azureml.automl.runtime.shared.model_wrappers.StandardScalerWrapper at 0x7f93d5526b70>),\n",
       "  ('xgboostclassifier',\n",
       "   XGBoostClassifier(base_score=0.5, booster='gbtree', colsample_bylevel=1,\n",
       "                     colsample_bynode=1, colsample_bytree=1, eta=0.001, gamma=0.1,\n",
       "                     grow_policy='lossguide', learning_rate=0.1, max_bin=1023,\n",
       "                     max_delta_step=0, max_depth=0, max_leaves=63,\n",
       "                     min_child_weight=1, missing=nan, n_estimators=25, n_jobs=1,\n",
       "                     nthread=None, objective='reg:logistic', random_state=0,\n",
       "                     reg_alpha=0, reg_lambda=1.7708333333333335,\n",
       "                     scale_pos_weight=1, seed=None, silent=None, subsample=0.9,\n",
       "                     tree_method='hist', verbose=-10, verbosity=0))],\n",
       " '20__verbose': False,\n",
       " '20__standardscalerwrapper': <azureml.automl.runtime.shared.model_wrappers.StandardScalerWrapper at 0x7f93d5526b70>,\n",
       " '20__xgboostclassifier': XGBoostClassifier(base_score=0.5, booster='gbtree', colsample_bylevel=1,\n",
       "                   colsample_bynode=1, colsample_bytree=1, eta=0.001, gamma=0.1,\n",
       "                   grow_policy='lossguide', learning_rate=0.1, max_bin=1023,\n",
       "                   max_delta_step=0, max_depth=0, max_leaves=63,\n",
       "                   min_child_weight=1, missing=nan, n_estimators=25, n_jobs=1,\n",
       "                   nthread=None, objective='reg:logistic', random_state=0,\n",
       "                   reg_alpha=0, reg_lambda=1.7708333333333335,\n",
       "                   scale_pos_weight=1, seed=None, silent=None, subsample=0.9,\n",
       "                   tree_method='hist', verbose=-10, verbosity=0),\n",
       " '20__standardscalerwrapper__module_name': 'sklearn.preprocessing._data',\n",
       " '20__standardscalerwrapper__class_name': 'StandardScaler',\n",
       " '20__standardscalerwrapper__copy': True,\n",
       " '20__standardscalerwrapper__with_mean': False,\n",
       " '20__standardscalerwrapper__with_std': False,\n",
       " '20__xgboostclassifier__base_score': 0.5,\n",
       " '20__xgboostclassifier__booster': 'gbtree',\n",
       " '20__xgboostclassifier__colsample_bylevel': 1,\n",
       " '20__xgboostclassifier__colsample_bynode': 1,\n",
       " '20__xgboostclassifier__colsample_bytree': 1,\n",
       " '20__xgboostclassifier__gamma': 0.1,\n",
       " '20__xgboostclassifier__learning_rate': 0.1,\n",
       " '20__xgboostclassifier__max_delta_step': 0,\n",
       " '20__xgboostclassifier__max_depth': 0,\n",
       " '20__xgboostclassifier__min_child_weight': 1,\n",
       " '20__xgboostclassifier__missing': nan,\n",
       " '20__xgboostclassifier__n_estimators': 25,\n",
       " '20__xgboostclassifier__n_jobs': 1,\n",
       " '20__xgboostclassifier__nthread': None,\n",
       " '20__xgboostclassifier__objective': 'reg:logistic',\n",
       " '20__xgboostclassifier__random_state': 0,\n",
       " '20__xgboostclassifier__reg_alpha': 0,\n",
       " '20__xgboostclassifier__reg_lambda': 1.7708333333333335,\n",
       " '20__xgboostclassifier__scale_pos_weight': 1,\n",
       " '20__xgboostclassifier__seed': None,\n",
       " '20__xgboostclassifier__silent': None,\n",
       " '20__xgboostclassifier__subsample': 0.9,\n",
       " '20__xgboostclassifier__verbosity': 0,\n",
       " '20__xgboostclassifier__eta': 0.001,\n",
       " '20__xgboostclassifier__grow_policy': 'lossguide',\n",
       " '20__xgboostclassifier__max_bin': 1023,\n",
       " '20__xgboostclassifier__max_leaves': 63,\n",
       " '20__xgboostclassifier__tree_method': 'hist',\n",
       " '20__xgboostclassifier__verbose': -10,\n",
       " '23__memory': None,\n",
       " '23__steps': [('standardscalerwrapper',\n",
       "   <azureml.automl.runtime.shared.model_wrappers.StandardScalerWrapper at 0x7f93d5537d30>),\n",
       "  ('logisticregression',\n",
       "   LogisticRegression(C=0.12648552168552957, class_weight='balanced', dual=False,\n",
       "                      fit_intercept=True, intercept_scaling=1, l1_ratio=None,\n",
       "                      max_iter=100, multi_class='ovr', n_jobs=1, penalty='l2',\n",
       "                      random_state=None, solver='newton-cg', tol=0.0001, verbose=0,\n",
       "                      warm_start=False))],\n",
       " '23__verbose': False,\n",
       " '23__standardscalerwrapper': <azureml.automl.runtime.shared.model_wrappers.StandardScalerWrapper at 0x7f93d5537d30>,\n",
       " '23__logisticregression': LogisticRegression(C=0.12648552168552957, class_weight='balanced', dual=False,\n",
       "                    fit_intercept=True, intercept_scaling=1, l1_ratio=None,\n",
       "                    max_iter=100, multi_class='ovr', n_jobs=1, penalty='l2',\n",
       "                    random_state=None, solver='newton-cg', tol=0.0001, verbose=0,\n",
       "                    warm_start=False),\n",
       " '23__standardscalerwrapper__module_name': 'sklearn.preprocessing._data',\n",
       " '23__standardscalerwrapper__class_name': 'StandardScaler',\n",
       " '23__standardscalerwrapper__copy': True,\n",
       " '23__standardscalerwrapper__with_mean': False,\n",
       " '23__standardscalerwrapper__with_std': False,\n",
       " '23__logisticregression__C': 0.12648552168552957,\n",
       " '23__logisticregression__class_weight': 'balanced',\n",
       " '23__logisticregression__dual': False,\n",
       " '23__logisticregression__fit_intercept': True,\n",
       " '23__logisticregression__intercept_scaling': 1,\n",
       " '23__logisticregression__l1_ratio': None,\n",
       " '23__logisticregression__max_iter': 100,\n",
       " '23__logisticregression__multi_class': 'ovr',\n",
       " '23__logisticregression__n_jobs': 1,\n",
       " '23__logisticregression__penalty': 'l2',\n",
       " '23__logisticregression__random_state': None,\n",
       " '23__logisticregression__solver': 'newton-cg',\n",
       " '23__logisticregression__tol': 0.0001,\n",
       " '23__logisticregression__verbose': 0,\n",
       " '23__logisticregression__warm_start': False,\n",
       " '1__memory': None,\n",
       " '1__steps': [('maxabsscaler', MaxAbsScaler(copy=True)),\n",
       "  ('xgboostclassifier',\n",
       "   XGBoostClassifier(base_score=0.5, booster='gbtree', colsample_bylevel=1,\n",
       "                     colsample_bynode=1, colsample_bytree=1, gamma=0,\n",
       "                     learning_rate=0.1, max_delta_step=0, max_depth=3,\n",
       "                     min_child_weight=1, missing=nan, n_estimators=100, n_jobs=1,\n",
       "                     nthread=None, objective='binary:logistic', random_state=0,\n",
       "                     reg_alpha=0, reg_lambda=1, scale_pos_weight=1, seed=None,\n",
       "                     silent=None, subsample=1, tree_method='auto', verbose=-10,\n",
       "                     verbosity=0))],\n",
       " '1__verbose': False,\n",
       " '1__maxabsscaler': MaxAbsScaler(copy=True),\n",
       " '1__xgboostclassifier': XGBoostClassifier(base_score=0.5, booster='gbtree', colsample_bylevel=1,\n",
       "                   colsample_bynode=1, colsample_bytree=1, gamma=0,\n",
       "                   learning_rate=0.1, max_delta_step=0, max_depth=3,\n",
       "                   min_child_weight=1, missing=nan, n_estimators=100, n_jobs=1,\n",
       "                   nthread=None, objective='binary:logistic', random_state=0,\n",
       "                   reg_alpha=0, reg_lambda=1, scale_pos_weight=1, seed=None,\n",
       "                   silent=None, subsample=1, tree_method='auto', verbose=-10,\n",
       "                   verbosity=0),\n",
       " '1__maxabsscaler__copy': True,\n",
       " '1__xgboostclassifier__base_score': 0.5,\n",
       " '1__xgboostclassifier__booster': 'gbtree',\n",
       " '1__xgboostclassifier__colsample_bylevel': 1,\n",
       " '1__xgboostclassifier__colsample_bynode': 1,\n",
       " '1__xgboostclassifier__colsample_bytree': 1,\n",
       " '1__xgboostclassifier__gamma': 0,\n",
       " '1__xgboostclassifier__learning_rate': 0.1,\n",
       " '1__xgboostclassifier__max_delta_step': 0,\n",
       " '1__xgboostclassifier__max_depth': 3,\n",
       " '1__xgboostclassifier__min_child_weight': 1,\n",
       " '1__xgboostclassifier__missing': nan,\n",
       " '1__xgboostclassifier__n_estimators': 100,\n",
       " '1__xgboostclassifier__n_jobs': 1,\n",
       " '1__xgboostclassifier__nthread': None,\n",
       " '1__xgboostclassifier__objective': 'binary:logistic',\n",
       " '1__xgboostclassifier__random_state': 0,\n",
       " '1__xgboostclassifier__reg_alpha': 0,\n",
       " '1__xgboostclassifier__reg_lambda': 1,\n",
       " '1__xgboostclassifier__scale_pos_weight': 1,\n",
       " '1__xgboostclassifier__seed': None,\n",
       " '1__xgboostclassifier__silent': None,\n",
       " '1__xgboostclassifier__subsample': 1,\n",
       " '1__xgboostclassifier__verbosity': 0,\n",
       " '1__xgboostclassifier__tree_method': 'auto',\n",
       " '1__xgboostclassifier__verbose': -10,\n",
       " '22__memory': None,\n",
       " '22__steps': [('standardscalerwrapper',\n",
       "   <azureml.automl.runtime.shared.model_wrappers.StandardScalerWrapper at 0x7f93d54c14e0>),\n",
       "  ('logisticregression',\n",
       "   LogisticRegression(C=0.2682695795279725, class_weight='balanced', dual=False,\n",
       "                      fit_intercept=True, intercept_scaling=1, l1_ratio=None,\n",
       "                      max_iter=100, multi_class='ovr', n_jobs=1, penalty='l2',\n",
       "                      random_state=None, solver='saga', tol=0.0001, verbose=0,\n",
       "                      warm_start=False))],\n",
       " '22__verbose': False,\n",
       " '22__standardscalerwrapper': <azureml.automl.runtime.shared.model_wrappers.StandardScalerWrapper at 0x7f93d54c14e0>,\n",
       " '22__logisticregression': LogisticRegression(C=0.2682695795279725, class_weight='balanced', dual=False,\n",
       "                    fit_intercept=True, intercept_scaling=1, l1_ratio=None,\n",
       "                    max_iter=100, multi_class='ovr', n_jobs=1, penalty='l2',\n",
       "                    random_state=None, solver='saga', tol=0.0001, verbose=0,\n",
       "                    warm_start=False),\n",
       " '22__standardscalerwrapper__module_name': 'sklearn.preprocessing._data',\n",
       " '22__standardscalerwrapper__class_name': 'StandardScaler',\n",
       " '22__standardscalerwrapper__copy': True,\n",
       " '22__standardscalerwrapper__with_mean': False,\n",
       " '22__standardscalerwrapper__with_std': True,\n",
       " '22__logisticregression__C': 0.2682695795279725,\n",
       " '22__logisticregression__class_weight': 'balanced',\n",
       " '22__logisticregression__dual': False,\n",
       " '22__logisticregression__fit_intercept': True,\n",
       " '22__logisticregression__intercept_scaling': 1,\n",
       " '22__logisticregression__l1_ratio': None,\n",
       " '22__logisticregression__max_iter': 100,\n",
       " '22__logisticregression__multi_class': 'ovr',\n",
       " '22__logisticregression__n_jobs': 1,\n",
       " '22__logisticregression__penalty': 'l2',\n",
       " '22__logisticregression__random_state': None,\n",
       " '22__logisticregression__solver': 'saga',\n",
       " '22__logisticregression__tol': 0.0001,\n",
       " '22__logisticregression__verbose': 0,\n",
       " '22__logisticregression__warm_start': False,\n",
       " '21__memory': None,\n",
       " '21__steps': [('standardscalerwrapper',\n",
       "   <azureml.automl.runtime.shared.model_wrappers.StandardScalerWrapper at 0x7f93d54c1cf8>),\n",
       "  ('xgboostclassifier',\n",
       "   XGBoostClassifier(base_score=0.5, booster='gbtree', colsample_bylevel=1,\n",
       "                     colsample_bynode=1, colsample_bytree=0.6, eta=0.1, gamma=0,\n",
       "                     grow_policy='lossguide', learning_rate=0.1, max_bin=63,\n",
       "                     max_delta_step=0, max_depth=6, max_leaves=0,\n",
       "                     min_child_weight=1, missing=nan, n_estimators=800, n_jobs=1,\n",
       "                     nthread=None, objective='reg:logistic', random_state=0,\n",
       "                     reg_alpha=1.1458333333333335, reg_lambda=0.5208333333333334,\n",
       "                     scale_pos_weight=1, seed=None, silent=None, subsample=0.5,\n",
       "                     tree_method='hist', verbose=-10, verbosity=0))],\n",
       " '21__verbose': False,\n",
       " '21__standardscalerwrapper': <azureml.automl.runtime.shared.model_wrappers.StandardScalerWrapper at 0x7f93d54c1cf8>,\n",
       " '21__xgboostclassifier': XGBoostClassifier(base_score=0.5, booster='gbtree', colsample_bylevel=1,\n",
       "                   colsample_bynode=1, colsample_bytree=0.6, eta=0.1, gamma=0,\n",
       "                   grow_policy='lossguide', learning_rate=0.1, max_bin=63,\n",
       "                   max_delta_step=0, max_depth=6, max_leaves=0,\n",
       "                   min_child_weight=1, missing=nan, n_estimators=800, n_jobs=1,\n",
       "                   nthread=None, objective='reg:logistic', random_state=0,\n",
       "                   reg_alpha=1.1458333333333335, reg_lambda=0.5208333333333334,\n",
       "                   scale_pos_weight=1, seed=None, silent=None, subsample=0.5,\n",
       "                   tree_method='hist', verbose=-10, verbosity=0),\n",
       " '21__standardscalerwrapper__module_name': 'sklearn.preprocessing._data',\n",
       " '21__standardscalerwrapper__class_name': 'StandardScaler',\n",
       " '21__standardscalerwrapper__copy': True,\n",
       " '21__standardscalerwrapper__with_mean': False,\n",
       " '21__standardscalerwrapper__with_std': False,\n",
       " '21__xgboostclassifier__base_score': 0.5,\n",
       " '21__xgboostclassifier__booster': 'gbtree',\n",
       " '21__xgboostclassifier__colsample_bylevel': 1,\n",
       " '21__xgboostclassifier__colsample_bynode': 1,\n",
       " '21__xgboostclassifier__colsample_bytree': 0.6,\n",
       " '21__xgboostclassifier__gamma': 0,\n",
       " '21__xgboostclassifier__learning_rate': 0.1,\n",
       " '21__xgboostclassifier__max_delta_step': 0,\n",
       " '21__xgboostclassifier__max_depth': 6,\n",
       " '21__xgboostclassifier__min_child_weight': 1,\n",
       " '21__xgboostclassifier__missing': nan,\n",
       " '21__xgboostclassifier__n_estimators': 800,\n",
       " '21__xgboostclassifier__n_jobs': 1,\n",
       " '21__xgboostclassifier__nthread': None,\n",
       " '21__xgboostclassifier__objective': 'reg:logistic',\n",
       " '21__xgboostclassifier__random_state': 0,\n",
       " '21__xgboostclassifier__reg_alpha': 1.1458333333333335,\n",
       " '21__xgboostclassifier__reg_lambda': 0.5208333333333334,\n",
       " '21__xgboostclassifier__scale_pos_weight': 1,\n",
       " '21__xgboostclassifier__seed': None,\n",
       " '21__xgboostclassifier__silent': None,\n",
       " '21__xgboostclassifier__subsample': 0.5,\n",
       " '21__xgboostclassifier__verbosity': 0,\n",
       " '21__xgboostclassifier__eta': 0.1,\n",
       " '21__xgboostclassifier__grow_policy': 'lossguide',\n",
       " '21__xgboostclassifier__max_bin': 63,\n",
       " '21__xgboostclassifier__max_leaves': 0,\n",
       " '21__xgboostclassifier__tree_method': 'hist',\n",
       " '21__xgboostclassifier__verbose': -10,\n",
       " '26__memory': None,\n",
       " '26__steps': [('truncatedsvdwrapper',\n",
       "   TruncatedSVDWrapper(n_components=0.8510526315789474, random_state=None)),\n",
       "  ('xgboostclassifier',\n",
       "   XGBoostClassifier(base_score=0.5, booster='gbtree', colsample_bylevel=1,\n",
       "                     colsample_bynode=1, colsample_bytree=0.8, eta=0.05, gamma=0,\n",
       "                     grow_policy='lossguide', learning_rate=0.1, max_bin=255,\n",
       "                     max_delta_step=0, max_depth=6, max_leaves=0,\n",
       "                     min_child_weight=1, missing=nan, n_estimators=10, n_jobs=1,\n",
       "                     nthread=None, objective='reg:logistic', random_state=0,\n",
       "                     reg_alpha=0, reg_lambda=0.9375, scale_pos_weight=1, seed=None,\n",
       "                     silent=None, subsample=0.5, tree_method='hist', verbose=-10,\n",
       "                     verbosity=0))],\n",
       " '26__verbose': False,\n",
       " '26__truncatedsvdwrapper': TruncatedSVDWrapper(n_components=0.8510526315789474, random_state=None),\n",
       " '26__xgboostclassifier': XGBoostClassifier(base_score=0.5, booster='gbtree', colsample_bylevel=1,\n",
       "                   colsample_bynode=1, colsample_bytree=0.8, eta=0.05, gamma=0,\n",
       "                   grow_policy='lossguide', learning_rate=0.1, max_bin=255,\n",
       "                   max_delta_step=0, max_depth=6, max_leaves=0,\n",
       "                   min_child_weight=1, missing=nan, n_estimators=10, n_jobs=1,\n",
       "                   nthread=None, objective='reg:logistic', random_state=0,\n",
       "                   reg_alpha=0, reg_lambda=0.9375, scale_pos_weight=1, seed=None,\n",
       "                   silent=None, subsample=0.5, tree_method='hist', verbose=-10,\n",
       "                   verbosity=0),\n",
       " '26__truncatedsvdwrapper__n_components': 0.8510526315789474,\n",
       " '26__truncatedsvdwrapper__random_state': None,\n",
       " '26__xgboostclassifier__base_score': 0.5,\n",
       " '26__xgboostclassifier__booster': 'gbtree',\n",
       " '26__xgboostclassifier__colsample_bylevel': 1,\n",
       " '26__xgboostclassifier__colsample_bynode': 1,\n",
       " '26__xgboostclassifier__colsample_bytree': 0.8,\n",
       " '26__xgboostclassifier__gamma': 0,\n",
       " '26__xgboostclassifier__learning_rate': 0.1,\n",
       " '26__xgboostclassifier__max_delta_step': 0,\n",
       " '26__xgboostclassifier__max_depth': 6,\n",
       " '26__xgboostclassifier__min_child_weight': 1,\n",
       " '26__xgboostclassifier__missing': nan,\n",
       " '26__xgboostclassifier__n_estimators': 10,\n",
       " '26__xgboostclassifier__n_jobs': 1,\n",
       " '26__xgboostclassifier__nthread': None,\n",
       " '26__xgboostclassifier__objective': 'reg:logistic',\n",
       " '26__xgboostclassifier__random_state': 0,\n",
       " '26__xgboostclassifier__reg_alpha': 0,\n",
       " '26__xgboostclassifier__reg_lambda': 0.9375,\n",
       " '26__xgboostclassifier__scale_pos_weight': 1,\n",
       " '26__xgboostclassifier__seed': None,\n",
       " '26__xgboostclassifier__silent': None,\n",
       " '26__xgboostclassifier__subsample': 0.5,\n",
       " '26__xgboostclassifier__verbosity': 0,\n",
       " '26__xgboostclassifier__eta': 0.05,\n",
       " '26__xgboostclassifier__grow_policy': 'lossguide',\n",
       " '26__xgboostclassifier__max_bin': 255,\n",
       " '26__xgboostclassifier__max_leaves': 0,\n",
       " '26__xgboostclassifier__tree_method': 'hist',\n",
       " '26__xgboostclassifier__verbose': -10,\n",
       " 'metalearner__Cs': 10,\n",
       " 'metalearner__class_weight': None,\n",
       " 'metalearner__cv': None,\n",
       " 'metalearner__dual': False,\n",
       " 'metalearner__fit_intercept': True,\n",
       " 'metalearner__intercept_scaling': 1.0,\n",
       " 'metalearner__l1_ratios': None,\n",
       " 'metalearner__max_iter': 100,\n",
       " 'metalearner__multi_class': 'auto',\n",
       " 'metalearner__n_jobs': None,\n",
       " 'metalearner__penalty': 'l2',\n",
       " 'metalearner__random_state': None,\n",
       " 'metalearner__refit': True,\n",
       " 'metalearner__scoring': <azureml.automl.runtime.stack_ensemble_base.Scorer at 0x7f93d54d2860>,\n",
       " 'metalearner__solver': 'lbfgs',\n",
       " 'metalearner__tol': 0.0001,\n",
       " 'metalearner__verbose': 0}"
      ]
     },
     "execution_count": 14,
     "metadata": {},
     "output_type": "execute_result"
    }
   ],
   "source": [
    "fitted_model.steps[1][1].get_params()"
   ]
  }
 ],
 "metadata": {
  "kernel_info": {
   "name": "python3-azureml"
  },
  "kernelspec": {
   "display_name": "Python 3.6 - AzureML",
   "language": "python",
   "name": "python3-azureml"
  },
  "language_info": {
   "codemirror_mode": {
    "name": "ipython",
    "version": 3
   },
   "file_extension": ".py",
   "mimetype": "text/x-python",
   "name": "python",
   "nbconvert_exporter": "python",
   "pygments_lexer": "ipython3",
   "version": "3.6.9"
  },
  "nteract": {
   "version": "nteract-front-end@1.0.0"
  }
 },
 "nbformat": 4,
 "nbformat_minor": 4
}
