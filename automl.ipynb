{
 "cells": [
  {
   "cell_type": "markdown",
   "metadata": {},
   "source": [
    "# Automated ML"
   ]
  },
  {
   "cell_type": "markdown",
   "metadata": {},
   "source": [
    "Steps for creating the  AutoML experiment\n",
    "\n",
    "1. Create Cluster\n",
    "2. Download data\n",
    "3. Click history generation\n",
    "4. Register data\n",
    "5. Configure autoML experiment\n",
    "6. Submit autoML for execution\n",
    "7. Register the best performing model"
   ]
  },
  {
   "cell_type": "markdown",
   "metadata": {},
   "source": [
    "Import Dependencies"
   ]
  },
  {
   "cell_type": "code",
   "execution_count": 1,
   "metadata": {
    "collapsed": false,
    "gather": {
     "logged": 1598423888013
    },
    "jupyter": {
     "outputs_hidden": false,
     "source_hidden": false
    },
    "nteract": {
     "transient": {
      "deleting": false
     }
    }
   },
   "outputs": [],
   "source": [
    "import os\n",
    "import pandas as pd\n",
    "from azureml.data.dataset_factory import TabularDatasetFactory\n",
    "from azureml.core.experiment import Experiment\n",
    "from azureml.core.workspace import Workspace\n",
    "from azureml.core.dataset import Dataset\n",
    "from tqdm import tqdm\n",
    "from utils import get_click_histories\n",
    "\n",
    "from azureml.core.compute import ComputeTarget, AmlCompute\n",
    "from azureml.core.compute_target import ComputeTargetException\n",
    "from azureml.automl.core.featurization import FeaturizationConfig\n",
    "from azureml.train.automl import AutoMLConfig\n",
    "\n",
    "from azureml.widgets import RunDetails\n",
    "import logging"
   ]
  },
  {
   "cell_type": "markdown",
   "metadata": {},
   "source": [
    "## Initialize workspace\n",
    "Initialize a Workspace object from the existing workspace you created in the Prerequisites step. Workspace.from_config() creates a workspace object from the details stored in config.json."
   ]
  },
  {
   "cell_type": "code",
   "execution_count": 2,
   "metadata": {
    "collapsed": false,
    "gather": {
     "logged": 1598423890461
    },
    "jupyter": {
     "outputs_hidden": false,
     "source_hidden": false
    },
    "nteract": {
     "transient": {
      "deleting": false
     }
    }
   },
   "outputs": [
    {
     "name": "stdout",
     "output_type": "stream",
     "text": [
      "Workspace name: quick-starts-ws-134610\n",
      "Azure region: southcentralus\n",
      "Subscription id: 3d1a56d2-7c81-4118-9790-f85d1acf0c77\n",
      "Resource group: aml-quickstarts-134610\n"
     ]
    }
   ],
   "source": [
    "# set up workspace\n",
    "ws = Workspace.from_config()\n",
    "print('Workspace name: ' + ws.name, \n",
    "      'Azure region: ' + ws.location, \n",
    "      'Subscription id: ' + ws.subscription_id, \n",
    "      'Resource group: ' + ws.resource_group, sep='\\n')\n",
    "\n",
    "# create experiment\n",
    "experiment_name = 'click-through-rate-prediction'\n",
    "experiment = Experiment(ws, experiment_name)"
   ]
  },
  {
   "cell_type": "markdown",
   "metadata": {},
   "source": [
    "## Create or Attach existing AmlCompute\n",
    "\n",
    "use Azure ML managed compute (AmlCompute) for our remote training compute resource.\n",
    "\n",
    "If the AmlCompute with that name is already in your workspace, this code will skip the creation process."
   ]
  },
  {
   "cell_type": "code",
   "execution_count": 3,
   "metadata": {},
   "outputs": [
    {
     "name": "stdout",
     "output_type": "stream",
     "text": [
      "Found existing compute target.\n",
      "Succeeded\n",
      "AmlCompute wait for completion finished\n",
      "\n",
      "Minimum number of nodes requested have been provisioned\n",
      "{'currentNodeCount': 2, 'targetNodeCount': 2, 'nodeStateCounts': {'preparingNodeCount': 0, 'runningNodeCount': 0, 'idleNodeCount': 2, 'unusableNodeCount': 0, 'leavingNodeCount': 0, 'preemptedNodeCount': 0}, 'allocationState': 'Steady', 'allocationStateTransitionTime': '2021-01-14T01:01:47.861000+00:00', 'errors': None, 'creationTime': '2021-01-14T00:59:24.252578+00:00', 'modifiedTime': '2021-01-14T00:59:41.029133+00:00', 'provisioningState': 'Succeeded', 'provisioningStateTransitionTime': None, 'scaleSettings': {'minNodeCount': 2, 'maxNodeCount': 5, 'nodeIdleTimeBeforeScaleDown': 'PT120S'}, 'vmPriority': 'Dedicated', 'vmSize': 'STANDARD_DS3_V2'}\n"
     ]
    }
   ],
   "source": [
    "cluster_name = \"compute-cluster\"\n",
    "\n",
    "try:\n",
    "    compute_target = ComputeTarget(workspace=ws, name=cluster_name)\n",
    "    print('Found existing compute target.')\n",
    "    \n",
    "except ComputeTargetException:\n",
    "    print('Creating a new compute target...')\n",
    "    compute_config = AmlCompute.provisioning_configuration(\n",
    "        vm_size='Standard_DS3_v2',                                                    \n",
    "        min_nodes=2,                                                   \n",
    "        max_nodes=5\n",
    "    )\n",
    "\n",
    "    # create the cluster\n",
    "    compute_target = ComputeTarget.create(ws, cluster_name, compute_config)\n",
    "\n",
    "compute_target.wait_for_completion(show_output=True)\n",
    "\n",
    "# use get_status() to get a detailed status for the current cluster. \n",
    "print(compute_target.get_status().serialize())"
   ]
  },
  {
   "cell_type": "markdown",
   "metadata": {},
   "source": [
    "## Dataset\n",
    "\n",
    "### Overview\n",
    "\n",
    "The dataset is from Kaggle, originally used as the competition dataset of the 2020 DIGIX CTR Predicition competition. The full dataset is 6GB, contains 36 columns (some masked) describing advertising behavior for seven consecutive days. Specifically, the dataset includes\n",
    "\n",
    "* **label** - Whether the customer clicked on an advertisement\n",
    "* **uid** - Unique user ID after data anonymization\n",
    "* **task_id** - Unique ID of an ad task\n",
    "* **adv_id** - Unique ID of an ad material\n",
    "* **creat_type_cd** - Unique ID of an ad creative type\n",
    "* **adv_prim_id** - Advertiser ID of an ad task\n",
    "* dev_id - Developer ID of an ad task\n",
    "* **inter_typ_cd** - Display form of an ad material\n",
    "* **slot_id** - Ad slot ID\n",
    "* **spread_app_id** - App ID of an ad task\n",
    "* **tags** - App tag of an ad task\n",
    "* **app_first_class** - App level-1 category of an ad task\n",
    "* **app_second_class** - App level-2 category of an ad task\n",
    "* **age** - User age\n",
    "* **city** - Resident city of a user\n",
    "* **city_rank** - Level of the resident city of a user\n",
    "* **device_name** - Phone model used by a user\n",
    "* **device_size** - Size of the phone used by a user\n",
    "* **career** - User occupation\n",
    "* **gender** - User gender\n",
    "* **net_type** - Network status when a behavior occurs\n",
    "* **residence** - Resident province of a user\n",
    "* **his_app_size** - App storage size\n",
    "* **his_on_shelf_time** - Release time\n",
    "* **app_score** - App rating score\n",
    "* **emui_dev** - EMUI version\n",
    "* **list_time** - Model release time\n",
    "* **device_price** - Device price\n",
    "* **up_life_duration** - HUAWEI ID lifecycle\n",
    "* **up_membership_grade** - Service membership level\n",
    "* **membership_life_duration** - Membership lifecycle\n",
    "* **consume_purchase** - Paid user tag\n",
    "* **communication_onlinerate** - Active time by mobile phone\n",
    "* **communication_avgonline_30d** - Daily active time by mobile phone\n",
    "* **indu_name** - Ad industry information\n",
    "* **pt_d** - Date when a behavior occurs\n",
    "\n",
    "The task will be for each advertisement, predict whether the customer is going to click on it in the near future."
   ]
  },
  {
   "cell_type": "code",
   "execution_count": 4,
   "metadata": {},
   "outputs": [
    {
     "name": "stdout",
     "output_type": "stream",
     "text": [
      "Found existing dataset, using\n"
     ]
    }
   ],
   "source": [
    "found = False\n",
    "train_key = \"CTR-Training\"\n",
    "test_key = \"CTR-Test\"\n",
    "description_text = \"Building structure data that could help predict damage grade\"\n",
    "\n",
    "if train_key in ws.datasets.keys() and test_key in ws.datasets.keys():\n",
    "    print(\"Found existing dataset, using\")\n",
    "    found = True\n",
    "    train_dataset = ws.datasets[train_key]\n",
    "    test_dataset = ws.datasets[test_key]\n",
    "\n",
    "if not found:\n",
    "    # Create AML Dataset and register it into Workspace\n",
    "    print(f\"Did not find existing dataset with key {train_key} and {test_key}, creating\")\n",
    "\n",
    "    # run the shell script to download the data\n",
    "    os.system(\"sh fetch_dataset.sh\")\n",
    "\n",
    "     # read data in with chunks\n",
    "    num_of_chunk = 0\n",
    "    chunkSize = 10 ** 6\n",
    "    ctr_data = pd.DataFrame()\n",
    "    n = 7\n",
    "\n",
    "    # select 1% to form the new training data\n",
    "    for chunk in tqdm(\n",
    "        pd.read_csv(\"data/train_data.csv\", iterator=True, sep=\"|\", chunksize=chunkSize)\n",
    "    ):\n",
    "        num_of_chunk += 1\n",
    "        chunk_label_0 = chunk[chunk[\"label\"] == 0]\n",
    "        chunk_label_1 = chunk[chunk[\"label\"] == 1]\n",
    "        ctr_data = pd.concat([ctr_data, chunk_label_0.iloc[n * 1000 : (n + 1) * 1000, :]], axis=0)\n",
    "        ctr_data = pd.concat([ctr_data, chunk_label_1.iloc[n * 1000 : (n + 1) * 1000, :]], axis=0)\n",
    "        \n",
    "    \n",
    "    # create historical click through rate features\n",
    "    time_features = [\n",
    "        \"uid\",\n",
    "        \"task_id\",\n",
    "        \"adv_id\",\n",
    "        \"adv_prim_id\",\n",
    "        \"spread_app_id\",\n",
    "    ]\n",
    "\n",
    "    for feature in time_features:\n",
    "        for time_window in range(1, 7):\n",
    "            ctr_data = get_click_histories(ctr_data, feature, time_window)\n",
    "\n",
    "    # merge two csv files\n",
    "    ctr_data.drop_duplicates().to_csv(\"data/ctr_data.csv\", index=False)\n",
    "\n",
    "    # remove old files\n",
    "    os.system(\"rm data/train_data.csv\")\n",
    "\n",
    "    # upload the data to default datastore\n",
    "    ds = ws.get_default_datastore()\n",
    "    ds.upload(\n",
    "        src_dir=\"./data\",\n",
    "        target_path=\"click_through_rate\",\n",
    "        overwrite=True,\n",
    "        show_progress=True,\n",
    "    )\n",
    "\n",
    "    dataset = Dataset.Tabular.from_delimited_files(\n",
    "        path=ds.path(\"click_through_rate/ctr_data.csv\")\n",
    "    )\n",
    "\n",
    "    train_dataset, test_dataset = dataset.random_split(percentage=0.8, seed=7)\n",
    "\n",
    "    # Register Dataset in Workspace\n",
    "    train_dataset = train_dataset.register(workspace=ws, name=train_key, description=description_text)\n",
    "    test_dataset = test_dataset.register(workspace=ws, name=test_key, description=description_text)"
   ]
  },
  {
   "cell_type": "code",
   "execution_count": 5,
   "metadata": {},
   "outputs": [],
   "source": [
    "label_column_name = 'damage_grade'"
   ]
  },
  {
   "cell_type": "markdown",
   "metadata": {},
   "source": [
    "## AutoML Configuration\n",
    "\n",
    "Explanation of autoML settings\n",
    "\n",
    "* `iteration_timeout_minutes` and `experiment_timeout_minutes` both controls the length of time taking to find the best model. As models found in general are very similar in performances, setting these 2 parameters to a reasonable amount will help us getting uncessary costs\n",
    "* `primary_metric` set to \"AUC_weighted\" allows the model to adjust for imbalance in the dataset (though there is very little) and reflect the true performance for the model\n",
    "* `featurization` set to \"auto\" for autoML to decide what features to generate\n",
    "* `verbosity` set to \"logging.INFO\" for autoML to save all the execution related logs to the workspace for debugging purposes\n",
    "* `n_cross_validations` set to 5 for autoML to test performances across 5 different folds to make the performance measure more robust"
   ]
  },
  {
   "cell_type": "markdown",
   "metadata": {},
   "source": [
    "autoML config"
   ]
  },
  {
   "cell_type": "code",
   "execution_count": 6,
   "metadata": {
    "collapsed": false,
    "gather": {
     "logged": 1598429217746
    },
    "jupyter": {
     "outputs_hidden": false,
     "source_hidden": false
    },
    "nteract": {
     "transient": {
      "deleting": false
     }
    }
   },
   "outputs": [],
   "source": [
    "# TODO: Put your automl settings here\n",
    "automl_settings = {\n",
    "    \"iteration_timeout_minutes\": 10,\n",
    "    \"experiment_timeout_minutes\": 60,\n",
    "    \"enable_early_stopping\": True,\n",
    "    \"primary_metric\": 'AUC_weighted',\n",
    "    \"featurization\": \"auto\",\n",
    "    \"verbosity\": logging.INFO,\n",
    "    \"n_cross_validations\": 5\n",
    "}"
   ]
  },
  {
   "cell_type": "code",
   "execution_count": 7,
   "metadata": {},
   "outputs": [],
   "source": [
    "# TODO: Put your automl config here\n",
    "automl_config = AutoMLConfig(\n",
    "    task= \"classification\",\n",
    "    training_data=train_dataset,\n",
    "    label_column_name=\"label\",\n",
    "    compute_target=compute_target,\n",
    "     **automl_settings)"
   ]
  },
  {
   "cell_type": "code",
   "execution_count": 8,
   "metadata": {
    "collapsed": false,
    "gather": {
     "logged": 1598431107951
    },
    "jupyter": {
     "outputs_hidden": false,
     "source_hidden": false
    },
    "nteract": {
     "transient": {
      "deleting": false
     }
    }
   },
   "outputs": [
    {
     "name": "stdout",
     "output_type": "stream",
     "text": [
      "Running on remote.\n"
     ]
    }
   ],
   "source": [
    "# TODO: Submit your experiment\n",
    "remote_run = experiment.submit(automl_config)"
   ]
  },
  {
   "cell_type": "markdown",
   "metadata": {},
   "source": [
    "## Run Details\n",
    "\n",
    "Better performing models tends to be tree based models, indicatiing the underlying prediction problem is a non-linear one. The best model is stack ensemble of 3 different tree based models - using stack ensemble allows these 3 different submodels to improve on each other's mistakes, which produced a better performance"
   ]
  },
  {
   "cell_type": "markdown",
   "metadata": {},
   "source": [
    "use the `RunDetails` widget to show the different experiments."
   ]
  },
  {
   "cell_type": "code",
   "execution_count": 9,
   "metadata": {
    "collapsed": false,
    "gather": {
     "logged": 1598431121770
    },
    "jupyter": {
     "outputs_hidden": false,
     "source_hidden": false
    },
    "nteract": {
     "transient": {
      "deleting": false
     }
    }
   },
   "outputs": [
    {
     "data": {
      "application/vnd.jupyter.widget-view+json": {
       "model_id": "c18f7c8d3fe54577b8b85c8421d51a80",
       "version_major": 2,
       "version_minor": 0
      },
      "text/plain": [
       "_AutoMLWidget(widget_settings={'childWidgetDisplay': 'popup', 'send_telemetry': False, 'log_level': 'INFO', 's…"
      ]
     },
     "metadata": {},
     "output_type": "display_data"
    },
    {
     "data": {
      "application/aml.mini.widget.v1": "{\"status\": \"Completed\", \"workbench_run_details_uri\": \"https://ml.azure.com/experiments/click-through-rate-prediction/runs/AutoML_397febcb-c02a-40de-8f9c-e2552f2390d7?wsid=/subscriptions/3d1a56d2-7c81-4118-9790-f85d1acf0c77/resourcegroups/aml-quickstarts-134610/workspaces/quick-starts-ws-134610\", \"run_id\": \"AutoML_397febcb-c02a-40de-8f9c-e2552f2390d7\", \"run_properties\": {\"run_id\": \"AutoML_397febcb-c02a-40de-8f9c-e2552f2390d7\", \"created_utc\": \"2021-01-14T01:33:36.585258Z\", \"properties\": {\"num_iterations\": \"1000\", \"training_type\": \"TrainFull\", \"acquisition_function\": \"EI\", \"primary_metric\": \"AUC_weighted\", \"train_split\": \"0\", \"acquisition_parameter\": \"0\", \"num_cross_validation\": \"5\", \"target\": \"compute-cluster\", \"AMLSettingsJsonString\": \"{\\\"path\\\":null,\\\"name\\\":\\\"click-through-rate-prediction\\\",\\\"subscription_id\\\":\\\"3d1a56d2-7c81-4118-9790-f85d1acf0c77\\\",\\\"resource_group\\\":\\\"aml-quickstarts-134610\\\",\\\"workspace_name\\\":\\\"quick-starts-ws-134610\\\",\\\"region\\\":\\\"southcentralus\\\",\\\"compute_target\\\":\\\"compute-cluster\\\",\\\"spark_service\\\":null,\\\"azure_service\\\":\\\"remote\\\",\\\"many_models\\\":false,\\\"pipeline_fetch_max_batch_size\\\":1,\\\"iterations\\\":1000,\\\"primary_metric\\\":\\\"AUC_weighted\\\",\\\"task_type\\\":\\\"classification\\\",\\\"data_script\\\":null,\\\"validation_size\\\":0.0,\\\"n_cross_validations\\\":5,\\\"y_min\\\":null,\\\"y_max\\\":null,\\\"num_classes\\\":null,\\\"featurization\\\":\\\"auto\\\",\\\"_ignore_package_version_incompatibilities\\\":false,\\\"is_timeseries\\\":false,\\\"max_cores_per_iteration\\\":1,\\\"max_concurrent_iterations\\\":1,\\\"iteration_timeout_minutes\\\":10,\\\"mem_in_mb\\\":null,\\\"enforce_time_on_windows\\\":false,\\\"experiment_timeout_minutes\\\":60,\\\"experiment_exit_score\\\":null,\\\"whitelist_models\\\":null,\\\"blacklist_algos\\\":[\\\"TensorFlowLinearClassifier\\\",\\\"TensorFlowDNN\\\"],\\\"supported_models\\\":[\\\"TensorFlowDNN\\\",\\\"LinearSVM\\\",\\\"LogisticRegression\\\",\\\"BernoulliNaiveBayes\\\",\\\"LightGBM\\\",\\\"SVM\\\",\\\"XGBoostClassifier\\\",\\\"DecisionTree\\\",\\\"SGD\\\",\\\"GradientBoosting\\\",\\\"KNN\\\",\\\"AveragedPerceptronClassifier\\\",\\\"MultinomialNaiveBayes\\\",\\\"ExtremeRandomTrees\\\",\\\"TensorFlowLinearClassifier\\\",\\\"RandomForest\\\"],\\\"auto_blacklist\\\":true,\\\"blacklist_samples_reached\\\":false,\\\"exclude_nan_labels\\\":true,\\\"verbosity\\\":20,\\\"_debug_log\\\":\\\"azureml_automl.log\\\",\\\"show_warnings\\\":false,\\\"model_explainability\\\":true,\\\"service_url\\\":null,\\\"sdk_url\\\":null,\\\"sdk_packages\\\":null,\\\"enable_onnx_compatible_models\\\":false,\\\"enable_split_onnx_featurizer_estimator_models\\\":false,\\\"vm_type\\\":\\\"STANDARD_DS3_V2\\\",\\\"telemetry_verbosity\\\":20,\\\"send_telemetry\\\":true,\\\"enable_dnn\\\":false,\\\"scenario\\\":\\\"SDK-1.13.0\\\",\\\"environment_label\\\":null,\\\"force_text_dnn\\\":false,\\\"enable_feature_sweeping\\\":true,\\\"enable_early_stopping\\\":true,\\\"early_stopping_n_iters\\\":10,\\\"metrics\\\":null,\\\"enable_ensembling\\\":true,\\\"enable_stack_ensembling\\\":true,\\\"ensemble_iterations\\\":15,\\\"enable_tf\\\":false,\\\"enable_subsampling\\\":null,\\\"subsample_seed\\\":null,\\\"enable_nimbusml\\\":false,\\\"enable_streaming\\\":false,\\\"force_streaming\\\":false,\\\"track_child_runs\\\":true,\\\"allowed_private_models\\\":[],\\\"label_column_name\\\":\\\"label\\\",\\\"weight_column_name\\\":null,\\\"cv_split_column_names\\\":null,\\\"enable_local_managed\\\":false,\\\"_local_managed_run_id\\\":null,\\\"cost_mode\\\":1,\\\"lag_length\\\":0,\\\"metric_operation\\\":\\\"maximize\\\",\\\"preprocess\\\":true}\", \"DataPrepJsonString\": \"{\\\\\\\"training_data\\\\\\\": \\\\\\\"{\\\\\\\\\\\\\\\"blocks\\\\\\\\\\\\\\\": [{\\\\\\\\\\\\\\\"id\\\\\\\\\\\\\\\": \\\\\\\\\\\\\\\"7febc34b-2ed3-4ca4-b9b3-677a9c7a87d5\\\\\\\\\\\\\\\", \\\\\\\\\\\\\\\"type\\\\\\\\\\\\\\\": \\\\\\\\\\\\\\\"Microsoft.DPrep.GetDatastoreFilesBlock\\\\\\\\\\\\\\\", \\\\\\\\\\\\\\\"arguments\\\\\\\\\\\\\\\": {\\\\\\\\\\\\\\\"datastores\\\\\\\\\\\\\\\": [{\\\\\\\\\\\\\\\"datastoreName\\\\\\\\\\\\\\\": \\\\\\\\\\\\\\\"workspaceblobstore\\\\\\\\\\\\\\\", \\\\\\\\\\\\\\\"path\\\\\\\\\\\\\\\": \\\\\\\\\\\\\\\"click_through_rate/ctr_data.csv\\\\\\\\\\\\\\\", \\\\\\\\\\\\\\\"resourceGroup\\\\\\\\\\\\\\\": \\\\\\\\\\\\\\\"aml-quickstarts-134610\\\\\\\\\\\\\\\", \\\\\\\\\\\\\\\"subscription\\\\\\\\\\\\\\\": \\\\\\\\\\\\\\\"3d1a56d2-7c81-4118-9790-f85d1acf0c77\\\\\\\\\\\\\\\", \\\\\\\\\\\\\\\"workspaceName\\\\\\\\\\\\\\\": \\\\\\\\\\\\\\\"quick-starts-ws-134610\\\\\\\\\\\\\\\"}]}, \\\\\\\\\\\\\\\"localData\\\\\\\\\\\\\\\": {}, \\\\\\\\\\\\\\\"isEnabled\\\\\\\\\\\\\\\": true, \\\\\\\\\\\\\\\"name\\\\\\\\\\\\\\\": null, \\\\\\\\\\\\\\\"annotation\\\\\\\\\\\\\\\": null}, {\\\\\\\\\\\\\\\"id\\\\\\\\\\\\\\\": \\\\\\\\\\\\\\\"3bf16948-43d0-418f-a78a-d207e836a777\\\\\\\\\\\\\\\", \\\\\\\\\\\\\\\"type\\\\\\\\\\\\\\\": \\\\\\\\\\\\\\\"Microsoft.DPrep.ParseDelimitedBlock\\\\\\\\\\\\\\\", \\\\\\\\\\\\\\\"arguments\\\\\\\\\\\\\\\": {\\\\\\\\\\\\\\\"columnHeadersMode\\\\\\\\\\\\\\\": 3, \\\\\\\\\\\\\\\"fileEncoding\\\\\\\\\\\\\\\": 0, \\\\\\\\\\\\\\\"handleQuotedLineBreaks\\\\\\\\\\\\\\\": false, \\\\\\\\\\\\\\\"preview\\\\\\\\\\\\\\\": false, \\\\\\\\\\\\\\\"separator\\\\\\\\\\\\\\\": \\\\\\\\\\\\\\\",\\\\\\\\\\\\\\\", \\\\\\\\\\\\\\\"skipRows\\\\\\\\\\\\\\\": 0, \\\\\\\\\\\\\\\"skipRowsMode\\\\\\\\\\\\\\\": 0}, \\\\\\\\\\\\\\\"localData\\\\\\\\\\\\\\\": {}, \\\\\\\\\\\\\\\"isEnabled\\\\\\\\\\\\\\\": true, \\\\\\\\\\\\\\\"name\\\\\\\\\\\\\\\": null, \\\\\\\\\\\\\\\"annotation\\\\\\\\\\\\\\\": null}, {\\\\\\\\\\\\\\\"id\\\\\\\\\\\\\\\": \\\\\\\\\\\\\\\"66cff894-12d4-4885-ae65-621221461bf0\\\\\\\\\\\\\\\", \\\\\\\\\\\\\\\"type\\\\\\\\\\\\\\\": \\\\\\\\\\\\\\\"Microsoft.DPrep.DropColumnsBlock\\\\\\\\\\\\\\\", \\\\\\\\\\\\\\\"arguments\\\\\\\\\\\\\\\": {\\\\\\\\\\\\\\\"columns\\\\\\\\\\\\\\\": {\\\\\\\\\\\\\\\"type\\\\\\\\\\\\\\\": 0, \\\\\\\\\\\\\\\"details\\\\\\\\\\\\\\\": {\\\\\\\\\\\\\\\"selectedColumns\\\\\\\\\\\\\\\": [\\\\\\\\\\\\\\\"Path\\\\\\\\\\\\\\\"]}}}, \\\\\\\\\\\\\\\"localData\\\\\\\\\\\\\\\": {}, \\\\\\\\\\\\\\\"isEnabled\\\\\\\\\\\\\\\": true, \\\\\\\\\\\\\\\"name\\\\\\\\\\\\\\\": null, \\\\\\\\\\\\\\\"annotation\\\\\\\\\\\\\\\": null}, {\\\\\\\\\\\\\\\"id\\\\\\\\\\\\\\\": \\\\\\\\\\\\\\\"4c45a77c-7887-4c67-aac6-57ccebacb7dd\\\\\\\\\\\\\\\", \\\\\\\\\\\\\\\"type\\\\\\\\\\\\\\\": \\\\\\\\\\\\\\\"Microsoft.DPrep.SetColumnTypesBlock\\\\\\\\\\\\\\\", \\\\\\\\\\\\\\\"arguments\\\\\\\\\\\\\\\": {\\\\\\\\\\\\\\\"columnConversion\\\\\\\\\\\\\\\": [{\\\\\\\\\\\\\\\"column\\\\\\\\\\\\\\\": {\\\\\\\\\\\\\\\"type\\\\\\\\\\\\\\\": 2, \\\\\\\\\\\\\\\"details\\\\\\\\\\\\\\\": {\\\\\\\\\\\\\\\"selectedColumn\\\\\\\\\\\\\\\": \\\\\\\\\\\\\\\"label\\\\\\\\\\\\\\\"}}, \\\\\\\\\\\\\\\"typeProperty\\\\\\\\\\\\\\\": 2}, {\\\\\\\\\\\\\\\"column\\\\\\\\\\\\\\\": {\\\\\\\\\\\\\\\"type\\\\\\\\\\\\\\\": 2, \\\\\\\\\\\\\\\"details\\\\\\\\\\\\\\\": {\\\\\\\\\\\\\\\"selectedColumn\\\\\\\\\\\\\\\": \\\\\\\\\\\\\\\"uid\\\\\\\\\\\\\\\"}}, \\\\\\\\\\\\\\\"typeProperty\\\\\\\\\\\\\\\": 2}, {\\\\\\\\\\\\\\\"column\\\\\\\\\\\\\\\": {\\\\\\\\\\\\\\\"type\\\\\\\\\\\\\\\": 2, \\\\\\\\\\\\\\\"details\\\\\\\\\\\\\\\": {\\\\\\\\\\\\\\\"selectedColumn\\\\\\\\\\\\\\\": \\\\\\\\\\\\\\\"task_id\\\\\\\\\\\\\\\"}}, \\\\\\\\\\\\\\\"typeProperty\\\\\\\\\\\\\\\": 2}, {\\\\\\\\\\\\\\\"column\\\\\\\\\\\\\\\": {\\\\\\\\\\\\\\\"type\\\\\\\\\\\\\\\": 2, \\\\\\\\\\\\\\\"details\\\\\\\\\\\\\\\": {\\\\\\\\\\\\\\\"selectedColumn\\\\\\\\\\\\\\\": \\\\\\\\\\\\\\\"adv_id\\\\\\\\\\\\\\\"}}, \\\\\\\\\\\\\\\"typeProperty\\\\\\\\\\\\\\\": 2}, {\\\\\\\\\\\\\\\"column\\\\\\\\\\\\\\\": {\\\\\\\\\\\\\\\"type\\\\\\\\\\\\\\\": 2, \\\\\\\\\\\\\\\"details\\\\\\\\\\\\\\\": {\\\\\\\\\\\\\\\"selectedColumn\\\\\\\\\\\\\\\": \\\\\\\\\\\\\\\"creat_type_cd\\\\\\\\\\\\\\\"}}, \\\\\\\\\\\\\\\"typeProperty\\\\\\\\\\\\\\\": 2}, {\\\\\\\\\\\\\\\"column\\\\\\\\\\\\\\\": {\\\\\\\\\\\\\\\"type\\\\\\\\\\\\\\\": 2, \\\\\\\\\\\\\\\"details\\\\\\\\\\\\\\\": {\\\\\\\\\\\\\\\"selectedColumn\\\\\\\\\\\\\\\": \\\\\\\\\\\\\\\"adv_prim_id\\\\\\\\\\\\\\\"}}, \\\\\\\\\\\\\\\"typeProperty\\\\\\\\\\\\\\\": 2}, {\\\\\\\\\\\\\\\"column\\\\\\\\\\\\\\\": {\\\\\\\\\\\\\\\"type\\\\\\\\\\\\\\\": 2, \\\\\\\\\\\\\\\"details\\\\\\\\\\\\\\\": {\\\\\\\\\\\\\\\"selectedColumn\\\\\\\\\\\\\\\": \\\\\\\\\\\\\\\"dev_id\\\\\\\\\\\\\\\"}}, \\\\\\\\\\\\\\\"typeProperty\\\\\\\\\\\\\\\": 2}, {\\\\\\\\\\\\\\\"column\\\\\\\\\\\\\\\": {\\\\\\\\\\\\\\\"type\\\\\\\\\\\\\\\": 2, \\\\\\\\\\\\\\\"details\\\\\\\\\\\\\\\": {\\\\\\\\\\\\\\\"selectedColumn\\\\\\\\\\\\\\\": \\\\\\\\\\\\\\\"inter_type_cd\\\\\\\\\\\\\\\"}}, \\\\\\\\\\\\\\\"typeProperty\\\\\\\\\\\\\\\": 2}, {\\\\\\\\\\\\\\\"column\\\\\\\\\\\\\\\": {\\\\\\\\\\\\\\\"type\\\\\\\\\\\\\\\": 2, \\\\\\\\\\\\\\\"details\\\\\\\\\\\\\\\": {\\\\\\\\\\\\\\\"selectedColumn\\\\\\\\\\\\\\\": \\\\\\\\\\\\\\\"slot_id\\\\\\\\\\\\\\\"}}, \\\\\\\\\\\\\\\"typeProperty\\\\\\\\\\\\\\\": 2}, {\\\\\\\\\\\\\\\"column\\\\\\\\\\\\\\\": {\\\\\\\\\\\\\\\"type\\\\\\\\\\\\\\\": 2, \\\\\\\\\\\\\\\"details\\\\\\\\\\\\\\\": {\\\\\\\\\\\\\\\"selectedColumn\\\\\\\\\\\\\\\": \\\\\\\\\\\\\\\"spread_app_id\\\\\\\\\\\\\\\"}}, \\\\\\\\\\\\\\\"typeProperty\\\\\\\\\\\\\\\": 2}, {\\\\\\\\\\\\\\\"column\\\\\\\\\\\\\\\": {\\\\\\\\\\\\\\\"type\\\\\\\\\\\\\\\": 2, \\\\\\\\\\\\\\\"details\\\\\\\\\\\\\\\": {\\\\\\\\\\\\\\\"selectedColumn\\\\\\\\\\\\\\\": \\\\\\\\\\\\\\\"tags\\\\\\\\\\\\\\\"}}, \\\\\\\\\\\\\\\"typeProperty\\\\\\\\\\\\\\\": 2}, {\\\\\\\\\\\\\\\"column\\\\\\\\\\\\\\\": {\\\\\\\\\\\\\\\"type\\\\\\\\\\\\\\\": 2, \\\\\\\\\\\\\\\"details\\\\\\\\\\\\\\\": {\\\\\\\\\\\\\\\"selectedColumn\\\\\\\\\\\\\\\": \\\\\\\\\\\\\\\"app_first_class\\\\\\\\\\\\\\\"}}, \\\\\\\\\\\\\\\"typeProperty\\\\\\\\\\\\\\\": 2}, {\\\\\\\\\\\\\\\"column\\\\\\\\\\\\\\\": {\\\\\\\\\\\\\\\"type\\\\\\\\\\\\\\\": 2, \\\\\\\\\\\\\\\"details\\\\\\\\\\\\\\\": {\\\\\\\\\\\\\\\"selectedColumn\\\\\\\\\\\\\\\": \\\\\\\\\\\\\\\"app_second_class\\\\\\\\\\\\\\\"}}, \\\\\\\\\\\\\\\"typeProperty\\\\\\\\\\\\\\\": 2}, {\\\\\\\\\\\\\\\"column\\\\\\\\\\\\\\\": {\\\\\\\\\\\\\\\"type\\\\\\\\\\\\\\\": 2, \\\\\\\\\\\\\\\"details\\\\\\\\\\\\\\\": {\\\\\\\\\\\\\\\"selectedColumn\\\\\\\\\\\\\\\": \\\\\\\\\\\\\\\"age\\\\\\\\\\\\\\\"}}, \\\\\\\\\\\\\\\"typeProperty\\\\\\\\\\\\\\\": 2}, {\\\\\\\\\\\\\\\"column\\\\\\\\\\\\\\\": {\\\\\\\\\\\\\\\"type\\\\\\\\\\\\\\\": 2, \\\\\\\\\\\\\\\"details\\\\\\\\\\\\\\\": {\\\\\\\\\\\\\\\"selectedColumn\\\\\\\\\\\\\\\": \\\\\\\\\\\\\\\"city\\\\\\\\\\\\\\\"}}, \\\\\\\\\\\\\\\"typeProperty\\\\\\\\\\\\\\\": 2}, {\\\\\\\\\\\\\\\"column\\\\\\\\\\\\\\\": {\\\\\\\\\\\\\\\"type\\\\\\\\\\\\\\\": 2, \\\\\\\\\\\\\\\"details\\\\\\\\\\\\\\\": {\\\\\\\\\\\\\\\"selectedColumn\\\\\\\\\\\\\\\": \\\\\\\\\\\\\\\"city_rank\\\\\\\\\\\\\\\"}}, \\\\\\\\\\\\\\\"typeProperty\\\\\\\\\\\\\\\": 2}, {\\\\\\\\\\\\\\\"column\\\\\\\\\\\\\\\": {\\\\\\\\\\\\\\\"type\\\\\\\\\\\\\\\": 2, \\\\\\\\\\\\\\\"details\\\\\\\\\\\\\\\": {\\\\\\\\\\\\\\\"selectedColumn\\\\\\\\\\\\\\\": \\\\\\\\\\\\\\\"device_name\\\\\\\\\\\\\\\"}}, \\\\\\\\\\\\\\\"typeProperty\\\\\\\\\\\\\\\": 2}, {\\\\\\\\\\\\\\\"column\\\\\\\\\\\\\\\": {\\\\\\\\\\\\\\\"type\\\\\\\\\\\\\\\": 2, \\\\\\\\\\\\\\\"details\\\\\\\\\\\\\\\": {\\\\\\\\\\\\\\\"selectedColumn\\\\\\\\\\\\\\\": \\\\\\\\\\\\\\\"device_size\\\\\\\\\\\\\\\"}}, \\\\\\\\\\\\\\\"typeProperty\\\\\\\\\\\\\\\": 2}, {\\\\\\\\\\\\\\\"column\\\\\\\\\\\\\\\": {\\\\\\\\\\\\\\\"type\\\\\\\\\\\\\\\": 2, \\\\\\\\\\\\\\\"details\\\\\\\\\\\\\\\": {\\\\\\\\\\\\\\\"selectedColumn\\\\\\\\\\\\\\\": \\\\\\\\\\\\\\\"career\\\\\\\\\\\\\\\"}}, \\\\\\\\\\\\\\\"typeProperty\\\\\\\\\\\\\\\": 2}, {\\\\\\\\\\\\\\\"column\\\\\\\\\\\\\\\": {\\\\\\\\\\\\\\\"type\\\\\\\\\\\\\\\": 2, \\\\\\\\\\\\\\\"details\\\\\\\\\\\\\\\": {\\\\\\\\\\\\\\\"selectedColumn\\\\\\\\\\\\\\\": \\\\\\\\\\\\\\\"gender\\\\\\\\\\\\\\\"}}, \\\\\\\\\\\\\\\"typeProperty\\\\\\\\\\\\\\\": 2}, {\\\\\\\\\\\\\\\"column\\\\\\\\\\\\\\\": {\\\\\\\\\\\\\\\"type\\\\\\\\\\\\\\\": 2, \\\\\\\\\\\\\\\"details\\\\\\\\\\\\\\\": {\\\\\\\\\\\\\\\"selectedColumn\\\\\\\\\\\\\\\": \\\\\\\\\\\\\\\"net_type\\\\\\\\\\\\\\\"}}, \\\\\\\\\\\\\\\"typeProperty\\\\\\\\\\\\\\\": 2}, {\\\\\\\\\\\\\\\"column\\\\\\\\\\\\\\\": {\\\\\\\\\\\\\\\"type\\\\\\\\\\\\\\\": 2, \\\\\\\\\\\\\\\"details\\\\\\\\\\\\\\\": {\\\\\\\\\\\\\\\"selectedColumn\\\\\\\\\\\\\\\": \\\\\\\\\\\\\\\"residence\\\\\\\\\\\\\\\"}}, \\\\\\\\\\\\\\\"typeProperty\\\\\\\\\\\\\\\": 2}, {\\\\\\\\\\\\\\\"column\\\\\\\\\\\\\\\": {\\\\\\\\\\\\\\\"type\\\\\\\\\\\\\\\": 2, \\\\\\\\\\\\\\\"details\\\\\\\\\\\\\\\": {\\\\\\\\\\\\\\\"selectedColumn\\\\\\\\\\\\\\\": \\\\\\\\\\\\\\\"his_app_size\\\\\\\\\\\\\\\"}}, \\\\\\\\\\\\\\\"typeProperty\\\\\\\\\\\\\\\": 2}, {\\\\\\\\\\\\\\\"column\\\\\\\\\\\\\\\": {\\\\\\\\\\\\\\\"type\\\\\\\\\\\\\\\": 2, \\\\\\\\\\\\\\\"details\\\\\\\\\\\\\\\": {\\\\\\\\\\\\\\\"selectedColumn\\\\\\\\\\\\\\\": \\\\\\\\\\\\\\\"his_on_shelf_time\\\\\\\\\\\\\\\"}}, \\\\\\\\\\\\\\\"typeProperty\\\\\\\\\\\\\\\": 2}, {\\\\\\\\\\\\\\\"column\\\\\\\\\\\\\\\": {\\\\\\\\\\\\\\\"type\\\\\\\\\\\\\\\": 2, \\\\\\\\\\\\\\\"details\\\\\\\\\\\\\\\": {\\\\\\\\\\\\\\\"selectedColumn\\\\\\\\\\\\\\\": \\\\\\\\\\\\\\\"app_score\\\\\\\\\\\\\\\"}}, \\\\\\\\\\\\\\\"typeProperty\\\\\\\\\\\\\\\": 2}, {\\\\\\\\\\\\\\\"column\\\\\\\\\\\\\\\": {\\\\\\\\\\\\\\\"type\\\\\\\\\\\\\\\": 2, \\\\\\\\\\\\\\\"details\\\\\\\\\\\\\\\": {\\\\\\\\\\\\\\\"selectedColumn\\\\\\\\\\\\\\\": \\\\\\\\\\\\\\\"emui_dev\\\\\\\\\\\\\\\"}}, \\\\\\\\\\\\\\\"typeProperty\\\\\\\\\\\\\\\": 2}, {\\\\\\\\\\\\\\\"column\\\\\\\\\\\\\\\": {\\\\\\\\\\\\\\\"type\\\\\\\\\\\\\\\": 2, \\\\\\\\\\\\\\\"details\\\\\\\\\\\\\\\": {\\\\\\\\\\\\\\\"selectedColumn\\\\\\\\\\\\\\\": \\\\\\\\\\\\\\\"list_time\\\\\\\\\\\\\\\"}}, \\\\\\\\\\\\\\\"typeProperty\\\\\\\\\\\\\\\": 2}, {\\\\\\\\\\\\\\\"column\\\\\\\\\\\\\\\": {\\\\\\\\\\\\\\\"type\\\\\\\\\\\\\\\": 2, \\\\\\\\\\\\\\\"details\\\\\\\\\\\\\\\": {\\\\\\\\\\\\\\\"selectedColumn\\\\\\\\\\\\\\\": \\\\\\\\\\\\\\\"device_price\\\\\\\\\\\\\\\"}}, \\\\\\\\\\\\\\\"typeProperty\\\\\\\\\\\\\\\": 2}, {\\\\\\\\\\\\\\\"column\\\\\\\\\\\\\\\": {\\\\\\\\\\\\\\\"type\\\\\\\\\\\\\\\": 2, \\\\\\\\\\\\\\\"details\\\\\\\\\\\\\\\": {\\\\\\\\\\\\\\\"selectedColumn\\\\\\\\\\\\\\\": \\\\\\\\\\\\\\\"up_life_duration\\\\\\\\\\\\\\\"}}, \\\\\\\\\\\\\\\"typeProperty\\\\\\\\\\\\\\\": 2}, {\\\\\\\\\\\\\\\"column\\\\\\\\\\\\\\\": {\\\\\\\\\\\\\\\"type\\\\\\\\\\\\\\\": 2, \\\\\\\\\\\\\\\"details\\\\\\\\\\\\\\\": {\\\\\\\\\\\\\\\"selectedColumn\\\\\\\\\\\\\\\": \\\\\\\\\\\\\\\"up_membership_grade\\\\\\\\\\\\\\\"}}, \\\\\\\\\\\\\\\"typeProperty\\\\\\\\\\\\\\\": 2}, {\\\\\\\\\\\\\\\"column\\\\\\\\\\\\\\\": {\\\\\\\\\\\\\\\"type\\\\\\\\\\\\\\\": 2, \\\\\\\\\\\\\\\"details\\\\\\\\\\\\\\\": {\\\\\\\\\\\\\\\"selectedColumn\\\\\\\\\\\\\\\": \\\\\\\\\\\\\\\"membership_life_duration\\\\\\\\\\\\\\\"}}, \\\\\\\\\\\\\\\"typeProperty\\\\\\\\\\\\\\\": 2}, {\\\\\\\\\\\\\\\"column\\\\\\\\\\\\\\\": {\\\\\\\\\\\\\\\"type\\\\\\\\\\\\\\\": 2, \\\\\\\\\\\\\\\"details\\\\\\\\\\\\\\\": {\\\\\\\\\\\\\\\"selectedColumn\\\\\\\\\\\\\\\": \\\\\\\\\\\\\\\"consume_purchase\\\\\\\\\\\\\\\"}}, \\\\\\\\\\\\\\\"typeProperty\\\\\\\\\\\\\\\": 2}, {\\\\\\\\\\\\\\\"column\\\\\\\\\\\\\\\": {\\\\\\\\\\\\\\\"type\\\\\\\\\\\\\\\": 2, \\\\\\\\\\\\\\\"details\\\\\\\\\\\\\\\": {\\\\\\\\\\\\\\\"selectedColumn\\\\\\\\\\\\\\\": \\\\\\\\\\\\\\\"communication_onlinerate\\\\\\\\\\\\\\\"}}, \\\\\\\\\\\\\\\"typeProperty\\\\\\\\\\\\\\\": 0}, {\\\\\\\\\\\\\\\"column\\\\\\\\\\\\\\\": {\\\\\\\\\\\\\\\"type\\\\\\\\\\\\\\\": 2, \\\\\\\\\\\\\\\"details\\\\\\\\\\\\\\\": {\\\\\\\\\\\\\\\"selectedColumn\\\\\\\\\\\\\\\": \\\\\\\\\\\\\\\"communication_avgonline_30d\\\\\\\\\\\\\\\"}}, \\\\\\\\\\\\\\\"typeProperty\\\\\\\\\\\\\\\": 2}, {\\\\\\\\\\\\\\\"column\\\\\\\\\\\\\\\": {\\\\\\\\\\\\\\\"type\\\\\\\\\\\\\\\": 2, \\\\\\\\\\\\\\\"details\\\\\\\\\\\\\\\": {\\\\\\\\\\\\\\\"selectedColumn\\\\\\\\\\\\\\\": \\\\\\\\\\\\\\\"indu_name\\\\\\\\\\\\\\\"}}, \\\\\\\\\\\\\\\"typeProperty\\\\\\\\\\\\\\\": 2}, {\\\\\\\\\\\\\\\"column\\\\\\\\\\\\\\\": {\\\\\\\\\\\\\\\"type\\\\\\\\\\\\\\\": 2, \\\\\\\\\\\\\\\"details\\\\\\\\\\\\\\\": {\\\\\\\\\\\\\\\"selectedColumn\\\\\\\\\\\\\\\": \\\\\\\\\\\\\\\"pt_d\\\\\\\\\\\\\\\"}}, \\\\\\\\\\\\\\\"typeProperty\\\\\\\\\\\\\\\": 2}, {\\\\\\\\\\\\\\\"column\\\\\\\\\\\\\\\": {\\\\\\\\\\\\\\\"type\\\\\\\\\\\\\\\": 2, \\\\\\\\\\\\\\\"details\\\\\\\\\\\\\\\": {\\\\\\\\\\\\\\\"selectedColumn\\\\\\\\\\\\\\\": \\\\\\\\\\\\\\\"uid_prev_1_day_ctr\\\\\\\\\\\\\\\"}}, \\\\\\\\\\\\\\\"typeProperty\\\\\\\\\\\\\\\": 3}, {\\\\\\\\\\\\\\\"column\\\\\\\\\\\\\\\": {\\\\\\\\\\\\\\\"type\\\\\\\\\\\\\\\": 2, \\\\\\\\\\\\\\\"details\\\\\\\\\\\\\\\": {\\\\\\\\\\\\\\\"selectedColumn\\\\\\\\\\\\\\\": \\\\\\\\\\\\\\\"uid_prev_2_day_ctr\\\\\\\\\\\\\\\"}}, \\\\\\\\\\\\\\\"typeProperty\\\\\\\\\\\\\\\": 3}, {\\\\\\\\\\\\\\\"column\\\\\\\\\\\\\\\": {\\\\\\\\\\\\\\\"type\\\\\\\\\\\\\\\": 2, \\\\\\\\\\\\\\\"details\\\\\\\\\\\\\\\": {\\\\\\\\\\\\\\\"selectedColumn\\\\\\\\\\\\\\\": \\\\\\\\\\\\\\\"uid_prev_3_day_ctr\\\\\\\\\\\\\\\"}}, \\\\\\\\\\\\\\\"typeProperty\\\\\\\\\\\\\\\": 3}, {\\\\\\\\\\\\\\\"column\\\\\\\\\\\\\\\": {\\\\\\\\\\\\\\\"type\\\\\\\\\\\\\\\": 2, \\\\\\\\\\\\\\\"details\\\\\\\\\\\\\\\": {\\\\\\\\\\\\\\\"selectedColumn\\\\\\\\\\\\\\\": \\\\\\\\\\\\\\\"uid_prev_4_day_ctr\\\\\\\\\\\\\\\"}}, \\\\\\\\\\\\\\\"typeProperty\\\\\\\\\\\\\\\": 3}, {\\\\\\\\\\\\\\\"column\\\\\\\\\\\\\\\": {\\\\\\\\\\\\\\\"type\\\\\\\\\\\\\\\": 2, \\\\\\\\\\\\\\\"details\\\\\\\\\\\\\\\": {\\\\\\\\\\\\\\\"selectedColumn\\\\\\\\\\\\\\\": \\\\\\\\\\\\\\\"uid_prev_5_day_ctr\\\\\\\\\\\\\\\"}}, \\\\\\\\\\\\\\\"typeProperty\\\\\\\\\\\\\\\": 3}, {\\\\\\\\\\\\\\\"column\\\\\\\\\\\\\\\": {\\\\\\\\\\\\\\\"type\\\\\\\\\\\\\\\": 2, \\\\\\\\\\\\\\\"details\\\\\\\\\\\\\\\": {\\\\\\\\\\\\\\\"selectedColumn\\\\\\\\\\\\\\\": \\\\\\\\\\\\\\\"uid_prev_6_day_ctr\\\\\\\\\\\\\\\"}}, \\\\\\\\\\\\\\\"typeProperty\\\\\\\\\\\\\\\": 3}, {\\\\\\\\\\\\\\\"column\\\\\\\\\\\\\\\": {\\\\\\\\\\\\\\\"type\\\\\\\\\\\\\\\": 2, \\\\\\\\\\\\\\\"details\\\\\\\\\\\\\\\": {\\\\\\\\\\\\\\\"selectedColumn\\\\\\\\\\\\\\\": \\\\\\\\\\\\\\\"task_id_prev_1_day_ctr\\\\\\\\\\\\\\\"}}, \\\\\\\\\\\\\\\"typeProperty\\\\\\\\\\\\\\\": 3}, {\\\\\\\\\\\\\\\"column\\\\\\\\\\\\\\\": {\\\\\\\\\\\\\\\"type\\\\\\\\\\\\\\\": 2, \\\\\\\\\\\\\\\"details\\\\\\\\\\\\\\\": {\\\\\\\\\\\\\\\"selectedColumn\\\\\\\\\\\\\\\": \\\\\\\\\\\\\\\"task_id_prev_2_day_ctr\\\\\\\\\\\\\\\"}}, \\\\\\\\\\\\\\\"typeProperty\\\\\\\\\\\\\\\": 3}, {\\\\\\\\\\\\\\\"column\\\\\\\\\\\\\\\": {\\\\\\\\\\\\\\\"type\\\\\\\\\\\\\\\": 2, \\\\\\\\\\\\\\\"details\\\\\\\\\\\\\\\": {\\\\\\\\\\\\\\\"selectedColumn\\\\\\\\\\\\\\\": \\\\\\\\\\\\\\\"task_id_prev_3_day_ctr\\\\\\\\\\\\\\\"}}, \\\\\\\\\\\\\\\"typeProperty\\\\\\\\\\\\\\\": 3}, {\\\\\\\\\\\\\\\"column\\\\\\\\\\\\\\\": {\\\\\\\\\\\\\\\"type\\\\\\\\\\\\\\\": 2, \\\\\\\\\\\\\\\"details\\\\\\\\\\\\\\\": {\\\\\\\\\\\\\\\"selectedColumn\\\\\\\\\\\\\\\": \\\\\\\\\\\\\\\"task_id_prev_4_day_ctr\\\\\\\\\\\\\\\"}}, \\\\\\\\\\\\\\\"typeProperty\\\\\\\\\\\\\\\": 3}, {\\\\\\\\\\\\\\\"column\\\\\\\\\\\\\\\": {\\\\\\\\\\\\\\\"type\\\\\\\\\\\\\\\": 2, \\\\\\\\\\\\\\\"details\\\\\\\\\\\\\\\": {\\\\\\\\\\\\\\\"selectedColumn\\\\\\\\\\\\\\\": \\\\\\\\\\\\\\\"task_id_prev_5_day_ctr\\\\\\\\\\\\\\\"}}, \\\\\\\\\\\\\\\"typeProperty\\\\\\\\\\\\\\\": 3}, {\\\\\\\\\\\\\\\"column\\\\\\\\\\\\\\\": {\\\\\\\\\\\\\\\"type\\\\\\\\\\\\\\\": 2, \\\\\\\\\\\\\\\"details\\\\\\\\\\\\\\\": {\\\\\\\\\\\\\\\"selectedColumn\\\\\\\\\\\\\\\": \\\\\\\\\\\\\\\"task_id_prev_6_day_ctr\\\\\\\\\\\\\\\"}}, \\\\\\\\\\\\\\\"typeProperty\\\\\\\\\\\\\\\": 3}, {\\\\\\\\\\\\\\\"column\\\\\\\\\\\\\\\": {\\\\\\\\\\\\\\\"type\\\\\\\\\\\\\\\": 2, \\\\\\\\\\\\\\\"details\\\\\\\\\\\\\\\": {\\\\\\\\\\\\\\\"selectedColumn\\\\\\\\\\\\\\\": \\\\\\\\\\\\\\\"adv_id_prev_1_day_ctr\\\\\\\\\\\\\\\"}}, \\\\\\\\\\\\\\\"typeProperty\\\\\\\\\\\\\\\": 3}, {\\\\\\\\\\\\\\\"column\\\\\\\\\\\\\\\": {\\\\\\\\\\\\\\\"type\\\\\\\\\\\\\\\": 2, \\\\\\\\\\\\\\\"details\\\\\\\\\\\\\\\": {\\\\\\\\\\\\\\\"selectedColumn\\\\\\\\\\\\\\\": \\\\\\\\\\\\\\\"adv_id_prev_2_day_ctr\\\\\\\\\\\\\\\"}}, \\\\\\\\\\\\\\\"typeProperty\\\\\\\\\\\\\\\": 3}, {\\\\\\\\\\\\\\\"column\\\\\\\\\\\\\\\": {\\\\\\\\\\\\\\\"type\\\\\\\\\\\\\\\": 2, \\\\\\\\\\\\\\\"details\\\\\\\\\\\\\\\": {\\\\\\\\\\\\\\\"selectedColumn\\\\\\\\\\\\\\\": \\\\\\\\\\\\\\\"adv_id_prev_3_day_ctr\\\\\\\\\\\\\\\"}}, \\\\\\\\\\\\\\\"typeProperty\\\\\\\\\\\\\\\": 3}, {\\\\\\\\\\\\\\\"column\\\\\\\\\\\\\\\": {\\\\\\\\\\\\\\\"type\\\\\\\\\\\\\\\": 2, \\\\\\\\\\\\\\\"details\\\\\\\\\\\\\\\": {\\\\\\\\\\\\\\\"selectedColumn\\\\\\\\\\\\\\\": \\\\\\\\\\\\\\\"adv_id_prev_4_day_ctr\\\\\\\\\\\\\\\"}}, \\\\\\\\\\\\\\\"typeProperty\\\\\\\\\\\\\\\": 3}, {\\\\\\\\\\\\\\\"column\\\\\\\\\\\\\\\": {\\\\\\\\\\\\\\\"type\\\\\\\\\\\\\\\": 2, \\\\\\\\\\\\\\\"details\\\\\\\\\\\\\\\": {\\\\\\\\\\\\\\\"selectedColumn\\\\\\\\\\\\\\\": \\\\\\\\\\\\\\\"adv_id_prev_5_day_ctr\\\\\\\\\\\\\\\"}}, \\\\\\\\\\\\\\\"typeProperty\\\\\\\\\\\\\\\": 3}, {\\\\\\\\\\\\\\\"column\\\\\\\\\\\\\\\": {\\\\\\\\\\\\\\\"type\\\\\\\\\\\\\\\": 2, \\\\\\\\\\\\\\\"details\\\\\\\\\\\\\\\": {\\\\\\\\\\\\\\\"selectedColumn\\\\\\\\\\\\\\\": \\\\\\\\\\\\\\\"adv_id_prev_6_day_ctr\\\\\\\\\\\\\\\"}}, \\\\\\\\\\\\\\\"typeProperty\\\\\\\\\\\\\\\": 3}, {\\\\\\\\\\\\\\\"column\\\\\\\\\\\\\\\": {\\\\\\\\\\\\\\\"type\\\\\\\\\\\\\\\": 2, \\\\\\\\\\\\\\\"details\\\\\\\\\\\\\\\": {\\\\\\\\\\\\\\\"selectedColumn\\\\\\\\\\\\\\\": \\\\\\\\\\\\\\\"adv_prim_id_prev_1_day_ctr\\\\\\\\\\\\\\\"}}, \\\\\\\\\\\\\\\"typeProperty\\\\\\\\\\\\\\\": 3}, {\\\\\\\\\\\\\\\"column\\\\\\\\\\\\\\\": {\\\\\\\\\\\\\\\"type\\\\\\\\\\\\\\\": 2, \\\\\\\\\\\\\\\"details\\\\\\\\\\\\\\\": {\\\\\\\\\\\\\\\"selectedColumn\\\\\\\\\\\\\\\": \\\\\\\\\\\\\\\"adv_prim_id_prev_2_day_ctr\\\\\\\\\\\\\\\"}}, \\\\\\\\\\\\\\\"typeProperty\\\\\\\\\\\\\\\": 3}, {\\\\\\\\\\\\\\\"column\\\\\\\\\\\\\\\": {\\\\\\\\\\\\\\\"type\\\\\\\\\\\\\\\": 2, \\\\\\\\\\\\\\\"details\\\\\\\\\\\\\\\": {\\\\\\\\\\\\\\\"selectedColumn\\\\\\\\\\\\\\\": \\\\\\\\\\\\\\\"adv_prim_id_prev_3_day_ctr\\\\\\\\\\\\\\\"}}, \\\\\\\\\\\\\\\"typeProperty\\\\\\\\\\\\\\\": 3}, {\\\\\\\\\\\\\\\"column\\\\\\\\\\\\\\\": {\\\\\\\\\\\\\\\"type\\\\\\\\\\\\\\\": 2, \\\\\\\\\\\\\\\"details\\\\\\\\\\\\\\\": {\\\\\\\\\\\\\\\"selectedColumn\\\\\\\\\\\\\\\": \\\\\\\\\\\\\\\"adv_prim_id_prev_4_day_ctr\\\\\\\\\\\\\\\"}}, \\\\\\\\\\\\\\\"typeProperty\\\\\\\\\\\\\\\": 3}, {\\\\\\\\\\\\\\\"column\\\\\\\\\\\\\\\": {\\\\\\\\\\\\\\\"type\\\\\\\\\\\\\\\": 2, \\\\\\\\\\\\\\\"details\\\\\\\\\\\\\\\": {\\\\\\\\\\\\\\\"selectedColumn\\\\\\\\\\\\\\\": \\\\\\\\\\\\\\\"adv_prim_id_prev_5_day_ctr\\\\\\\\\\\\\\\"}}, \\\\\\\\\\\\\\\"typeProperty\\\\\\\\\\\\\\\": 3}, {\\\\\\\\\\\\\\\"column\\\\\\\\\\\\\\\": {\\\\\\\\\\\\\\\"type\\\\\\\\\\\\\\\": 2, \\\\\\\\\\\\\\\"details\\\\\\\\\\\\\\\": {\\\\\\\\\\\\\\\"selectedColumn\\\\\\\\\\\\\\\": \\\\\\\\\\\\\\\"adv_prim_id_prev_6_day_ctr\\\\\\\\\\\\\\\"}}, \\\\\\\\\\\\\\\"typeProperty\\\\\\\\\\\\\\\": 3}, {\\\\\\\\\\\\\\\"column\\\\\\\\\\\\\\\": {\\\\\\\\\\\\\\\"type\\\\\\\\\\\\\\\": 2, \\\\\\\\\\\\\\\"details\\\\\\\\\\\\\\\": {\\\\\\\\\\\\\\\"selectedColumn\\\\\\\\\\\\\\\": \\\\\\\\\\\\\\\"spread_app_id_prev_1_day_ctr\\\\\\\\\\\\\\\"}}, \\\\\\\\\\\\\\\"typeProperty\\\\\\\\\\\\\\\": 3}, {\\\\\\\\\\\\\\\"column\\\\\\\\\\\\\\\": {\\\\\\\\\\\\\\\"type\\\\\\\\\\\\\\\": 2, \\\\\\\\\\\\\\\"details\\\\\\\\\\\\\\\": {\\\\\\\\\\\\\\\"selectedColumn\\\\\\\\\\\\\\\": \\\\\\\\\\\\\\\"spread_app_id_prev_2_day_ctr\\\\\\\\\\\\\\\"}}, \\\\\\\\\\\\\\\"typeProperty\\\\\\\\\\\\\\\": 3}, {\\\\\\\\\\\\\\\"column\\\\\\\\\\\\\\\": {\\\\\\\\\\\\\\\"type\\\\\\\\\\\\\\\": 2, \\\\\\\\\\\\\\\"details\\\\\\\\\\\\\\\": {\\\\\\\\\\\\\\\"selectedColumn\\\\\\\\\\\\\\\": \\\\\\\\\\\\\\\"spread_app_id_prev_3_day_ctr\\\\\\\\\\\\\\\"}}, \\\\\\\\\\\\\\\"typeProperty\\\\\\\\\\\\\\\": 3}, {\\\\\\\\\\\\\\\"column\\\\\\\\\\\\\\\": {\\\\\\\\\\\\\\\"type\\\\\\\\\\\\\\\": 2, \\\\\\\\\\\\\\\"details\\\\\\\\\\\\\\\": {\\\\\\\\\\\\\\\"selectedColumn\\\\\\\\\\\\\\\": \\\\\\\\\\\\\\\"spread_app_id_prev_4_day_ctr\\\\\\\\\\\\\\\"}}, \\\\\\\\\\\\\\\"typeProperty\\\\\\\\\\\\\\\": 3}, {\\\\\\\\\\\\\\\"column\\\\\\\\\\\\\\\": {\\\\\\\\\\\\\\\"type\\\\\\\\\\\\\\\": 2, \\\\\\\\\\\\\\\"details\\\\\\\\\\\\\\\": {\\\\\\\\\\\\\\\"selectedColumn\\\\\\\\\\\\\\\": \\\\\\\\\\\\\\\"spread_app_id_prev_5_day_ctr\\\\\\\\\\\\\\\"}}, \\\\\\\\\\\\\\\"typeProperty\\\\\\\\\\\\\\\": 3}, {\\\\\\\\\\\\\\\"column\\\\\\\\\\\\\\\": {\\\\\\\\\\\\\\\"type\\\\\\\\\\\\\\\": 2, \\\\\\\\\\\\\\\"details\\\\\\\\\\\\\\\": {\\\\\\\\\\\\\\\"selectedColumn\\\\\\\\\\\\\\\": \\\\\\\\\\\\\\\"spread_app_id_prev_6_day_ctr\\\\\\\\\\\\\\\"}}, \\\\\\\\\\\\\\\"typeProperty\\\\\\\\\\\\\\\": 3}]}, \\\\\\\\\\\\\\\"localData\\\\\\\\\\\\\\\": {}, \\\\\\\\\\\\\\\"isEnabled\\\\\\\\\\\\\\\": true, \\\\\\\\\\\\\\\"name\\\\\\\\\\\\\\\": null, \\\\\\\\\\\\\\\"annotation\\\\\\\\\\\\\\\": null}, {\\\\\\\\\\\\\\\"id\\\\\\\\\\\\\\\": \\\\\\\\\\\\\\\"4a4731ae-a077-4503-aaa1-ae332f7c9e1b\\\\\\\\\\\\\\\", \\\\\\\\\\\\\\\"type\\\\\\\\\\\\\\\": \\\\\\\\\\\\\\\"Microsoft.DPrep.RandomSplitBlock\\\\\\\\\\\\\\\", \\\\\\\\\\\\\\\"arguments\\\\\\\\\\\\\\\": {\\\\\\\\\\\\\\\"probability\\\\\\\\\\\\\\\": 0.8, \\\\\\\\\\\\\\\"seed\\\\\\\\\\\\\\\": 7}, \\\\\\\\\\\\\\\"localData\\\\\\\\\\\\\\\": {}, \\\\\\\\\\\\\\\"isEnabled\\\\\\\\\\\\\\\": true, \\\\\\\\\\\\\\\"name\\\\\\\\\\\\\\\": null, \\\\\\\\\\\\\\\"annotation\\\\\\\\\\\\\\\": null}], \\\\\\\\\\\\\\\"inspectors\\\\\\\\\\\\\\\": [], \\\\\\\\\\\\\\\"meta\\\\\\\\\\\\\\\": {\\\\\\\\\\\\\\\"savedDatasetId\\\\\\\\\\\\\\\": \\\\\\\\\\\\\\\"ec1d498d-29d4-4d45-8d04-ddf5fb3344d6\\\\\\\\\\\\\\\", \\\\\\\\\\\\\\\"datasetType\\\\\\\\\\\\\\\": \\\\\\\\\\\\\\\"tabular\\\\\\\\\\\\\\\", \\\\\\\\\\\\\\\"subscriptionId\\\\\\\\\\\\\\\": \\\\\\\\\\\\\\\"3d1a56d2-7c81-4118-9790-f85d1acf0c77\\\\\\\\\\\\\\\", \\\\\\\\\\\\\\\"workspaceId\\\\\\\\\\\\\\\": \\\\\\\\\\\\\\\"d57dff4d-2aa5-42c2-954d-d5b105b984ae\\\\\\\\\\\\\\\", \\\\\\\\\\\\\\\"workspaceLocation\\\\\\\\\\\\\\\": \\\\\\\\\\\\\\\"southcentralus\\\\\\\\\\\\\\\"}}\\\\\\\", \\\\\\\"activities\\\\\\\": 0}\", \"EnableSubsampling\": null, \"runTemplate\": \"AutoML\", \"azureml.runsource\": \"automl\", \"display_task_type\": \"classification\", \"dependencies_versions\": \"{\\\"azureml-widgets\\\": \\\"1.19.0\\\", \\\"azureml-train\\\": \\\"1.19.0\\\", \\\"azureml-train-restclients-hyperdrive\\\": \\\"1.19.0\\\", \\\"azureml-train-core\\\": \\\"1.19.0\\\", \\\"azureml-train-automl\\\": \\\"1.19.0\\\", \\\"azureml-train-automl-runtime\\\": \\\"1.19.0\\\", \\\"azureml-train-automl-client\\\": \\\"1.19.0\\\", \\\"azureml-tensorboard\\\": \\\"1.19.0\\\", \\\"azureml-telemetry\\\": \\\"1.19.0\\\", \\\"azureml-sdk\\\": \\\"1.19.0\\\", \\\"azureml-samples\\\": \\\"0+unknown\\\", \\\"azureml-pipeline\\\": \\\"1.19.0\\\", \\\"azureml-pipeline-steps\\\": \\\"1.19.0\\\", \\\"azureml-pipeline-core\\\": \\\"1.19.0\\\", \\\"azureml-opendatasets\\\": \\\"1.19.0\\\", \\\"azureml-model-management-sdk\\\": \\\"1.0.1b6.post1\\\", \\\"azureml-mlflow\\\": \\\"1.19.0\\\", \\\"azureml-interpret\\\": \\\"1.19.0\\\", \\\"azureml-explain-model\\\": \\\"1.19.0\\\", \\\"azureml-defaults\\\": \\\"1.19.0\\\", \\\"azureml-dataset-runtime\\\": \\\"1.19.0\\\", \\\"azureml-dataprep\\\": \\\"2.6.1\\\", \\\"azureml-dataprep-rslex\\\": \\\"1.4.0\\\", \\\"azureml-dataprep-native\\\": \\\"26.0.0\\\", \\\"azureml-datadrift\\\": \\\"1.19.0\\\", \\\"azureml-core\\\": \\\"1.19.0\\\", \\\"azureml-contrib-services\\\": \\\"1.19.0\\\", \\\"azureml-contrib-server\\\": \\\"1.19.0\\\", \\\"azureml-contrib-reinforcementlearning\\\": \\\"1.19.0\\\", \\\"azureml-contrib-pipeline-steps\\\": \\\"1.19.0\\\", \\\"azureml-contrib-notebook\\\": \\\"1.19.0\\\", \\\"azureml-contrib-interpret\\\": \\\"1.19.0\\\", \\\"azureml-contrib-gbdt\\\": \\\"1.19.0\\\", \\\"azureml-contrib-fairness\\\": \\\"1.19.0\\\", \\\"azureml-contrib-dataset\\\": \\\"1.19.0\\\", \\\"azureml-cli-common\\\": \\\"1.19.0\\\", \\\"azureml-automl-runtime\\\": \\\"1.19.0\\\", \\\"azureml-automl-core\\\": \\\"1.19.0\\\", \\\"azureml-accel-models\\\": \\\"1.19.0\\\"}\", \"_aml_system_scenario_identification\": \"Remote.Parent\", \"ClientType\": \"SDK\", \"environment_cpu_name\": \"AzureML-AutoML\", \"environment_cpu_label\": \"prod\", \"environment_gpu_name\": \"AzureML-AutoML-GPU\", \"environment_gpu_label\": \"prod\", \"root_attribution\": \"automl\", \"attribution\": \"AutoML\", \"Orchestrator\": \"AutoML\", \"CancelUri\": \"https://southcentralus.experiments.azureml.net/jasmine/v1.0/subscriptions/3d1a56d2-7c81-4118-9790-f85d1acf0c77/resourceGroups/aml-quickstarts-134610/providers/Microsoft.MachineLearningServices/workspaces/quick-starts-ws-134610/experimentids/7970547e-24d9-4904-8ee8-6a529f5eccaf/cancel/AutoML_397febcb-c02a-40de-8f9c-e2552f2390d7\", \"ClientSdkVersion\": \"1.19.0\", \"snapshotId\": \"00000000-0000-0000-0000-000000000000\", \"SetupRunId\": \"AutoML_397febcb-c02a-40de-8f9c-e2552f2390d7_setup\", \"SetupRunContainerId\": \"dcid.AutoML_397febcb-c02a-40de-8f9c-e2552f2390d7_setup\", \"FeaturizationRunJsonPath\": \"featurizer_container.json\", \"FeaturizationRunId\": \"AutoML_397febcb-c02a-40de-8f9c-e2552f2390d7_featurize\", \"ProblemInfoJsonString\": \"{\\\"dataset_num_categorical\\\": 0, \\\"is_sparse\\\": true, \\\"subsampling\\\": false, \\\"dataset_classes\\\": 2, \\\"dataset_features\\\": 469, \\\"dataset_samples\\\": 66912, \\\"single_frequency_class_detected\\\": false}\", \"ModelExplainRunId\": \"AutoML_397febcb-c02a-40de-8f9c-e2552f2390d7_ModelExplain\"}, \"tags\": {\"model_explain_run\": \"best_run\", \"_aml_system_azureml.automlComponent\": \"AutoML\", \"pipeline_id\": \"\", \"score\": \"\", \"predicted_cost\": \"\", \"fit_time\": \"\", \"training_percent\": \"\", \"iteration\": \"\", \"run_preprocessor\": \"\", \"run_algorithm\": \"\", \"dynamic_whitelisting_iterations\": \"<25>;\", \"automl_best_child_run_id\": \"AutoML_397febcb-c02a-40de-8f9c-e2552f2390d7_29\", \"model_explain_best_run_child_id\": \"AutoML_397febcb-c02a-40de-8f9c-e2552f2390d7_29\"}, \"end_time_utc\": \"2021-01-14T02:56:50.765276Z\", \"status\": \"Completed\", \"log_files\": {}, \"log_groups\": [], \"run_duration\": \"1:23:14\"}, \"child_runs\": [{\"run_id\": \"AutoML_397febcb-c02a-40de-8f9c-e2552f2390d7_0\", \"run_number\": 60, \"metric\": null, \"status\": \"Completed\", \"run_type\": \"azureml.scriptrun\", \"training_percent\": \"100\", \"start_time\": \"2021-01-14T01:51:08.291381Z\", \"end_time\": \"2021-01-14T01:52:29.225095Z\", \"created_time\": \"2021-01-14T01:50:14.987565Z\", \"created_time_dt\": \"2021-01-14T01:50:14.987565Z\", \"duration\": \"0:02:14\", \"iteration\": \"0\", \"goal\": \"AUC_weighted_max\", \"run_name\": \"MaxAbsScaler, LightGBM\", \"run_properties\": \"copy=True\", \"primary_metric\": 0.70644961, \"best_metric\": 0.70644961}, {\"run_id\": \"AutoML_397febcb-c02a-40de-8f9c-e2552f2390d7_1\", \"run_number\": 70, \"metric\": null, \"status\": \"Completed\", \"run_type\": \"azureml.scriptrun\", \"training_percent\": \"100\", \"start_time\": \"2021-01-14T01:52:48.812882Z\", \"end_time\": \"2021-01-14T01:56:06.373769Z\", \"created_time\": \"2021-01-14T01:52:30.814575Z\", \"created_time_dt\": \"2021-01-14T01:52:30.814575Z\", \"duration\": \"0:03:35\", \"iteration\": \"1\", \"goal\": \"AUC_weighted_max\", \"run_name\": \"MaxAbsScaler, XGBoostClassifier\", \"run_properties\": \"copy=True\", \"primary_metric\": 0.69941472, \"best_metric\": 0.70644961}, {\"run_id\": \"AutoML_397febcb-c02a-40de-8f9c-e2552f2390d7_2\", \"run_number\": 90, \"metric\": null, \"status\": \"Completed\", \"run_type\": \"azureml.scriptrun\", \"training_percent\": \"100\", \"start_time\": \"2021-01-14T01:57:02.249721Z\", \"end_time\": \"2021-01-14T01:59:43.18602Z\", \"created_time\": \"2021-01-14T01:56:08.050938Z\", \"created_time_dt\": \"2021-01-14T01:56:08.050938Z\", \"duration\": \"0:03:35\", \"iteration\": \"2\", \"goal\": \"AUC_weighted_max\", \"run_name\": \"MaxAbsScaler, RandomForest\", \"run_properties\": \"copy=True\", \"primary_metric\": 0.66697091, \"best_metric\": 0.70644961}, {\"run_id\": \"AutoML_397febcb-c02a-40de-8f9c-e2552f2390d7_3\", \"run_number\": 104, \"metric\": null, \"status\": \"Completed\", \"run_type\": \"azureml.scriptrun\", \"training_percent\": \"100\", \"start_time\": \"2021-01-14T02:00:04.101149Z\", \"end_time\": \"2021-01-14T02:02:12.236803Z\", \"created_time\": \"2021-01-14T01:59:49.138441Z\", \"created_time_dt\": \"2021-01-14T01:59:49.138441Z\", \"duration\": \"0:02:23\", \"iteration\": \"3\", \"goal\": \"AUC_weighted_max\", \"run_name\": \"MaxAbsScaler, RandomForest\", \"run_properties\": \"copy=True\", \"primary_metric\": 0.66202452, \"best_metric\": 0.70644961}, {\"run_id\": \"AutoML_397febcb-c02a-40de-8f9c-e2552f2390d7_4\", \"run_number\": 118, \"metric\": null, \"status\": \"Completed\", \"run_type\": \"azureml.scriptrun\", \"training_percent\": \"100\", \"start_time\": \"2021-01-14T02:03:02.548783Z\", \"end_time\": \"2021-01-14T02:04:12.089521Z\", \"created_time\": \"2021-01-14T02:02:14.937999Z\", \"created_time_dt\": \"2021-01-14T02:02:14.937999Z\", \"duration\": \"0:01:57\", \"iteration\": \"4\", \"goal\": \"AUC_weighted_max\", \"run_name\": \"MaxAbsScaler, RandomForest\", \"run_properties\": \"copy=True\", \"primary_metric\": 0.65561442, \"best_metric\": 0.70644961}, {\"run_id\": \"AutoML_397febcb-c02a-40de-8f9c-e2552f2390d7_5\", \"run_number\": 123, \"metric\": null, \"status\": \"Completed\", \"run_type\": \"azureml.scriptrun\", \"training_percent\": \"100\", \"start_time\": \"2021-01-14T02:05:11.281936Z\", \"end_time\": \"2021-01-14T02:06:34.972245Z\", \"created_time\": \"2021-01-14T02:04:15.134137Z\", \"created_time_dt\": \"2021-01-14T02:04:15.134137Z\", \"duration\": \"0:02:19\", \"iteration\": \"5\", \"goal\": \"AUC_weighted_max\", \"run_name\": \"MaxAbsScaler, ExtremeRandomTrees\", \"run_properties\": \"copy=True\", \"primary_metric\": 0.66480762, \"best_metric\": 0.70644961}, {\"run_id\": \"AutoML_397febcb-c02a-40de-8f9c-e2552f2390d7_6\", \"run_number\": 138, \"metric\": null, \"status\": \"Completed\", \"run_type\": \"azureml.scriptrun\", \"training_percent\": \"100\", \"start_time\": \"2021-01-14T02:07:05.255426Z\", \"end_time\": \"2021-01-14T02:08:43.676944Z\", \"created_time\": \"2021-01-14T02:06:39.820737Z\", \"created_time_dt\": \"2021-01-14T02:06:39.820737Z\", \"duration\": \"0:02:03\", \"iteration\": \"6\", \"goal\": \"AUC_weighted_max\", \"run_name\": \"MaxAbsScaler, ExtremeRandomTrees\", \"run_properties\": \"copy=True\", \"primary_metric\": 0.67911767, \"best_metric\": 0.70644961}, {\"run_id\": \"AutoML_397febcb-c02a-40de-8f9c-e2552f2390d7_7\", \"run_number\": 148, \"metric\": null, \"status\": \"Completed\", \"run_type\": \"azureml.scriptrun\", \"training_percent\": \"100\", \"start_time\": \"2021-01-14T02:09:04.553638Z\", \"end_time\": \"2021-01-14T02:11:54.295373Z\", \"created_time\": \"2021-01-14T02:08:45.877212Z\", \"created_time_dt\": \"2021-01-14T02:08:45.877212Z\", \"duration\": \"0:03:08\", \"iteration\": \"7\", \"goal\": \"AUC_weighted_max\", \"run_name\": \"MaxAbsScaler, ExtremeRandomTrees\", \"run_properties\": \"copy=True\", \"primary_metric\": 0.66891198, \"best_metric\": 0.70644961}, {\"run_id\": \"AutoML_397febcb-c02a-40de-8f9c-e2552f2390d7_8\", \"run_number\": 164, \"metric\": null, \"status\": \"Completed\", \"run_type\": \"azureml.scriptrun\", \"training_percent\": \"100\", \"start_time\": \"2021-01-14T02:12:20.255688Z\", \"end_time\": \"2021-01-14T02:13:28.881921Z\", \"created_time\": \"2021-01-14T02:11:57.028333Z\", \"created_time_dt\": \"2021-01-14T02:11:57.028333Z\", \"duration\": \"0:01:31\", \"iteration\": \"8\", \"goal\": \"AUC_weighted_max\", \"run_name\": \"MaxAbsScaler, RandomForest\", \"run_properties\": \"copy=True\", \"primary_metric\": 0.66872998, \"best_metric\": 0.70644961}, {\"run_id\": \"AutoML_397febcb-c02a-40de-8f9c-e2552f2390d7_9\", \"run_number\": 168, \"metric\": null, \"status\": \"Completed\", \"run_type\": \"azureml.scriptrun\", \"training_percent\": \"100\", \"start_time\": \"2021-01-14T02:13:45.568122Z\", \"end_time\": \"2021-01-14T02:15:02.162992Z\", \"created_time\": \"2021-01-14T02:13:32.253137Z\", \"created_time_dt\": \"2021-01-14T02:13:32.253137Z\", \"duration\": \"0:01:29\", \"iteration\": \"9\", \"goal\": \"AUC_weighted_max\", \"run_name\": \"MaxAbsScaler, ExtremeRandomTrees\", \"run_properties\": \"copy=True\", \"primary_metric\": 0.67020946, \"best_metric\": 0.70644961}, {\"run_id\": \"AutoML_397febcb-c02a-40de-8f9c-e2552f2390d7_10\", \"run_number\": 177, \"metric\": null, \"status\": \"Completed\", \"run_type\": \"azureml.scriptrun\", \"training_percent\": \"100\", \"start_time\": \"2021-01-14T02:15:21.852484Z\", \"end_time\": \"2021-01-14T02:16:24.366771Z\", \"created_time\": \"2021-01-14T02:15:04.950733Z\", \"created_time_dt\": \"2021-01-14T02:15:04.950733Z\", \"duration\": \"0:01:19\", \"iteration\": \"10\", \"goal\": \"AUC_weighted_max\", \"run_name\": \"MaxAbsScaler, RandomForest\", \"run_properties\": \"copy=True\", \"primary_metric\": 0.65551255, \"best_metric\": 0.70644961}, {\"run_id\": \"AutoML_397febcb-c02a-40de-8f9c-e2552f2390d7_11\", \"run_number\": 178, \"metric\": null, \"status\": \"Completed\", \"run_type\": \"azureml.scriptrun\", \"training_percent\": \"100\", \"start_time\": \"2021-01-14T02:16:38.925803Z\", \"end_time\": \"2021-01-14T02:17:52.694821Z\", \"created_time\": \"2021-01-14T02:16:26.85681Z\", \"created_time_dt\": \"2021-01-14T02:16:26.85681Z\", \"duration\": \"0:01:25\", \"iteration\": \"11\", \"goal\": \"AUC_weighted_max\", \"run_name\": \"MaxAbsScaler, RandomForest\", \"run_properties\": \"copy=True\", \"primary_metric\": 0.66642606, \"best_metric\": 0.70644961}, {\"run_id\": \"AutoML_397febcb-c02a-40de-8f9c-e2552f2390d7_12\", \"run_number\": 179, \"metric\": null, \"status\": \"Completed\", \"run_type\": \"azureml.scriptrun\", \"training_percent\": \"100\", \"start_time\": \"2021-01-14T02:18:10.555014Z\", \"end_time\": \"2021-01-14T02:19:31.522466Z\", \"created_time\": \"2021-01-14T02:17:56.156001Z\", \"created_time_dt\": \"2021-01-14T02:17:56.156001Z\", \"duration\": \"0:01:35\", \"iteration\": \"12\", \"goal\": \"AUC_weighted_max\", \"run_name\": \"MaxAbsScaler, RandomForest\", \"run_properties\": \"copy=True\", \"primary_metric\": 0.66264615, \"best_metric\": 0.70644961}, {\"run_id\": \"AutoML_397febcb-c02a-40de-8f9c-e2552f2390d7_13\", \"run_number\": 180, \"metric\": null, \"status\": \"Completed\", \"run_type\": \"azureml.scriptrun\", \"training_percent\": \"100\", \"start_time\": \"2021-01-14T02:19:55.971691Z\", \"end_time\": \"2021-01-14T02:21:20.155357Z\", \"created_time\": \"2021-01-14T02:19:38.053145Z\", \"created_time_dt\": \"2021-01-14T02:19:38.053145Z\", \"duration\": \"0:01:42\", \"iteration\": \"13\", \"goal\": \"AUC_weighted_max\", \"run_name\": \"StandardScalerWrapper, XGBoostClassifier\", \"run_properties\": \"<azureml.automl.runtime.shared.model_wrappers.StandardScalerWrapper object at 0x7f9a0a89f630\", \"primary_metric\": 0.68539715, \"best_metric\": 0.70644961}, {\"run_id\": \"AutoML_397febcb-c02a-40de-8f9c-e2552f2390d7_14\", \"run_number\": 181, \"metric\": null, \"status\": \"Completed\", \"run_type\": \"azureml.scriptrun\", \"training_percent\": \"100\", \"start_time\": \"2021-01-14T02:21:37.966733Z\", \"end_time\": \"2021-01-14T02:22:46.326501Z\", \"created_time\": \"2021-01-14T02:21:23.173069Z\", \"created_time_dt\": \"2021-01-14T02:21:23.173069Z\", \"duration\": \"0:01:23\", \"iteration\": \"14\", \"goal\": \"AUC_weighted_max\", \"run_name\": \"MaxAbsScaler, RandomForest\", \"run_properties\": \"copy=True\", \"primary_metric\": 0.65968829, \"best_metric\": 0.70644961}, {\"run_id\": \"AutoML_397febcb-c02a-40de-8f9c-e2552f2390d7_15\", \"run_number\": 182, \"metric\": null, \"status\": \"Completed\", \"run_type\": \"azureml.scriptrun\", \"training_percent\": \"100\", \"start_time\": \"2021-01-14T02:23:05.876232Z\", \"end_time\": \"2021-01-14T02:24:20.684994Z\", \"created_time\": \"2021-01-14T02:22:50.89888Z\", \"created_time_dt\": \"2021-01-14T02:22:50.89888Z\", \"duration\": \"0:01:29\", \"iteration\": \"15\", \"goal\": \"AUC_weighted_max\", \"run_name\": \"StandardScalerWrapper, ExtremeRandomTrees\", \"run_properties\": \"<azureml.automl.runtime.shared.model_wrappers.StandardScalerWrapper object at 0x7f20a9b9ad30\", \"primary_metric\": 0.66500643, \"best_metric\": 0.70644961}, {\"run_id\": \"AutoML_397febcb-c02a-40de-8f9c-e2552f2390d7_16\", \"run_number\": 183, \"metric\": null, \"status\": \"Completed\", \"run_type\": \"azureml.scriptrun\", \"training_percent\": \"100\", \"start_time\": \"2021-01-14T02:24:33.442331Z\", \"end_time\": \"2021-01-14T02:25:49.112081Z\", \"created_time\": \"2021-01-14T02:24:22.79353Z\", \"created_time_dt\": \"2021-01-14T02:24:22.79353Z\", \"duration\": \"0:01:26\", \"iteration\": \"16\", \"goal\": \"AUC_weighted_max\", \"run_name\": \"MaxAbsScaler, ExtremeRandomTrees\", \"run_properties\": \"copy=True\", \"primary_metric\": 0.67045408, \"best_metric\": 0.70644961}, {\"run_id\": \"AutoML_397febcb-c02a-40de-8f9c-e2552f2390d7_17\", \"run_number\": 184, \"metric\": null, \"status\": \"Completed\", \"run_type\": \"azureml.scriptrun\", \"training_percent\": \"100\", \"start_time\": \"2021-01-14T02:26:05.379525Z\", \"end_time\": \"2021-01-14T02:27:27.172337Z\", \"created_time\": \"2021-01-14T02:25:51.406427Z\", \"created_time_dt\": \"2021-01-14T02:25:51.406427Z\", \"duration\": \"0:01:35\", \"iteration\": \"17\", \"goal\": \"AUC_weighted_max\", \"run_name\": \"MaxAbsScaler, ExtremeRandomTrees\", \"run_properties\": \"copy=True\", \"primary_metric\": 0.66085569, \"best_metric\": 0.70644961}, {\"run_id\": \"AutoML_397febcb-c02a-40de-8f9c-e2552f2390d7_18\", \"run_number\": 185, \"metric\": null, \"status\": \"Completed\", \"run_type\": \"azureml.scriptrun\", \"training_percent\": \"100\", \"start_time\": \"2021-01-14T02:27:44.627297Z\", \"end_time\": \"2021-01-14T02:28:54.953378Z\", \"created_time\": \"2021-01-14T02:27:30.28101Z\", \"created_time_dt\": \"2021-01-14T02:27:30.28101Z\", \"duration\": \"0:01:24\", \"iteration\": \"18\", \"goal\": \"AUC_weighted_max\", \"run_name\": \"MaxAbsScaler, RandomForest\", \"run_properties\": \"copy=True\", \"primary_metric\": 0.65307151, \"best_metric\": 0.70644961}, {\"run_id\": \"AutoML_397febcb-c02a-40de-8f9c-e2552f2390d7_19\", \"run_number\": 186, \"metric\": null, \"status\": \"Completed\", \"run_type\": \"azureml.scriptrun\", \"training_percent\": \"100\", \"start_time\": \"2021-01-14T02:29:11.138188Z\", \"end_time\": \"2021-01-14T02:30:37.737378Z\", \"created_time\": \"2021-01-14T02:28:57.489626Z\", \"created_time_dt\": \"2021-01-14T02:28:57.489626Z\", \"duration\": \"0:01:40\", \"iteration\": \"19\", \"goal\": \"AUC_weighted_max\", \"run_name\": \"StandardScalerWrapper, XGBoostClassifier\", \"run_properties\": \"<azureml.automl.runtime.shared.model_wrappers.StandardScalerWrapper object at 0x7f9c550e7b00\", \"primary_metric\": 0.70310005, \"best_metric\": 0.70644961}, {\"run_id\": \"AutoML_397febcb-c02a-40de-8f9c-e2552f2390d7_20\", \"run_number\": 187, \"metric\": null, \"status\": \"Completed\", \"run_type\": \"azureml.scriptrun\", \"training_percent\": \"100\", \"start_time\": \"2021-01-14T02:30:54.579323Z\", \"end_time\": \"2021-01-14T02:32:26.573247Z\", \"created_time\": \"2021-01-14T02:30:40.291767Z\", \"created_time_dt\": \"2021-01-14T02:30:40.291767Z\", \"duration\": \"0:01:46\", \"iteration\": \"20\", \"goal\": \"AUC_weighted_max\", \"run_name\": \"MaxAbsScaler, LightGBM\", \"run_properties\": \"copy=True\", \"primary_metric\": 0.70280504, \"best_metric\": 0.70644961}, {\"run_id\": \"AutoML_397febcb-c02a-40de-8f9c-e2552f2390d7_21\", \"run_number\": 188, \"metric\": null, \"status\": \"Completed\", \"run_type\": \"azureml.scriptrun\", \"training_percent\": \"100\", \"start_time\": \"2021-01-14T02:32:42.311997Z\", \"end_time\": \"2021-01-14T02:36:54.934526Z\", \"created_time\": \"2021-01-14T02:32:29.472064Z\", \"created_time_dt\": \"2021-01-14T02:32:29.472064Z\", \"duration\": \"0:04:25\", \"iteration\": \"21\", \"goal\": \"AUC_weighted_max\", \"run_name\": \"StandardScalerWrapper, XGBoostClassifier\", \"run_properties\": \"<azureml.automl.runtime.shared.model_wrappers.StandardScalerWrapper object at 0x7f0bfd4979b0\", \"primary_metric\": 0.68997584, \"best_metric\": 0.70644961}, {\"run_id\": \"AutoML_397febcb-c02a-40de-8f9c-e2552f2390d7_22\", \"run_number\": 189, \"metric\": null, \"status\": \"Completed\", \"run_type\": \"azureml.scriptrun\", \"training_percent\": \"100\", \"start_time\": \"2021-01-14T02:37:10.132833Z\", \"end_time\": \"2021-01-14T02:38:44.018516Z\", \"created_time\": \"2021-01-14T02:36:57.657135Z\", \"created_time_dt\": \"2021-01-14T02:36:57.657135Z\", \"duration\": \"0:01:46\", \"iteration\": \"22\", \"goal\": \"AUC_weighted_max\", \"run_name\": \"StandardScalerWrapper, LogisticRegression\", \"run_properties\": \"<azureml.automl.runtime.shared.model_wrappers.StandardScalerWrapper object at 0x7f52b84f1128\", \"primary_metric\": 0.69901389, \"best_metric\": 0.70644961}, {\"run_id\": \"AutoML_397febcb-c02a-40de-8f9c-e2552f2390d7_23\", \"run_number\": 190, \"metric\": null, \"status\": \"Completed\", \"run_type\": \"azureml.scriptrun\", \"training_percent\": \"100\", \"start_time\": \"2021-01-14T02:38:57.151786Z\", \"end_time\": \"2021-01-14T02:43:04.048346Z\", \"created_time\": \"2021-01-14T02:38:46.314394Z\", \"created_time_dt\": \"2021-01-14T02:38:46.314394Z\", \"duration\": \"0:04:17\", \"iteration\": \"23\", \"goal\": \"AUC_weighted_max\", \"run_name\": \"StandardScalerWrapper, LogisticRegression\", \"run_properties\": \"<azureml.automl.runtime.shared.model_wrappers.StandardScalerWrapper object at 0x7fddae04b6d8\", \"primary_metric\": 0.70003251, \"best_metric\": 0.70644961}, {\"run_id\": \"AutoML_397febcb-c02a-40de-8f9c-e2552f2390d7_24\", \"run_number\": 191, \"metric\": null, \"status\": \"Completed\", \"run_type\": \"azureml.scriptrun\", \"training_percent\": \"100\", \"start_time\": \"2021-01-14T02:43:18.141948Z\", \"end_time\": \"2021-01-14T02:44:36.172518Z\", \"created_time\": \"2021-01-14T02:43:06.21415Z\", \"created_time_dt\": \"2021-01-14T02:43:06.21415Z\", \"duration\": \"0:01:29\", \"iteration\": \"24\", \"goal\": \"AUC_weighted_max\", \"run_name\": \"SparseNormalizer, LightGBM\", \"run_properties\": \"<azureml.automl.runtime.shared.model_wrappers.SparseNormalizer object at 0x7f5d8ea157f0\", \"primary_metric\": 0.68512441, \"best_metric\": 0.70644961}, {\"run_id\": \"AutoML_397febcb-c02a-40de-8f9c-e2552f2390d7_25\", \"run_number\": 192, \"metric\": null, \"status\": \"Completed\", \"run_type\": \"azureml.scriptrun\", \"training_percent\": \"100\", \"start_time\": \"2021-01-14T02:45:40.070809Z\", \"end_time\": \"2021-01-14T02:46:54.376273Z\", \"created_time\": \"2021-01-14T02:44:44.326841Z\", \"created_time_dt\": \"2021-01-14T02:44:44.326841Z\", \"duration\": \"0:02:10\", \"iteration\": \"25\", \"goal\": \"AUC_weighted_max\", \"run_name\": \"StandardScalerWrapper, LightGBM\", \"run_properties\": \"<azureml.automl.runtime.shared.model_wrappers.StandardScalerWrapper object at 0x7f39fb344fd0\", \"primary_metric\": 0.65434034, \"best_metric\": 0.70644961}, {\"run_id\": \"AutoML_397febcb-c02a-40de-8f9c-e2552f2390d7_26\", \"run_number\": 193, \"metric\": null, \"status\": \"Completed\", \"run_type\": \"azureml.scriptrun\", \"training_percent\": \"100\", \"start_time\": \"2021-01-14T02:47:11.210296Z\", \"end_time\": \"2021-01-14T02:49:26.739334Z\", \"created_time\": \"2021-01-14T02:46:57.062516Z\", \"created_time_dt\": \"2021-01-14T02:46:57.062516Z\", \"duration\": \"0:02:29\", \"iteration\": \"26\", \"goal\": \"AUC_weighted_max\", \"run_name\": \"TruncatedSVDWrapper, XGBoostClassifier\", \"run_properties\": \"n_components=0.8510526315789474, random_state=None\", \"primary_metric\": 0.66930025, \"best_metric\": 0.70644961}, {\"run_id\": \"AutoML_397febcb-c02a-40de-8f9c-e2552f2390d7_27\", \"run_number\": 194, \"metric\": null, \"status\": \"Completed\", \"run_type\": \"azureml.scriptrun\", \"training_percent\": \"100\", \"start_time\": \"2021-01-14T02:49:40.146433Z\", \"end_time\": \"2021-01-14T02:50:59.068142Z\", \"created_time\": \"2021-01-14T02:49:29.08238Z\", \"created_time_dt\": \"2021-01-14T02:49:29.08238Z\", \"duration\": \"0:01:29\", \"iteration\": \"27\", \"goal\": \"AUC_weighted_max\", \"run_name\": \"StandardScalerWrapper, LightGBM\", \"run_properties\": \"<azureml.automl.runtime.shared.model_wrappers.StandardScalerWrapper object at 0x7fba5e1c1400\", \"primary_metric\": 0.69776387, \"best_metric\": 0.70644961}, {\"run_id\": \"AutoML_397febcb-c02a-40de-8f9c-e2552f2390d7_28\", \"run_number\": 195, \"metric\": null, \"status\": \"Completed\", \"run_type\": \"azureml.scriptrun\", \"training_percent\": \"100\", \"start_time\": \"2021-01-14T02:51:13.214985Z\", \"end_time\": \"2021-01-14T02:53:46.201396Z\", \"created_time\": \"2021-01-14T02:51:00.913233Z\", \"created_time_dt\": \"2021-01-14T02:51:00.913233Z\", \"duration\": \"0:02:45\", \"iteration\": \"28\", \"goal\": \"AUC_weighted_max\", \"run_name\": \"VotingEnsemble\", \"run_properties\": \"classification_labels=None,\\n                              estimators=[('0',\\n                                           Pipeline(memory=None,\\n                                                    steps=[('maxabsscaler',\\n                                                            MaxAbsScaler(copy=True\", \"primary_metric\": 0.70990133, \"best_metric\": 0.70990133}, {\"run_id\": \"AutoML_397febcb-c02a-40de-8f9c-e2552f2390d7_29\", \"run_number\": 196, \"metric\": null, \"status\": \"Completed\", \"run_type\": \"azureml.scriptrun\", \"training_percent\": \"100\", \"start_time\": \"2021-01-14T02:54:02.306047Z\", \"end_time\": \"2021-01-14T02:56:43.903486Z\", \"created_time\": \"2021-01-14T02:53:47.270139Z\", \"created_time_dt\": \"2021-01-14T02:53:47.270139Z\", \"duration\": \"0:02:56\", \"iteration\": \"29\", \"goal\": \"AUC_weighted_max\", \"run_name\": \"StackEnsemble\", \"run_properties\": \"base_learners=[('0',\\n                                        Pipeline(memory=None,\\n                                                 steps=[('maxabsscaler',\\n                                                         MaxAbsScaler(copy=True\", \"primary_metric\": 0.71009022, \"best_metric\": 0.71009022}], \"children_metrics\": {\"categories\": [0], \"series\": {\"matthews_correlation\": [{\"categories\": [\"0\", \"1\", \"2\", \"3\", \"4\", \"5\", \"6\", \"7\", \"8\", \"9\", \"10\", \"11\", \"12\", \"13\", \"14\", \"15\", \"16\", \"17\", \"18\", \"19\", \"20\", \"21\", \"22\", \"23\", \"24\", \"25\", \"26\", \"27\", \"28\", \"29\"], \"mode\": \"markers\", \"name\": \"matthews_correlation\", \"stepped\": false, \"type\": \"scatter\", \"data\": [0.3098356031741142, 0.29659298729699907, 0.25699356385334327, 0.2504304363956937, 0.24239584444645534, 0.24414291925552786, 0.26214217103599224, 0.2571010519717019, 0.25683022635449165, 0.2551827692828216, 0.23714921391371718, 0.253940952025039, 0.2484569878230986, 0.27475303871607093, 0.2447589989215703, 0.24446975305668012, 0.2531723722103999, 0.23953154199646703, 0.2370637213496134, 0.30648208175260827, 0.30361986565845883, 0.2802130690633266, 0.29443512824846085, 0.2943767162653465, 0.27675539592072496, 0.22958048525225516, 0.2508276153900145, 0.29521351502908655, 0.31557257220301055, 0.31558145272910226]}, {\"categories\": [\"0\", \"1\", \"2\", \"3\", \"4\", \"5\", \"6\", \"7\", \"8\", \"9\", \"10\", \"11\", \"12\", \"13\", \"14\", \"15\", \"16\", \"17\", \"18\", \"19\", \"20\", \"21\", \"22\", \"23\", \"24\", \"25\", \"26\", \"27\", \"28\", \"29\"], \"mode\": \"lines\", \"name\": \"matthews_correlation_max\", \"stepped\": true, \"type\": \"scatter\", \"data\": [0.3098356031741142, 0.3098356031741142, 0.3098356031741142, 0.3098356031741142, 0.3098356031741142, 0.3098356031741142, 0.3098356031741142, 0.3098356031741142, 0.3098356031741142, 0.3098356031741142, 0.3098356031741142, 0.3098356031741142, 0.3098356031741142, 0.3098356031741142, 0.3098356031741142, 0.3098356031741142, 0.3098356031741142, 0.3098356031741142, 0.3098356031741142, 0.3098356031741142, 0.3098356031741142, 0.3098356031741142, 0.3098356031741142, 0.3098356031741142, 0.3098356031741142, 0.3098356031741142, 0.3098356031741142, 0.3098356031741142, 0.31557257220301055, 0.31558145272910226]}], \"norm_macro_recall\": [{\"categories\": [\"0\", \"1\", \"2\", \"3\", \"4\", \"5\", \"6\", \"7\", \"8\", \"9\", \"10\", \"11\", \"12\", \"13\", \"14\", \"15\", \"16\", \"17\", \"18\", \"19\", \"20\", \"21\", \"22\", \"23\", \"24\", \"25\", \"26\", \"27\", \"28\", \"29\"], \"mode\": \"markers\", \"name\": \"norm_macro_recall\", \"stepped\": false, \"type\": \"scatter\", \"data\": [0.30835298501211433, 0.29448109361770103, 0.2560361647853413, 0.24972963267229414, 0.24082361476857708, 0.24359568418904223, 0.2601572251460046, 0.2568089251922344, 0.25647796488870783, 0.2550509759799849, 0.23644491076471358, 0.2526681183974434, 0.2470925803955617, 0.27151041179690916, 0.2436365485854895, 0.24252564906522486, 0.2527445989780138, 0.23952627541364796, 0.23576653778092163, 0.3044266965222606, 0.3015142401283154, 0.2799580708611585, 0.2941490163523633, 0.2940466463210785, 0.27521626858178816, 0.22711006858338112, 0.24976247465175297, 0.2939566557872325, 0.3143138678686664, 0.31460486338247934]}, {\"categories\": [\"0\", \"1\", \"2\", \"3\", \"4\", \"5\", \"6\", \"7\", \"8\", \"9\", \"10\", \"11\", \"12\", \"13\", \"14\", \"15\", \"16\", \"17\", \"18\", \"19\", \"20\", \"21\", \"22\", \"23\", \"24\", \"25\", \"26\", \"27\", \"28\", \"29\"], \"mode\": \"lines\", \"name\": \"norm_macro_recall_max\", \"stepped\": true, \"type\": \"scatter\", \"data\": [0.30835298501211433, 0.30835298501211433, 0.30835298501211433, 0.30835298501211433, 0.30835298501211433, 0.30835298501211433, 0.30835298501211433, 0.30835298501211433, 0.30835298501211433, 0.30835298501211433, 0.30835298501211433, 0.30835298501211433, 0.30835298501211433, 0.30835298501211433, 0.30835298501211433, 0.30835298501211433, 0.30835298501211433, 0.30835298501211433, 0.30835298501211433, 0.30835298501211433, 0.30835298501211433, 0.30835298501211433, 0.30835298501211433, 0.30835298501211433, 0.30835298501211433, 0.30835298501211433, 0.30835298501211433, 0.30835298501211433, 0.3143138678686664, 0.31460486338247934]}], \"f1_score_weighted\": [{\"categories\": [\"0\", \"1\", \"2\", \"3\", \"4\", \"5\", \"6\", \"7\", \"8\", \"9\", \"10\", \"11\", \"12\", \"13\", \"14\", \"15\", \"16\", \"17\", \"18\", \"19\", \"20\", \"21\", \"22\", \"23\", \"24\", \"25\", \"26\", \"27\", \"28\", \"29\"], \"mode\": \"markers\", \"name\": \"f1_score_weighted\", \"stepped\": false, \"type\": \"scatter\", \"data\": [0.6534366900497821, 0.6461159213807595, 0.6273390590144675, 0.6244015578169309, 0.6192973428231129, 0.6214696673249187, 0.628857320908509, 0.6282143872401326, 0.6280334457692133, 0.6274903708118259, 0.6178072202258686, 0.6255814144535184, 0.6226476991380261, 0.6338073374701784, 0.6208645902228515, 0.6198959468646722, 0.6260439514602225, 0.6197949530915394, 0.6170536172011413, 0.6511677890567678, 0.6496727830088057, 0.6398401599358092, 0.64696148305922, 0.6468903026219097, 0.6367151427032586, 0.6116440581951668, 0.6241894233307951, 0.6463075557727508, 0.6565660264373501, 0.6568253002804931]}, {\"categories\": [\"0\", \"1\", \"2\", \"3\", \"4\", \"5\", \"6\", \"7\", \"8\", \"9\", \"10\", \"11\", \"12\", \"13\", \"14\", \"15\", \"16\", \"17\", \"18\", \"19\", \"20\", \"21\", \"22\", \"23\", \"24\", \"25\", \"26\", \"27\", \"28\", \"29\"], \"mode\": \"lines\", \"name\": \"f1_score_weighted_max\", \"stepped\": true, \"type\": \"scatter\", \"data\": [0.6534366900497821, 0.6534366900497821, 0.6534366900497821, 0.6534366900497821, 0.6534366900497821, 0.6534366900497821, 0.6534366900497821, 0.6534366900497821, 0.6534366900497821, 0.6534366900497821, 0.6534366900497821, 0.6534366900497821, 0.6534366900497821, 0.6534366900497821, 0.6534366900497821, 0.6534366900497821, 0.6534366900497821, 0.6534366900497821, 0.6534366900497821, 0.6534366900497821, 0.6534366900497821, 0.6534366900497821, 0.6534366900497821, 0.6534366900497821, 0.6534366900497821, 0.6534366900497821, 0.6534366900497821, 0.6534366900497821, 0.6565660264373501, 0.6568253002804931]}], \"recall_score_micro\": [{\"categories\": [\"0\", \"1\", \"2\", \"3\", \"4\", \"5\", \"6\", \"7\", \"8\", \"9\", \"10\", \"11\", \"12\", \"13\", \"14\", \"15\", \"16\", \"17\", \"18\", \"19\", \"20\", \"21\", \"22\", \"23\", \"24\", \"25\", \"26\", \"27\", \"28\", \"29\"], \"mode\": \"markers\", \"name\": \"recall_score_micro\", \"stepped\": false, \"type\": \"scatter\", \"data\": [0.6542623046146081, 0.6473726424218494, 0.6280188777002944, 0.6249252434397905, 0.620531531552961, 0.6218914881328745, 0.6302606716151816, 0.6284224506129851, 0.6282878689823168, 0.6275854831278075, 0.6183496813630921, 0.6265094487612928, 0.6236848258842895, 0.6359546621431194, 0.6217716621040219, 0.6213982916624664, 0.6263599931534365, 0.619799044851457, 0.6180954311651511, 0.6523343941665153, 0.6508847358564686, 0.6400047314412907, 0.6471335364543045, 0.6470887012237211, 0.6377182005697138, 0.6137465399911708, 0.6249850140687455, 0.6470587567215575, 0.6572513006298586, 0.6573559310578705]}, {\"categories\": [\"0\", \"1\", \"2\", \"3\", \"4\", \"5\", \"6\", \"7\", \"8\", \"9\", \"10\", \"11\", \"12\", \"13\", \"14\", \"15\", \"16\", \"17\", \"18\", \"19\", \"20\", \"21\", \"22\", \"23\", \"24\", \"25\", \"26\", \"27\", \"28\", \"29\"], \"mode\": \"lines\", \"name\": \"recall_score_micro_max\", \"stepped\": true, \"type\": \"scatter\", \"data\": [0.6542623046146081, 0.6542623046146081, 0.6542623046146081, 0.6542623046146081, 0.6542623046146081, 0.6542623046146081, 0.6542623046146081, 0.6542623046146081, 0.6542623046146081, 0.6542623046146081, 0.6542623046146081, 0.6542623046146081, 0.6542623046146081, 0.6542623046146081, 0.6542623046146081, 0.6542623046146081, 0.6542623046146081, 0.6542623046146081, 0.6542623046146081, 0.6542623046146081, 0.6542623046146081, 0.6542623046146081, 0.6542623046146081, 0.6542623046146081, 0.6542623046146081, 0.6542623046146081, 0.6542623046146081, 0.6542623046146081, 0.6572513006298586, 0.6573559310578705]}], \"recall_score_macro\": [{\"categories\": [\"0\", \"1\", \"2\", \"3\", \"4\", \"5\", \"6\", \"7\", \"8\", \"9\", \"10\", \"11\", \"12\", \"13\", \"14\", \"15\", \"16\", \"17\", \"18\", \"19\", \"20\", \"21\", \"22\", \"23\", \"24\", \"25\", \"26\", \"27\", \"28\", \"29\"], \"mode\": \"markers\", \"name\": \"recall_score_macro\", \"stepped\": false, \"type\": \"scatter\", \"data\": [0.6541764925060571, 0.6472405468088505, 0.6280180823926707, 0.6248648163361471, 0.6204118073842885, 0.6217978420945212, 0.6300786125730024, 0.6284044625961173, 0.6282389824443539, 0.6275254879899925, 0.6182224553823568, 0.6263340591987216, 0.6235462901977809, 0.6357552058984546, 0.6218182742927447, 0.6212628245326124, 0.6263722994890069, 0.619763137706824, 0.6178832688904607, 0.6522133482611302, 0.6507571200641576, 0.6399790354305792, 0.6470745081761816, 0.6470233231605392, 0.6376081342908941, 0.6135550342916906, 0.6248812373258765, 0.6469783278936163, 0.6571569339343332, 0.6573024316912397]}, {\"categories\": [\"0\", \"1\", \"2\", \"3\", \"4\", \"5\", \"6\", \"7\", \"8\", \"9\", \"10\", \"11\", \"12\", \"13\", \"14\", \"15\", \"16\", \"17\", \"18\", \"19\", \"20\", \"21\", \"22\", \"23\", \"24\", \"25\", \"26\", \"27\", \"28\", \"29\"], \"mode\": \"lines\", \"name\": \"recall_score_macro_max\", \"stepped\": true, \"type\": \"scatter\", \"data\": [0.6541764925060571, 0.6541764925060571, 0.6541764925060571, 0.6541764925060571, 0.6541764925060571, 0.6541764925060571, 0.6541764925060571, 0.6541764925060571, 0.6541764925060571, 0.6541764925060571, 0.6541764925060571, 0.6541764925060571, 0.6541764925060571, 0.6541764925060571, 0.6541764925060571, 0.6541764925060571, 0.6541764925060571, 0.6541764925060571, 0.6541764925060571, 0.6541764925060571, 0.6541764925060571, 0.6541764925060571, 0.6541764925060571, 0.6541764925060571, 0.6541764925060571, 0.6541764925060571, 0.6541764925060571, 0.6541764925060571, 0.6571569339343332, 0.6573024316912397]}], \"f1_score_macro\": [{\"categories\": [\"0\", \"1\", \"2\", \"3\", \"4\", \"5\", \"6\", \"7\", \"8\", \"9\", \"10\", \"11\", \"12\", \"13\", \"14\", \"15\", \"16\", \"17\", \"18\", \"19\", \"20\", \"21\", \"22\", \"23\", \"24\", \"25\", \"26\", \"27\", \"28\", \"29\"], \"mode\": \"markers\", \"name\": \"f1_score_macro\", \"stepped\": false, \"type\": \"scatter\", \"data\": [0.6533844276591436, 0.6460468461326931, 0.6273160955500903, 0.6243571607289644, 0.6192268690127983, 0.6214111076355631, 0.6287660999855047, 0.6281853205303439, 0.6279925516074749, 0.6274455558175485, 0.6177354853282304, 0.6254924169387224, 0.6225729909320983, 0.6337108369188885, 0.6208609805771915, 0.6198206841340956, 0.6260257291535926, 0.6197585237776966, 0.616948937839709, 0.6511032237793378, 0.6496059566446295, 0.639808788724779, 0.6469185314373059, 0.6468451196910915, 0.6366524368309431, 0.6115449699171105, 0.6241275910253414, 0.6462576271340484, 0.6565113173839027, 0.6567845613448599]}, {\"categories\": [\"0\", \"1\", \"2\", \"3\", \"4\", \"5\", \"6\", \"7\", \"8\", \"9\", \"10\", \"11\", \"12\", \"13\", \"14\", \"15\", \"16\", \"17\", \"18\", \"19\", \"20\", \"21\", \"22\", \"23\", \"24\", \"25\", \"26\", \"27\", \"28\", \"29\"], \"mode\": \"lines\", \"name\": \"f1_score_macro_max\", \"stepped\": true, \"type\": \"scatter\", \"data\": [0.6533844276591436, 0.6533844276591436, 0.6533844276591436, 0.6533844276591436, 0.6533844276591436, 0.6533844276591436, 0.6533844276591436, 0.6533844276591436, 0.6533844276591436, 0.6533844276591436, 0.6533844276591436, 0.6533844276591436, 0.6533844276591436, 0.6533844276591436, 0.6533844276591436, 0.6533844276591436, 0.6533844276591436, 0.6533844276591436, 0.6533844276591436, 0.6533844276591436, 0.6533844276591436, 0.6533844276591436, 0.6533844276591436, 0.6533844276591436, 0.6533844276591436, 0.6533844276591436, 0.6533844276591436, 0.6533844276591436, 0.6565113173839027, 0.6567845613448599]}], \"log_loss\": [{\"categories\": [\"0\", \"1\", \"2\", \"3\", \"4\", \"5\", \"6\", \"7\", \"8\", \"9\", \"10\", \"11\", \"12\", \"13\", \"14\", \"15\", \"16\", \"17\", \"18\", \"19\", \"20\", \"21\", \"22\", \"23\", \"24\", \"25\", \"26\", \"27\", \"28\", \"29\"], \"mode\": \"markers\", \"name\": \"log_loss\", \"stepped\": false, \"type\": \"scatter\", \"data\": [0.623944222857386, 0.628930558590594, 0.6541827386086486, 0.6633682461022431, 0.6614511230895486, 0.6496927149405887, 0.6435867424707175, 0.6579577602181403, 0.6557832694900855, 0.6564168616505727, 0.6653881657415153, 0.6539168492749722, 0.6604629173568798, 0.6487777438581463, 0.6644788030942985, 0.6498041686745426, 0.6496930662115482, 0.6675997072747608, 0.6685068582188399, 0.6276484894316363, 0.6263832550757255, 0.6506354895683433, 0.6313862021960122, 0.6288084712571276, 0.6415863525379139, 0.6606772954890137, 0.6584916743676777, 0.6298042665177329, 0.6217617079417941, 0.6217002844152312]}, {\"categories\": [\"0\", \"1\", \"2\", \"3\", \"4\", \"5\", \"6\", \"7\", \"8\", \"9\", \"10\", \"11\", \"12\", \"13\", \"14\", \"15\", \"16\", \"17\", \"18\", \"19\", \"20\", \"21\", \"22\", \"23\", \"24\", \"25\", \"26\", \"27\", \"28\", \"29\"], \"mode\": \"lines\", \"name\": \"log_loss_min\", \"stepped\": true, \"type\": \"scatter\", \"data\": [0.623944222857386, 0.623944222857386, 0.623944222857386, 0.623944222857386, 0.623944222857386, 0.623944222857386, 0.623944222857386, 0.623944222857386, 0.623944222857386, 0.623944222857386, 0.623944222857386, 0.623944222857386, 0.623944222857386, 0.623944222857386, 0.623944222857386, 0.623944222857386, 0.623944222857386, 0.623944222857386, 0.623944222857386, 0.623944222857386, 0.623944222857386, 0.623944222857386, 0.623944222857386, 0.623944222857386, 0.623944222857386, 0.623944222857386, 0.623944222857386, 0.623944222857386, 0.6217617079417941, 0.6217002844152312]}], \"average_precision_score_micro\": [{\"categories\": [\"0\", \"1\", \"2\", \"3\", \"4\", \"5\", \"6\", \"7\", \"8\", \"9\", \"10\", \"11\", \"12\", \"13\", \"14\", \"15\", \"16\", \"17\", \"18\", \"19\", \"20\", \"21\", \"22\", \"23\", \"24\", \"25\", \"26\", \"27\", \"28\", \"29\"], \"mode\": \"markers\", \"name\": \"average_precision_score_micro\", \"stepped\": false, \"type\": \"scatter\", \"data\": [0.6961566092594211, 0.6904160140032081, 0.6524527784827996, 0.6471593419065209, 0.6386292942987586, 0.6528043085617707, 0.6692997246557829, 0.6549354469332238, 0.653568331540368, 0.6565180900300712, 0.6393030060143863, 0.6515542655126147, 0.6478480400083063, 0.675178637472502, 0.6441703592900804, 0.6522513239896208, 0.6590237564302445, 0.6459953228954586, 0.6376065718950108, 0.6924595140018127, 0.6934745781629681, 0.677207057361147, 0.6853630348422047, 0.6885695817531449, 0.6743193483573354, 0.6405631914297963, 0.658680240330505, 0.6869625589438345, 0.6997589850675389, 0.6998084059551262]}, {\"categories\": [\"0\", \"1\", \"2\", \"3\", \"4\", \"5\", \"6\", \"7\", \"8\", \"9\", \"10\", \"11\", \"12\", \"13\", \"14\", \"15\", \"16\", \"17\", \"18\", \"19\", \"20\", \"21\", \"22\", \"23\", \"24\", \"25\", \"26\", \"27\", \"28\", \"29\"], \"mode\": \"lines\", \"name\": \"average_precision_score_micro_max\", \"stepped\": true, \"type\": \"scatter\", \"data\": [0.6961566092594211, 0.6961566092594211, 0.6961566092594211, 0.6961566092594211, 0.6961566092594211, 0.6961566092594211, 0.6961566092594211, 0.6961566092594211, 0.6961566092594211, 0.6961566092594211, 0.6961566092594211, 0.6961566092594211, 0.6961566092594211, 0.6961566092594211, 0.6961566092594211, 0.6961566092594211, 0.6961566092594211, 0.6961566092594211, 0.6961566092594211, 0.6961566092594211, 0.6961566092594211, 0.6961566092594211, 0.6961566092594211, 0.6961566092594211, 0.6961566092594211, 0.6961566092594211, 0.6961566092594211, 0.6961566092594211, 0.6997589850675389, 0.6998084059551262]}], \"average_precision_score_weighted\": [{\"categories\": [\"0\", \"1\", \"2\", \"3\", \"4\", \"5\", \"6\", \"7\", \"8\", \"9\", \"10\", \"11\", \"12\", \"13\", \"14\", \"15\", \"16\", \"17\", \"18\", \"19\", \"20\", \"21\", \"22\", \"23\", \"24\", \"25\", \"26\", \"27\", \"28\", \"29\"], \"mode\": \"markers\", \"name\": \"average_precision_score_weighted\", \"stepped\": false, \"type\": \"scatter\", \"data\": [0.6926415860388901, 0.6870756955615359, 0.650372473255811, 0.6450618389991811, 0.6371234770475681, 0.6475243274245635, 0.6666183165025003, 0.6532059593642101, 0.6519955770192154, 0.6541231657915308, 0.6373723847542647, 0.6503149483282511, 0.6467296899164074, 0.6714747045765137, 0.6427028978788426, 0.6482499417101752, 0.6556932903400227, 0.6462440185294344, 0.6366409397406005, 0.6887778580908462, 0.6902801436326238, 0.6746543003202723, 0.6836527594061437, 0.6864131284485733, 0.6714457789513777, 0.6397206755131705, 0.656291405245552, 0.6834331389325113, 0.6963490366188684, 0.6963650756064542]}, {\"categories\": [\"0\", \"1\", \"2\", \"3\", \"4\", \"5\", \"6\", \"7\", \"8\", \"9\", \"10\", \"11\", \"12\", \"13\", \"14\", \"15\", \"16\", \"17\", \"18\", \"19\", \"20\", \"21\", \"22\", \"23\", \"24\", \"25\", \"26\", \"27\", \"28\", \"29\"], \"mode\": \"lines\", \"name\": \"average_precision_score_weighted_max\", \"stepped\": true, \"type\": \"scatter\", \"data\": [0.6926415860388901, 0.6926415860388901, 0.6926415860388901, 0.6926415860388901, 0.6926415860388901, 0.6926415860388901, 0.6926415860388901, 0.6926415860388901, 0.6926415860388901, 0.6926415860388901, 0.6926415860388901, 0.6926415860388901, 0.6926415860388901, 0.6926415860388901, 0.6926415860388901, 0.6926415860388901, 0.6926415860388901, 0.6926415860388901, 0.6926415860388901, 0.6926415860388901, 0.6926415860388901, 0.6926415860388901, 0.6926415860388901, 0.6926415860388901, 0.6926415860388901, 0.6926415860388901, 0.6926415860388901, 0.6926415860388901, 0.6963490366188684, 0.6963650756064542]}], \"AUC_macro\": [{\"categories\": [\"0\", \"1\", \"2\", \"3\", \"4\", \"5\", \"6\", \"7\", \"8\", \"9\", \"10\", \"11\", \"12\", \"13\", \"14\", \"15\", \"16\", \"17\", \"18\", \"19\", \"20\", \"21\", \"22\", \"23\", \"24\", \"25\", \"26\", \"27\", \"28\", \"29\"], \"mode\": \"markers\", \"name\": \"AUC_macro\", \"stepped\": false, \"type\": \"scatter\", \"data\": [0.7064496050456763, 0.6994147152017837, 0.6669709113227867, 0.6620245238958608, 0.6556144155731445, 0.6648076152999705, 0.679117671583968, 0.6689119826608048, 0.6687299840736607, 0.6702094566918141, 0.6555125507747321, 0.6664260554647167, 0.6626461544355365, 0.6853971519447933, 0.6596882882945163, 0.6650064296053848, 0.6704540849948564, 0.660855690965624, 0.6530715065339887, 0.7031000469402539, 0.7028050408324065, 0.6899758403339572, 0.6990138891028318, 0.7000325130839883, 0.6851244072435377, 0.654340339326312, 0.6693002458775579, 0.6977638657116387, 0.7099013263817511, 0.710090221897878]}, {\"categories\": [\"0\", \"1\", \"2\", \"3\", \"4\", \"5\", \"6\", \"7\", \"8\", \"9\", \"10\", \"11\", \"12\", \"13\", \"14\", \"15\", \"16\", \"17\", \"18\", \"19\", \"20\", \"21\", \"22\", \"23\", \"24\", \"25\", \"26\", \"27\", \"28\", \"29\"], \"mode\": \"lines\", \"name\": \"AUC_macro_max\", \"stepped\": true, \"type\": \"scatter\", \"data\": [0.7064496050456763, 0.7064496050456763, 0.7064496050456763, 0.7064496050456763, 0.7064496050456763, 0.7064496050456763, 0.7064496050456763, 0.7064496050456763, 0.7064496050456763, 0.7064496050456763, 0.7064496050456763, 0.7064496050456763, 0.7064496050456763, 0.7064496050456763, 0.7064496050456763, 0.7064496050456763, 0.7064496050456763, 0.7064496050456763, 0.7064496050456763, 0.7064496050456763, 0.7064496050456763, 0.7064496050456763, 0.7064496050456763, 0.7064496050456763, 0.7064496050456763, 0.7064496050456763, 0.7064496050456763, 0.7064496050456763, 0.7099013263817511, 0.710090221897878]}], \"AUC_micro\": [{\"categories\": [\"0\", \"1\", \"2\", \"3\", \"4\", \"5\", \"6\", \"7\", \"8\", \"9\", \"10\", \"11\", \"12\", \"13\", \"14\", \"15\", \"16\", \"17\", \"18\", \"19\", \"20\", \"21\", \"22\", \"23\", \"24\", \"25\", \"26\", \"27\", \"28\", \"29\"], \"mode\": \"markers\", \"name\": \"AUC_micro\", \"stepped\": false, \"type\": \"scatter\", \"data\": [0.7082479823410736, 0.7011147579196796, 0.6676369346707405, 0.6626437679170081, 0.6557719773752752, 0.6657286693573828, 0.6802711181088548, 0.669826948970541, 0.6691268027354874, 0.6710764422016958, 0.6561996679405488, 0.6663444401075069, 0.6629982948683812, 0.6872108851487864, 0.660541124455149, 0.6659316486401557, 0.670889129297372, 0.6604507626516232, 0.6532066006415456, 0.7048462170616409, 0.7045176740656804, 0.6910248067866982, 0.6999460936568654, 0.701036809456928, 0.6864724594855937, 0.6540802071262746, 0.6704442714323127, 0.69945686790549, 0.7116074221285691, 0.711718225257485]}, {\"categories\": [\"0\", \"1\", \"2\", \"3\", \"4\", \"5\", \"6\", \"7\", \"8\", \"9\", \"10\", \"11\", \"12\", \"13\", \"14\", \"15\", \"16\", \"17\", \"18\", \"19\", \"20\", \"21\", \"22\", \"23\", \"24\", \"25\", \"26\", \"27\", \"28\", \"29\"], \"mode\": \"lines\", \"name\": \"AUC_micro_max\", \"stepped\": true, \"type\": \"scatter\", \"data\": [0.7082479823410736, 0.7082479823410736, 0.7082479823410736, 0.7082479823410736, 0.7082479823410736, 0.7082479823410736, 0.7082479823410736, 0.7082479823410736, 0.7082479823410736, 0.7082479823410736, 0.7082479823410736, 0.7082479823410736, 0.7082479823410736, 0.7082479823410736, 0.7082479823410736, 0.7082479823410736, 0.7082479823410736, 0.7082479823410736, 0.7082479823410736, 0.7082479823410736, 0.7082479823410736, 0.7082479823410736, 0.7082479823410736, 0.7082479823410736, 0.7082479823410736, 0.7082479823410736, 0.7082479823410736, 0.7082479823410736, 0.7116074221285691, 0.711718225257485]}], \"AUC_weighted\": [{\"categories\": [\"0\", \"1\", \"2\", \"3\", \"4\", \"5\", \"6\", \"7\", \"8\", \"9\", \"10\", \"11\", \"12\", \"13\", \"14\", \"15\", \"16\", \"17\", \"18\", \"19\", \"20\", \"21\", \"22\", \"23\", \"24\", \"25\", \"26\", \"27\", \"28\", \"29\"], \"mode\": \"markers\", \"name\": \"AUC_weighted\", \"stepped\": false, \"type\": \"scatter\", \"data\": [0.7064496050456763, 0.6994147152098772, 0.6669709113227867, 0.6620245238958608, 0.6556144155731445, 0.6648076152999703, 0.679117671583968, 0.6689119826608048, 0.6687299840736607, 0.670209456691814, 0.6555125507747321, 0.6664260554647167, 0.6626461544355365, 0.6853971519563118, 0.6596882882945162, 0.6650064296053848, 0.6704540849948564, 0.660855690965624, 0.6530715065339887, 0.7031000469586116, 0.7028050408324065, 0.6899758403795244, 0.6990138891028319, 0.7000325130839882, 0.6851244072435377, 0.6543403393263117, 0.6693002459299644, 0.6977638657116388, 0.7099013263859202, 0.710090221897878]}, {\"categories\": [\"0\", \"1\", \"2\", \"3\", \"4\", \"5\", \"6\", \"7\", \"8\", \"9\", \"10\", \"11\", \"12\", \"13\", \"14\", \"15\", \"16\", \"17\", \"18\", \"19\", \"20\", \"21\", \"22\", \"23\", \"24\", \"25\", \"26\", \"27\", \"28\", \"29\"], \"mode\": \"lines\", \"name\": \"AUC_weighted_max\", \"stepped\": true, \"type\": \"scatter\", \"data\": [0.7064496050456763, 0.7064496050456763, 0.7064496050456763, 0.7064496050456763, 0.7064496050456763, 0.7064496050456763, 0.7064496050456763, 0.7064496050456763, 0.7064496050456763, 0.7064496050456763, 0.7064496050456763, 0.7064496050456763, 0.7064496050456763, 0.7064496050456763, 0.7064496050456763, 0.7064496050456763, 0.7064496050456763, 0.7064496050456763, 0.7064496050456763, 0.7064496050456763, 0.7064496050456763, 0.7064496050456763, 0.7064496050456763, 0.7064496050456763, 0.7064496050456763, 0.7064496050456763, 0.7064496050456763, 0.7064496050456763, 0.7099013263859202, 0.710090221897878]}], \"precision_score_macro\": [{\"categories\": [\"0\", \"1\", \"2\", \"3\", \"4\", \"5\", \"6\", \"7\", \"8\", \"9\", \"10\", \"11\", \"12\", \"13\", \"14\", \"15\", \"16\", \"17\", \"18\", \"19\", \"20\", \"21\", \"22\", \"23\", \"24\", \"25\", \"26\", \"27\", \"28\", \"29\"], \"mode\": \"markers\", \"name\": \"precision_score_macro\", \"stepped\": false, \"type\": \"scatter\", \"data\": [0.655662925057592, 0.6493601119999688, 0.6289784938740276, 0.6255667170598894, 0.6219892397809804, 0.6223458233547603, 0.6320713255057436, 0.6286968699683368, 0.6285915093903727, 0.6276573544253351, 0.6189284777072739, 0.6276112854445887, 0.6249146973297698, 0.6390177240779419, 0.6229450643813659, 0.6232152804193585, 0.6268008134154923, 0.6197684048727735, 0.6191848636448711, 0.6542759035115295, 0.6528701816400652, 0.6402341636075548, 0.6473607722791154, 0.6473535896223368, 0.6391517041477939, 0.6160399234182864, 0.625948702685377, 0.6482379167009711, 0.6584182514792676, 0.658280675208666]}, {\"categories\": [\"0\", \"1\", \"2\", \"3\", \"4\", \"5\", \"6\", \"7\", \"8\", \"9\", \"10\", \"11\", \"12\", \"13\", \"14\", \"15\", \"16\", \"17\", \"18\", \"19\", \"20\", \"21\", \"22\", \"23\", \"24\", \"25\", \"26\", \"27\", \"28\", \"29\"], \"mode\": \"lines\", \"name\": \"precision_score_macro_max\", \"stepped\": true, \"type\": \"scatter\", \"data\": [0.655662925057592, 0.655662925057592, 0.655662925057592, 0.655662925057592, 0.655662925057592, 0.655662925057592, 0.655662925057592, 0.655662925057592, 0.655662925057592, 0.655662925057592, 0.655662925057592, 0.655662925057592, 0.655662925057592, 0.655662925057592, 0.655662925057592, 0.655662925057592, 0.655662925057592, 0.655662925057592, 0.655662925057592, 0.655662925057592, 0.655662925057592, 0.655662925057592, 0.655662925057592, 0.655662925057592, 0.655662925057592, 0.655662925057592, 0.655662925057592, 0.655662925057592, 0.6584182514792676, 0.6584182514792676]}], \"recall_score_weighted\": [{\"categories\": [\"0\", \"1\", \"2\", \"3\", \"4\", \"5\", \"6\", \"7\", \"8\", \"9\", \"10\", \"11\", \"12\", \"13\", \"14\", \"15\", \"16\", \"17\", \"18\", \"19\", \"20\", \"21\", \"22\", \"23\", \"24\", \"25\", \"26\", \"27\", \"28\", \"29\"], \"mode\": \"markers\", \"name\": \"recall_score_weighted\", \"stepped\": false, \"type\": \"scatter\", \"data\": [0.6542623046146081, 0.6473726424218494, 0.6280188777002944, 0.6249252434397905, 0.620531531552961, 0.6218914881328745, 0.6302606716151816, 0.6284224506129851, 0.6282878689823168, 0.6275854831278075, 0.6183496813630921, 0.6265094487612928, 0.6236848258842895, 0.6359546621431194, 0.6217716621040219, 0.6213982916624664, 0.6263599931534365, 0.619799044851457, 0.6180954311651511, 0.6523343941665153, 0.6508847358564686, 0.6400047314412907, 0.6471335364543045, 0.6470887012237211, 0.6377182005697138, 0.6137465399911708, 0.6249850140687455, 0.6470587567215575, 0.6572513006298586, 0.6573559310578705]}, {\"categories\": [\"0\", \"1\", \"2\", \"3\", \"4\", \"5\", \"6\", \"7\", \"8\", \"9\", \"10\", \"11\", \"12\", \"13\", \"14\", \"15\", \"16\", \"17\", \"18\", \"19\", \"20\", \"21\", \"22\", \"23\", \"24\", \"25\", \"26\", \"27\", \"28\", \"29\"], \"mode\": \"lines\", \"name\": \"recall_score_weighted_max\", \"stepped\": true, \"type\": \"scatter\", \"data\": [0.6542623046146081, 0.6542623046146081, 0.6542623046146081, 0.6542623046146081, 0.6542623046146081, 0.6542623046146081, 0.6542623046146081, 0.6542623046146081, 0.6542623046146081, 0.6542623046146081, 0.6542623046146081, 0.6542623046146081, 0.6542623046146081, 0.6542623046146081, 0.6542623046146081, 0.6542623046146081, 0.6542623046146081, 0.6542623046146081, 0.6542623046146081, 0.6542623046146081, 0.6542623046146081, 0.6542623046146081, 0.6542623046146081, 0.6542623046146081, 0.6542623046146081, 0.6542623046146081, 0.6542623046146081, 0.6542623046146081, 0.6572513006298586, 0.6573559310578705]}], \"average_precision_score_macro\": [{\"categories\": [\"0\", \"1\", \"2\", \"3\", \"4\", \"5\", \"6\", \"7\", \"8\", \"9\", \"10\", \"11\", \"12\", \"13\", \"14\", \"15\", \"16\", \"17\", \"18\", \"19\", \"20\", \"21\", \"22\", \"23\", \"24\", \"25\", \"26\", \"27\", \"28\", \"29\"], \"mode\": \"markers\", \"name\": \"average_precision_score_macro\", \"stepped\": false, \"type\": \"scatter\", \"data\": [0.6926617059645619, 0.6870923247613593, 0.650340208894575, 0.6450507309574663, 0.6370960467346537, 0.6475103948051022, 0.6666074205620178, 0.6531924107516011, 0.6519742425436938, 0.6541163654260705, 0.6373269229664357, 0.6502978800068017, 0.6467151035595264, 0.6714756589217853, 0.6426903668405972, 0.6482337023026452, 0.6556925171043795, 0.6462276144409254, 0.6366119745390648, 0.6887869712766969, 0.6902897425780303, 0.674682466822327, 0.6836628638441911, 0.6864302174987794, 0.671439002135876, 0.639693696063214, 0.6562856554297439, 0.6834482610693339, 0.6963709825551966, 0.6963869178596559]}, {\"categories\": [\"0\", \"1\", \"2\", \"3\", \"4\", \"5\", \"6\", \"7\", \"8\", \"9\", \"10\", \"11\", \"12\", \"13\", \"14\", \"15\", \"16\", \"17\", \"18\", \"19\", \"20\", \"21\", \"22\", \"23\", \"24\", \"25\", \"26\", \"27\", \"28\", \"29\"], \"mode\": \"lines\", \"name\": \"average_precision_score_macro_max\", \"stepped\": true, \"type\": \"scatter\", \"data\": [0.6926617059645619, 0.6926617059645619, 0.6926617059645619, 0.6926617059645619, 0.6926617059645619, 0.6926617059645619, 0.6926617059645619, 0.6926617059645619, 0.6926617059645619, 0.6926617059645619, 0.6926617059645619, 0.6926617059645619, 0.6926617059645619, 0.6926617059645619, 0.6926617059645619, 0.6926617059645619, 0.6926617059645619, 0.6926617059645619, 0.6926617059645619, 0.6926617059645619, 0.6926617059645619, 0.6926617059645619, 0.6926617059645619, 0.6926617059645619, 0.6926617059645619, 0.6926617059645619, 0.6926617059645619, 0.6926617059645619, 0.6963709825551966, 0.6963869178596559]}], \"f1_score_micro\": [{\"categories\": [\"0\", \"1\", \"2\", \"3\", \"4\", \"5\", \"6\", \"7\", \"8\", \"9\", \"10\", \"11\", \"12\", \"13\", \"14\", \"15\", \"16\", \"17\", \"18\", \"19\", \"20\", \"21\", \"22\", \"23\", \"24\", \"25\", \"26\", \"27\", \"28\", \"29\"], \"mode\": \"markers\", \"name\": \"f1_score_micro\", \"stepped\": false, \"type\": \"scatter\", \"data\": [0.6542623046146081, 0.6473726424218494, 0.6280188777002944, 0.6249252434397905, 0.620531531552961, 0.6218914881328745, 0.6302606716151816, 0.6284224506129851, 0.6282878689823168, 0.6275854831278075, 0.6183496813630921, 0.6265094487612928, 0.6236848258842895, 0.6359546621431194, 0.6217716621040219, 0.6213982916624664, 0.6263599931534365, 0.619799044851457, 0.6180954311651511, 0.6523343941665153, 0.6508847358564686, 0.6400047314412907, 0.6471335364543045, 0.6470887012237211, 0.6377182005697138, 0.6137465399911708, 0.6249850140687455, 0.6470587567215575, 0.6572513006298586, 0.6573559310578705]}, {\"categories\": [\"0\", \"1\", \"2\", \"3\", \"4\", \"5\", \"6\", \"7\", \"8\", \"9\", \"10\", \"11\", \"12\", \"13\", \"14\", \"15\", \"16\", \"17\", \"18\", \"19\", \"20\", \"21\", \"22\", \"23\", \"24\", \"25\", \"26\", \"27\", \"28\", \"29\"], \"mode\": \"lines\", \"name\": \"f1_score_micro_max\", \"stepped\": true, \"type\": \"scatter\", \"data\": [0.6542623046146081, 0.6542623046146081, 0.6542623046146081, 0.6542623046146081, 0.6542623046146081, 0.6542623046146081, 0.6542623046146081, 0.6542623046146081, 0.6542623046146081, 0.6542623046146081, 0.6542623046146081, 0.6542623046146081, 0.6542623046146081, 0.6542623046146081, 0.6542623046146081, 0.6542623046146081, 0.6542623046146081, 0.6542623046146081, 0.6542623046146081, 0.6542623046146081, 0.6542623046146081, 0.6542623046146081, 0.6542623046146081, 0.6542623046146081, 0.6542623046146081, 0.6542623046146081, 0.6542623046146081, 0.6542623046146081, 0.6572513006298586, 0.6573559310578705]}], \"precision_score_micro\": [{\"categories\": [\"0\", \"1\", \"2\", \"3\", \"4\", \"5\", \"6\", \"7\", \"8\", \"9\", \"10\", \"11\", \"12\", \"13\", \"14\", \"15\", \"16\", \"17\", \"18\", \"19\", \"20\", \"21\", \"22\", \"23\", \"24\", \"25\", \"26\", \"27\", \"28\", \"29\"], \"mode\": \"markers\", \"name\": \"precision_score_micro\", \"stepped\": false, \"type\": \"scatter\", \"data\": [0.6542623046146081, 0.6473726424218494, 0.6280188777002944, 0.6249252434397905, 0.620531531552961, 0.6218914881328745, 0.6302606716151816, 0.6284224506129851, 0.6282878689823168, 0.6275854831278075, 0.6183496813630921, 0.6265094487612928, 0.6236848258842895, 0.6359546621431194, 0.6217716621040219, 0.6213982916624664, 0.6263599931534365, 0.619799044851457, 0.6180954311651511, 0.6523343941665153, 0.6508847358564686, 0.6400047314412907, 0.6471335364543045, 0.6470887012237211, 0.6377182005697138, 0.6137465399911708, 0.6249850140687455, 0.6470587567215575, 0.6572513006298586, 0.6573559310578705]}, {\"categories\": [\"0\", \"1\", \"2\", \"3\", \"4\", \"5\", \"6\", \"7\", \"8\", \"9\", \"10\", \"11\", \"12\", \"13\", \"14\", \"15\", \"16\", \"17\", \"18\", \"19\", \"20\", \"21\", \"22\", \"23\", \"24\", \"25\", \"26\", \"27\", \"28\", \"29\"], \"mode\": \"lines\", \"name\": \"precision_score_micro_max\", \"stepped\": true, \"type\": \"scatter\", \"data\": [0.6542623046146081, 0.6542623046146081, 0.6542623046146081, 0.6542623046146081, 0.6542623046146081, 0.6542623046146081, 0.6542623046146081, 0.6542623046146081, 0.6542623046146081, 0.6542623046146081, 0.6542623046146081, 0.6542623046146081, 0.6542623046146081, 0.6542623046146081, 0.6542623046146081, 0.6542623046146081, 0.6542623046146081, 0.6542623046146081, 0.6542623046146081, 0.6542623046146081, 0.6542623046146081, 0.6542623046146081, 0.6542623046146081, 0.6542623046146081, 0.6542623046146081, 0.6542623046146081, 0.6542623046146081, 0.6542623046146081, 0.6572513006298586, 0.6573559310578705]}], \"balanced_accuracy\": [{\"categories\": [\"0\", \"1\", \"2\", \"3\", \"4\", \"5\", \"6\", \"7\", \"8\", \"9\", \"10\", \"11\", \"12\", \"13\", \"14\", \"15\", \"16\", \"17\", \"18\", \"19\", \"20\", \"21\", \"22\", \"23\", \"24\", \"25\", \"26\", \"27\", \"28\", \"29\"], \"mode\": \"markers\", \"name\": \"balanced_accuracy\", \"stepped\": false, \"type\": \"scatter\", \"data\": [0.6541764925060571, 0.6472405468088505, 0.6280180823926707, 0.6248648163361471, 0.6204118073842885, 0.6217978420945212, 0.6300786125730024, 0.6284044625961173, 0.6282389824443539, 0.6275254879899925, 0.6182224553823568, 0.6263340591987216, 0.6235462901977809, 0.6357552058984546, 0.6218182742927447, 0.6212628245326124, 0.6263722994890069, 0.619763137706824, 0.6178832688904607, 0.6522133482611302, 0.6507571200641576, 0.6399790354305792, 0.6470745081761816, 0.6470233231605392, 0.6376081342908941, 0.6135550342916906, 0.6248812373258765, 0.6469783278936163, 0.6571569339343332, 0.6573024316912397]}, {\"categories\": [\"0\", \"1\", \"2\", \"3\", \"4\", \"5\", \"6\", \"7\", \"8\", \"9\", \"10\", \"11\", \"12\", \"13\", \"14\", \"15\", \"16\", \"17\", \"18\", \"19\", \"20\", \"21\", \"22\", \"23\", \"24\", \"25\", \"26\", \"27\", \"28\", \"29\"], \"mode\": \"lines\", \"name\": \"balanced_accuracy_max\", \"stepped\": true, \"type\": \"scatter\", \"data\": [0.6541764925060571, 0.6541764925060571, 0.6541764925060571, 0.6541764925060571, 0.6541764925060571, 0.6541764925060571, 0.6541764925060571, 0.6541764925060571, 0.6541764925060571, 0.6541764925060571, 0.6541764925060571, 0.6541764925060571, 0.6541764925060571, 0.6541764925060571, 0.6541764925060571, 0.6541764925060571, 0.6541764925060571, 0.6541764925060571, 0.6541764925060571, 0.6541764925060571, 0.6541764925060571, 0.6541764925060571, 0.6541764925060571, 0.6541764925060571, 0.6541764925060571, 0.6541764925060571, 0.6541764925060571, 0.6541764925060571, 0.6571569339343332, 0.6573024316912397]}], \"accuracy\": [{\"categories\": [\"0\", \"1\", \"2\", \"3\", \"4\", \"5\", \"6\", \"7\", \"8\", \"9\", \"10\", \"11\", \"12\", \"13\", \"14\", \"15\", \"16\", \"17\", \"18\", \"19\", \"20\", \"21\", \"22\", \"23\", \"24\", \"25\", \"26\", \"27\", \"28\", \"29\"], \"mode\": \"markers\", \"name\": \"accuracy\", \"stepped\": false, \"type\": \"scatter\", \"data\": [0.6542623046146081, 0.6473726424218494, 0.6280188777002944, 0.6249252434397905, 0.620531531552961, 0.6218914881328745, 0.6302606716151816, 0.6284224506129851, 0.6282878689823168, 0.6275854831278075, 0.6183496813630921, 0.6265094487612928, 0.6236848258842895, 0.6359546621431194, 0.6217716621040219, 0.6213982916624664, 0.6263599931534365, 0.619799044851457, 0.6180954311651511, 0.6523343941665153, 0.6508847358564686, 0.6400047314412907, 0.6471335364543045, 0.6470887012237211, 0.6377182005697138, 0.6137465399911708, 0.6249850140687455, 0.6470587567215575, 0.6572513006298586, 0.6573559310578705]}, {\"categories\": [\"0\", \"1\", \"2\", \"3\", \"4\", \"5\", \"6\", \"7\", \"8\", \"9\", \"10\", \"11\", \"12\", \"13\", \"14\", \"15\", \"16\", \"17\", \"18\", \"19\", \"20\", \"21\", \"22\", \"23\", \"24\", \"25\", \"26\", \"27\", \"28\", \"29\"], \"mode\": \"lines\", \"name\": \"accuracy_max\", \"stepped\": true, \"type\": \"scatter\", \"data\": [0.6542623046146081, 0.6542623046146081, 0.6542623046146081, 0.6542623046146081, 0.6542623046146081, 0.6542623046146081, 0.6542623046146081, 0.6542623046146081, 0.6542623046146081, 0.6542623046146081, 0.6542623046146081, 0.6542623046146081, 0.6542623046146081, 0.6542623046146081, 0.6542623046146081, 0.6542623046146081, 0.6542623046146081, 0.6542623046146081, 0.6542623046146081, 0.6542623046146081, 0.6542623046146081, 0.6542623046146081, 0.6542623046146081, 0.6542623046146081, 0.6542623046146081, 0.6542623046146081, 0.6542623046146081, 0.6542623046146081, 0.6572513006298586, 0.6573559310578705]}], \"precision_score_weighted\": [{\"categories\": [\"0\", \"1\", \"2\", \"3\", \"4\", \"5\", \"6\", \"7\", \"8\", \"9\", \"10\", \"11\", \"12\", \"13\", \"14\", \"15\", \"16\", \"17\", \"18\", \"19\", \"20\", \"21\", \"22\", \"23\", \"24\", \"25\", \"26\", \"27\", \"28\", \"29\"], \"mode\": \"markers\", \"name\": \"precision_score_weighted\", \"stepped\": false, \"type\": \"scatter\", \"data\": [0.6556816755969439, 0.6493656104562848, 0.6290241170188471, 0.6255950815106837, 0.6220101682899031, 0.6223690360845355, 0.6320702014037161, 0.6287370312309021, 0.6286243950194379, 0.6276869143431334, 0.6189440630703699, 0.6276126714738475, 0.6249248232117869, 0.6390092268458916, 0.6229995707193099, 0.6232299113815476, 0.6268496823237738, 0.6198053545281873, 0.6191802751025879, 0.654283628846768, 0.6528756920531377, 0.640271250833021, 0.6473875936628414, 0.6473785070253257, 0.6391667888301857, 0.6160446041298655, 0.6259683315181462, 0.6482573294441801, 0.6584331322898158, 0.6583088084529958]}, {\"categories\": [\"0\", \"1\", \"2\", \"3\", \"4\", \"5\", \"6\", \"7\", \"8\", \"9\", \"10\", \"11\", \"12\", \"13\", \"14\", \"15\", \"16\", \"17\", \"18\", \"19\", \"20\", \"21\", \"22\", \"23\", \"24\", \"25\", \"26\", \"27\", \"28\", \"29\"], \"mode\": \"lines\", \"name\": \"precision_score_weighted_max\", \"stepped\": true, \"type\": \"scatter\", \"data\": [0.6556816755969439, 0.6556816755969439, 0.6556816755969439, 0.6556816755969439, 0.6556816755969439, 0.6556816755969439, 0.6556816755969439, 0.6556816755969439, 0.6556816755969439, 0.6556816755969439, 0.6556816755969439, 0.6556816755969439, 0.6556816755969439, 0.6556816755969439, 0.6556816755969439, 0.6556816755969439, 0.6556816755969439, 0.6556816755969439, 0.6556816755969439, 0.6556816755969439, 0.6556816755969439, 0.6556816755969439, 0.6556816755969439, 0.6556816755969439, 0.6556816755969439, 0.6556816755969439, 0.6556816755969439, 0.6556816755969439, 0.6584331322898158, 0.6584331322898158]}], \"weighted_accuracy\": [{\"categories\": [\"0\", \"1\", \"2\", \"3\", \"4\", \"5\", \"6\", \"7\", \"8\", \"9\", \"10\", \"11\", \"12\", \"13\", \"14\", \"15\", \"16\", \"17\", \"18\", \"19\", \"20\", \"21\", \"22\", \"23\", \"24\", \"25\", \"26\", \"27\", \"28\", \"29\"], \"mode\": \"markers\", \"name\": \"weighted_accuracy\", \"stepped\": false, \"type\": \"scatter\", \"data\": [0.654348084471372, 0.6475046931335353, 0.6280196668756672, 0.6249856489086172, 0.620651217602956, 0.6219851105412993, 0.6304426746485653, 0.6284404217041376, 0.6283367352184356, 0.627645456889844, 0.6184768784739176, 0.6266847908040911, 0.6238233136306037, 0.6361540563081153, 0.6217250569819699, 0.6215337109731902, 0.6263476918559185, 0.6198349413602865, 0.6183075304860888, 0.6524553973158076, 0.6510123089246217, 0.6400304153111548, 0.6471925441522239, 0.6471540574576752, 0.6378282296989835, 0.6139379789312169, 0.6250887580251765, 0.6471391569106831, 0.6573456339379609, 0.6574094072833472]}, {\"categories\": [\"0\", \"1\", \"2\", \"3\", \"4\", \"5\", \"6\", \"7\", \"8\", \"9\", \"10\", \"11\", \"12\", \"13\", \"14\", \"15\", \"16\", \"17\", \"18\", \"19\", \"20\", \"21\", \"22\", \"23\", \"24\", \"25\", \"26\", \"27\", \"28\", \"29\"], \"mode\": \"lines\", \"name\": \"weighted_accuracy_max\", \"stepped\": true, \"type\": \"scatter\", \"data\": [0.654348084471372, 0.654348084471372, 0.654348084471372, 0.654348084471372, 0.654348084471372, 0.654348084471372, 0.654348084471372, 0.654348084471372, 0.654348084471372, 0.654348084471372, 0.654348084471372, 0.654348084471372, 0.654348084471372, 0.654348084471372, 0.654348084471372, 0.654348084471372, 0.654348084471372, 0.654348084471372, 0.654348084471372, 0.654348084471372, 0.654348084471372, 0.654348084471372, 0.654348084471372, 0.654348084471372, 0.654348084471372, 0.654348084471372, 0.654348084471372, 0.654348084471372, 0.6573456339379609, 0.6574094072833472]}]}, \"metricName\": null, \"primaryMetricName\": \"AUC_weighted\", \"showLegend\": false}, \"run_metrics\": [{\"name\": \"experiment_status\", \"run_id\": \"AutoML_397febcb-c02a-40de-8f9c-e2552f2390d7\", \"categories\": [0, 1, 2, 3, 4, 5, 6, 7, 8, 9, 10, 11, 12, 13], \"series\": [{\"data\": [\"DatasetEvaluation\", \"FeaturesGeneration\", \"DatasetFeaturization\", \"DatasetFeaturizationCompleted\", \"DatasetCrossValidationSplit\", \"ModelSelection\", \"BestRunExplainModel\", \"ModelExplanationDataSetSetup\", \"PickSurrogateModel\", \"EngineeredFeatureExplanations\", \"EngineeredFeatureExplanations\", \"RawFeaturesExplanations\", \"RawFeaturesExplanations\", \"BestRunExplainModel\"]}]}, {\"name\": \"experiment_status_description\", \"run_id\": \"AutoML_397febcb-c02a-40de-8f9c-e2552f2390d7\", \"categories\": [0, 1, 2, 3, 4, 5, 6, 7, 8, 9, 10, 11, 12, 13], \"series\": [{\"data\": [\"Gathering dataset statistics.\", \"Generating features for the dataset.\", \"Beginning to fit featurizers and featurize the dataset.\", \"Completed fit featurizers and featurizing the dataset.\", \"Generating individually featurized CV splits.\", \"Beginning model selection.\", \"Best run model explanations started\", \"Model explanations data setup completed\", \"Choosing LightGBM as the surrogate model for explanations\", \"Computation of engineered features started\", \"Computation of engineered features completed\", \"Computation of raw features started\", \"Computation of raw features completed\", \"Best run model explanations completed\"]}]}, {\"name\": \"average_precision_score_weighted\", \"run_id\": \"AutoML_397febcb-c02a-40de-8f9c-e2552f2390d7\", \"categories\": [0], \"series\": [{\"data\": [0.6963650756064542]}]}, {\"name\": \"precision_score_weighted\", \"run_id\": \"AutoML_397febcb-c02a-40de-8f9c-e2552f2390d7\", \"categories\": [0], \"series\": [{\"data\": [0.6583088084529958]}]}, {\"name\": \"accuracy\", \"run_id\": \"AutoML_397febcb-c02a-40de-8f9c-e2552f2390d7\", \"categories\": [0], \"series\": [{\"data\": [0.6573559310578705]}]}, {\"name\": \"average_precision_score_macro\", \"run_id\": \"AutoML_397febcb-c02a-40de-8f9c-e2552f2390d7\", \"categories\": [0], \"series\": [{\"data\": [0.6963869178596559]}]}, {\"name\": \"recall_score_micro\", \"run_id\": \"AutoML_397febcb-c02a-40de-8f9c-e2552f2390d7\", \"categories\": [0], \"series\": [{\"data\": [0.6573559310578705]}]}, {\"name\": \"recall_score_macro\", \"run_id\": \"AutoML_397febcb-c02a-40de-8f9c-e2552f2390d7\", \"categories\": [0], \"series\": [{\"data\": [0.6573024316912397]}]}, {\"name\": \"f1_score_micro\", \"run_id\": \"AutoML_397febcb-c02a-40de-8f9c-e2552f2390d7\", \"categories\": [0], \"series\": [{\"data\": [0.6573559310578705]}]}, {\"name\": \"AUC_macro\", \"run_id\": \"AutoML_397febcb-c02a-40de-8f9c-e2552f2390d7\", \"categories\": [0], \"series\": [{\"data\": [0.710090221897878]}]}, {\"name\": \"norm_macro_recall\", \"run_id\": \"AutoML_397febcb-c02a-40de-8f9c-e2552f2390d7\", \"categories\": [0], \"series\": [{\"data\": [0.31460486338247934]}]}, {\"name\": \"weighted_accuracy\", \"run_id\": \"AutoML_397febcb-c02a-40de-8f9c-e2552f2390d7\", \"categories\": [0], \"series\": [{\"data\": [0.6574094072833472]}]}, {\"name\": \"precision_score_micro\", \"run_id\": \"AutoML_397febcb-c02a-40de-8f9c-e2552f2390d7\", \"categories\": [0], \"series\": [{\"data\": [0.6573559310578705]}]}, {\"name\": \"matthews_correlation\", \"run_id\": \"AutoML_397febcb-c02a-40de-8f9c-e2552f2390d7\", \"categories\": [0], \"series\": [{\"data\": [0.31558145272910226]}]}, {\"name\": \"log_loss\", \"run_id\": \"AutoML_397febcb-c02a-40de-8f9c-e2552f2390d7\", \"categories\": [0], \"series\": [{\"data\": [0.6217002844152312]}]}, {\"name\": \"f1_score_macro\", \"run_id\": \"AutoML_397febcb-c02a-40de-8f9c-e2552f2390d7\", \"categories\": [0], \"series\": [{\"data\": [0.6567845613448599]}]}, {\"name\": \"AUC_micro\", \"run_id\": \"AutoML_397febcb-c02a-40de-8f9c-e2552f2390d7\", \"categories\": [0], \"series\": [{\"data\": [0.711718225257485]}]}, {\"name\": \"AUC_weighted\", \"run_id\": \"AutoML_397febcb-c02a-40de-8f9c-e2552f2390d7\", \"categories\": [0], \"series\": [{\"data\": [0.710090221897878]}]}, {\"name\": \"f1_score_weighted\", \"run_id\": \"AutoML_397febcb-c02a-40de-8f9c-e2552f2390d7\", \"categories\": [0], \"series\": [{\"data\": [0.6568253002804931]}]}, {\"name\": \"recall_score_weighted\", \"run_id\": \"AutoML_397febcb-c02a-40de-8f9c-e2552f2390d7\", \"categories\": [0], \"series\": [{\"data\": [0.6573559310578705]}]}, {\"name\": \"average_precision_score_micro\", \"run_id\": \"AutoML_397febcb-c02a-40de-8f9c-e2552f2390d7\", \"categories\": [0], \"series\": [{\"data\": [0.6998084059551262]}]}, {\"name\": \"precision_score_macro\", \"run_id\": \"AutoML_397febcb-c02a-40de-8f9c-e2552f2390d7\", \"categories\": [0], \"series\": [{\"data\": [0.658280675208666]}]}, {\"name\": \"balanced_accuracy\", \"run_id\": \"AutoML_397febcb-c02a-40de-8f9c-e2552f2390d7\", \"categories\": [0], \"series\": [{\"data\": [0.6573024316912397]}]}], \"run_logs\": \"\\nRun is completed.\", \"graph\": {}, \"widget_settings\": {\"childWidgetDisplay\": \"popup\", \"send_telemetry\": false, \"log_level\": \"INFO\", \"sdk_version\": \"1.19.0\"}, \"loading\": false}"
     },
     "metadata": {},
     "output_type": "display_data"
    },
    {
     "data": {
      "text/plain": [
       "{'runId': 'AutoML_397febcb-c02a-40de-8f9c-e2552f2390d7',\n",
       " 'target': 'compute-cluster',\n",
       " 'status': 'Completed',\n",
       " 'startTimeUtc': '2021-01-14T01:33:52.511866Z',\n",
       " 'endTimeUtc': '2021-01-14T02:56:50.765276Z',\n",
       " 'properties': {'num_iterations': '1000',\n",
       "  'training_type': 'TrainFull',\n",
       "  'acquisition_function': 'EI',\n",
       "  'primary_metric': 'AUC_weighted',\n",
       "  'train_split': '0',\n",
       "  'acquisition_parameter': '0',\n",
       "  'num_cross_validation': '5',\n",
       "  'target': 'compute-cluster',\n",
       "  'AMLSettingsJsonString': '{\"path\":null,\"name\":\"click-through-rate-prediction\",\"subscription_id\":\"3d1a56d2-7c81-4118-9790-f85d1acf0c77\",\"resource_group\":\"aml-quickstarts-134610\",\"workspace_name\":\"quick-starts-ws-134610\",\"region\":\"southcentralus\",\"compute_target\":\"compute-cluster\",\"spark_service\":null,\"azure_service\":\"remote\",\"many_models\":false,\"pipeline_fetch_max_batch_size\":1,\"iterations\":1000,\"primary_metric\":\"AUC_weighted\",\"task_type\":\"classification\",\"data_script\":null,\"validation_size\":0.0,\"n_cross_validations\":5,\"y_min\":null,\"y_max\":null,\"num_classes\":null,\"featurization\":\"auto\",\"_ignore_package_version_incompatibilities\":false,\"is_timeseries\":false,\"max_cores_per_iteration\":1,\"max_concurrent_iterations\":1,\"iteration_timeout_minutes\":10,\"mem_in_mb\":null,\"enforce_time_on_windows\":false,\"experiment_timeout_minutes\":60,\"experiment_exit_score\":null,\"whitelist_models\":null,\"blacklist_algos\":[\"TensorFlowLinearClassifier\",\"TensorFlowDNN\"],\"supported_models\":[\"TensorFlowDNN\",\"LinearSVM\",\"LogisticRegression\",\"BernoulliNaiveBayes\",\"LightGBM\",\"SVM\",\"XGBoostClassifier\",\"DecisionTree\",\"SGD\",\"GradientBoosting\",\"KNN\",\"AveragedPerceptronClassifier\",\"MultinomialNaiveBayes\",\"ExtremeRandomTrees\",\"TensorFlowLinearClassifier\",\"RandomForest\"],\"auto_blacklist\":true,\"blacklist_samples_reached\":false,\"exclude_nan_labels\":true,\"verbosity\":20,\"_debug_log\":\"azureml_automl.log\",\"show_warnings\":false,\"model_explainability\":true,\"service_url\":null,\"sdk_url\":null,\"sdk_packages\":null,\"enable_onnx_compatible_models\":false,\"enable_split_onnx_featurizer_estimator_models\":false,\"vm_type\":\"STANDARD_DS3_V2\",\"telemetry_verbosity\":20,\"send_telemetry\":true,\"enable_dnn\":false,\"scenario\":\"SDK-1.13.0\",\"environment_label\":null,\"force_text_dnn\":false,\"enable_feature_sweeping\":true,\"enable_early_stopping\":true,\"early_stopping_n_iters\":10,\"metrics\":null,\"enable_ensembling\":true,\"enable_stack_ensembling\":true,\"ensemble_iterations\":15,\"enable_tf\":false,\"enable_subsampling\":null,\"subsample_seed\":null,\"enable_nimbusml\":false,\"enable_streaming\":false,\"force_streaming\":false,\"track_child_runs\":true,\"allowed_private_models\":[],\"label_column_name\":\"label\",\"weight_column_name\":null,\"cv_split_column_names\":null,\"enable_local_managed\":false,\"_local_managed_run_id\":null,\"cost_mode\":1,\"lag_length\":0,\"metric_operation\":\"maximize\",\"preprocess\":true}',\n",
       "  'DataPrepJsonString': '{\\\\\"training_data\\\\\": \\\\\"{\\\\\\\\\\\\\"blocks\\\\\\\\\\\\\": [{\\\\\\\\\\\\\"id\\\\\\\\\\\\\": \\\\\\\\\\\\\"7febc34b-2ed3-4ca4-b9b3-677a9c7a87d5\\\\\\\\\\\\\", \\\\\\\\\\\\\"type\\\\\\\\\\\\\": \\\\\\\\\\\\\"Microsoft.DPrep.GetDatastoreFilesBlock\\\\\\\\\\\\\", \\\\\\\\\\\\\"arguments\\\\\\\\\\\\\": {\\\\\\\\\\\\\"datastores\\\\\\\\\\\\\": [{\\\\\\\\\\\\\"datastoreName\\\\\\\\\\\\\": \\\\\\\\\\\\\"workspaceblobstore\\\\\\\\\\\\\", \\\\\\\\\\\\\"path\\\\\\\\\\\\\": \\\\\\\\\\\\\"click_through_rate/ctr_data.csv\\\\\\\\\\\\\", \\\\\\\\\\\\\"resourceGroup\\\\\\\\\\\\\": \\\\\\\\\\\\\"aml-quickstarts-134610\\\\\\\\\\\\\", \\\\\\\\\\\\\"subscription\\\\\\\\\\\\\": \\\\\\\\\\\\\"3d1a56d2-7c81-4118-9790-f85d1acf0c77\\\\\\\\\\\\\", \\\\\\\\\\\\\"workspaceName\\\\\\\\\\\\\": \\\\\\\\\\\\\"quick-starts-ws-134610\\\\\\\\\\\\\"}]}, \\\\\\\\\\\\\"localData\\\\\\\\\\\\\": {}, \\\\\\\\\\\\\"isEnabled\\\\\\\\\\\\\": true, \\\\\\\\\\\\\"name\\\\\\\\\\\\\": null, \\\\\\\\\\\\\"annotation\\\\\\\\\\\\\": null}, {\\\\\\\\\\\\\"id\\\\\\\\\\\\\": \\\\\\\\\\\\\"3bf16948-43d0-418f-a78a-d207e836a777\\\\\\\\\\\\\", \\\\\\\\\\\\\"type\\\\\\\\\\\\\": \\\\\\\\\\\\\"Microsoft.DPrep.ParseDelimitedBlock\\\\\\\\\\\\\", \\\\\\\\\\\\\"arguments\\\\\\\\\\\\\": {\\\\\\\\\\\\\"columnHeadersMode\\\\\\\\\\\\\": 3, \\\\\\\\\\\\\"fileEncoding\\\\\\\\\\\\\": 0, \\\\\\\\\\\\\"handleQuotedLineBreaks\\\\\\\\\\\\\": false, \\\\\\\\\\\\\"preview\\\\\\\\\\\\\": false, \\\\\\\\\\\\\"separator\\\\\\\\\\\\\": \\\\\\\\\\\\\",\\\\\\\\\\\\\", \\\\\\\\\\\\\"skipRows\\\\\\\\\\\\\": 0, \\\\\\\\\\\\\"skipRowsMode\\\\\\\\\\\\\": 0}, \\\\\\\\\\\\\"localData\\\\\\\\\\\\\": {}, \\\\\\\\\\\\\"isEnabled\\\\\\\\\\\\\": true, \\\\\\\\\\\\\"name\\\\\\\\\\\\\": null, \\\\\\\\\\\\\"annotation\\\\\\\\\\\\\": null}, {\\\\\\\\\\\\\"id\\\\\\\\\\\\\": \\\\\\\\\\\\\"66cff894-12d4-4885-ae65-621221461bf0\\\\\\\\\\\\\", \\\\\\\\\\\\\"type\\\\\\\\\\\\\": \\\\\\\\\\\\\"Microsoft.DPrep.DropColumnsBlock\\\\\\\\\\\\\", \\\\\\\\\\\\\"arguments\\\\\\\\\\\\\": {\\\\\\\\\\\\\"columns\\\\\\\\\\\\\": {\\\\\\\\\\\\\"type\\\\\\\\\\\\\": 0, \\\\\\\\\\\\\"details\\\\\\\\\\\\\": {\\\\\\\\\\\\\"selectedColumns\\\\\\\\\\\\\": [\\\\\\\\\\\\\"Path\\\\\\\\\\\\\"]}}}, \\\\\\\\\\\\\"localData\\\\\\\\\\\\\": {}, \\\\\\\\\\\\\"isEnabled\\\\\\\\\\\\\": true, \\\\\\\\\\\\\"name\\\\\\\\\\\\\": null, \\\\\\\\\\\\\"annotation\\\\\\\\\\\\\": null}, {\\\\\\\\\\\\\"id\\\\\\\\\\\\\": \\\\\\\\\\\\\"4c45a77c-7887-4c67-aac6-57ccebacb7dd\\\\\\\\\\\\\", \\\\\\\\\\\\\"type\\\\\\\\\\\\\": \\\\\\\\\\\\\"Microsoft.DPrep.SetColumnTypesBlock\\\\\\\\\\\\\", \\\\\\\\\\\\\"arguments\\\\\\\\\\\\\": {\\\\\\\\\\\\\"columnConversion\\\\\\\\\\\\\": [{\\\\\\\\\\\\\"column\\\\\\\\\\\\\": {\\\\\\\\\\\\\"type\\\\\\\\\\\\\": 2, \\\\\\\\\\\\\"details\\\\\\\\\\\\\": {\\\\\\\\\\\\\"selectedColumn\\\\\\\\\\\\\": \\\\\\\\\\\\\"label\\\\\\\\\\\\\"}}, \\\\\\\\\\\\\"typeProperty\\\\\\\\\\\\\": 2}, {\\\\\\\\\\\\\"column\\\\\\\\\\\\\": {\\\\\\\\\\\\\"type\\\\\\\\\\\\\": 2, \\\\\\\\\\\\\"details\\\\\\\\\\\\\": {\\\\\\\\\\\\\"selectedColumn\\\\\\\\\\\\\": \\\\\\\\\\\\\"uid\\\\\\\\\\\\\"}}, \\\\\\\\\\\\\"typeProperty\\\\\\\\\\\\\": 2}, {\\\\\\\\\\\\\"column\\\\\\\\\\\\\": {\\\\\\\\\\\\\"type\\\\\\\\\\\\\": 2, \\\\\\\\\\\\\"details\\\\\\\\\\\\\": {\\\\\\\\\\\\\"selectedColumn\\\\\\\\\\\\\": \\\\\\\\\\\\\"task_id\\\\\\\\\\\\\"}}, \\\\\\\\\\\\\"typeProperty\\\\\\\\\\\\\": 2}, {\\\\\\\\\\\\\"column\\\\\\\\\\\\\": {\\\\\\\\\\\\\"type\\\\\\\\\\\\\": 2, \\\\\\\\\\\\\"details\\\\\\\\\\\\\": {\\\\\\\\\\\\\"selectedColumn\\\\\\\\\\\\\": \\\\\\\\\\\\\"adv_id\\\\\\\\\\\\\"}}, \\\\\\\\\\\\\"typeProperty\\\\\\\\\\\\\": 2}, {\\\\\\\\\\\\\"column\\\\\\\\\\\\\": {\\\\\\\\\\\\\"type\\\\\\\\\\\\\": 2, \\\\\\\\\\\\\"details\\\\\\\\\\\\\": {\\\\\\\\\\\\\"selectedColumn\\\\\\\\\\\\\": \\\\\\\\\\\\\"creat_type_cd\\\\\\\\\\\\\"}}, \\\\\\\\\\\\\"typeProperty\\\\\\\\\\\\\": 2}, {\\\\\\\\\\\\\"column\\\\\\\\\\\\\": {\\\\\\\\\\\\\"type\\\\\\\\\\\\\": 2, \\\\\\\\\\\\\"details\\\\\\\\\\\\\": {\\\\\\\\\\\\\"selectedColumn\\\\\\\\\\\\\": \\\\\\\\\\\\\"adv_prim_id\\\\\\\\\\\\\"}}, \\\\\\\\\\\\\"typeProperty\\\\\\\\\\\\\": 2}, {\\\\\\\\\\\\\"column\\\\\\\\\\\\\": {\\\\\\\\\\\\\"type\\\\\\\\\\\\\": 2, \\\\\\\\\\\\\"details\\\\\\\\\\\\\": {\\\\\\\\\\\\\"selectedColumn\\\\\\\\\\\\\": \\\\\\\\\\\\\"dev_id\\\\\\\\\\\\\"}}, \\\\\\\\\\\\\"typeProperty\\\\\\\\\\\\\": 2}, {\\\\\\\\\\\\\"column\\\\\\\\\\\\\": {\\\\\\\\\\\\\"type\\\\\\\\\\\\\": 2, \\\\\\\\\\\\\"details\\\\\\\\\\\\\": {\\\\\\\\\\\\\"selectedColumn\\\\\\\\\\\\\": \\\\\\\\\\\\\"inter_type_cd\\\\\\\\\\\\\"}}, \\\\\\\\\\\\\"typeProperty\\\\\\\\\\\\\": 2}, {\\\\\\\\\\\\\"column\\\\\\\\\\\\\": {\\\\\\\\\\\\\"type\\\\\\\\\\\\\": 2, \\\\\\\\\\\\\"details\\\\\\\\\\\\\": {\\\\\\\\\\\\\"selectedColumn\\\\\\\\\\\\\": \\\\\\\\\\\\\"slot_id\\\\\\\\\\\\\"}}, \\\\\\\\\\\\\"typeProperty\\\\\\\\\\\\\": 2}, {\\\\\\\\\\\\\"column\\\\\\\\\\\\\": {\\\\\\\\\\\\\"type\\\\\\\\\\\\\": 2, \\\\\\\\\\\\\"details\\\\\\\\\\\\\": {\\\\\\\\\\\\\"selectedColumn\\\\\\\\\\\\\": \\\\\\\\\\\\\"spread_app_id\\\\\\\\\\\\\"}}, \\\\\\\\\\\\\"typeProperty\\\\\\\\\\\\\": 2}, {\\\\\\\\\\\\\"column\\\\\\\\\\\\\": {\\\\\\\\\\\\\"type\\\\\\\\\\\\\": 2, \\\\\\\\\\\\\"details\\\\\\\\\\\\\": {\\\\\\\\\\\\\"selectedColumn\\\\\\\\\\\\\": \\\\\\\\\\\\\"tags\\\\\\\\\\\\\"}}, \\\\\\\\\\\\\"typeProperty\\\\\\\\\\\\\": 2}, {\\\\\\\\\\\\\"column\\\\\\\\\\\\\": {\\\\\\\\\\\\\"type\\\\\\\\\\\\\": 2, \\\\\\\\\\\\\"details\\\\\\\\\\\\\": {\\\\\\\\\\\\\"selectedColumn\\\\\\\\\\\\\": \\\\\\\\\\\\\"app_first_class\\\\\\\\\\\\\"}}, \\\\\\\\\\\\\"typeProperty\\\\\\\\\\\\\": 2}, {\\\\\\\\\\\\\"column\\\\\\\\\\\\\": {\\\\\\\\\\\\\"type\\\\\\\\\\\\\": 2, \\\\\\\\\\\\\"details\\\\\\\\\\\\\": {\\\\\\\\\\\\\"selectedColumn\\\\\\\\\\\\\": \\\\\\\\\\\\\"app_second_class\\\\\\\\\\\\\"}}, \\\\\\\\\\\\\"typeProperty\\\\\\\\\\\\\": 2}, {\\\\\\\\\\\\\"column\\\\\\\\\\\\\": {\\\\\\\\\\\\\"type\\\\\\\\\\\\\": 2, \\\\\\\\\\\\\"details\\\\\\\\\\\\\": {\\\\\\\\\\\\\"selectedColumn\\\\\\\\\\\\\": \\\\\\\\\\\\\"age\\\\\\\\\\\\\"}}, \\\\\\\\\\\\\"typeProperty\\\\\\\\\\\\\": 2}, {\\\\\\\\\\\\\"column\\\\\\\\\\\\\": {\\\\\\\\\\\\\"type\\\\\\\\\\\\\": 2, \\\\\\\\\\\\\"details\\\\\\\\\\\\\": {\\\\\\\\\\\\\"selectedColumn\\\\\\\\\\\\\": \\\\\\\\\\\\\"city\\\\\\\\\\\\\"}}, \\\\\\\\\\\\\"typeProperty\\\\\\\\\\\\\": 2}, {\\\\\\\\\\\\\"column\\\\\\\\\\\\\": {\\\\\\\\\\\\\"type\\\\\\\\\\\\\": 2, \\\\\\\\\\\\\"details\\\\\\\\\\\\\": {\\\\\\\\\\\\\"selectedColumn\\\\\\\\\\\\\": \\\\\\\\\\\\\"city_rank\\\\\\\\\\\\\"}}, \\\\\\\\\\\\\"typeProperty\\\\\\\\\\\\\": 2}, {\\\\\\\\\\\\\"column\\\\\\\\\\\\\": {\\\\\\\\\\\\\"type\\\\\\\\\\\\\": 2, \\\\\\\\\\\\\"details\\\\\\\\\\\\\": {\\\\\\\\\\\\\"selectedColumn\\\\\\\\\\\\\": \\\\\\\\\\\\\"device_name\\\\\\\\\\\\\"}}, \\\\\\\\\\\\\"typeProperty\\\\\\\\\\\\\": 2}, {\\\\\\\\\\\\\"column\\\\\\\\\\\\\": {\\\\\\\\\\\\\"type\\\\\\\\\\\\\": 2, \\\\\\\\\\\\\"details\\\\\\\\\\\\\": {\\\\\\\\\\\\\"selectedColumn\\\\\\\\\\\\\": \\\\\\\\\\\\\"device_size\\\\\\\\\\\\\"}}, \\\\\\\\\\\\\"typeProperty\\\\\\\\\\\\\": 2}, {\\\\\\\\\\\\\"column\\\\\\\\\\\\\": {\\\\\\\\\\\\\"type\\\\\\\\\\\\\": 2, \\\\\\\\\\\\\"details\\\\\\\\\\\\\": {\\\\\\\\\\\\\"selectedColumn\\\\\\\\\\\\\": \\\\\\\\\\\\\"career\\\\\\\\\\\\\"}}, \\\\\\\\\\\\\"typeProperty\\\\\\\\\\\\\": 2}, {\\\\\\\\\\\\\"column\\\\\\\\\\\\\": {\\\\\\\\\\\\\"type\\\\\\\\\\\\\": 2, \\\\\\\\\\\\\"details\\\\\\\\\\\\\": {\\\\\\\\\\\\\"selectedColumn\\\\\\\\\\\\\": \\\\\\\\\\\\\"gender\\\\\\\\\\\\\"}}, \\\\\\\\\\\\\"typeProperty\\\\\\\\\\\\\": 2}, {\\\\\\\\\\\\\"column\\\\\\\\\\\\\": {\\\\\\\\\\\\\"type\\\\\\\\\\\\\": 2, \\\\\\\\\\\\\"details\\\\\\\\\\\\\": {\\\\\\\\\\\\\"selectedColumn\\\\\\\\\\\\\": \\\\\\\\\\\\\"net_type\\\\\\\\\\\\\"}}, \\\\\\\\\\\\\"typeProperty\\\\\\\\\\\\\": 2}, {\\\\\\\\\\\\\"column\\\\\\\\\\\\\": {\\\\\\\\\\\\\"type\\\\\\\\\\\\\": 2, \\\\\\\\\\\\\"details\\\\\\\\\\\\\": {\\\\\\\\\\\\\"selectedColumn\\\\\\\\\\\\\": \\\\\\\\\\\\\"residence\\\\\\\\\\\\\"}}, \\\\\\\\\\\\\"typeProperty\\\\\\\\\\\\\": 2}, {\\\\\\\\\\\\\"column\\\\\\\\\\\\\": {\\\\\\\\\\\\\"type\\\\\\\\\\\\\": 2, \\\\\\\\\\\\\"details\\\\\\\\\\\\\": {\\\\\\\\\\\\\"selectedColumn\\\\\\\\\\\\\": \\\\\\\\\\\\\"his_app_size\\\\\\\\\\\\\"}}, \\\\\\\\\\\\\"typeProperty\\\\\\\\\\\\\": 2}, {\\\\\\\\\\\\\"column\\\\\\\\\\\\\": {\\\\\\\\\\\\\"type\\\\\\\\\\\\\": 2, \\\\\\\\\\\\\"details\\\\\\\\\\\\\": {\\\\\\\\\\\\\"selectedColumn\\\\\\\\\\\\\": \\\\\\\\\\\\\"his_on_shelf_time\\\\\\\\\\\\\"}}, \\\\\\\\\\\\\"typeProperty\\\\\\\\\\\\\": 2}, {\\\\\\\\\\\\\"column\\\\\\\\\\\\\": {\\\\\\\\\\\\\"type\\\\\\\\\\\\\": 2, \\\\\\\\\\\\\"details\\\\\\\\\\\\\": {\\\\\\\\\\\\\"selectedColumn\\\\\\\\\\\\\": \\\\\\\\\\\\\"app_score\\\\\\\\\\\\\"}}, \\\\\\\\\\\\\"typeProperty\\\\\\\\\\\\\": 2}, {\\\\\\\\\\\\\"column\\\\\\\\\\\\\": {\\\\\\\\\\\\\"type\\\\\\\\\\\\\": 2, \\\\\\\\\\\\\"details\\\\\\\\\\\\\": {\\\\\\\\\\\\\"selectedColumn\\\\\\\\\\\\\": \\\\\\\\\\\\\"emui_dev\\\\\\\\\\\\\"}}, \\\\\\\\\\\\\"typeProperty\\\\\\\\\\\\\": 2}, {\\\\\\\\\\\\\"column\\\\\\\\\\\\\": {\\\\\\\\\\\\\"type\\\\\\\\\\\\\": 2, \\\\\\\\\\\\\"details\\\\\\\\\\\\\": {\\\\\\\\\\\\\"selectedColumn\\\\\\\\\\\\\": \\\\\\\\\\\\\"list_time\\\\\\\\\\\\\"}}, \\\\\\\\\\\\\"typeProperty\\\\\\\\\\\\\": 2}, {\\\\\\\\\\\\\"column\\\\\\\\\\\\\": {\\\\\\\\\\\\\"type\\\\\\\\\\\\\": 2, \\\\\\\\\\\\\"details\\\\\\\\\\\\\": {\\\\\\\\\\\\\"selectedColumn\\\\\\\\\\\\\": \\\\\\\\\\\\\"device_price\\\\\\\\\\\\\"}}, \\\\\\\\\\\\\"typeProperty\\\\\\\\\\\\\": 2}, {\\\\\\\\\\\\\"column\\\\\\\\\\\\\": {\\\\\\\\\\\\\"type\\\\\\\\\\\\\": 2, \\\\\\\\\\\\\"details\\\\\\\\\\\\\": {\\\\\\\\\\\\\"selectedColumn\\\\\\\\\\\\\": \\\\\\\\\\\\\"up_life_duration\\\\\\\\\\\\\"}}, \\\\\\\\\\\\\"typeProperty\\\\\\\\\\\\\": 2}, {\\\\\\\\\\\\\"column\\\\\\\\\\\\\": {\\\\\\\\\\\\\"type\\\\\\\\\\\\\": 2, \\\\\\\\\\\\\"details\\\\\\\\\\\\\": {\\\\\\\\\\\\\"selectedColumn\\\\\\\\\\\\\": \\\\\\\\\\\\\"up_membership_grade\\\\\\\\\\\\\"}}, \\\\\\\\\\\\\"typeProperty\\\\\\\\\\\\\": 2}, {\\\\\\\\\\\\\"column\\\\\\\\\\\\\": {\\\\\\\\\\\\\"type\\\\\\\\\\\\\": 2, \\\\\\\\\\\\\"details\\\\\\\\\\\\\": {\\\\\\\\\\\\\"selectedColumn\\\\\\\\\\\\\": \\\\\\\\\\\\\"membership_life_duration\\\\\\\\\\\\\"}}, \\\\\\\\\\\\\"typeProperty\\\\\\\\\\\\\": 2}, {\\\\\\\\\\\\\"column\\\\\\\\\\\\\": {\\\\\\\\\\\\\"type\\\\\\\\\\\\\": 2, \\\\\\\\\\\\\"details\\\\\\\\\\\\\": {\\\\\\\\\\\\\"selectedColumn\\\\\\\\\\\\\": \\\\\\\\\\\\\"consume_purchase\\\\\\\\\\\\\"}}, \\\\\\\\\\\\\"typeProperty\\\\\\\\\\\\\": 2}, {\\\\\\\\\\\\\"column\\\\\\\\\\\\\": {\\\\\\\\\\\\\"type\\\\\\\\\\\\\": 2, \\\\\\\\\\\\\"details\\\\\\\\\\\\\": {\\\\\\\\\\\\\"selectedColumn\\\\\\\\\\\\\": \\\\\\\\\\\\\"communication_onlinerate\\\\\\\\\\\\\"}}, \\\\\\\\\\\\\"typeProperty\\\\\\\\\\\\\": 0}, {\\\\\\\\\\\\\"column\\\\\\\\\\\\\": {\\\\\\\\\\\\\"type\\\\\\\\\\\\\": 2, \\\\\\\\\\\\\"details\\\\\\\\\\\\\": {\\\\\\\\\\\\\"selectedColumn\\\\\\\\\\\\\": \\\\\\\\\\\\\"communication_avgonline_30d\\\\\\\\\\\\\"}}, \\\\\\\\\\\\\"typeProperty\\\\\\\\\\\\\": 2}, {\\\\\\\\\\\\\"column\\\\\\\\\\\\\": {\\\\\\\\\\\\\"type\\\\\\\\\\\\\": 2, \\\\\\\\\\\\\"details\\\\\\\\\\\\\": {\\\\\\\\\\\\\"selectedColumn\\\\\\\\\\\\\": \\\\\\\\\\\\\"indu_name\\\\\\\\\\\\\"}}, \\\\\\\\\\\\\"typeProperty\\\\\\\\\\\\\": 2}, {\\\\\\\\\\\\\"column\\\\\\\\\\\\\": {\\\\\\\\\\\\\"type\\\\\\\\\\\\\": 2, \\\\\\\\\\\\\"details\\\\\\\\\\\\\": {\\\\\\\\\\\\\"selectedColumn\\\\\\\\\\\\\": \\\\\\\\\\\\\"pt_d\\\\\\\\\\\\\"}}, \\\\\\\\\\\\\"typeProperty\\\\\\\\\\\\\": 2}, {\\\\\\\\\\\\\"column\\\\\\\\\\\\\": {\\\\\\\\\\\\\"type\\\\\\\\\\\\\": 2, \\\\\\\\\\\\\"details\\\\\\\\\\\\\": {\\\\\\\\\\\\\"selectedColumn\\\\\\\\\\\\\": \\\\\\\\\\\\\"uid_prev_1_day_ctr\\\\\\\\\\\\\"}}, \\\\\\\\\\\\\"typeProperty\\\\\\\\\\\\\": 3}, {\\\\\\\\\\\\\"column\\\\\\\\\\\\\": {\\\\\\\\\\\\\"type\\\\\\\\\\\\\": 2, \\\\\\\\\\\\\"details\\\\\\\\\\\\\": {\\\\\\\\\\\\\"selectedColumn\\\\\\\\\\\\\": \\\\\\\\\\\\\"uid_prev_2_day_ctr\\\\\\\\\\\\\"}}, \\\\\\\\\\\\\"typeProperty\\\\\\\\\\\\\": 3}, {\\\\\\\\\\\\\"column\\\\\\\\\\\\\": {\\\\\\\\\\\\\"type\\\\\\\\\\\\\": 2, \\\\\\\\\\\\\"details\\\\\\\\\\\\\": {\\\\\\\\\\\\\"selectedColumn\\\\\\\\\\\\\": \\\\\\\\\\\\\"uid_prev_3_day_ctr\\\\\\\\\\\\\"}}, \\\\\\\\\\\\\"typeProperty\\\\\\\\\\\\\": 3}, {\\\\\\\\\\\\\"column\\\\\\\\\\\\\": {\\\\\\\\\\\\\"type\\\\\\\\\\\\\": 2, \\\\\\\\\\\\\"details\\\\\\\\\\\\\": {\\\\\\\\\\\\\"selectedColumn\\\\\\\\\\\\\": \\\\\\\\\\\\\"uid_prev_4_day_ctr\\\\\\\\\\\\\"}}, \\\\\\\\\\\\\"typeProperty\\\\\\\\\\\\\": 3}, {\\\\\\\\\\\\\"column\\\\\\\\\\\\\": {\\\\\\\\\\\\\"type\\\\\\\\\\\\\": 2, \\\\\\\\\\\\\"details\\\\\\\\\\\\\": {\\\\\\\\\\\\\"selectedColumn\\\\\\\\\\\\\": \\\\\\\\\\\\\"uid_prev_5_day_ctr\\\\\\\\\\\\\"}}, \\\\\\\\\\\\\"typeProperty\\\\\\\\\\\\\": 3}, {\\\\\\\\\\\\\"column\\\\\\\\\\\\\": {\\\\\\\\\\\\\"type\\\\\\\\\\\\\": 2, \\\\\\\\\\\\\"details\\\\\\\\\\\\\": {\\\\\\\\\\\\\"selectedColumn\\\\\\\\\\\\\": \\\\\\\\\\\\\"uid_prev_6_day_ctr\\\\\\\\\\\\\"}}, \\\\\\\\\\\\\"typeProperty\\\\\\\\\\\\\": 3}, {\\\\\\\\\\\\\"column\\\\\\\\\\\\\": {\\\\\\\\\\\\\"type\\\\\\\\\\\\\": 2, \\\\\\\\\\\\\"details\\\\\\\\\\\\\": {\\\\\\\\\\\\\"selectedColumn\\\\\\\\\\\\\": \\\\\\\\\\\\\"task_id_prev_1_day_ctr\\\\\\\\\\\\\"}}, \\\\\\\\\\\\\"typeProperty\\\\\\\\\\\\\": 3}, {\\\\\\\\\\\\\"column\\\\\\\\\\\\\": {\\\\\\\\\\\\\"type\\\\\\\\\\\\\": 2, \\\\\\\\\\\\\"details\\\\\\\\\\\\\": {\\\\\\\\\\\\\"selectedColumn\\\\\\\\\\\\\": \\\\\\\\\\\\\"task_id_prev_2_day_ctr\\\\\\\\\\\\\"}}, \\\\\\\\\\\\\"typeProperty\\\\\\\\\\\\\": 3}, {\\\\\\\\\\\\\"column\\\\\\\\\\\\\": {\\\\\\\\\\\\\"type\\\\\\\\\\\\\": 2, \\\\\\\\\\\\\"details\\\\\\\\\\\\\": {\\\\\\\\\\\\\"selectedColumn\\\\\\\\\\\\\": \\\\\\\\\\\\\"task_id_prev_3_day_ctr\\\\\\\\\\\\\"}}, \\\\\\\\\\\\\"typeProperty\\\\\\\\\\\\\": 3}, {\\\\\\\\\\\\\"column\\\\\\\\\\\\\": {\\\\\\\\\\\\\"type\\\\\\\\\\\\\": 2, \\\\\\\\\\\\\"details\\\\\\\\\\\\\": {\\\\\\\\\\\\\"selectedColumn\\\\\\\\\\\\\": \\\\\\\\\\\\\"task_id_prev_4_day_ctr\\\\\\\\\\\\\"}}, \\\\\\\\\\\\\"typeProperty\\\\\\\\\\\\\": 3}, {\\\\\\\\\\\\\"column\\\\\\\\\\\\\": {\\\\\\\\\\\\\"type\\\\\\\\\\\\\": 2, \\\\\\\\\\\\\"details\\\\\\\\\\\\\": {\\\\\\\\\\\\\"selectedColumn\\\\\\\\\\\\\": \\\\\\\\\\\\\"task_id_prev_5_day_ctr\\\\\\\\\\\\\"}}, \\\\\\\\\\\\\"typeProperty\\\\\\\\\\\\\": 3}, {\\\\\\\\\\\\\"column\\\\\\\\\\\\\": {\\\\\\\\\\\\\"type\\\\\\\\\\\\\": 2, \\\\\\\\\\\\\"details\\\\\\\\\\\\\": {\\\\\\\\\\\\\"selectedColumn\\\\\\\\\\\\\": \\\\\\\\\\\\\"task_id_prev_6_day_ctr\\\\\\\\\\\\\"}}, \\\\\\\\\\\\\"typeProperty\\\\\\\\\\\\\": 3}, {\\\\\\\\\\\\\"column\\\\\\\\\\\\\": {\\\\\\\\\\\\\"type\\\\\\\\\\\\\": 2, \\\\\\\\\\\\\"details\\\\\\\\\\\\\": {\\\\\\\\\\\\\"selectedColumn\\\\\\\\\\\\\": \\\\\\\\\\\\\"adv_id_prev_1_day_ctr\\\\\\\\\\\\\"}}, \\\\\\\\\\\\\"typeProperty\\\\\\\\\\\\\": 3}, {\\\\\\\\\\\\\"column\\\\\\\\\\\\\": {\\\\\\\\\\\\\"type\\\\\\\\\\\\\": 2, \\\\\\\\\\\\\"details\\\\\\\\\\\\\": {\\\\\\\\\\\\\"selectedColumn\\\\\\\\\\\\\": \\\\\\\\\\\\\"adv_id_prev_2_day_ctr\\\\\\\\\\\\\"}}, \\\\\\\\\\\\\"typeProperty\\\\\\\\\\\\\": 3}, {\\\\\\\\\\\\\"column\\\\\\\\\\\\\": {\\\\\\\\\\\\\"type\\\\\\\\\\\\\": 2, \\\\\\\\\\\\\"details\\\\\\\\\\\\\": {\\\\\\\\\\\\\"selectedColumn\\\\\\\\\\\\\": \\\\\\\\\\\\\"adv_id_prev_3_day_ctr\\\\\\\\\\\\\"}}, \\\\\\\\\\\\\"typeProperty\\\\\\\\\\\\\": 3}, {\\\\\\\\\\\\\"column\\\\\\\\\\\\\": {\\\\\\\\\\\\\"type\\\\\\\\\\\\\": 2, \\\\\\\\\\\\\"details\\\\\\\\\\\\\": {\\\\\\\\\\\\\"selectedColumn\\\\\\\\\\\\\": \\\\\\\\\\\\\"adv_id_prev_4_day_ctr\\\\\\\\\\\\\"}}, \\\\\\\\\\\\\"typeProperty\\\\\\\\\\\\\": 3}, {\\\\\\\\\\\\\"column\\\\\\\\\\\\\": {\\\\\\\\\\\\\"type\\\\\\\\\\\\\": 2, \\\\\\\\\\\\\"details\\\\\\\\\\\\\": {\\\\\\\\\\\\\"selectedColumn\\\\\\\\\\\\\": \\\\\\\\\\\\\"adv_id_prev_5_day_ctr\\\\\\\\\\\\\"}}, \\\\\\\\\\\\\"typeProperty\\\\\\\\\\\\\": 3}, {\\\\\\\\\\\\\"column\\\\\\\\\\\\\": {\\\\\\\\\\\\\"type\\\\\\\\\\\\\": 2, \\\\\\\\\\\\\"details\\\\\\\\\\\\\": {\\\\\\\\\\\\\"selectedColumn\\\\\\\\\\\\\": \\\\\\\\\\\\\"adv_id_prev_6_day_ctr\\\\\\\\\\\\\"}}, \\\\\\\\\\\\\"typeProperty\\\\\\\\\\\\\": 3}, {\\\\\\\\\\\\\"column\\\\\\\\\\\\\": {\\\\\\\\\\\\\"type\\\\\\\\\\\\\": 2, \\\\\\\\\\\\\"details\\\\\\\\\\\\\": {\\\\\\\\\\\\\"selectedColumn\\\\\\\\\\\\\": \\\\\\\\\\\\\"adv_prim_id_prev_1_day_ctr\\\\\\\\\\\\\"}}, \\\\\\\\\\\\\"typeProperty\\\\\\\\\\\\\": 3}, {\\\\\\\\\\\\\"column\\\\\\\\\\\\\": {\\\\\\\\\\\\\"type\\\\\\\\\\\\\": 2, \\\\\\\\\\\\\"details\\\\\\\\\\\\\": {\\\\\\\\\\\\\"selectedColumn\\\\\\\\\\\\\": \\\\\\\\\\\\\"adv_prim_id_prev_2_day_ctr\\\\\\\\\\\\\"}}, \\\\\\\\\\\\\"typeProperty\\\\\\\\\\\\\": 3}, {\\\\\\\\\\\\\"column\\\\\\\\\\\\\": {\\\\\\\\\\\\\"type\\\\\\\\\\\\\": 2, \\\\\\\\\\\\\"details\\\\\\\\\\\\\": {\\\\\\\\\\\\\"selectedColumn\\\\\\\\\\\\\": \\\\\\\\\\\\\"adv_prim_id_prev_3_day_ctr\\\\\\\\\\\\\"}}, \\\\\\\\\\\\\"typeProperty\\\\\\\\\\\\\": 3}, {\\\\\\\\\\\\\"column\\\\\\\\\\\\\": {\\\\\\\\\\\\\"type\\\\\\\\\\\\\": 2, \\\\\\\\\\\\\"details\\\\\\\\\\\\\": {\\\\\\\\\\\\\"selectedColumn\\\\\\\\\\\\\": \\\\\\\\\\\\\"adv_prim_id_prev_4_day_ctr\\\\\\\\\\\\\"}}, \\\\\\\\\\\\\"typeProperty\\\\\\\\\\\\\": 3}, {\\\\\\\\\\\\\"column\\\\\\\\\\\\\": {\\\\\\\\\\\\\"type\\\\\\\\\\\\\": 2, \\\\\\\\\\\\\"details\\\\\\\\\\\\\": {\\\\\\\\\\\\\"selectedColumn\\\\\\\\\\\\\": \\\\\\\\\\\\\"adv_prim_id_prev_5_day_ctr\\\\\\\\\\\\\"}}, \\\\\\\\\\\\\"typeProperty\\\\\\\\\\\\\": 3}, {\\\\\\\\\\\\\"column\\\\\\\\\\\\\": {\\\\\\\\\\\\\"type\\\\\\\\\\\\\": 2, \\\\\\\\\\\\\"details\\\\\\\\\\\\\": {\\\\\\\\\\\\\"selectedColumn\\\\\\\\\\\\\": \\\\\\\\\\\\\"adv_prim_id_prev_6_day_ctr\\\\\\\\\\\\\"}}, \\\\\\\\\\\\\"typeProperty\\\\\\\\\\\\\": 3}, {\\\\\\\\\\\\\"column\\\\\\\\\\\\\": {\\\\\\\\\\\\\"type\\\\\\\\\\\\\": 2, \\\\\\\\\\\\\"details\\\\\\\\\\\\\": {\\\\\\\\\\\\\"selectedColumn\\\\\\\\\\\\\": \\\\\\\\\\\\\"spread_app_id_prev_1_day_ctr\\\\\\\\\\\\\"}}, \\\\\\\\\\\\\"typeProperty\\\\\\\\\\\\\": 3}, {\\\\\\\\\\\\\"column\\\\\\\\\\\\\": {\\\\\\\\\\\\\"type\\\\\\\\\\\\\": 2, \\\\\\\\\\\\\"details\\\\\\\\\\\\\": {\\\\\\\\\\\\\"selectedColumn\\\\\\\\\\\\\": \\\\\\\\\\\\\"spread_app_id_prev_2_day_ctr\\\\\\\\\\\\\"}}, \\\\\\\\\\\\\"typeProperty\\\\\\\\\\\\\": 3}, {\\\\\\\\\\\\\"column\\\\\\\\\\\\\": {\\\\\\\\\\\\\"type\\\\\\\\\\\\\": 2, \\\\\\\\\\\\\"details\\\\\\\\\\\\\": {\\\\\\\\\\\\\"selectedColumn\\\\\\\\\\\\\": \\\\\\\\\\\\\"spread_app_id_prev_3_day_ctr\\\\\\\\\\\\\"}}, \\\\\\\\\\\\\"typeProperty\\\\\\\\\\\\\": 3}, {\\\\\\\\\\\\\"column\\\\\\\\\\\\\": {\\\\\\\\\\\\\"type\\\\\\\\\\\\\": 2, \\\\\\\\\\\\\"details\\\\\\\\\\\\\": {\\\\\\\\\\\\\"selectedColumn\\\\\\\\\\\\\": \\\\\\\\\\\\\"spread_app_id_prev_4_day_ctr\\\\\\\\\\\\\"}}, \\\\\\\\\\\\\"typeProperty\\\\\\\\\\\\\": 3}, {\\\\\\\\\\\\\"column\\\\\\\\\\\\\": {\\\\\\\\\\\\\"type\\\\\\\\\\\\\": 2, \\\\\\\\\\\\\"details\\\\\\\\\\\\\": {\\\\\\\\\\\\\"selectedColumn\\\\\\\\\\\\\": \\\\\\\\\\\\\"spread_app_id_prev_5_day_ctr\\\\\\\\\\\\\"}}, \\\\\\\\\\\\\"typeProperty\\\\\\\\\\\\\": 3}, {\\\\\\\\\\\\\"column\\\\\\\\\\\\\": {\\\\\\\\\\\\\"type\\\\\\\\\\\\\": 2, \\\\\\\\\\\\\"details\\\\\\\\\\\\\": {\\\\\\\\\\\\\"selectedColumn\\\\\\\\\\\\\": \\\\\\\\\\\\\"spread_app_id_prev_6_day_ctr\\\\\\\\\\\\\"}}, \\\\\\\\\\\\\"typeProperty\\\\\\\\\\\\\": 3}]}, \\\\\\\\\\\\\"localData\\\\\\\\\\\\\": {}, \\\\\\\\\\\\\"isEnabled\\\\\\\\\\\\\": true, \\\\\\\\\\\\\"name\\\\\\\\\\\\\": null, \\\\\\\\\\\\\"annotation\\\\\\\\\\\\\": null}, {\\\\\\\\\\\\\"id\\\\\\\\\\\\\": \\\\\\\\\\\\\"4a4731ae-a077-4503-aaa1-ae332f7c9e1b\\\\\\\\\\\\\", \\\\\\\\\\\\\"type\\\\\\\\\\\\\": \\\\\\\\\\\\\"Microsoft.DPrep.RandomSplitBlock\\\\\\\\\\\\\", \\\\\\\\\\\\\"arguments\\\\\\\\\\\\\": {\\\\\\\\\\\\\"probability\\\\\\\\\\\\\": 0.8, \\\\\\\\\\\\\"seed\\\\\\\\\\\\\": 7}, \\\\\\\\\\\\\"localData\\\\\\\\\\\\\": {}, \\\\\\\\\\\\\"isEnabled\\\\\\\\\\\\\": true, \\\\\\\\\\\\\"name\\\\\\\\\\\\\": null, \\\\\\\\\\\\\"annotation\\\\\\\\\\\\\": null}], \\\\\\\\\\\\\"inspectors\\\\\\\\\\\\\": [], \\\\\\\\\\\\\"meta\\\\\\\\\\\\\": {\\\\\\\\\\\\\"savedDatasetId\\\\\\\\\\\\\": \\\\\\\\\\\\\"ec1d498d-29d4-4d45-8d04-ddf5fb3344d6\\\\\\\\\\\\\", \\\\\\\\\\\\\"datasetType\\\\\\\\\\\\\": \\\\\\\\\\\\\"tabular\\\\\\\\\\\\\", \\\\\\\\\\\\\"subscriptionId\\\\\\\\\\\\\": \\\\\\\\\\\\\"3d1a56d2-7c81-4118-9790-f85d1acf0c77\\\\\\\\\\\\\", \\\\\\\\\\\\\"workspaceId\\\\\\\\\\\\\": \\\\\\\\\\\\\"d57dff4d-2aa5-42c2-954d-d5b105b984ae\\\\\\\\\\\\\", \\\\\\\\\\\\\"workspaceLocation\\\\\\\\\\\\\": \\\\\\\\\\\\\"southcentralus\\\\\\\\\\\\\"}}\\\\\", \\\\\"activities\\\\\": 0}',\n",
       "  'EnableSubsampling': None,\n",
       "  'runTemplate': 'AutoML',\n",
       "  'azureml.runsource': 'automl',\n",
       "  'display_task_type': 'classification',\n",
       "  'dependencies_versions': '{\"azureml-widgets\": \"1.19.0\", \"azureml-train\": \"1.19.0\", \"azureml-train-restclients-hyperdrive\": \"1.19.0\", \"azureml-train-core\": \"1.19.0\", \"azureml-train-automl\": \"1.19.0\", \"azureml-train-automl-runtime\": \"1.19.0\", \"azureml-train-automl-client\": \"1.19.0\", \"azureml-tensorboard\": \"1.19.0\", \"azureml-telemetry\": \"1.19.0\", \"azureml-sdk\": \"1.19.0\", \"azureml-samples\": \"0+unknown\", \"azureml-pipeline\": \"1.19.0\", \"azureml-pipeline-steps\": \"1.19.0\", \"azureml-pipeline-core\": \"1.19.0\", \"azureml-opendatasets\": \"1.19.0\", \"azureml-model-management-sdk\": \"1.0.1b6.post1\", \"azureml-mlflow\": \"1.19.0\", \"azureml-interpret\": \"1.19.0\", \"azureml-explain-model\": \"1.19.0\", \"azureml-defaults\": \"1.19.0\", \"azureml-dataset-runtime\": \"1.19.0\", \"azureml-dataprep\": \"2.6.1\", \"azureml-dataprep-rslex\": \"1.4.0\", \"azureml-dataprep-native\": \"26.0.0\", \"azureml-datadrift\": \"1.19.0\", \"azureml-core\": \"1.19.0\", \"azureml-contrib-services\": \"1.19.0\", \"azureml-contrib-server\": \"1.19.0\", \"azureml-contrib-reinforcementlearning\": \"1.19.0\", \"azureml-contrib-pipeline-steps\": \"1.19.0\", \"azureml-contrib-notebook\": \"1.19.0\", \"azureml-contrib-interpret\": \"1.19.0\", \"azureml-contrib-gbdt\": \"1.19.0\", \"azureml-contrib-fairness\": \"1.19.0\", \"azureml-contrib-dataset\": \"1.19.0\", \"azureml-cli-common\": \"1.19.0\", \"azureml-automl-runtime\": \"1.19.0\", \"azureml-automl-core\": \"1.19.0\", \"azureml-accel-models\": \"1.19.0\"}',\n",
       "  '_aml_system_scenario_identification': 'Remote.Parent',\n",
       "  'ClientType': 'SDK',\n",
       "  'environment_cpu_name': 'AzureML-AutoML',\n",
       "  'environment_cpu_label': 'prod',\n",
       "  'environment_gpu_name': 'AzureML-AutoML-GPU',\n",
       "  'environment_gpu_label': 'prod',\n",
       "  'root_attribution': 'automl',\n",
       "  'attribution': 'AutoML',\n",
       "  'Orchestrator': 'AutoML',\n",
       "  'CancelUri': 'https://southcentralus.experiments.azureml.net/jasmine/v1.0/subscriptions/3d1a56d2-7c81-4118-9790-f85d1acf0c77/resourceGroups/aml-quickstarts-134610/providers/Microsoft.MachineLearningServices/workspaces/quick-starts-ws-134610/experimentids/7970547e-24d9-4904-8ee8-6a529f5eccaf/cancel/AutoML_397febcb-c02a-40de-8f9c-e2552f2390d7',\n",
       "  'ClientSdkVersion': '1.19.0',\n",
       "  'snapshotId': '00000000-0000-0000-0000-000000000000',\n",
       "  'SetupRunId': 'AutoML_397febcb-c02a-40de-8f9c-e2552f2390d7_setup',\n",
       "  'SetupRunContainerId': 'dcid.AutoML_397febcb-c02a-40de-8f9c-e2552f2390d7_setup',\n",
       "  'FeaturizationRunJsonPath': 'featurizer_container.json',\n",
       "  'FeaturizationRunId': 'AutoML_397febcb-c02a-40de-8f9c-e2552f2390d7_featurize',\n",
       "  'ProblemInfoJsonString': '{\"dataset_num_categorical\": 0, \"is_sparse\": true, \"subsampling\": false, \"dataset_classes\": 2, \"dataset_features\": 469, \"dataset_samples\": 66912, \"single_frequency_class_detected\": false}',\n",
       "  'ModelExplainRunId': 'AutoML_397febcb-c02a-40de-8f9c-e2552f2390d7_ModelExplain'},\n",
       " 'inputDatasets': [{'dataset': {'id': 'ec1d498d-29d4-4d45-8d04-ddf5fb3344d6'}, 'consumptionDetails': {'type': 'RunInput', 'inputName': 'training_data', 'mechanism': 'Direct'}}],\n",
       " 'outputDatasets': [],\n",
       " 'logFiles': {}}"
      ]
     },
     "execution_count": 9,
     "metadata": {},
     "output_type": "execute_result"
    }
   ],
   "source": [
    "RunDetails(remote_run).show()\n",
    "remote_run.wait_for_completion()"
   ]
  },
  {
   "cell_type": "markdown",
   "metadata": {},
   "source": [
    "## Best Model\n",
    "\n",
    "get the best model from the automl experiments and display all the properties of the model.\n",
    "\n"
   ]
  },
  {
   "cell_type": "code",
   "execution_count": 10,
   "metadata": {
    "collapsed": false,
    "gather": {
     "logged": 1598431425670
    },
    "jupyter": {
     "outputs_hidden": false,
     "source_hidden": false
    },
    "nteract": {
     "transient": {
      "deleting": false
     }
    }
   },
   "outputs": [],
   "source": [
    "best_run, fitted_model = remote_run.get_output()"
   ]
  },
  {
   "cell_type": "code",
   "execution_count": 11,
   "metadata": {
    "collapsed": false,
    "gather": {
     "logged": 1598431426111
    },
    "jupyter": {
     "outputs_hidden": false,
     "source_hidden": false
    },
    "nteract": {
     "transient": {
      "deleting": false
     }
    }
   },
   "outputs": [],
   "source": [
    "# register model\n",
    "model = best_run.register_model(model_name='click-through-rate-predictions-AutoML', \n",
    "                                model_path='./outputs/model.pkl',\n",
    "                                tags=best_run.get_metrics())"
   ]
  },
  {
   "cell_type": "markdown",
   "metadata": {},
   "source": [
    "get best model parameters"
   ]
  },
  {
   "cell_type": "code",
   "execution_count": 12,
   "metadata": {},
   "outputs": [
    {
     "data": {
      "text/plain": [
       "StackEnsembleClassifier(base_learners=[('0',\n",
       "                                        Pipeline(memory=None,\n",
       "                                                 steps=[('maxabsscaler',\n",
       "                                                         MaxAbsScaler(copy=True)),\n",
       "                                                        ('lightgbmclassifier',\n",
       "                                                         LightGBMClassifier(boosting_type='gbdt',\n",
       "                                                                            class_weight=None,\n",
       "                                                                            colsample_bytree=1.0,\n",
       "                                                                            importance_type='split',\n",
       "                                                                            learning_rate=0.1,\n",
       "                                                                            max_depth=-1,\n",
       "                                                                            min_child_samples=20,\n",
       "                                                                            min_child_weight=0.001,\n",
       "                                                                            min_split_gain=0.0,\n",
       "                                                                            n_estimators=100,\n",
       "                                                                            n...\n",
       "                        meta_learner=LogisticRegressionCV(Cs=10,\n",
       "                                                          class_weight=None,\n",
       "                                                          cv=None, dual=False,\n",
       "                                                          fit_intercept=True,\n",
       "                                                          intercept_scaling=1.0,\n",
       "                                                          l1_ratios=None,\n",
       "                                                          max_iter=100,\n",
       "                                                          multi_class='auto',\n",
       "                                                          n_jobs=None,\n",
       "                                                          penalty='l2',\n",
       "                                                          random_state=None,\n",
       "                                                          refit=True,\n",
       "                                                          scoring=<azureml.automl.runtime.stack_ensemble_base.Scorer object at 0x7fbcfbe11400>,\n",
       "                                                          solver='lbfgs',\n",
       "                                                          tol=0.0001,\n",
       "                                                          verbose=0),\n",
       "                        training_cv_folds=5)"
      ]
     },
     "execution_count": 12,
     "metadata": {},
     "output_type": "execute_result"
    }
   ],
   "source": [
    "fitted_model.steps[1][1]"
   ]
  },
  {
   "cell_type": "code",
   "execution_count": 13,
   "metadata": {},
   "outputs": [
    {
     "data": {
      "text/plain": [
       "{'base_learners': None,\n",
       " 'meta_learner': None,\n",
       " 'training_cv_folds': None,\n",
       " '0': Pipeline(memory=None,\n",
       "          steps=[('maxabsscaler', MaxAbsScaler(copy=True)),\n",
       "                 ('lightgbmclassifier',\n",
       "                  LightGBMClassifier(boosting_type='gbdt', class_weight=None,\n",
       "                                     colsample_bytree=1.0,\n",
       "                                     importance_type='split', learning_rate=0.1,\n",
       "                                     max_depth=-1, min_child_samples=20,\n",
       "                                     min_child_weight=0.001, min_split_gain=0.0,\n",
       "                                     n_estimators=100, n_jobs=1, num_leaves=31,\n",
       "                                     objective=None, random_state=None,\n",
       "                                     reg_alpha=0.0, reg_lambda=0.0, silent=True,\n",
       "                                     subsample=1.0, subsample_for_bin=200000,\n",
       "                                     subsample_freq=0, verbose=-10))],\n",
       "          verbose=False),\n",
       " '19': Pipeline(memory=None,\n",
       "          steps=[('standardscalerwrapper',\n",
       "                  <azureml.automl.runtime.shared.model_wrappers.StandardScalerWrapper object at 0x7fbcfbe6c240>),\n",
       "                 ('xgboostclassifier',\n",
       "                  XGBoostClassifier(base_score=0.5, booster='gbtree',\n",
       "                                    colsample_bylevel=1, colsample_bynode=1,\n",
       "                                    colsample_bytree=1, eta=0.001, gamma=0.1,\n",
       "                                    grow_policy='lossguide', learning_rate=0.1,\n",
       "                                    max_bin=1023, max_delta_step=0, max_depth=0,\n",
       "                                    max_leaves=63, min_child_weight=1,\n",
       "                                    missing=nan, n_estimators=25, n_jobs=1,\n",
       "                                    nthread=None, objective='reg:logistic',\n",
       "                                    random_state=0, reg_alpha=0,\n",
       "                                    reg_lambda=1.7708333333333335,\n",
       "                                    scale_pos_weight=1, seed=None, silent=None,\n",
       "                                    subsample=0.9, tree_method='hist',\n",
       "                                    verbose=-10, verbosity=0))],\n",
       "          verbose=False),\n",
       " '20': Pipeline(memory=None,\n",
       "          steps=[('maxabsscaler', MaxAbsScaler(copy=True)),\n",
       "                 ('lightgbmclassifier',\n",
       "                  LightGBMClassifier(boosting_type='gbdt', class_weight=None,\n",
       "                                     colsample_bytree=0.8911111111111111,\n",
       "                                     importance_type='split',\n",
       "                                     learning_rate=0.05263631578947369,\n",
       "                                     max_bin=110, max_depth=4,\n",
       "                                     min_child_samples=693, min_child_weight=8,\n",
       "                                     min_split_gain=0.5263157894736842,\n",
       "                                     n_estimators=200, n_jobs=1, num_leaves=215,\n",
       "                                     objective=None, random_state=None,\n",
       "                                     reg_alpha=0, reg_lambda=0.2631578947368421,\n",
       "                                     silent=True, subsample=0.3468421052631579,\n",
       "                                     subsample_for_bin=200000, subsample_freq=0,\n",
       "                                     verbose=-10))],\n",
       "          verbose=False),\n",
       " '23': Pipeline(memory=None,\n",
       "          steps=[('standardscalerwrapper',\n",
       "                  <azureml.automl.runtime.shared.model_wrappers.StandardScalerWrapper object at 0x7fbcfbdfd0f0>),\n",
       "                 ('logisticregression',\n",
       "                  LogisticRegression(C=0.12648552168552957,\n",
       "                                     class_weight='balanced', dual=False,\n",
       "                                     fit_intercept=True, intercept_scaling=1,\n",
       "                                     l1_ratio=None, max_iter=100,\n",
       "                                     multi_class='ovr', n_jobs=1, penalty='l2',\n",
       "                                     random_state=None, solver='newton-cg',\n",
       "                                     tol=0.0001, verbose=0, warm_start=False))],\n",
       "          verbose=False),\n",
       " '1': Pipeline(memory=None,\n",
       "          steps=[('maxabsscaler', MaxAbsScaler(copy=True)),\n",
       "                 ('xgboostclassifier',\n",
       "                  XGBoostClassifier(base_score=0.5, booster='gbtree',\n",
       "                                    colsample_bylevel=1, colsample_bynode=1,\n",
       "                                    colsample_bytree=1, gamma=0,\n",
       "                                    learning_rate=0.1, max_delta_step=0,\n",
       "                                    max_depth=3, min_child_weight=1, missing=nan,\n",
       "                                    n_estimators=100, n_jobs=1, nthread=None,\n",
       "                                    objective='binary:logistic', random_state=0,\n",
       "                                    reg_alpha=0, reg_lambda=1,\n",
       "                                    scale_pos_weight=1, seed=None, silent=None,\n",
       "                                    subsample=1, tree_method='auto', verbose=-10,\n",
       "                                    verbosity=0))],\n",
       "          verbose=False),\n",
       " '22': Pipeline(memory=None,\n",
       "          steps=[('standardscalerwrapper',\n",
       "                  <azureml.automl.runtime.shared.model_wrappers.StandardScalerWrapper object at 0x7fbcfbe04860>),\n",
       "                 ('logisticregression',\n",
       "                  LogisticRegression(C=0.2682695795279725,\n",
       "                                     class_weight='balanced', dual=False,\n",
       "                                     fit_intercept=True, intercept_scaling=1,\n",
       "                                     l1_ratio=None, max_iter=100,\n",
       "                                     multi_class='ovr', n_jobs=1, penalty='l2',\n",
       "                                     random_state=None, solver='saga',\n",
       "                                     tol=0.0001, verbose=0, warm_start=False))],\n",
       "          verbose=False),\n",
       " '21': Pipeline(memory=None,\n",
       "          steps=[('standardscalerwrapper',\n",
       "                  <azureml.automl.runtime.shared.model_wrappers.StandardScalerWrapper object at 0x7fbcfbe080b8>),\n",
       "                 ('xgboostclassifier',\n",
       "                  XGBoostClassifier(base_score=0.5, booster='gbtree',\n",
       "                                    colsample_bylevel=1, colsample_bynode=1,\n",
       "                                    colsample_bytree=0.6, eta=0.1, gamma=0,\n",
       "                                    grow_policy='lossguide', learning_rate=0.1,\n",
       "                                    max_bin=63, max_delta_step=0, max_depth=6,\n",
       "                                    max_leaves=0, min_child_weight=1,\n",
       "                                    missing=nan, n_estimators=800, n_jobs=1,\n",
       "                                    nthread=None, objective='reg:logistic',\n",
       "                                    random_state=0, reg_alpha=1.1458333333333335,\n",
       "                                    reg_lambda=0.5208333333333334,\n",
       "                                    scale_pos_weight=1, seed=None, silent=None,\n",
       "                                    subsample=0.5, tree_method='hist',\n",
       "                                    verbose=-10, verbosity=0))],\n",
       "          verbose=False),\n",
       " '0__memory': None,\n",
       " '0__steps': [('maxabsscaler', MaxAbsScaler(copy=True)),\n",
       "  ('lightgbmclassifier',\n",
       "   LightGBMClassifier(boosting_type='gbdt', class_weight=None,\n",
       "                      colsample_bytree=1.0, importance_type='split',\n",
       "                      learning_rate=0.1, max_depth=-1, min_child_samples=20,\n",
       "                      min_child_weight=0.001, min_split_gain=0.0, n_estimators=100,\n",
       "                      n_jobs=1, num_leaves=31, objective=None, random_state=None,\n",
       "                      reg_alpha=0.0, reg_lambda=0.0, silent=True, subsample=1.0,\n",
       "                      subsample_for_bin=200000, subsample_freq=0, verbose=-10))],\n",
       " '0__verbose': False,\n",
       " '0__maxabsscaler': MaxAbsScaler(copy=True),\n",
       " '0__lightgbmclassifier': LightGBMClassifier(boosting_type='gbdt', class_weight=None,\n",
       "                    colsample_bytree=1.0, importance_type='split',\n",
       "                    learning_rate=0.1, max_depth=-1, min_child_samples=20,\n",
       "                    min_child_weight=0.001, min_split_gain=0.0, n_estimators=100,\n",
       "                    n_jobs=1, num_leaves=31, objective=None, random_state=None,\n",
       "                    reg_alpha=0.0, reg_lambda=0.0, silent=True, subsample=1.0,\n",
       "                    subsample_for_bin=200000, subsample_freq=0, verbose=-10),\n",
       " '0__maxabsscaler__copy': True,\n",
       " '0__lightgbmclassifier__random_state': None,\n",
       " '0__lightgbmclassifier__n_jobs': 1,\n",
       " '0__lightgbmclassifier__boosting_type': 'gbdt',\n",
       " '0__lightgbmclassifier__class_weight': None,\n",
       " '0__lightgbmclassifier__colsample_bytree': 1.0,\n",
       " '0__lightgbmclassifier__importance_type': 'split',\n",
       " '0__lightgbmclassifier__learning_rate': 0.1,\n",
       " '0__lightgbmclassifier__max_depth': -1,\n",
       " '0__lightgbmclassifier__min_child_samples': 20,\n",
       " '0__lightgbmclassifier__min_child_weight': 0.001,\n",
       " '0__lightgbmclassifier__min_split_gain': 0.0,\n",
       " '0__lightgbmclassifier__n_estimators': 100,\n",
       " '0__lightgbmclassifier__num_leaves': 31,\n",
       " '0__lightgbmclassifier__objective': None,\n",
       " '0__lightgbmclassifier__reg_alpha': 0.0,\n",
       " '0__lightgbmclassifier__reg_lambda': 0.0,\n",
       " '0__lightgbmclassifier__silent': True,\n",
       " '0__lightgbmclassifier__subsample': 1.0,\n",
       " '0__lightgbmclassifier__subsample_for_bin': 200000,\n",
       " '0__lightgbmclassifier__subsample_freq': 0,\n",
       " '0__lightgbmclassifier__verbose': -10,\n",
       " '19__memory': None,\n",
       " '19__steps': [('standardscalerwrapper',\n",
       "   <azureml.automl.runtime.shared.model_wrappers.StandardScalerWrapper at 0x7fbcfbe6c240>),\n",
       "  ('xgboostclassifier',\n",
       "   XGBoostClassifier(base_score=0.5, booster='gbtree', colsample_bylevel=1,\n",
       "                     colsample_bynode=1, colsample_bytree=1, eta=0.001, gamma=0.1,\n",
       "                     grow_policy='lossguide', learning_rate=0.1, max_bin=1023,\n",
       "                     max_delta_step=0, max_depth=0, max_leaves=63,\n",
       "                     min_child_weight=1, missing=nan, n_estimators=25, n_jobs=1,\n",
       "                     nthread=None, objective='reg:logistic', random_state=0,\n",
       "                     reg_alpha=0, reg_lambda=1.7708333333333335,\n",
       "                     scale_pos_weight=1, seed=None, silent=None, subsample=0.9,\n",
       "                     tree_method='hist', verbose=-10, verbosity=0))],\n",
       " '19__verbose': False,\n",
       " '19__standardscalerwrapper': <azureml.automl.runtime.shared.model_wrappers.StandardScalerWrapper at 0x7fbcfbe6c240>,\n",
       " '19__xgboostclassifier': XGBoostClassifier(base_score=0.5, booster='gbtree', colsample_bylevel=1,\n",
       "                   colsample_bynode=1, colsample_bytree=1, eta=0.001, gamma=0.1,\n",
       "                   grow_policy='lossguide', learning_rate=0.1, max_bin=1023,\n",
       "                   max_delta_step=0, max_depth=0, max_leaves=63,\n",
       "                   min_child_weight=1, missing=nan, n_estimators=25, n_jobs=1,\n",
       "                   nthread=None, objective='reg:logistic', random_state=0,\n",
       "                   reg_alpha=0, reg_lambda=1.7708333333333335,\n",
       "                   scale_pos_weight=1, seed=None, silent=None, subsample=0.9,\n",
       "                   tree_method='hist', verbose=-10, verbosity=0),\n",
       " '19__standardscalerwrapper__module_name': 'sklearn.preprocessing._data',\n",
       " '19__standardscalerwrapper__class_name': 'StandardScaler',\n",
       " '19__standardscalerwrapper__copy': True,\n",
       " '19__standardscalerwrapper__with_mean': False,\n",
       " '19__standardscalerwrapper__with_std': False,\n",
       " '19__xgboostclassifier__base_score': 0.5,\n",
       " '19__xgboostclassifier__booster': 'gbtree',\n",
       " '19__xgboostclassifier__colsample_bylevel': 1,\n",
       " '19__xgboostclassifier__colsample_bynode': 1,\n",
       " '19__xgboostclassifier__colsample_bytree': 1,\n",
       " '19__xgboostclassifier__gamma': 0.1,\n",
       " '19__xgboostclassifier__learning_rate': 0.1,\n",
       " '19__xgboostclassifier__max_delta_step': 0,\n",
       " '19__xgboostclassifier__max_depth': 0,\n",
       " '19__xgboostclassifier__min_child_weight': 1,\n",
       " '19__xgboostclassifier__missing': nan,\n",
       " '19__xgboostclassifier__n_estimators': 25,\n",
       " '19__xgboostclassifier__n_jobs': 1,\n",
       " '19__xgboostclassifier__nthread': None,\n",
       " '19__xgboostclassifier__objective': 'reg:logistic',\n",
       " '19__xgboostclassifier__random_state': 0,\n",
       " '19__xgboostclassifier__reg_alpha': 0,\n",
       " '19__xgboostclassifier__reg_lambda': 1.7708333333333335,\n",
       " '19__xgboostclassifier__scale_pos_weight': 1,\n",
       " '19__xgboostclassifier__seed': None,\n",
       " '19__xgboostclassifier__silent': None,\n",
       " '19__xgboostclassifier__subsample': 0.9,\n",
       " '19__xgboostclassifier__verbosity': 0,\n",
       " '19__xgboostclassifier__eta': 0.001,\n",
       " '19__xgboostclassifier__grow_policy': 'lossguide',\n",
       " '19__xgboostclassifier__max_bin': 1023,\n",
       " '19__xgboostclassifier__max_leaves': 63,\n",
       " '19__xgboostclassifier__tree_method': 'hist',\n",
       " '19__xgboostclassifier__verbose': -10,\n",
       " '20__memory': None,\n",
       " '20__steps': [('maxabsscaler', MaxAbsScaler(copy=True)),\n",
       "  ('lightgbmclassifier',\n",
       "   LightGBMClassifier(boosting_type='gbdt', class_weight=None,\n",
       "                      colsample_bytree=0.8911111111111111, importance_type='split',\n",
       "                      learning_rate=0.05263631578947369, max_bin=110, max_depth=4,\n",
       "                      min_child_samples=693, min_child_weight=8,\n",
       "                      min_split_gain=0.5263157894736842, n_estimators=200,\n",
       "                      n_jobs=1, num_leaves=215, objective=None, random_state=None,\n",
       "                      reg_alpha=0, reg_lambda=0.2631578947368421, silent=True,\n",
       "                      subsample=0.3468421052631579, subsample_for_bin=200000,\n",
       "                      subsample_freq=0, verbose=-10))],\n",
       " '20__verbose': False,\n",
       " '20__maxabsscaler': MaxAbsScaler(copy=True),\n",
       " '20__lightgbmclassifier': LightGBMClassifier(boosting_type='gbdt', class_weight=None,\n",
       "                    colsample_bytree=0.8911111111111111, importance_type='split',\n",
       "                    learning_rate=0.05263631578947369, max_bin=110, max_depth=4,\n",
       "                    min_child_samples=693, min_child_weight=8,\n",
       "                    min_split_gain=0.5263157894736842, n_estimators=200,\n",
       "                    n_jobs=1, num_leaves=215, objective=None, random_state=None,\n",
       "                    reg_alpha=0, reg_lambda=0.2631578947368421, silent=True,\n",
       "                    subsample=0.3468421052631579, subsample_for_bin=200000,\n",
       "                    subsample_freq=0, verbose=-10),\n",
       " '20__maxabsscaler__copy': True,\n",
       " '20__lightgbmclassifier__random_state': None,\n",
       " '20__lightgbmclassifier__n_jobs': 1,\n",
       " '20__lightgbmclassifier__boosting_type': 'gbdt',\n",
       " '20__lightgbmclassifier__class_weight': None,\n",
       " '20__lightgbmclassifier__colsample_bytree': 0.8911111111111111,\n",
       " '20__lightgbmclassifier__importance_type': 'split',\n",
       " '20__lightgbmclassifier__learning_rate': 0.05263631578947369,\n",
       " '20__lightgbmclassifier__max_depth': 4,\n",
       " '20__lightgbmclassifier__min_child_samples': 693,\n",
       " '20__lightgbmclassifier__min_child_weight': 8,\n",
       " '20__lightgbmclassifier__min_split_gain': 0.5263157894736842,\n",
       " '20__lightgbmclassifier__n_estimators': 200,\n",
       " '20__lightgbmclassifier__num_leaves': 215,\n",
       " '20__lightgbmclassifier__objective': None,\n",
       " '20__lightgbmclassifier__reg_alpha': 0,\n",
       " '20__lightgbmclassifier__reg_lambda': 0.2631578947368421,\n",
       " '20__lightgbmclassifier__silent': True,\n",
       " '20__lightgbmclassifier__subsample': 0.3468421052631579,\n",
       " '20__lightgbmclassifier__subsample_for_bin': 200000,\n",
       " '20__lightgbmclassifier__subsample_freq': 0,\n",
       " '20__lightgbmclassifier__max_bin': 110,\n",
       " '20__lightgbmclassifier__verbose': -10,\n",
       " '23__memory': None,\n",
       " '23__steps': [('standardscalerwrapper',\n",
       "   <azureml.automl.runtime.shared.model_wrappers.StandardScalerWrapper at 0x7fbcfbdfd0f0>),\n",
       "  ('logisticregression',\n",
       "   LogisticRegression(C=0.12648552168552957, class_weight='balanced', dual=False,\n",
       "                      fit_intercept=True, intercept_scaling=1, l1_ratio=None,\n",
       "                      max_iter=100, multi_class='ovr', n_jobs=1, penalty='l2',\n",
       "                      random_state=None, solver='newton-cg', tol=0.0001, verbose=0,\n",
       "                      warm_start=False))],\n",
       " '23__verbose': False,\n",
       " '23__standardscalerwrapper': <azureml.automl.runtime.shared.model_wrappers.StandardScalerWrapper at 0x7fbcfbdfd0f0>,\n",
       " '23__logisticregression': LogisticRegression(C=0.12648552168552957, class_weight='balanced', dual=False,\n",
       "                    fit_intercept=True, intercept_scaling=1, l1_ratio=None,\n",
       "                    max_iter=100, multi_class='ovr', n_jobs=1, penalty='l2',\n",
       "                    random_state=None, solver='newton-cg', tol=0.0001, verbose=0,\n",
       "                    warm_start=False),\n",
       " '23__standardscalerwrapper__module_name': 'sklearn.preprocessing._data',\n",
       " '23__standardscalerwrapper__class_name': 'StandardScaler',\n",
       " '23__standardscalerwrapper__copy': True,\n",
       " '23__standardscalerwrapper__with_mean': False,\n",
       " '23__standardscalerwrapper__with_std': False,\n",
       " '23__logisticregression__C': 0.12648552168552957,\n",
       " '23__logisticregression__class_weight': 'balanced',\n",
       " '23__logisticregression__dual': False,\n",
       " '23__logisticregression__fit_intercept': True,\n",
       " '23__logisticregression__intercept_scaling': 1,\n",
       " '23__logisticregression__l1_ratio': None,\n",
       " '23__logisticregression__max_iter': 100,\n",
       " '23__logisticregression__multi_class': 'ovr',\n",
       " '23__logisticregression__n_jobs': 1,\n",
       " '23__logisticregression__penalty': 'l2',\n",
       " '23__logisticregression__random_state': None,\n",
       " '23__logisticregression__solver': 'newton-cg',\n",
       " '23__logisticregression__tol': 0.0001,\n",
       " '23__logisticregression__verbose': 0,\n",
       " '23__logisticregression__warm_start': False,\n",
       " '1__memory': None,\n",
       " '1__steps': [('maxabsscaler', MaxAbsScaler(copy=True)),\n",
       "  ('xgboostclassifier',\n",
       "   XGBoostClassifier(base_score=0.5, booster='gbtree', colsample_bylevel=1,\n",
       "                     colsample_bynode=1, colsample_bytree=1, gamma=0,\n",
       "                     learning_rate=0.1, max_delta_step=0, max_depth=3,\n",
       "                     min_child_weight=1, missing=nan, n_estimators=100, n_jobs=1,\n",
       "                     nthread=None, objective='binary:logistic', random_state=0,\n",
       "                     reg_alpha=0, reg_lambda=1, scale_pos_weight=1, seed=None,\n",
       "                     silent=None, subsample=1, tree_method='auto', verbose=-10,\n",
       "                     verbosity=0))],\n",
       " '1__verbose': False,\n",
       " '1__maxabsscaler': MaxAbsScaler(copy=True),\n",
       " '1__xgboostclassifier': XGBoostClassifier(base_score=0.5, booster='gbtree', colsample_bylevel=1,\n",
       "                   colsample_bynode=1, colsample_bytree=1, gamma=0,\n",
       "                   learning_rate=0.1, max_delta_step=0, max_depth=3,\n",
       "                   min_child_weight=1, missing=nan, n_estimators=100, n_jobs=1,\n",
       "                   nthread=None, objective='binary:logistic', random_state=0,\n",
       "                   reg_alpha=0, reg_lambda=1, scale_pos_weight=1, seed=None,\n",
       "                   silent=None, subsample=1, tree_method='auto', verbose=-10,\n",
       "                   verbosity=0),\n",
       " '1__maxabsscaler__copy': True,\n",
       " '1__xgboostclassifier__base_score': 0.5,\n",
       " '1__xgboostclassifier__booster': 'gbtree',\n",
       " '1__xgboostclassifier__colsample_bylevel': 1,\n",
       " '1__xgboostclassifier__colsample_bynode': 1,\n",
       " '1__xgboostclassifier__colsample_bytree': 1,\n",
       " '1__xgboostclassifier__gamma': 0,\n",
       " '1__xgboostclassifier__learning_rate': 0.1,\n",
       " '1__xgboostclassifier__max_delta_step': 0,\n",
       " '1__xgboostclassifier__max_depth': 3,\n",
       " '1__xgboostclassifier__min_child_weight': 1,\n",
       " '1__xgboostclassifier__missing': nan,\n",
       " '1__xgboostclassifier__n_estimators': 100,\n",
       " '1__xgboostclassifier__n_jobs': 1,\n",
       " '1__xgboostclassifier__nthread': None,\n",
       " '1__xgboostclassifier__objective': 'binary:logistic',\n",
       " '1__xgboostclassifier__random_state': 0,\n",
       " '1__xgboostclassifier__reg_alpha': 0,\n",
       " '1__xgboostclassifier__reg_lambda': 1,\n",
       " '1__xgboostclassifier__scale_pos_weight': 1,\n",
       " '1__xgboostclassifier__seed': None,\n",
       " '1__xgboostclassifier__silent': None,\n",
       " '1__xgboostclassifier__subsample': 1,\n",
       " '1__xgboostclassifier__verbosity': 0,\n",
       " '1__xgboostclassifier__tree_method': 'auto',\n",
       " '1__xgboostclassifier__verbose': -10,\n",
       " '22__memory': None,\n",
       " '22__steps': [('standardscalerwrapper',\n",
       "   <azureml.automl.runtime.shared.model_wrappers.StandardScalerWrapper at 0x7fbcfbe04860>),\n",
       "  ('logisticregression',\n",
       "   LogisticRegression(C=0.2682695795279725, class_weight='balanced', dual=False,\n",
       "                      fit_intercept=True, intercept_scaling=1, l1_ratio=None,\n",
       "                      max_iter=100, multi_class='ovr', n_jobs=1, penalty='l2',\n",
       "                      random_state=None, solver='saga', tol=0.0001, verbose=0,\n",
       "                      warm_start=False))],\n",
       " '22__verbose': False,\n",
       " '22__standardscalerwrapper': <azureml.automl.runtime.shared.model_wrappers.StandardScalerWrapper at 0x7fbcfbe04860>,\n",
       " '22__logisticregression': LogisticRegression(C=0.2682695795279725, class_weight='balanced', dual=False,\n",
       "                    fit_intercept=True, intercept_scaling=1, l1_ratio=None,\n",
       "                    max_iter=100, multi_class='ovr', n_jobs=1, penalty='l2',\n",
       "                    random_state=None, solver='saga', tol=0.0001, verbose=0,\n",
       "                    warm_start=False),\n",
       " '22__standardscalerwrapper__module_name': 'sklearn.preprocessing._data',\n",
       " '22__standardscalerwrapper__class_name': 'StandardScaler',\n",
       " '22__standardscalerwrapper__copy': True,\n",
       " '22__standardscalerwrapper__with_mean': False,\n",
       " '22__standardscalerwrapper__with_std': True,\n",
       " '22__logisticregression__C': 0.2682695795279725,\n",
       " '22__logisticregression__class_weight': 'balanced',\n",
       " '22__logisticregression__dual': False,\n",
       " '22__logisticregression__fit_intercept': True,\n",
       " '22__logisticregression__intercept_scaling': 1,\n",
       " '22__logisticregression__l1_ratio': None,\n",
       " '22__logisticregression__max_iter': 100,\n",
       " '22__logisticregression__multi_class': 'ovr',\n",
       " '22__logisticregression__n_jobs': 1,\n",
       " '22__logisticregression__penalty': 'l2',\n",
       " '22__logisticregression__random_state': None,\n",
       " '22__logisticregression__solver': 'saga',\n",
       " '22__logisticregression__tol': 0.0001,\n",
       " '22__logisticregression__verbose': 0,\n",
       " '22__logisticregression__warm_start': False,\n",
       " '21__memory': None,\n",
       " '21__steps': [('standardscalerwrapper',\n",
       "   <azureml.automl.runtime.shared.model_wrappers.StandardScalerWrapper at 0x7fbcfbe080b8>),\n",
       "  ('xgboostclassifier',\n",
       "   XGBoostClassifier(base_score=0.5, booster='gbtree', colsample_bylevel=1,\n",
       "                     colsample_bynode=1, colsample_bytree=0.6, eta=0.1, gamma=0,\n",
       "                     grow_policy='lossguide', learning_rate=0.1, max_bin=63,\n",
       "                     max_delta_step=0, max_depth=6, max_leaves=0,\n",
       "                     min_child_weight=1, missing=nan, n_estimators=800, n_jobs=1,\n",
       "                     nthread=None, objective='reg:logistic', random_state=0,\n",
       "                     reg_alpha=1.1458333333333335, reg_lambda=0.5208333333333334,\n",
       "                     scale_pos_weight=1, seed=None, silent=None, subsample=0.5,\n",
       "                     tree_method='hist', verbose=-10, verbosity=0))],\n",
       " '21__verbose': False,\n",
       " '21__standardscalerwrapper': <azureml.automl.runtime.shared.model_wrappers.StandardScalerWrapper at 0x7fbcfbe080b8>,\n",
       " '21__xgboostclassifier': XGBoostClassifier(base_score=0.5, booster='gbtree', colsample_bylevel=1,\n",
       "                   colsample_bynode=1, colsample_bytree=0.6, eta=0.1, gamma=0,\n",
       "                   grow_policy='lossguide', learning_rate=0.1, max_bin=63,\n",
       "                   max_delta_step=0, max_depth=6, max_leaves=0,\n",
       "                   min_child_weight=1, missing=nan, n_estimators=800, n_jobs=1,\n",
       "                   nthread=None, objective='reg:logistic', random_state=0,\n",
       "                   reg_alpha=1.1458333333333335, reg_lambda=0.5208333333333334,\n",
       "                   scale_pos_weight=1, seed=None, silent=None, subsample=0.5,\n",
       "                   tree_method='hist', verbose=-10, verbosity=0),\n",
       " '21__standardscalerwrapper__module_name': 'sklearn.preprocessing._data',\n",
       " '21__standardscalerwrapper__class_name': 'StandardScaler',\n",
       " '21__standardscalerwrapper__copy': True,\n",
       " '21__standardscalerwrapper__with_mean': False,\n",
       " '21__standardscalerwrapper__with_std': False,\n",
       " '21__xgboostclassifier__base_score': 0.5,\n",
       " '21__xgboostclassifier__booster': 'gbtree',\n",
       " '21__xgboostclassifier__colsample_bylevel': 1,\n",
       " '21__xgboostclassifier__colsample_bynode': 1,\n",
       " '21__xgboostclassifier__colsample_bytree': 0.6,\n",
       " '21__xgboostclassifier__gamma': 0,\n",
       " '21__xgboostclassifier__learning_rate': 0.1,\n",
       " '21__xgboostclassifier__max_delta_step': 0,\n",
       " '21__xgboostclassifier__max_depth': 6,\n",
       " '21__xgboostclassifier__min_child_weight': 1,\n",
       " '21__xgboostclassifier__missing': nan,\n",
       " '21__xgboostclassifier__n_estimators': 800,\n",
       " '21__xgboostclassifier__n_jobs': 1,\n",
       " '21__xgboostclassifier__nthread': None,\n",
       " '21__xgboostclassifier__objective': 'reg:logistic',\n",
       " '21__xgboostclassifier__random_state': 0,\n",
       " '21__xgboostclassifier__reg_alpha': 1.1458333333333335,\n",
       " '21__xgboostclassifier__reg_lambda': 0.5208333333333334,\n",
       " '21__xgboostclassifier__scale_pos_weight': 1,\n",
       " '21__xgboostclassifier__seed': None,\n",
       " '21__xgboostclassifier__silent': None,\n",
       " '21__xgboostclassifier__subsample': 0.5,\n",
       " '21__xgboostclassifier__verbosity': 0,\n",
       " '21__xgboostclassifier__eta': 0.1,\n",
       " '21__xgboostclassifier__grow_policy': 'lossguide',\n",
       " '21__xgboostclassifier__max_bin': 63,\n",
       " '21__xgboostclassifier__max_leaves': 0,\n",
       " '21__xgboostclassifier__tree_method': 'hist',\n",
       " '21__xgboostclassifier__verbose': -10,\n",
       " 'metalearner__Cs': 10,\n",
       " 'metalearner__class_weight': None,\n",
       " 'metalearner__cv': None,\n",
       " 'metalearner__dual': False,\n",
       " 'metalearner__fit_intercept': True,\n",
       " 'metalearner__intercept_scaling': 1.0,\n",
       " 'metalearner__l1_ratios': None,\n",
       " 'metalearner__max_iter': 100,\n",
       " 'metalearner__multi_class': 'auto',\n",
       " 'metalearner__n_jobs': None,\n",
       " 'metalearner__penalty': 'l2',\n",
       " 'metalearner__random_state': None,\n",
       " 'metalearner__refit': True,\n",
       " 'metalearner__scoring': <azureml.automl.runtime.stack_ensemble_base.Scorer at 0x7fbcfbe11400>,\n",
       " 'metalearner__solver': 'lbfgs',\n",
       " 'metalearner__tol': 0.0001,\n",
       " 'metalearner__verbose': 0}"
      ]
     },
     "execution_count": 13,
     "metadata": {},
     "output_type": "execute_result"
    }
   ],
   "source": [
    "fitted_model.steps[1][1].get_params()"
   ]
  }
 ],
 "metadata": {
  "kernel_info": {
   "name": "python3-azureml"
  },
  "kernelspec": {
   "display_name": "azure_machine_learning",
   "language": "python",
   "name": "azure_machine_learning"
  },
  "language_info": {
   "codemirror_mode": {
    "name": "ipython",
    "version": 3
   },
   "file_extension": ".py",
   "mimetype": "text/x-python",
   "name": "python",
   "nbconvert_exporter": "python",
   "pygments_lexer": "ipython3",
   "version": "3.7.9"
  },
  "nteract": {
   "version": "nteract-front-end@1.0.0"
  }
 },
 "nbformat": 4,
 "nbformat_minor": 4
}
